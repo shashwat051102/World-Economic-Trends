{
 "cells": [
  {
   "cell_type": "code",
   "execution_count": 31,
   "metadata": {
    "id": "Bbu5kkhoUa-D"
   },
   "outputs": [],
   "source": [
    "import pandas as pd\n",
    "import numpy as np\n",
    "import matplotlib.pyplot as plt\n",
    "import seaborn as sns\n",
    "import plotly.express as px"
   ]
  },
  {
   "cell_type": "code",
   "execution_count": 32,
   "metadata": {
    "id": "iNmuAEiIUa-E"
   },
   "outputs": [],
   "source": [
    "df = pd.read_csv('world-data-2023.csv')"
   ]
  },
  {
   "cell_type": "code",
   "execution_count": 33,
   "metadata": {
    "colab": {
     "base_uri": "https://localhost:8080/",
     "height": 307
    },
    "id": "2i41BaH9Ua-F",
    "outputId": "d187897b-aa64-40a8-a9d0-4f7e653e42cd"
   },
   "outputs": [
    {
     "data": {
      "text/html": [
       "<div>\n",
       "<style scoped>\n",
       "    .dataframe tbody tr th:only-of-type {\n",
       "        vertical-align: middle;\n",
       "    }\n",
       "\n",
       "    .dataframe tbody tr th {\n",
       "        vertical-align: top;\n",
       "    }\n",
       "\n",
       "    .dataframe thead th {\n",
       "        text-align: right;\n",
       "    }\n",
       "</style>\n",
       "<table border=\"1\" class=\"dataframe\">\n",
       "  <thead>\n",
       "    <tr style=\"text-align: right;\">\n",
       "      <th></th>\n",
       "      <th>Country</th>\n",
       "      <th>Density\\n(P/Km2)</th>\n",
       "      <th>Abbreviation</th>\n",
       "      <th>Agricultural Land( %)</th>\n",
       "      <th>Land Area(Km2)</th>\n",
       "      <th>Armed Forces size</th>\n",
       "      <th>Birth Rate</th>\n",
       "      <th>Calling Code</th>\n",
       "      <th>Capital/Major City</th>\n",
       "      <th>Co2-Emissions</th>\n",
       "      <th>...</th>\n",
       "      <th>Out of pocket health expenditure</th>\n",
       "      <th>Physicians per thousand</th>\n",
       "      <th>Population</th>\n",
       "      <th>Population: Labor force participation (%)</th>\n",
       "      <th>Tax revenue (%)</th>\n",
       "      <th>Total tax rate</th>\n",
       "      <th>Unemployment rate</th>\n",
       "      <th>Urban_population</th>\n",
       "      <th>Latitude</th>\n",
       "      <th>Longitude</th>\n",
       "    </tr>\n",
       "  </thead>\n",
       "  <tbody>\n",
       "    <tr>\n",
       "      <th>0</th>\n",
       "      <td>Afghanistan</td>\n",
       "      <td>60</td>\n",
       "      <td>AF</td>\n",
       "      <td>58.10%</td>\n",
       "      <td>652,230</td>\n",
       "      <td>323,000</td>\n",
       "      <td>32.49</td>\n",
       "      <td>93.0</td>\n",
       "      <td>Kabul</td>\n",
       "      <td>8,672</td>\n",
       "      <td>...</td>\n",
       "      <td>78.40%</td>\n",
       "      <td>0.28</td>\n",
       "      <td>38,041,754</td>\n",
       "      <td>48.90%</td>\n",
       "      <td>9.30%</td>\n",
       "      <td>71.40%</td>\n",
       "      <td>11.12%</td>\n",
       "      <td>9,797,273</td>\n",
       "      <td>33.939110</td>\n",
       "      <td>67.709953</td>\n",
       "    </tr>\n",
       "    <tr>\n",
       "      <th>1</th>\n",
       "      <td>Albania</td>\n",
       "      <td>105</td>\n",
       "      <td>AL</td>\n",
       "      <td>43.10%</td>\n",
       "      <td>28,748</td>\n",
       "      <td>9,000</td>\n",
       "      <td>11.78</td>\n",
       "      <td>355.0</td>\n",
       "      <td>Tirana</td>\n",
       "      <td>4,536</td>\n",
       "      <td>...</td>\n",
       "      <td>56.90%</td>\n",
       "      <td>1.20</td>\n",
       "      <td>2,854,191</td>\n",
       "      <td>55.70%</td>\n",
       "      <td>18.60%</td>\n",
       "      <td>36.60%</td>\n",
       "      <td>12.33%</td>\n",
       "      <td>1,747,593</td>\n",
       "      <td>41.153332</td>\n",
       "      <td>20.168331</td>\n",
       "    </tr>\n",
       "    <tr>\n",
       "      <th>2</th>\n",
       "      <td>Algeria</td>\n",
       "      <td>18</td>\n",
       "      <td>DZ</td>\n",
       "      <td>17.40%</td>\n",
       "      <td>2,381,741</td>\n",
       "      <td>317,000</td>\n",
       "      <td>24.28</td>\n",
       "      <td>213.0</td>\n",
       "      <td>Algiers</td>\n",
       "      <td>150,006</td>\n",
       "      <td>...</td>\n",
       "      <td>28.10%</td>\n",
       "      <td>1.72</td>\n",
       "      <td>43,053,054</td>\n",
       "      <td>41.20%</td>\n",
       "      <td>37.20%</td>\n",
       "      <td>66.10%</td>\n",
       "      <td>11.70%</td>\n",
       "      <td>31,510,100</td>\n",
       "      <td>28.033886</td>\n",
       "      <td>1.659626</td>\n",
       "    </tr>\n",
       "    <tr>\n",
       "      <th>3</th>\n",
       "      <td>Andorra</td>\n",
       "      <td>164</td>\n",
       "      <td>AD</td>\n",
       "      <td>40.00%</td>\n",
       "      <td>468</td>\n",
       "      <td>NaN</td>\n",
       "      <td>7.20</td>\n",
       "      <td>376.0</td>\n",
       "      <td>Andorra la Vella</td>\n",
       "      <td>469</td>\n",
       "      <td>...</td>\n",
       "      <td>36.40%</td>\n",
       "      <td>3.33</td>\n",
       "      <td>77,142</td>\n",
       "      <td>NaN</td>\n",
       "      <td>NaN</td>\n",
       "      <td>NaN</td>\n",
       "      <td>NaN</td>\n",
       "      <td>67,873</td>\n",
       "      <td>42.506285</td>\n",
       "      <td>1.521801</td>\n",
       "    </tr>\n",
       "    <tr>\n",
       "      <th>4</th>\n",
       "      <td>Angola</td>\n",
       "      <td>26</td>\n",
       "      <td>AO</td>\n",
       "      <td>47.50%</td>\n",
       "      <td>1,246,700</td>\n",
       "      <td>117,000</td>\n",
       "      <td>40.73</td>\n",
       "      <td>244.0</td>\n",
       "      <td>Luanda</td>\n",
       "      <td>34,693</td>\n",
       "      <td>...</td>\n",
       "      <td>33.40%</td>\n",
       "      <td>0.21</td>\n",
       "      <td>31,825,295</td>\n",
       "      <td>77.50%</td>\n",
       "      <td>9.20%</td>\n",
       "      <td>49.10%</td>\n",
       "      <td>6.89%</td>\n",
       "      <td>21,061,025</td>\n",
       "      <td>-11.202692</td>\n",
       "      <td>17.873887</td>\n",
       "    </tr>\n",
       "  </tbody>\n",
       "</table>\n",
       "<p>5 rows × 35 columns</p>\n",
       "</div>"
      ],
      "text/plain": [
       "       Country Density\\n(P/Km2) Abbreviation Agricultural Land( %)  \\\n",
       "0  Afghanistan               60           AF                58.10%   \n",
       "1      Albania              105           AL                43.10%   \n",
       "2      Algeria               18           DZ                17.40%   \n",
       "3      Andorra              164           AD                40.00%   \n",
       "4       Angola               26           AO                47.50%   \n",
       "\n",
       "  Land Area(Km2) Armed Forces size  Birth Rate  Calling Code  \\\n",
       "0        652,230           323,000       32.49          93.0   \n",
       "1         28,748             9,000       11.78         355.0   \n",
       "2      2,381,741           317,000       24.28         213.0   \n",
       "3            468               NaN        7.20         376.0   \n",
       "4      1,246,700           117,000       40.73         244.0   \n",
       "\n",
       "  Capital/Major City Co2-Emissions  ... Out of pocket health expenditure  \\\n",
       "0              Kabul         8,672  ...                           78.40%   \n",
       "1             Tirana         4,536  ...                           56.90%   \n",
       "2            Algiers       150,006  ...                           28.10%   \n",
       "3   Andorra la Vella           469  ...                           36.40%   \n",
       "4             Luanda        34,693  ...                           33.40%   \n",
       "\n",
       "  Physicians per thousand  Population  \\\n",
       "0                    0.28  38,041,754   \n",
       "1                    1.20   2,854,191   \n",
       "2                    1.72  43,053,054   \n",
       "3                    3.33      77,142   \n",
       "4                    0.21  31,825,295   \n",
       "\n",
       "   Population: Labor force participation (%) Tax revenue (%) Total tax rate  \\\n",
       "0                                     48.90%           9.30%         71.40%   \n",
       "1                                     55.70%          18.60%         36.60%   \n",
       "2                                     41.20%          37.20%         66.10%   \n",
       "3                                        NaN             NaN            NaN   \n",
       "4                                     77.50%           9.20%         49.10%   \n",
       "\n",
       "  Unemployment rate Urban_population   Latitude  Longitude  \n",
       "0            11.12%        9,797,273  33.939110  67.709953  \n",
       "1            12.33%        1,747,593  41.153332  20.168331  \n",
       "2            11.70%       31,510,100  28.033886   1.659626  \n",
       "3               NaN           67,873  42.506285   1.521801  \n",
       "4             6.89%       21,061,025 -11.202692  17.873887  \n",
       "\n",
       "[5 rows x 35 columns]"
      ]
     },
     "execution_count": 33,
     "metadata": {},
     "output_type": "execute_result"
    }
   ],
   "source": [
    "df.head()"
   ]
  },
  {
   "cell_type": "code",
   "execution_count": 34,
   "metadata": {
    "colab": {
     "base_uri": "https://localhost:8080/"
    },
    "id": "qg7hjWdBUa-F",
    "outputId": "ba8cd84a-0969-4232-bb69-117ab8126c04"
   },
   "outputs": [
    {
     "data": {
      "text/plain": [
       "(195, 35)"
      ]
     },
     "execution_count": 34,
     "metadata": {},
     "output_type": "execute_result"
    }
   ],
   "source": [
    "df.shape"
   ]
  },
  {
   "cell_type": "code",
   "execution_count": 35,
   "metadata": {
    "colab": {
     "base_uri": "https://localhost:8080/"
    },
    "id": "HdZcL6ujUa-G",
    "outputId": "3f0f65df-c51a-4dc1-9a2d-4ddb9e9a393a"
   },
   "outputs": [
    {
     "name": "stdout",
     "output_type": "stream",
     "text": [
      "<class 'pandas.core.frame.DataFrame'>\n",
      "RangeIndex: 195 entries, 0 to 194\n",
      "Data columns (total 35 columns):\n",
      " #   Column                                     Non-Null Count  Dtype  \n",
      "---  ------                                     --------------  -----  \n",
      " 0   Country                                    195 non-null    object \n",
      " 1   Density\n",
      "(P/Km2)                            195 non-null    object \n",
      " 2   Abbreviation                               188 non-null    object \n",
      " 3   Agricultural Land( %)                      188 non-null    object \n",
      " 4   Land Area(Km2)                             194 non-null    object \n",
      " 5   Armed Forces size                          171 non-null    object \n",
      " 6   Birth Rate                                 189 non-null    float64\n",
      " 7   Calling Code                               194 non-null    float64\n",
      " 8   Capital/Major City                         192 non-null    object \n",
      " 9   Co2-Emissions                              188 non-null    object \n",
      " 10  CPI                                        178 non-null    object \n",
      " 11  CPI Change (%)                             179 non-null    object \n",
      " 12  Currency-Code                              180 non-null    object \n",
      " 13  Fertility Rate                             188 non-null    float64\n",
      " 14  Forested Area (%)                          188 non-null    object \n",
      " 15  Gasoline Price                             175 non-null    object \n",
      " 16  GDP                                        193 non-null    object \n",
      " 17  Gross primary education enrollment (%)     188 non-null    object \n",
      " 18  Gross tertiary education enrollment (%)    183 non-null    object \n",
      " 19  Infant mortality                           189 non-null    float64\n",
      " 20  Largest city                               189 non-null    object \n",
      " 21  Life expectancy                            187 non-null    float64\n",
      " 22  Maternal mortality ratio                   181 non-null    float64\n",
      " 23  Minimum wage                               150 non-null    object \n",
      " 24  Official language                          190 non-null    object \n",
      " 25  Out of pocket health expenditure           188 non-null    object \n",
      " 26  Physicians per thousand                    188 non-null    float64\n",
      " 27  Population                                 194 non-null    object \n",
      " 28  Population: Labor force participation (%)  176 non-null    object \n",
      " 29  Tax revenue (%)                            169 non-null    object \n",
      " 30  Total tax rate                             183 non-null    object \n",
      " 31  Unemployment rate                          176 non-null    object \n",
      " 32  Urban_population                           190 non-null    object \n",
      " 33  Latitude                                   194 non-null    float64\n",
      " 34  Longitude                                  194 non-null    float64\n",
      "dtypes: float64(9), object(26)\n",
      "memory usage: 53.4+ KB\n"
     ]
    }
   ],
   "source": [
    "df.info()"
   ]
  },
  {
   "cell_type": "code",
   "execution_count": 36,
   "metadata": {
    "id": "WnQNvC-VUa-G"
   },
   "outputs": [],
   "source": [
    "df.drop('Abbreviation', axis=1, inplace=True)"
   ]
  },
  {
   "cell_type": "code",
   "execution_count": 37,
   "metadata": {
    "colab": {
     "base_uri": "https://localhost:8080/",
     "height": 1000
    },
    "id": "Riyp1zlYUa-G",
    "outputId": "ad58bd01-919a-4d35-d75e-bd38eeda7d11"
   },
   "outputs": [
    {
     "data": {
      "text/plain": [
       "Country                                       0\n",
       "Density\\n(P/Km2)                              0\n",
       "Agricultural Land( %)                         7\n",
       "Land Area(Km2)                                1\n",
       "Armed Forces size                            24\n",
       "Birth Rate                                    6\n",
       "Calling Code                                  1\n",
       "Capital/Major City                            3\n",
       "Co2-Emissions                                 7\n",
       "CPI                                          17\n",
       "CPI Change (%)                               16\n",
       "Currency-Code                                15\n",
       "Fertility Rate                                7\n",
       "Forested Area (%)                             7\n",
       "Gasoline Price                               20\n",
       "GDP                                           2\n",
       "Gross primary education enrollment (%)        7\n",
       "Gross tertiary education enrollment (%)      12\n",
       "Infant mortality                              6\n",
       "Largest city                                  6\n",
       "Life expectancy                               8\n",
       "Maternal mortality ratio                     14\n",
       "Minimum wage                                 45\n",
       "Official language                             5\n",
       "Out of pocket health expenditure              7\n",
       "Physicians per thousand                       7\n",
       "Population                                    1\n",
       "Population: Labor force participation (%)    19\n",
       "Tax revenue (%)                              26\n",
       "Total tax rate                               12\n",
       "Unemployment rate                            19\n",
       "Urban_population                              5\n",
       "Latitude                                      1\n",
       "Longitude                                     1\n",
       "dtype: int64"
      ]
     },
     "execution_count": 37,
     "metadata": {},
     "output_type": "execute_result"
    }
   ],
   "source": [
    "df.isnull().sum()"
   ]
  },
  {
   "cell_type": "code",
   "execution_count": 38,
   "metadata": {
    "colab": {
     "base_uri": "https://localhost:8080/",
     "height": 899
    },
    "id": "otDDTktOUa-G",
    "outputId": "c03b4b2b-61ed-4723-c7ea-c1b720fe6174"
   },
   "outputs": [
    {
     "data": {
      "text/html": [
       "<div>\n",
       "<style scoped>\n",
       "    .dataframe tbody tr th:only-of-type {\n",
       "        vertical-align: middle;\n",
       "    }\n",
       "\n",
       "    .dataframe tbody tr th {\n",
       "        vertical-align: top;\n",
       "    }\n",
       "\n",
       "    .dataframe thead th {\n",
       "        text-align: right;\n",
       "    }\n",
       "</style>\n",
       "<table border=\"1\" class=\"dataframe\">\n",
       "  <thead>\n",
       "    <tr style=\"text-align: right;\">\n",
       "      <th></th>\n",
       "      <th>Country</th>\n",
       "      <th>Density\\n(P/Km2)</th>\n",
       "      <th>Agricultural Land( %)</th>\n",
       "      <th>Land Area(Km2)</th>\n",
       "      <th>Armed Forces size</th>\n",
       "      <th>Birth Rate</th>\n",
       "      <th>Calling Code</th>\n",
       "      <th>Capital/Major City</th>\n",
       "      <th>Co2-Emissions</th>\n",
       "      <th>CPI</th>\n",
       "      <th>...</th>\n",
       "      <th>Out of pocket health expenditure</th>\n",
       "      <th>Physicians per thousand</th>\n",
       "      <th>Population</th>\n",
       "      <th>Population: Labor force participation (%)</th>\n",
       "      <th>Tax revenue (%)</th>\n",
       "      <th>Total tax rate</th>\n",
       "      <th>Unemployment rate</th>\n",
       "      <th>Urban_population</th>\n",
       "      <th>Latitude</th>\n",
       "      <th>Longitude</th>\n",
       "    </tr>\n",
       "  </thead>\n",
       "  <tbody>\n",
       "    <tr>\n",
       "      <th>3</th>\n",
       "      <td>Andorra</td>\n",
       "      <td>164</td>\n",
       "      <td>40.00%</td>\n",
       "      <td>468</td>\n",
       "      <td>NaN</td>\n",
       "      <td>7.20</td>\n",
       "      <td>376.0</td>\n",
       "      <td>Andorra la Vella</td>\n",
       "      <td>469</td>\n",
       "      <td>NaN</td>\n",
       "      <td>...</td>\n",
       "      <td>36.40%</td>\n",
       "      <td>3.33</td>\n",
       "      <td>77,142</td>\n",
       "      <td>NaN</td>\n",
       "      <td>NaN</td>\n",
       "      <td>NaN</td>\n",
       "      <td>NaN</td>\n",
       "      <td>67,873</td>\n",
       "      <td>42.506285</td>\n",
       "      <td>1.521801</td>\n",
       "    </tr>\n",
       "    <tr>\n",
       "      <th>5</th>\n",
       "      <td>Antigua and Barbuda</td>\n",
       "      <td>223</td>\n",
       "      <td>20.50%</td>\n",
       "      <td>443</td>\n",
       "      <td>0</td>\n",
       "      <td>15.33</td>\n",
       "      <td>1.0</td>\n",
       "      <td>St. John's, Saint John</td>\n",
       "      <td>557</td>\n",
       "      <td>113.81</td>\n",
       "      <td>...</td>\n",
       "      <td>24.30%</td>\n",
       "      <td>2.76</td>\n",
       "      <td>97,118</td>\n",
       "      <td>NaN</td>\n",
       "      <td>16.50%</td>\n",
       "      <td>43.00%</td>\n",
       "      <td>NaN</td>\n",
       "      <td>23,800</td>\n",
       "      <td>17.060816</td>\n",
       "      <td>-61.796428</td>\n",
       "    </tr>\n",
       "    <tr>\n",
       "      <th>8</th>\n",
       "      <td>Australia</td>\n",
       "      <td>3</td>\n",
       "      <td>48.20%</td>\n",
       "      <td>7,741,220</td>\n",
       "      <td>58,000</td>\n",
       "      <td>12.60</td>\n",
       "      <td>61.0</td>\n",
       "      <td>Canberra</td>\n",
       "      <td>375,908</td>\n",
       "      <td>119.8</td>\n",
       "      <td>...</td>\n",
       "      <td>19.60%</td>\n",
       "      <td>3.68</td>\n",
       "      <td>25,766,605</td>\n",
       "      <td>65.50%</td>\n",
       "      <td>23.00%</td>\n",
       "      <td>47.40%</td>\n",
       "      <td>5.27%</td>\n",
       "      <td>21,844,756</td>\n",
       "      <td>-25.274398</td>\n",
       "      <td>133.775136</td>\n",
       "    </tr>\n",
       "    <tr>\n",
       "      <th>9</th>\n",
       "      <td>Austria</td>\n",
       "      <td>109</td>\n",
       "      <td>32.40%</td>\n",
       "      <td>83,871</td>\n",
       "      <td>21,000</td>\n",
       "      <td>9.70</td>\n",
       "      <td>43.0</td>\n",
       "      <td>Vienna</td>\n",
       "      <td>61,448</td>\n",
       "      <td>118.06</td>\n",
       "      <td>...</td>\n",
       "      <td>17.90%</td>\n",
       "      <td>5.17</td>\n",
       "      <td>8,877,067</td>\n",
       "      <td>60.70%</td>\n",
       "      <td>25.40%</td>\n",
       "      <td>51.40%</td>\n",
       "      <td>4.67%</td>\n",
       "      <td>5,194,416</td>\n",
       "      <td>47.516231</td>\n",
       "      <td>14.550072</td>\n",
       "    </tr>\n",
       "    <tr>\n",
       "      <th>11</th>\n",
       "      <td>The Bahamas</td>\n",
       "      <td>39</td>\n",
       "      <td>1.40%</td>\n",
       "      <td>13,880</td>\n",
       "      <td>1,000</td>\n",
       "      <td>13.97</td>\n",
       "      <td>1.0</td>\n",
       "      <td>Nassau, Bahamas</td>\n",
       "      <td>1,786</td>\n",
       "      <td>116.22</td>\n",
       "      <td>...</td>\n",
       "      <td>27.80%</td>\n",
       "      <td>1.94</td>\n",
       "      <td>389,482</td>\n",
       "      <td>74.60%</td>\n",
       "      <td>14.80%</td>\n",
       "      <td>33.80%</td>\n",
       "      <td>10.36%</td>\n",
       "      <td>323,784</td>\n",
       "      <td>25.034280</td>\n",
       "      <td>-77.396280</td>\n",
       "    </tr>\n",
       "    <tr>\n",
       "      <th>12</th>\n",
       "      <td>Bahrain</td>\n",
       "      <td>2,239</td>\n",
       "      <td>11.10%</td>\n",
       "      <td>765</td>\n",
       "      <td>19,000</td>\n",
       "      <td>13.99</td>\n",
       "      <td>973.0</td>\n",
       "      <td>Manama</td>\n",
       "      <td>31,694</td>\n",
       "      <td>117.59</td>\n",
       "      <td>...</td>\n",
       "      <td>25.10%</td>\n",
       "      <td>0.93</td>\n",
       "      <td>1,501,635</td>\n",
       "      <td>73.40%</td>\n",
       "      <td>4.20%</td>\n",
       "      <td>13.80%</td>\n",
       "      <td>0.71%</td>\n",
       "      <td>1,467,109</td>\n",
       "      <td>26.066700</td>\n",
       "      <td>50.557700</td>\n",
       "    </tr>\n",
       "    <tr>\n",
       "      <th>15</th>\n",
       "      <td>Belarus</td>\n",
       "      <td>47</td>\n",
       "      <td>42.00%</td>\n",
       "      <td>207,600</td>\n",
       "      <td>155,000</td>\n",
       "      <td>9.90</td>\n",
       "      <td>375.0</td>\n",
       "      <td>Minsk</td>\n",
       "      <td>58,280</td>\n",
       "      <td>NaN</td>\n",
       "      <td>...</td>\n",
       "      <td>34.50%</td>\n",
       "      <td>5.19</td>\n",
       "      <td>9,466,856</td>\n",
       "      <td>64.10%</td>\n",
       "      <td>14.70%</td>\n",
       "      <td>53.30%</td>\n",
       "      <td>4.59%</td>\n",
       "      <td>7,482,982</td>\n",
       "      <td>53.709807</td>\n",
       "      <td>27.953389</td>\n",
       "    </tr>\n",
       "    <tr>\n",
       "      <th>19</th>\n",
       "      <td>Bhutan</td>\n",
       "      <td>20</td>\n",
       "      <td>13.60%</td>\n",
       "      <td>38,394</td>\n",
       "      <td>6,000</td>\n",
       "      <td>17.26</td>\n",
       "      <td>975.0</td>\n",
       "      <td>Thimphu</td>\n",
       "      <td>1,261</td>\n",
       "      <td>167.18</td>\n",
       "      <td>...</td>\n",
       "      <td>19.80%</td>\n",
       "      <td>0.42</td>\n",
       "      <td>727,145</td>\n",
       "      <td>66.70%</td>\n",
       "      <td>16.00%</td>\n",
       "      <td>35.30%</td>\n",
       "      <td>2.34%</td>\n",
       "      <td>317,538</td>\n",
       "      <td>27.514162</td>\n",
       "      <td>90.433601</td>\n",
       "    </tr>\n",
       "    <tr>\n",
       "      <th>20</th>\n",
       "      <td>Bolivia</td>\n",
       "      <td>11</td>\n",
       "      <td>34.80%</td>\n",
       "      <td>1,098,581</td>\n",
       "      <td>71,000</td>\n",
       "      <td>21.75</td>\n",
       "      <td>591.0</td>\n",
       "      <td>Sucre</td>\n",
       "      <td>21,606</td>\n",
       "      <td>148.32</td>\n",
       "      <td>...</td>\n",
       "      <td>25.90%</td>\n",
       "      <td>1.59</td>\n",
       "      <td>11,513,100</td>\n",
       "      <td>71.80%</td>\n",
       "      <td>17.00%</td>\n",
       "      <td>83.70%</td>\n",
       "      <td>3.50%</td>\n",
       "      <td>8,033,035</td>\n",
       "      <td>-16.290154</td>\n",
       "      <td>-63.588653</td>\n",
       "    </tr>\n",
       "    <tr>\n",
       "      <th>21</th>\n",
       "      <td>Bosnia and Herzegovina</td>\n",
       "      <td>64</td>\n",
       "      <td>43.10%</td>\n",
       "      <td>51,197</td>\n",
       "      <td>11,000</td>\n",
       "      <td>8.11</td>\n",
       "      <td>387.0</td>\n",
       "      <td>Sarajevo</td>\n",
       "      <td>21,848</td>\n",
       "      <td>104.9</td>\n",
       "      <td>...</td>\n",
       "      <td>28.60%</td>\n",
       "      <td>2.16</td>\n",
       "      <td>3,301,000</td>\n",
       "      <td>46.40%</td>\n",
       "      <td>20.40%</td>\n",
       "      <td>23.70%</td>\n",
       "      <td>18.42%</td>\n",
       "      <td>1,605,144</td>\n",
       "      <td>43.915886</td>\n",
       "      <td>17.679076</td>\n",
       "    </tr>\n",
       "    <tr>\n",
       "      <th>24</th>\n",
       "      <td>Brunei</td>\n",
       "      <td>83</td>\n",
       "      <td>2.70%</td>\n",
       "      <td>5,765</td>\n",
       "      <td>8,000</td>\n",
       "      <td>14.90</td>\n",
       "      <td>673.0</td>\n",
       "      <td>Bandar Seri Begawan</td>\n",
       "      <td>7,664</td>\n",
       "      <td>99.03</td>\n",
       "      <td>...</td>\n",
       "      <td>6.00%</td>\n",
       "      <td>1.61</td>\n",
       "      <td>433,285</td>\n",
       "      <td>64.70%</td>\n",
       "      <td>NaN</td>\n",
       "      <td>8.00%</td>\n",
       "      <td>9.12%</td>\n",
       "      <td>337,711</td>\n",
       "      <td>4.535277</td>\n",
       "      <td>114.727669</td>\n",
       "    </tr>\n",
       "    <tr>\n",
       "      <th>27</th>\n",
       "      <td>Burundi</td>\n",
       "      <td>463</td>\n",
       "      <td>79.20%</td>\n",
       "      <td>27,830</td>\n",
       "      <td>31,000</td>\n",
       "      <td>39.01</td>\n",
       "      <td>257.0</td>\n",
       "      <td>Bujumbura</td>\n",
       "      <td>495</td>\n",
       "      <td>182.11</td>\n",
       "      <td>...</td>\n",
       "      <td>19.10%</td>\n",
       "      <td>0.10</td>\n",
       "      <td>11,530,580</td>\n",
       "      <td>79.20%</td>\n",
       "      <td>13.60%</td>\n",
       "      <td>41.20%</td>\n",
       "      <td>1.43%</td>\n",
       "      <td>1,541,177</td>\n",
       "      <td>-3.373056</td>\n",
       "      <td>29.918886</td>\n",
       "    </tr>\n",
       "    <tr>\n",
       "      <th>30</th>\n",
       "      <td>Cambodia</td>\n",
       "      <td>95</td>\n",
       "      <td>30.90%</td>\n",
       "      <td>181,035</td>\n",
       "      <td>191,000</td>\n",
       "      <td>22.46</td>\n",
       "      <td>855.0</td>\n",
       "      <td>Phnom Penh</td>\n",
       "      <td>9,919</td>\n",
       "      <td>127.63</td>\n",
       "      <td>...</td>\n",
       "      <td>59.40%</td>\n",
       "      <td>0.17</td>\n",
       "      <td>16,486,542</td>\n",
       "      <td>82.30%</td>\n",
       "      <td>17.10%</td>\n",
       "      <td>23.10%</td>\n",
       "      <td>0.68%</td>\n",
       "      <td>3,924,621</td>\n",
       "      <td>12.565679</td>\n",
       "      <td>104.990963</td>\n",
       "    </tr>\n",
       "    <tr>\n",
       "      <th>33</th>\n",
       "      <td>Central African Republic</td>\n",
       "      <td>8</td>\n",
       "      <td>8.20%</td>\n",
       "      <td>622,984</td>\n",
       "      <td>8,000</td>\n",
       "      <td>35.35</td>\n",
       "      <td>236.0</td>\n",
       "      <td>Bangui</td>\n",
       "      <td>297</td>\n",
       "      <td>186.86</td>\n",
       "      <td>...</td>\n",
       "      <td>39.60%</td>\n",
       "      <td>0.06</td>\n",
       "      <td>4,745,185</td>\n",
       "      <td>72.00%</td>\n",
       "      <td>8.60%</td>\n",
       "      <td>73.30%</td>\n",
       "      <td>3.68%</td>\n",
       "      <td>1,982,064</td>\n",
       "      <td>6.611111</td>\n",
       "      <td>20.939444</td>\n",
       "    </tr>\n",
       "    <tr>\n",
       "      <th>34</th>\n",
       "      <td>Chad</td>\n",
       "      <td>13</td>\n",
       "      <td>39.70%</td>\n",
       "      <td>1,284,000</td>\n",
       "      <td>35,000</td>\n",
       "      <td>42.17</td>\n",
       "      <td>235.0</td>\n",
       "      <td>N'Djamena</td>\n",
       "      <td>1,016</td>\n",
       "      <td>117.7</td>\n",
       "      <td>...</td>\n",
       "      <td>56.40%</td>\n",
       "      <td>0.04</td>\n",
       "      <td>15,946,876</td>\n",
       "      <td>70.70%</td>\n",
       "      <td>NaN</td>\n",
       "      <td>63.50%</td>\n",
       "      <td>1.89%</td>\n",
       "      <td>3,712,273</td>\n",
       "      <td>15.454166</td>\n",
       "      <td>18.732207</td>\n",
       "    </tr>\n",
       "    <tr>\n",
       "      <th>38</th>\n",
       "      <td>Comoros</td>\n",
       "      <td>467</td>\n",
       "      <td>71.50%</td>\n",
       "      <td>2,235</td>\n",
       "      <td>NaN</td>\n",
       "      <td>31.88</td>\n",
       "      <td>269.0</td>\n",
       "      <td>Moroni, Comoros</td>\n",
       "      <td>202</td>\n",
       "      <td>103.62</td>\n",
       "      <td>...</td>\n",
       "      <td>74.80%</td>\n",
       "      <td>0.27</td>\n",
       "      <td>850,886</td>\n",
       "      <td>43.30%</td>\n",
       "      <td>NaN</td>\n",
       "      <td>219.60%</td>\n",
       "      <td>4.34%</td>\n",
       "      <td>248,152</td>\n",
       "      <td>-11.645500</td>\n",
       "      <td>43.333300</td>\n",
       "    </tr>\n",
       "    <tr>\n",
       "      <th>42</th>\n",
       "      <td>Cuba</td>\n",
       "      <td>106</td>\n",
       "      <td>59.90%</td>\n",
       "      <td>110,860</td>\n",
       "      <td>76,000</td>\n",
       "      <td>10.17</td>\n",
       "      <td>53.0</td>\n",
       "      <td>Havana</td>\n",
       "      <td>28,284</td>\n",
       "      <td>NaN</td>\n",
       "      <td>...</td>\n",
       "      <td>NaN</td>\n",
       "      <td>8.42</td>\n",
       "      <td>11,333,483</td>\n",
       "      <td>53.60%</td>\n",
       "      <td>NaN</td>\n",
       "      <td>NaN</td>\n",
       "      <td>1.64%</td>\n",
       "      <td>8,739,135</td>\n",
       "      <td>21.521757</td>\n",
       "      <td>-77.781167</td>\n",
       "    </tr>\n",
       "    <tr>\n",
       "      <th>43</th>\n",
       "      <td>Cyprus</td>\n",
       "      <td>131</td>\n",
       "      <td>12.20%</td>\n",
       "      <td>9,251</td>\n",
       "      <td>16,000</td>\n",
       "      <td>10.46</td>\n",
       "      <td>357.0</td>\n",
       "      <td>Nicosia</td>\n",
       "      <td>6,626</td>\n",
       "      <td>102.51</td>\n",
       "      <td>...</td>\n",
       "      <td>43.90%</td>\n",
       "      <td>1.95</td>\n",
       "      <td>1,198,575</td>\n",
       "      <td>63.10%</td>\n",
       "      <td>24.50%</td>\n",
       "      <td>22.40%</td>\n",
       "      <td>7.27%</td>\n",
       "      <td>800,708</td>\n",
       "      <td>35.126413</td>\n",
       "      <td>33.429859</td>\n",
       "    </tr>\n",
       "    <tr>\n",
       "      <th>46</th>\n",
       "      <td>Denmark</td>\n",
       "      <td>137</td>\n",
       "      <td>62.00%</td>\n",
       "      <td>43,094</td>\n",
       "      <td>15,000</td>\n",
       "      <td>10.60</td>\n",
       "      <td>45.0</td>\n",
       "      <td>Copenhagen</td>\n",
       "      <td>31,786</td>\n",
       "      <td>110.35</td>\n",
       "      <td>...</td>\n",
       "      <td>13.70%</td>\n",
       "      <td>4.01</td>\n",
       "      <td>5,818,553</td>\n",
       "      <td>62.20%</td>\n",
       "      <td>32.40%</td>\n",
       "      <td>23.80%</td>\n",
       "      <td>4.91%</td>\n",
       "      <td>5,119,978</td>\n",
       "      <td>56.263920</td>\n",
       "      <td>9.501785</td>\n",
       "    </tr>\n",
       "    <tr>\n",
       "      <th>47</th>\n",
       "      <td>Djibouti</td>\n",
       "      <td>43</td>\n",
       "      <td>73.40%</td>\n",
       "      <td>23,200</td>\n",
       "      <td>13,000</td>\n",
       "      <td>21.47</td>\n",
       "      <td>253.0</td>\n",
       "      <td>Djibouti City</td>\n",
       "      <td>620</td>\n",
       "      <td>120.25</td>\n",
       "      <td>...</td>\n",
       "      <td>20.40%</td>\n",
       "      <td>0.22</td>\n",
       "      <td>973,560</td>\n",
       "      <td>60.20%</td>\n",
       "      <td>NaN</td>\n",
       "      <td>37.90%</td>\n",
       "      <td>10.30%</td>\n",
       "      <td>758,549</td>\n",
       "      <td>11.825138</td>\n",
       "      <td>42.590275</td>\n",
       "    </tr>\n",
       "  </tbody>\n",
       "</table>\n",
       "<p>20 rows × 34 columns</p>\n",
       "</div>"
      ],
      "text/plain": [
       "                     Country Density\\n(P/Km2) Agricultural Land( %)  \\\n",
       "3                    Andorra              164                40.00%   \n",
       "5        Antigua and Barbuda              223                20.50%   \n",
       "8                  Australia                3                48.20%   \n",
       "9                    Austria              109                32.40%   \n",
       "11               The Bahamas               39                 1.40%   \n",
       "12                   Bahrain            2,239                11.10%   \n",
       "15                   Belarus               47                42.00%   \n",
       "19                    Bhutan               20                13.60%   \n",
       "20                   Bolivia               11                34.80%   \n",
       "21    Bosnia and Herzegovina               64                43.10%   \n",
       "24                    Brunei               83                 2.70%   \n",
       "27                   Burundi              463                79.20%   \n",
       "30                  Cambodia               95                30.90%   \n",
       "33  Central African Republic                8                 8.20%   \n",
       "34                      Chad               13                39.70%   \n",
       "38                   Comoros              467                71.50%   \n",
       "42                      Cuba              106                59.90%   \n",
       "43                    Cyprus              131                12.20%   \n",
       "46                   Denmark              137                62.00%   \n",
       "47                  Djibouti               43                73.40%   \n",
       "\n",
       "   Land Area(Km2) Armed Forces size  Birth Rate  Calling Code  \\\n",
       "3             468               NaN        7.20         376.0   \n",
       "5             443                 0       15.33           1.0   \n",
       "8       7,741,220            58,000       12.60          61.0   \n",
       "9          83,871            21,000        9.70          43.0   \n",
       "11         13,880             1,000       13.97           1.0   \n",
       "12            765            19,000       13.99         973.0   \n",
       "15        207,600           155,000        9.90         375.0   \n",
       "19         38,394             6,000       17.26         975.0   \n",
       "20      1,098,581            71,000       21.75         591.0   \n",
       "21         51,197            11,000        8.11         387.0   \n",
       "24          5,765             8,000       14.90         673.0   \n",
       "27         27,830            31,000       39.01         257.0   \n",
       "30        181,035           191,000       22.46         855.0   \n",
       "33        622,984             8,000       35.35         236.0   \n",
       "34      1,284,000            35,000       42.17         235.0   \n",
       "38          2,235               NaN       31.88         269.0   \n",
       "42        110,860            76,000       10.17          53.0   \n",
       "43          9,251            16,000       10.46         357.0   \n",
       "46         43,094            15,000       10.60          45.0   \n",
       "47         23,200            13,000       21.47         253.0   \n",
       "\n",
       "        Capital/Major City Co2-Emissions     CPI  ...  \\\n",
       "3         Andorra la Vella           469     NaN  ...   \n",
       "5   St. John's, Saint John           557  113.81  ...   \n",
       "8                 Canberra       375,908   119.8  ...   \n",
       "9                   Vienna        61,448  118.06  ...   \n",
       "11         Nassau, Bahamas         1,786  116.22  ...   \n",
       "12                  Manama        31,694  117.59  ...   \n",
       "15                   Minsk        58,280     NaN  ...   \n",
       "19                 Thimphu         1,261  167.18  ...   \n",
       "20                   Sucre        21,606  148.32  ...   \n",
       "21                Sarajevo        21,848   104.9  ...   \n",
       "24     Bandar Seri Begawan         7,664   99.03  ...   \n",
       "27               Bujumbura           495  182.11  ...   \n",
       "30              Phnom Penh         9,919  127.63  ...   \n",
       "33                  Bangui           297  186.86  ...   \n",
       "34               N'Djamena         1,016   117.7  ...   \n",
       "38         Moroni, Comoros           202  103.62  ...   \n",
       "42                  Havana        28,284     NaN  ...   \n",
       "43                 Nicosia         6,626  102.51  ...   \n",
       "46              Copenhagen        31,786  110.35  ...   \n",
       "47           Djibouti City           620  120.25  ...   \n",
       "\n",
       "   Out of pocket health expenditure Physicians per thousand  Population  \\\n",
       "3                            36.40%                    3.33      77,142   \n",
       "5                            24.30%                    2.76      97,118   \n",
       "8                            19.60%                    3.68  25,766,605   \n",
       "9                            17.90%                    5.17   8,877,067   \n",
       "11                           27.80%                    1.94     389,482   \n",
       "12                           25.10%                    0.93   1,501,635   \n",
       "15                           34.50%                    5.19   9,466,856   \n",
       "19                           19.80%                    0.42     727,145   \n",
       "20                           25.90%                    1.59  11,513,100   \n",
       "21                           28.60%                    2.16   3,301,000   \n",
       "24                            6.00%                    1.61     433,285   \n",
       "27                           19.10%                    0.10  11,530,580   \n",
       "30                           59.40%                    0.17  16,486,542   \n",
       "33                           39.60%                    0.06   4,745,185   \n",
       "34                           56.40%                    0.04  15,946,876   \n",
       "38                           74.80%                    0.27     850,886   \n",
       "42                              NaN                    8.42  11,333,483   \n",
       "43                           43.90%                    1.95   1,198,575   \n",
       "46                           13.70%                    4.01   5,818,553   \n",
       "47                           20.40%                    0.22     973,560   \n",
       "\n",
       "   Population: Labor force participation (%) Tax revenue (%) Total tax rate  \\\n",
       "3                                        NaN             NaN            NaN   \n",
       "5                                        NaN          16.50%         43.00%   \n",
       "8                                     65.50%          23.00%         47.40%   \n",
       "9                                     60.70%          25.40%         51.40%   \n",
       "11                                    74.60%          14.80%         33.80%   \n",
       "12                                    73.40%           4.20%         13.80%   \n",
       "15                                    64.10%          14.70%         53.30%   \n",
       "19                                    66.70%          16.00%         35.30%   \n",
       "20                                    71.80%          17.00%         83.70%   \n",
       "21                                    46.40%          20.40%         23.70%   \n",
       "24                                    64.70%             NaN          8.00%   \n",
       "27                                    79.20%          13.60%         41.20%   \n",
       "30                                    82.30%          17.10%         23.10%   \n",
       "33                                    72.00%           8.60%         73.30%   \n",
       "34                                    70.70%             NaN         63.50%   \n",
       "38                                    43.30%             NaN        219.60%   \n",
       "42                                    53.60%             NaN            NaN   \n",
       "43                                    63.10%          24.50%         22.40%   \n",
       "46                                    62.20%          32.40%         23.80%   \n",
       "47                                    60.20%             NaN         37.90%   \n",
       "\n",
       "   Unemployment rate Urban_population   Latitude   Longitude  \n",
       "3                NaN           67,873  42.506285    1.521801  \n",
       "5                NaN           23,800  17.060816  -61.796428  \n",
       "8              5.27%       21,844,756 -25.274398  133.775136  \n",
       "9              4.67%        5,194,416  47.516231   14.550072  \n",
       "11            10.36%          323,784  25.034280  -77.396280  \n",
       "12             0.71%        1,467,109  26.066700   50.557700  \n",
       "15             4.59%        7,482,982  53.709807   27.953389  \n",
       "19             2.34%          317,538  27.514162   90.433601  \n",
       "20             3.50%        8,033,035 -16.290154  -63.588653  \n",
       "21            18.42%        1,605,144  43.915886   17.679076  \n",
       "24             9.12%          337,711   4.535277  114.727669  \n",
       "27             1.43%        1,541,177  -3.373056   29.918886  \n",
       "30             0.68%        3,924,621  12.565679  104.990963  \n",
       "33             3.68%        1,982,064   6.611111   20.939444  \n",
       "34             1.89%        3,712,273  15.454166   18.732207  \n",
       "38             4.34%          248,152 -11.645500   43.333300  \n",
       "42             1.64%        8,739,135  21.521757  -77.781167  \n",
       "43             7.27%          800,708  35.126413   33.429859  \n",
       "46             4.91%        5,119,978  56.263920    9.501785  \n",
       "47            10.30%          758,549  11.825138   42.590275  \n",
       "\n",
       "[20 rows x 34 columns]"
      ]
     },
     "execution_count": 38,
     "metadata": {},
     "output_type": "execute_result"
    }
   ],
   "source": [
    "df[df.isnull().any(axis=1)].head(20)"
   ]
  },
  {
   "cell_type": "code",
   "execution_count": 39,
   "metadata": {
    "colab": {
     "base_uri": "https://localhost:8080/"
    },
    "id": "5ClvKZNyUa-G",
    "outputId": "92fa2fc1-61e8-46df-ec65-e137dbfcb417"
   },
   "outputs": [
    {
     "name": "stderr",
     "output_type": "stream",
     "text": [
      "C:\\Users\\hp\\AppData\\Local\\Temp\\ipykernel_6548\\106012158.py:6: FutureWarning:\n",
      "\n",
      "DataFrame.applymap has been deprecated. Use DataFrame.map instead.\n",
      "\n"
     ]
    }
   ],
   "source": [
    "transform = [ 'Agricultural Land( %)',  'Armed Forces size','Land Area(Km2)','Density\\n(P/Km2)',\n",
    "'Forested Area (%)', 'Co2-Emissions','CPI', 'CPI Change (%)', 'Gasoline Price', 'GDP',\n",
    "'Gross primary education enrollment (%)','Gross tertiary education enrollment (%)',\n",
    "'Minimum wage', 'Out of pocket health expenditure', 'Urban_population','Population: Labor force participation (%)',\n",
    "'Population' ,'Tax revenue (%)', 'Unemployment rate','Total tax rate']\n",
    "df[transform] = df[transform].applymap(lambda x: float(str(x).replace(',', '').replace('$', '').replace('%', '')))\n"
   ]
  },
  {
   "cell_type": "code",
   "execution_count": 40,
   "metadata": {
    "id": "yiFdbNiSUa-G"
   },
   "outputs": [],
   "source": [
    "df['Urban_percent'] = df['Urban_population'] / df['Population'] * 100"
   ]
  },
  {
   "cell_type": "code",
   "execution_count": 41,
   "metadata": {
    "id": "ozU8lk8pUa-H"
   },
   "outputs": [],
   "source": [
    "df['Agricultural Land(%)'] = pd.to_numeric(df['Agricultural Land( %)'], errors='coerce')"
   ]
  },
  {
   "cell_type": "code",
   "execution_count": 42,
   "metadata": {
    "id": "EDrsD4miUa-H"
   },
   "outputs": [],
   "source": [
    "df['Country'] = df['Country'].str.replace(\"S�����������\", \"Sao Tome and Principe\")\n"
   ]
  },
  {
   "cell_type": "code",
   "execution_count": 43,
   "metadata": {
    "colab": {
     "base_uri": "https://localhost:8080/"
    },
    "id": "gzeLl7jYUa-H",
    "outputId": "d188b060-d1b4-4aad-94ba-3e1e9863dccf"
   },
   "outputs": [
    {
     "name": "stdout",
     "output_type": "stream",
     "text": [
      "                              Country  Unemployment rate\n",
      "161                      South Africa              28.18\n",
      "95                            Lesotho              23.41\n",
      "146                       Saint Lucia              20.71\n",
      "119                           Namibia              20.27\n",
      "61                              Gabon              20.00\n",
      "147  Saint Vincent and the Grenadines              18.88\n",
      "97                              Libya              18.56\n",
      "21             Bosnia and Herzegovina              18.42\n",
      "22                           Botswana              18.19\n",
      "66                             Greece              17.24\n",
      "7                             Armenia              16.99\n",
      "166                             Sudan              16.53\n",
      "178                           Tunisia              16.02\n",
      "115                        Montenegro              14.88\n",
      "86                             Jordan              14.72\n",
      "186                     United States              14.70\n",
      "63                            Georgia              14.40\n",
      "164                             Spain              13.96\n",
      "72                              Haiti              13.78\n",
      "179                            Turkey              13.49\n",
      "150             Sao Tome and Principe              13.37\n",
      "192                             Yemen              12.91\n",
      "80                               Iraq              12.82\n",
      "153                            Serbia              12.69\n",
      "1                             Albania              12.33\n",
      "29                         Cape Verde              12.25\n",
      "163                       South Sudan              12.24\n",
      "23                             Brazil              12.08\n",
      "71                             Guyana              11.85\n",
      "40                         Costa Rica              11.85\n",
      "2                             Algeria              11.70\n",
      "193                            Zambia              11.43\n",
      "79                               Iran              11.38\n",
      "160                           Somalia              11.35\n",
      "0                         Afghanistan              11.12\n",
      "171                        Tajikistan              11.02\n",
      "51                              Egypt              10.76\n",
      "11                        The Bahamas              10.36\n",
      "14                           Barbados              10.33\n",
      "47                           Djibouti              10.30\n",
      "83                              Italy               9.89\n",
      "6                           Argentina               9.79\n",
      "37                           Colombia               9.71\n",
      "108                        Mauritania               9.55\n",
      "39              Republic of the Congo               9.47\n",
      "24                             Brunei               9.12\n",
      "62                         The Gambia               9.06\n",
      "116                           Morocco               9.02\n",
      "183                           Ukraine               8.88\n",
      "190                         Venezuela               8.80\n"
     ]
    }
   ],
   "source": [
    "df_sorted_unemployment = df.sort_values(by='Unemployment rate', ascending=False)\n",
    "\n",
    "top_unemployment_countries = df_sorted_unemployment[['Country', 'Unemployment rate']].head(50)\n",
    "\n",
    "print(top_unemployment_countries)"
   ]
  },
  {
   "cell_type": "code",
   "execution_count": 44,
   "metadata": {
    "colab": {
     "base_uri": "https://localhost:8080/"
    },
    "id": "9ucwphy9Ua-H",
    "outputId": "f5bc9159-87a5-434e-d3a3-18fe7f9f69b4"
   },
   "outputs": [
    {
     "name": "stdout",
     "output_type": "stream",
     "text": [
      "                      Country  Unemployment rate\n",
      "141                     Qatar               0.09\n",
      "125                     Niger               0.47\n",
      "159           Solomon Islands               0.58\n",
      "92                       Laos               0.63\n",
      "30                   Cambodia               0.68\n",
      "12                    Bahrain               0.71\n",
      "173                  Thailand               0.75\n",
      "144                    Rwanda               1.03\n",
      "176                     Tonga               1.12\n",
      "121                     Nepal               1.41\n",
      "27                    Burundi               1.43\n",
      "118                   Myanmar               1.58\n",
      "42                       Cuba               1.64\n",
      "101                Madagascar               1.76\n",
      "182                    Uganda               1.84\n",
      "34                       Chad               1.89\n",
      "44             Czech Republic               1.93\n",
      "172                  Tanzania               1.98\n",
      "191                   Vietnam               2.01\n",
      "175                      Togo               2.04\n",
      "57                   Ethiopia               2.08\n",
      "138               Philippines               2.15\n",
      "90                     Kuwait               2.18\n",
      "18                      Benin               2.23\n",
      "85                      Japan               2.29\n",
      "19                     Bhutan               2.34\n",
      "184      United Arab Emirates               2.35\n",
      "68                  Guatemala               2.46\n",
      "135          Papua New Guinea               2.46\n",
      "70              Guinea-Bissau               2.47\n",
      "88                      Kenya               2.64\n",
      "130                      Oman               2.67\n",
      "177       Trinidad and Tobago               2.69\n",
      "127               North Korea               2.74\n",
      "96                    Liberia               2.81\n",
      "76                    Iceland               2.84\n",
      "64                    Germany               3.04\n",
      "122               Netherlands               3.20\n",
      "117                Mozambique               3.24\n",
      "137                      Peru               3.31\n",
      "103                  Malaysia               3.32\n",
      "28                Ivory Coast               3.32\n",
      "129                    Norway               3.35\n",
      "31                   Cameroon               3.38\n",
      "75                    Hungary               3.40\n",
      "110                    Mexico               3.42\n",
      "106                     Malta               3.47\n",
      "139                    Poland               3.47\n",
      "20                    Bolivia               3.50\n",
      "33   Central African Republic               3.68\n"
     ]
    }
   ],
   "source": [
    "df_sorted_unemployment_asc = df.sort_values(by='Unemployment rate', ascending=True)\n",
    "top_unemployment_countries_asc = df_sorted_unemployment_asc[['Country', 'Unemployment rate']].head(50)\n",
    "print(top_unemployment_countries_asc)"
   ]
  },
  {
   "cell_type": "code",
   "execution_count": 45,
   "metadata": {
    "colab": {
     "base_uri": "https://localhost:8080/"
    },
    "id": "zHffm0i2Ua-H",
    "outputId": "ad521e38-3a0d-4dd4-e7ec-0f617c4503ee"
   },
   "outputs": [
    {
     "name": "stdout",
     "output_type": "stream",
     "text": [
      "                  Country  Urban_percent\n",
      "113                Monaco     100.000000\n",
      "156             Singapore     100.000000\n",
      "90                 Kuwait     100.000000\n",
      "141                 Qatar      99.188014\n",
      "16                Belgium      98.040997\n",
      "12                Bahrain      97.700773\n",
      "149            San Marino      97.368576\n",
      "187               Uruguay      95.425992\n",
      "106                 Malta      94.678038\n",
      "76                Iceland      93.854912\n",
      "82                 Israel      92.501000\n",
      "6               Argentina      91.991001\n",
      "122           Netherlands      91.875998\n",
      "85                  Japan      91.725869\n",
      "86                 Jordan      91.203000\n",
      "61                  Gabon      89.740994\n",
      "94                Lebanon      88.758004\n",
      "190             Venezuela      88.240002\n",
      "46                Denmark      87.994008\n",
      "3                 Andorra      87.984496\n",
      "123           New Zealand      87.974799\n",
      "168                Sweden      87.707999\n",
      "35                  Chile      87.643002\n",
      "100            Luxembourg      87.618629\n",
      "184  United Arab Emirates      86.788996\n",
      "23                 Brazil      86.207256\n",
      "59                Finland      85.446009\n",
      "8               Australia      84.779334\n",
      "151          Saudi Arabia      84.065000\n",
      "185        United Kingdom      83.651999\n",
      "11            The Bahamas      83.131955\n",
      "32                 Canada      82.797626\n",
      "129                Norway      82.616004\n",
      "186         United States      82.459000\n",
      "49     Dominican Republic      81.828004\n",
      "110                Mexico      81.440824\n",
      "162           South Korea      81.430001\n",
      "37               Colombia      81.104000\n",
      "130                  Oman      80.712974\n",
      "60                 France      80.709000\n",
      "164                 Spain      80.565001\n",
      "97                  Libya      80.393000\n",
      "40             Costa Rica      80.076001\n",
      "132                 Palau      79.476773\n",
      "66                 Greece      79.388003\n",
      "15                Belarus      79.044004\n",
      "137                  Peru      78.099001\n",
      "24                 Brunei      77.942001\n",
      "47               Djibouti      77.914972\n",
      "107      Marshall Islands      77.416611\n"
     ]
    }
   ],
   "source": [
    "df_sorted_Urban = df.sort_values(by='Urban_percent', ascending=False)\n",
    "top_Urban_pop= df_sorted_Urban[['Country', 'Urban_percent']].head(50)\n",
    "print(top_Urban_pop)"
   ]
  },
  {
   "cell_type": "code",
   "execution_count": 46,
   "metadata": {
    "colab": {
     "base_uri": "https://localhost:8080/",
     "height": 542
    },
    "id": "XWHrZ3GkUa-I",
    "outputId": "8994dc65-5a75-4bec-e525-c15a5f1b477d"
   },
   "outputs": [
    {
     "data": {
      "application/vnd.plotly.v1+json": {
       "config": {
        "plotlyServerURL": "https://plot.ly"
       },
       "data": [
        {
         "hovertemplate": "<b>%{hovertext}</b><br><br>Tax revenue (%)=%{x}<br>Total tax rate=%{y}<extra></extra>",
         "hovertext": [
          "Afghanistan",
          "Albania",
          "Algeria",
          "Andorra",
          "Angola",
          "Antigua and Barbuda",
          "Argentina",
          "Armenia",
          "Australia",
          "Austria",
          "Azerbaijan",
          "The Bahamas",
          "Bahrain",
          "Bangladesh",
          "Barbados",
          "Belarus",
          "Belgium",
          "Belize",
          "Benin",
          "Bhutan",
          "Bolivia",
          "Bosnia and Herzegovina",
          "Botswana",
          "Brazil",
          "Brunei",
          "Bulgaria",
          "Burkina Faso",
          "Burundi",
          "Ivory Coast",
          "Cape Verde",
          "Cambodia",
          "Cameroon",
          "Canada",
          "Central African Republic",
          "Chad",
          "Chile",
          "China",
          "Colombia",
          "Comoros",
          "Republic of the Congo",
          "Costa Rica",
          "Croatia",
          "Cuba",
          "Cyprus",
          "Czech Republic",
          "Democratic Republic of the Congo",
          "Denmark",
          "Djibouti",
          "Dominica",
          "Dominican Republic",
          "Ecuador",
          "Egypt",
          "El Salvador",
          "Equatorial Guinea",
          "Eritrea",
          "Estonia",
          "Eswatini",
          "Ethiopia",
          "Fiji",
          "Finland",
          "France",
          "Gabon",
          "The Gambia",
          "Georgia",
          "Germany",
          "Ghana",
          "Greece",
          "Grenada",
          "Guatemala",
          "Guinea",
          "Guinea-Bissau",
          "Guyana",
          "Haiti",
          "Vatican City",
          "Honduras",
          "Hungary",
          "Iceland",
          "India",
          "Indonesia",
          "Iran",
          "Iraq",
          "Republic of Ireland",
          "Israel",
          "Italy",
          "Jamaica",
          "Japan",
          "Jordan",
          "Kazakhstan",
          "Kenya",
          "Kiribati",
          "Kuwait",
          "Kyrgyzstan",
          "Laos",
          "Latvia",
          "Lebanon",
          "Lesotho",
          "Liberia",
          "Libya",
          "Liechtenstein",
          "Lithuania",
          "Luxembourg",
          "Madagascar",
          "Malawi",
          "Malaysia",
          "Maldives",
          "Mali",
          "Malta",
          "Marshall Islands",
          "Mauritania",
          "Mauritius",
          "Mexico",
          "Federated States of Micronesia",
          "Moldova",
          "Monaco",
          "Mongolia",
          "Montenegro",
          "Morocco",
          "Myanmar",
          "Namibia",
          "Nauru",
          "Nepal",
          "Netherlands",
          "New Zealand",
          "Nicaragua",
          "Niger",
          "Nigeria",
          "North Korea",
          "North Macedonia",
          "Norway",
          "Oman",
          "Pakistan",
          "Palau",
          "Palestinian National Authority",
          "Panama",
          "Papua New Guinea",
          "Paraguay",
          "Peru",
          "Philippines",
          "Poland",
          "Portugal",
          "Qatar",
          "Romania",
          "Russia",
          "Rwanda",
          "Saint Kitts and Nevis",
          "Saint Lucia",
          "Saint Vincent and the Grenadines",
          "Samoa",
          "San Marino",
          "Sao Tome and Principe",
          "Saudi Arabia",
          "Senegal",
          "Serbia",
          "Seychelles",
          "Sierra Leone",
          "Singapore",
          "Slovakia",
          "Slovenia",
          "Solomon Islands",
          "South Africa",
          "South Korea",
          "South Sudan",
          "Spain",
          "Sri Lanka",
          "Sudan",
          "Suriname",
          "Sweden",
          "Switzerland",
          "Syria",
          "Tajikistan",
          "Tanzania",
          "Thailand",
          "East Timor",
          "Togo",
          "Tonga",
          "Trinidad and Tobago",
          "Tunisia",
          "Turkey",
          "Turkmenistan",
          "Tuvalu",
          "Uganda",
          "Ukraine",
          "United Arab Emirates",
          "United Kingdom",
          "United States",
          "Uruguay",
          "Uzbekistan",
          "Vanuatu",
          "Venezuela",
          "Vietnam",
          "Yemen",
          "Zambia",
          "Zimbabwe"
         ],
         "legendgroup": "",
         "marker": {
          "color": "#636efa",
          "symbol": "circle"
         },
         "mode": "markers",
         "name": "",
         "orientation": "v",
         "showlegend": false,
         "type": "scatter",
         "x": [
          9.3,
          18.6,
          37.2,
          null,
          9.2,
          16.5,
          10.1,
          20.9,
          23,
          25.4,
          13,
          14.8,
          4.2,
          8.8,
          27.5,
          14.7,
          24,
          26.3,
          10.8,
          16,
          17,
          20.4,
          19.5,
          14.2,
          null,
          20.2,
          15,
          13.6,
          11.8,
          20.1,
          17.1,
          12.8,
          12.8,
          8.6,
          null,
          18.2,
          9.4,
          14.4,
          null,
          9,
          13.6,
          22,
          null,
          24.5,
          14.9,
          10.7,
          32.4,
          null,
          22.1,
          13,
          null,
          12.5,
          18.1,
          6.1,
          null,
          20.9,
          28.6,
          7.5,
          24.2,
          20.8,
          24.2,
          10.2,
          9.4,
          21.7,
          11.5,
          12.6,
          26.2,
          19.4,
          10.6,
          10.8,
          10.3,
          null,
          null,
          null,
          17.3,
          23,
          23.3,
          11.2,
          10.2,
          7.4,
          2,
          18.3,
          23.1,
          24.3,
          26.8,
          11.9,
          15.1,
          11.7,
          15.1,
          22,
          1.4,
          18,
          12.9,
          22.9,
          15.3,
          31.6,
          12.9,
          null,
          null,
          16.9,
          26.5,
          10.2,
          17.3,
          12,
          19.5,
          11.6,
          26.2,
          17.8,
          null,
          19.1,
          13.1,
          25.2,
          17.7,
          null,
          16.8,
          null,
          21.9,
          5.4,
          27.1,
          null,
          20.7,
          23,
          29,
          15.6,
          11.8,
          1.5,
          null,
          null,
          23.9,
          2.5,
          9.2,
          21.3,
          null,
          null,
          13.6,
          10,
          14.3,
          14,
          17.4,
          22.8,
          14.7,
          14.6,
          11.4,
          14.3,
          18.5,
          18.2,
          25.4,
          25.5,
          18.1,
          14.6,
          8.9,
          16.3,
          18.6,
          34.1,
          8.6,
          13.1,
          18.7,
          18.6,
          29.5,
          27.5,
          15.6,
          null,
          14.2,
          11.9,
          8,
          19.5,
          27.9,
          10.1,
          14.2,
          9.8,
          11.5,
          14.9,
          25,
          16.9,
          22.3,
          19.5,
          21.1,
          17.9,
          null,
          null,
          11.7,
          20.1,
          0.1,
          25.5,
          9.6,
          20.1,
          14.8,
          17.8,
          null,
          19.1,
          null,
          16.2,
          20.7
         ],
         "xaxis": "x",
         "y": [
          71.4,
          36.6,
          66.1,
          null,
          49.1,
          43,
          106.3,
          22.6,
          47.4,
          51.4,
          40.7,
          33.8,
          13.8,
          33.4,
          35.6,
          53.3,
          55.4,
          31.1,
          48.9,
          35.3,
          83.7,
          23.7,
          25.1,
          65.1,
          8,
          28.3,
          41.3,
          41.2,
          50.1,
          37.5,
          23.1,
          57.7,
          24.5,
          73.3,
          63.5,
          34,
          59.2,
          71.2,
          219.6,
          54.3,
          58.3,
          20.5,
          null,
          22.4,
          46.1,
          50.7,
          23.8,
          37.9,
          32.6,
          48.8,
          34.4,
          44.4,
          36.4,
          79.4,
          83.7,
          47.8,
          null,
          37.7,
          32.1,
          36.6,
          60.7,
          47.1,
          48.4,
          9.9,
          48.8,
          55.4,
          51.9,
          47.8,
          35.2,
          69.3,
          45.5,
          30.6,
          42.7,
          null,
          39.1,
          37.9,
          31.9,
          49.7,
          30.1,
          44.7,
          30.8,
          26.1,
          25.3,
          59.1,
          35.1,
          46.7,
          28.6,
          28.4,
          37.2,
          32.7,
          13,
          29,
          24.1,
          38.1,
          32.2,
          13.6,
          46.2,
          32.6,
          21.6,
          42.6,
          20.4,
          38.3,
          34.5,
          38.7,
          30.2,
          54.5,
          44,
          65.9,
          67,
          22.2,
          55.1,
          60.5,
          38.7,
          null,
          25.7,
          22.2,
          45.8,
          31.2,
          20.7,
          null,
          41.8,
          41.2,
          34.6,
          60.6,
          47.2,
          34.8,
          null,
          null,
          36.2,
          27.4,
          33.9,
          76.6,
          null,
          37.2,
          37.1,
          35,
          36.8,
          43.1,
          40.8,
          39.8,
          11.3,
          20,
          46.2,
          33.2,
          49.7,
          34.7,
          37,
          19.3,
          36.2,
          37,
          15.7,
          44.8,
          36.6,
          30.1,
          30.7,
          21,
          49.7,
          31,
          32,
          29.2,
          33.2,
          31.4,
          47,
          55.2,
          45.4,
          27.9,
          49.1,
          28.8,
          42.7,
          67.3,
          43.8,
          29.5,
          17.3,
          48.2,
          27.5,
          40.5,
          60.7,
          42.3,
          null,
          null,
          33.7,
          45.2,
          15.9,
          30.6,
          36.6,
          41.8,
          31.6,
          8.5,
          73.3,
          37.6,
          26.6,
          15.6,
          31.6
         ],
         "yaxis": "y"
        },
        {
         "hovertemplate": "<b>OLS trendline</b><br>Total tax rate = 1.29782 * log10(Tax revenue (%)) + 38.2554<br>R<sup>2</sup>=0.000562<br><br>Tax revenue (%)=%{x}<br>Total tax rate=%{y} <b>(trend)</b><extra></extra>",
         "legendgroup": "",
         "marker": {
          "color": "#636efa",
          "symbol": "circle"
         },
         "mode": "lines",
         "name": "",
         "showlegend": false,
         "type": "scatter",
         "x": [
          0.1,
          1.4,
          1.5,
          2,
          2.5,
          4.2,
          5.4,
          6.1,
          7.4,
          7.5,
          8,
          8.6,
          8.6,
          8.8,
          8.9,
          9,
          9.2,
          9.2,
          9.3,
          9.4,
          9.4,
          9.6,
          9.8,
          10,
          10.1,
          10.1,
          10.2,
          10.2,
          10.2,
          10.3,
          10.6,
          10.7,
          10.8,
          10.8,
          11.2,
          11.4,
          11.5,
          11.5,
          11.6,
          11.7,
          11.7,
          11.8,
          11.8,
          11.9,
          11.9,
          12,
          12.5,
          12.6,
          12.8,
          12.8,
          12.9,
          12.9,
          13,
          13,
          13.1,
          13.1,
          13.6,
          13.6,
          13.6,
          14,
          14.2,
          14.2,
          14.2,
          14.3,
          14.3,
          14.4,
          14.6,
          14.6,
          14.7,
          14.7,
          14.8,
          14.8,
          14.9,
          14.9,
          15,
          15.1,
          15.1,
          15.3,
          15.6,
          15.6,
          16,
          16.2,
          16.3,
          16.5,
          16.8,
          16.9,
          16.9,
          17,
          17.1,
          17.3,
          17.3,
          17.4,
          17.7,
          17.8,
          17.8,
          17.9,
          18,
          18.1,
          18.1,
          18.2,
          18.2,
          18.3,
          18.5,
          18.6,
          18.6,
          18.6,
          18.7,
          19.1,
          19.1,
          19.4,
          19.5,
          19.5,
          19.5,
          19.5,
          20.1,
          20.1,
          20.1,
          20.2,
          20.4,
          20.7,
          20.7,
          20.8,
          20.9,
          20.9,
          21.1,
          21.3,
          21.7,
          21.9,
          22,
          22,
          22.1,
          22.3,
          22.8,
          22.9,
          23,
          23,
          23,
          23.1,
          23.3,
          23.9,
          24,
          24.2,
          24.2,
          24.3,
          24.5,
          25,
          25.2,
          25.4,
          25.4,
          25.5,
          25.5,
          26.2,
          26.2,
          26.3,
          26.5,
          26.8,
          27.1,
          27.5,
          27.5,
          27.9,
          29,
          29.5,
          31.6,
          32.4,
          34.1,
          37.2
         ],
         "xaxis": "x",
         "y": [
          36.957577110023685,
          38.445045216344,
          38.483932092634504,
          38.64608010765869,
          38.77185187926296,
          39.06426281433518,
          39.20591271050491,
          39.27461421772267,
          39.383503777786196,
          39.39106947725414,
          39.427445720674065,
          39.468208259752124,
          39.468208259752124,
          39.48116598323738,
          39.48753482102928,
          39.49383249713337,
          39.506220603442806,
          39.506220603442806,
          39.51231402654683,
          39.51834227810109,
          39.51834227810109,
          39.53020874055329,
          39.54183051615663,
          39.55321749227833,
          39.55882585842685,
          39.55882585842685,
          39.56437896883811,
          39.56437896883811,
          39.56437896883811,
          39.569877901698746,
          39.5860599551729,
          39.59135235224979,
          39.596595517012595,
          39.596595517012595,
          39.61709363586706,
          39.6270697573159,
          39.63199237504707,
          39.63199237504707,
          39.63687237217649,
          39.64171048040192,
          39.64171048040192,
          39.646507412738984,
          39.646507412738984,
          39.65126386415187,
          39.65126386415187,
          39.65598051215756,
          39.6789892638826,
          39.68348041232636,
          39.692356755577485,
          39.692356755577485,
          39.69674305123562,
          39.69674305123562,
          39.70109547554688,
          39.70109547554688,
          39.705414547620045,
          39.705414547620045,
          39.7265269838623,
          39.7265269838623,
          39.7265269838623,
          39.74286540747132,
          39.750860380492014,
          39.750860380492014,
          39.750860380492014,
          39.754815738110196,
          39.754815738110196,
          39.75874353203679,
          39.76651794698481,
          39.76651794698481,
          39.77036530764013,
          39.77036530764013,
          39.77418658429388,
          39.77418658429388,
          39.777982128249775,
          39.777982128249775,
          39.781752283761826,
          39.785497388221735,
          39.785497388221735,
          39.7929137603216,
          39.803858495426105,
          39.803858495426105,
          39.81812852718175,
          39.82513030849609,
          39.82859884958073,
          39.83547254632515,
          39.84562842735055,
          39.84897345881542,
          39.84897345881542,
          39.85229875546657,
          39.8556045487994,
          39.86215853133806,
          39.86215853133806,
          39.86540716365999,
          39.87504220422248,
          39.87821762753696,
          39.87821762753696,
          39.88137526127178,
          39.88451530364105,
          39.88763794956447,
          39.88763794956447,
          39.89074339073987,
          39.89074339073987,
          39.89383181571385,
          39.89995835589815,
          39.902996833054516,
          39.902996833054516,
          39.902996833054516,
          39.90601901802989,
          39.91794827067293,
          39.91794827067293,
          39.926732388423154,
          39.929630267030376,
          39.929630267030376,
          39.929630267030376,
          39.929630267030376,
          39.946711457468844,
          39.946711457468844,
          39.946711457468844,
          39.94950866493454,
          39.9550617753458,
          39.96329018640979,
          39.96329018640979,
          39.9660065104503,
          39.96870980650768,
          39.96870980650768,
          39.97407781039202,
          39.97939517197551,
          39.98988172836828,
          39.99505273846831,
          39.997620561349336,
          39.997620561349336,
          40.000176738735114,
          40.00525457621007,
          40.01775256382359,
          40.020219246743075,
          40.02267518155476,
          40.02267518155476,
          40.02267518155476,
          40.02512046151814,
          40.029979423916075,
          40.04430992840902,
          40.046663318665246,
          40.05134082391266,
          40.05134082391266,
          40.05366509997959,
          40.058285094268584,
          40.06967207039028,
          40.074163218834045,
          40.0786188637568,
          40.0786188637568,
          40.08083354695007,
          40.08083354695007,
          40.09609735412773,
          40.09609735412773,
          40.09824454204833,
          40.102514533284854,
          40.10885947249303,
          40.11513378011321,
          40.12339233295361,
          40.12339233295361,
          40.13153162453801,
          40.153326950288445,
          40.16296199085094,
          40.201721477346005,
          40.215813115003776,
          40.2446368822463,
          40.2936796395622
         ],
         "yaxis": "y"
        }
       ],
       "layout": {
        "legend": {
         "tracegroupgap": 0
        },
        "template": {
         "data": {
          "bar": [
           {
            "error_x": {
             "color": "#2a3f5f"
            },
            "error_y": {
             "color": "#2a3f5f"
            },
            "marker": {
             "line": {
              "color": "#E5ECF6",
              "width": 0.5
             },
             "pattern": {
              "fillmode": "overlay",
              "size": 10,
              "solidity": 0.2
             }
            },
            "type": "bar"
           }
          ],
          "barpolar": [
           {
            "marker": {
             "line": {
              "color": "#E5ECF6",
              "width": 0.5
             },
             "pattern": {
              "fillmode": "overlay",
              "size": 10,
              "solidity": 0.2
             }
            },
            "type": "barpolar"
           }
          ],
          "carpet": [
           {
            "aaxis": {
             "endlinecolor": "#2a3f5f",
             "gridcolor": "white",
             "linecolor": "white",
             "minorgridcolor": "white",
             "startlinecolor": "#2a3f5f"
            },
            "baxis": {
             "endlinecolor": "#2a3f5f",
             "gridcolor": "white",
             "linecolor": "white",
             "minorgridcolor": "white",
             "startlinecolor": "#2a3f5f"
            },
            "type": "carpet"
           }
          ],
          "choropleth": [
           {
            "colorbar": {
             "outlinewidth": 0,
             "ticks": ""
            },
            "type": "choropleth"
           }
          ],
          "contour": [
           {
            "colorbar": {
             "outlinewidth": 0,
             "ticks": ""
            },
            "colorscale": [
             [
              0,
              "#0d0887"
             ],
             [
              0.1111111111111111,
              "#46039f"
             ],
             [
              0.2222222222222222,
              "#7201a8"
             ],
             [
              0.3333333333333333,
              "#9c179e"
             ],
             [
              0.4444444444444444,
              "#bd3786"
             ],
             [
              0.5555555555555556,
              "#d8576b"
             ],
             [
              0.6666666666666666,
              "#ed7953"
             ],
             [
              0.7777777777777778,
              "#fb9f3a"
             ],
             [
              0.8888888888888888,
              "#fdca26"
             ],
             [
              1,
              "#f0f921"
             ]
            ],
            "type": "contour"
           }
          ],
          "contourcarpet": [
           {
            "colorbar": {
             "outlinewidth": 0,
             "ticks": ""
            },
            "type": "contourcarpet"
           }
          ],
          "heatmap": [
           {
            "colorbar": {
             "outlinewidth": 0,
             "ticks": ""
            },
            "colorscale": [
             [
              0,
              "#0d0887"
             ],
             [
              0.1111111111111111,
              "#46039f"
             ],
             [
              0.2222222222222222,
              "#7201a8"
             ],
             [
              0.3333333333333333,
              "#9c179e"
             ],
             [
              0.4444444444444444,
              "#bd3786"
             ],
             [
              0.5555555555555556,
              "#d8576b"
             ],
             [
              0.6666666666666666,
              "#ed7953"
             ],
             [
              0.7777777777777778,
              "#fb9f3a"
             ],
             [
              0.8888888888888888,
              "#fdca26"
             ],
             [
              1,
              "#f0f921"
             ]
            ],
            "type": "heatmap"
           }
          ],
          "heatmapgl": [
           {
            "colorbar": {
             "outlinewidth": 0,
             "ticks": ""
            },
            "colorscale": [
             [
              0,
              "#0d0887"
             ],
             [
              0.1111111111111111,
              "#46039f"
             ],
             [
              0.2222222222222222,
              "#7201a8"
             ],
             [
              0.3333333333333333,
              "#9c179e"
             ],
             [
              0.4444444444444444,
              "#bd3786"
             ],
             [
              0.5555555555555556,
              "#d8576b"
             ],
             [
              0.6666666666666666,
              "#ed7953"
             ],
             [
              0.7777777777777778,
              "#fb9f3a"
             ],
             [
              0.8888888888888888,
              "#fdca26"
             ],
             [
              1,
              "#f0f921"
             ]
            ],
            "type": "heatmapgl"
           }
          ],
          "histogram": [
           {
            "marker": {
             "pattern": {
              "fillmode": "overlay",
              "size": 10,
              "solidity": 0.2
             }
            },
            "type": "histogram"
           }
          ],
          "histogram2d": [
           {
            "colorbar": {
             "outlinewidth": 0,
             "ticks": ""
            },
            "colorscale": [
             [
              0,
              "#0d0887"
             ],
             [
              0.1111111111111111,
              "#46039f"
             ],
             [
              0.2222222222222222,
              "#7201a8"
             ],
             [
              0.3333333333333333,
              "#9c179e"
             ],
             [
              0.4444444444444444,
              "#bd3786"
             ],
             [
              0.5555555555555556,
              "#d8576b"
             ],
             [
              0.6666666666666666,
              "#ed7953"
             ],
             [
              0.7777777777777778,
              "#fb9f3a"
             ],
             [
              0.8888888888888888,
              "#fdca26"
             ],
             [
              1,
              "#f0f921"
             ]
            ],
            "type": "histogram2d"
           }
          ],
          "histogram2dcontour": [
           {
            "colorbar": {
             "outlinewidth": 0,
             "ticks": ""
            },
            "colorscale": [
             [
              0,
              "#0d0887"
             ],
             [
              0.1111111111111111,
              "#46039f"
             ],
             [
              0.2222222222222222,
              "#7201a8"
             ],
             [
              0.3333333333333333,
              "#9c179e"
             ],
             [
              0.4444444444444444,
              "#bd3786"
             ],
             [
              0.5555555555555556,
              "#d8576b"
             ],
             [
              0.6666666666666666,
              "#ed7953"
             ],
             [
              0.7777777777777778,
              "#fb9f3a"
             ],
             [
              0.8888888888888888,
              "#fdca26"
             ],
             [
              1,
              "#f0f921"
             ]
            ],
            "type": "histogram2dcontour"
           }
          ],
          "mesh3d": [
           {
            "colorbar": {
             "outlinewidth": 0,
             "ticks": ""
            },
            "type": "mesh3d"
           }
          ],
          "parcoords": [
           {
            "line": {
             "colorbar": {
              "outlinewidth": 0,
              "ticks": ""
             }
            },
            "type": "parcoords"
           }
          ],
          "pie": [
           {
            "automargin": true,
            "type": "pie"
           }
          ],
          "scatter": [
           {
            "fillpattern": {
             "fillmode": "overlay",
             "size": 10,
             "solidity": 0.2
            },
            "type": "scatter"
           }
          ],
          "scatter3d": [
           {
            "line": {
             "colorbar": {
              "outlinewidth": 0,
              "ticks": ""
             }
            },
            "marker": {
             "colorbar": {
              "outlinewidth": 0,
              "ticks": ""
             }
            },
            "type": "scatter3d"
           }
          ],
          "scattercarpet": [
           {
            "marker": {
             "colorbar": {
              "outlinewidth": 0,
              "ticks": ""
             }
            },
            "type": "scattercarpet"
           }
          ],
          "scattergeo": [
           {
            "marker": {
             "colorbar": {
              "outlinewidth": 0,
              "ticks": ""
             }
            },
            "type": "scattergeo"
           }
          ],
          "scattergl": [
           {
            "marker": {
             "colorbar": {
              "outlinewidth": 0,
              "ticks": ""
             }
            },
            "type": "scattergl"
           }
          ],
          "scattermapbox": [
           {
            "marker": {
             "colorbar": {
              "outlinewidth": 0,
              "ticks": ""
             }
            },
            "type": "scattermapbox"
           }
          ],
          "scatterpolar": [
           {
            "marker": {
             "colorbar": {
              "outlinewidth": 0,
              "ticks": ""
             }
            },
            "type": "scatterpolar"
           }
          ],
          "scatterpolargl": [
           {
            "marker": {
             "colorbar": {
              "outlinewidth": 0,
              "ticks": ""
             }
            },
            "type": "scatterpolargl"
           }
          ],
          "scatterternary": [
           {
            "marker": {
             "colorbar": {
              "outlinewidth": 0,
              "ticks": ""
             }
            },
            "type": "scatterternary"
           }
          ],
          "surface": [
           {
            "colorbar": {
             "outlinewidth": 0,
             "ticks": ""
            },
            "colorscale": [
             [
              0,
              "#0d0887"
             ],
             [
              0.1111111111111111,
              "#46039f"
             ],
             [
              0.2222222222222222,
              "#7201a8"
             ],
             [
              0.3333333333333333,
              "#9c179e"
             ],
             [
              0.4444444444444444,
              "#bd3786"
             ],
             [
              0.5555555555555556,
              "#d8576b"
             ],
             [
              0.6666666666666666,
              "#ed7953"
             ],
             [
              0.7777777777777778,
              "#fb9f3a"
             ],
             [
              0.8888888888888888,
              "#fdca26"
             ],
             [
              1,
              "#f0f921"
             ]
            ],
            "type": "surface"
           }
          ],
          "table": [
           {
            "cells": {
             "fill": {
              "color": "#EBF0F8"
             },
             "line": {
              "color": "white"
             }
            },
            "header": {
             "fill": {
              "color": "#C8D4E3"
             },
             "line": {
              "color": "white"
             }
            },
            "type": "table"
           }
          ]
         },
         "layout": {
          "annotationdefaults": {
           "arrowcolor": "#2a3f5f",
           "arrowhead": 0,
           "arrowwidth": 1
          },
          "autotypenumbers": "strict",
          "coloraxis": {
           "colorbar": {
            "outlinewidth": 0,
            "ticks": ""
           }
          },
          "colorscale": {
           "diverging": [
            [
             0,
             "#8e0152"
            ],
            [
             0.1,
             "#c51b7d"
            ],
            [
             0.2,
             "#de77ae"
            ],
            [
             0.3,
             "#f1b6da"
            ],
            [
             0.4,
             "#fde0ef"
            ],
            [
             0.5,
             "#f7f7f7"
            ],
            [
             0.6,
             "#e6f5d0"
            ],
            [
             0.7,
             "#b8e186"
            ],
            [
             0.8,
             "#7fbc41"
            ],
            [
             0.9,
             "#4d9221"
            ],
            [
             1,
             "#276419"
            ]
           ],
           "sequential": [
            [
             0,
             "#0d0887"
            ],
            [
             0.1111111111111111,
             "#46039f"
            ],
            [
             0.2222222222222222,
             "#7201a8"
            ],
            [
             0.3333333333333333,
             "#9c179e"
            ],
            [
             0.4444444444444444,
             "#bd3786"
            ],
            [
             0.5555555555555556,
             "#d8576b"
            ],
            [
             0.6666666666666666,
             "#ed7953"
            ],
            [
             0.7777777777777778,
             "#fb9f3a"
            ],
            [
             0.8888888888888888,
             "#fdca26"
            ],
            [
             1,
             "#f0f921"
            ]
           ],
           "sequentialminus": [
            [
             0,
             "#0d0887"
            ],
            [
             0.1111111111111111,
             "#46039f"
            ],
            [
             0.2222222222222222,
             "#7201a8"
            ],
            [
             0.3333333333333333,
             "#9c179e"
            ],
            [
             0.4444444444444444,
             "#bd3786"
            ],
            [
             0.5555555555555556,
             "#d8576b"
            ],
            [
             0.6666666666666666,
             "#ed7953"
            ],
            [
             0.7777777777777778,
             "#fb9f3a"
            ],
            [
             0.8888888888888888,
             "#fdca26"
            ],
            [
             1,
             "#f0f921"
            ]
           ]
          },
          "colorway": [
           "#636efa",
           "#EF553B",
           "#00cc96",
           "#ab63fa",
           "#FFA15A",
           "#19d3f3",
           "#FF6692",
           "#B6E880",
           "#FF97FF",
           "#FECB52"
          ],
          "font": {
           "color": "#2a3f5f"
          },
          "geo": {
           "bgcolor": "white",
           "lakecolor": "white",
           "landcolor": "#E5ECF6",
           "showlakes": true,
           "showland": true,
           "subunitcolor": "white"
          },
          "hoverlabel": {
           "align": "left"
          },
          "hovermode": "closest",
          "mapbox": {
           "style": "light"
          },
          "paper_bgcolor": "white",
          "plot_bgcolor": "#E5ECF6",
          "polar": {
           "angularaxis": {
            "gridcolor": "white",
            "linecolor": "white",
            "ticks": ""
           },
           "bgcolor": "#E5ECF6",
           "radialaxis": {
            "gridcolor": "white",
            "linecolor": "white",
            "ticks": ""
           }
          },
          "scene": {
           "xaxis": {
            "backgroundcolor": "#E5ECF6",
            "gridcolor": "white",
            "gridwidth": 2,
            "linecolor": "white",
            "showbackground": true,
            "ticks": "",
            "zerolinecolor": "white"
           },
           "yaxis": {
            "backgroundcolor": "#E5ECF6",
            "gridcolor": "white",
            "gridwidth": 2,
            "linecolor": "white",
            "showbackground": true,
            "ticks": "",
            "zerolinecolor": "white"
           },
           "zaxis": {
            "backgroundcolor": "#E5ECF6",
            "gridcolor": "white",
            "gridwidth": 2,
            "linecolor": "white",
            "showbackground": true,
            "ticks": "",
            "zerolinecolor": "white"
           }
          },
          "shapedefaults": {
           "line": {
            "color": "#2a3f5f"
           }
          },
          "ternary": {
           "aaxis": {
            "gridcolor": "white",
            "linecolor": "white",
            "ticks": ""
           },
           "baxis": {
            "gridcolor": "white",
            "linecolor": "white",
            "ticks": ""
           },
           "bgcolor": "#E5ECF6",
           "caxis": {
            "gridcolor": "white",
            "linecolor": "white",
            "ticks": ""
           }
          },
          "title": {
           "x": 0.05
          },
          "xaxis": {
           "automargin": true,
           "gridcolor": "white",
           "linecolor": "white",
           "ticks": "",
           "title": {
            "standoff": 15
           },
           "zerolinecolor": "white",
           "zerolinewidth": 2
          },
          "yaxis": {
           "automargin": true,
           "gridcolor": "white",
           "linecolor": "white",
           "ticks": "",
           "title": {
            "standoff": 15
           },
           "zerolinecolor": "white",
           "zerolinewidth": 2
          }
         }
        },
        "title": {
         "text": "Dependency of tax revenue on tax rate"
        },
        "xaxis": {
         "anchor": "y",
         "domain": [
          0,
          1
         ],
         "title": {
          "text": "Tax revenue (%)"
         }
        },
        "yaxis": {
         "anchor": "x",
         "domain": [
          0,
          1
         ],
         "title": {
          "text": "Total tax rate"
         }
        }
       }
      }
     },
     "metadata": {},
     "output_type": "display_data"
    }
   ],
   "source": [
    "non_positive_mask = df['Tax revenue (%)'] <= 0\n",
    "\n",
    "if non_positive_mask.any():\n",
    "    df = df[~non_positive_mask]\n",
    "fig = px.scatter(df, x=\"Tax revenue (%)\", y=\"Total tax rate\",\n",
    "                 trendline=\"ols\", trendline_options=dict(log_x=True),\n",
    "                 title=\"Dependency of tax revenue on tax rate\",hover_name=\"Country\")\n",
    "fig.show()\n"
   ]
  },
  {
   "cell_type": "markdown",
   "metadata": {
    "id": "kLKTSNgcOM55"
   },
   "source": [
    "### Dependency of tax revenue on tax rate\n",
    "\n",
    "With this graph we can come to a conclusion that tax revenue is not dependent on tax rate\n"
   ]
  },
  {
   "cell_type": "code",
   "execution_count": 47,
   "metadata": {
    "colab": {
     "base_uri": "https://localhost:8080/",
     "height": 542
    },
    "id": "dbPsRtciUa-I",
    "outputId": "3ddbf430-e80c-4df2-f1a6-ebfabf867f67"
   },
   "outputs": [
    {
     "data": {
      "application/vnd.plotly.v1+json": {
       "config": {
        "plotlyServerURL": "https://plot.ly"
       },
       "data": [
        {
         "hovertemplate": "<b>%{hovertext}</b><br><br>Tax revenue (%)=%{x}<br>Population=%{y}<extra></extra>",
         "hovertext": [
          "Afghanistan",
          "Albania",
          "Algeria",
          "Andorra",
          "Angola",
          "Antigua and Barbuda",
          "Argentina",
          "Armenia",
          "Australia",
          "Austria",
          "Azerbaijan",
          "The Bahamas",
          "Bahrain",
          "Bangladesh",
          "Barbados",
          "Belarus",
          "Belgium",
          "Belize",
          "Benin",
          "Bhutan",
          "Bolivia",
          "Bosnia and Herzegovina",
          "Botswana",
          "Brazil",
          "Brunei",
          "Bulgaria",
          "Burkina Faso",
          "Burundi",
          "Ivory Coast",
          "Cape Verde",
          "Cambodia",
          "Cameroon",
          "Canada",
          "Central African Republic",
          "Chad",
          "Chile",
          "China",
          "Colombia",
          "Comoros",
          "Republic of the Congo",
          "Costa Rica",
          "Croatia",
          "Cuba",
          "Cyprus",
          "Czech Republic",
          "Democratic Republic of the Congo",
          "Denmark",
          "Djibouti",
          "Dominica",
          "Dominican Republic",
          "Ecuador",
          "Egypt",
          "El Salvador",
          "Equatorial Guinea",
          "Eritrea",
          "Estonia",
          "Eswatini",
          "Ethiopia",
          "Fiji",
          "Finland",
          "France",
          "Gabon",
          "The Gambia",
          "Georgia",
          "Germany",
          "Ghana",
          "Greece",
          "Grenada",
          "Guatemala",
          "Guinea",
          "Guinea-Bissau",
          "Guyana",
          "Haiti",
          "Vatican City",
          "Honduras",
          "Hungary",
          "Iceland",
          "India",
          "Indonesia",
          "Iran",
          "Iraq",
          "Republic of Ireland",
          "Israel",
          "Italy",
          "Jamaica",
          "Japan",
          "Jordan",
          "Kazakhstan",
          "Kenya",
          "Kiribati",
          "Kuwait",
          "Kyrgyzstan",
          "Laos",
          "Latvia",
          "Lebanon",
          "Lesotho",
          "Liberia",
          "Libya",
          "Liechtenstein",
          "Lithuania",
          "Luxembourg",
          "Madagascar",
          "Malawi",
          "Malaysia",
          "Maldives",
          "Mali",
          "Malta",
          "Marshall Islands",
          "Mauritania",
          "Mauritius",
          "Mexico",
          "Federated States of Micronesia",
          "Moldova",
          "Monaco",
          "Mongolia",
          "Montenegro",
          "Morocco",
          "Myanmar",
          "Namibia",
          "Nauru",
          "Nepal",
          "Netherlands",
          "New Zealand",
          "Nicaragua",
          "Niger",
          "Nigeria",
          "North Korea",
          "North Macedonia",
          "Norway",
          "Oman",
          "Pakistan",
          "Palau",
          "Palestinian National Authority",
          "Panama",
          "Papua New Guinea",
          "Paraguay",
          "Peru",
          "Philippines",
          "Poland",
          "Portugal",
          "Qatar",
          "Romania",
          "Russia",
          "Rwanda",
          "Saint Kitts and Nevis",
          "Saint Lucia",
          "Saint Vincent and the Grenadines",
          "Samoa",
          "San Marino",
          "Sao Tome and Principe",
          "Saudi Arabia",
          "Senegal",
          "Serbia",
          "Seychelles",
          "Sierra Leone",
          "Singapore",
          "Slovakia",
          "Slovenia",
          "Solomon Islands",
          "South Africa",
          "South Korea",
          "South Sudan",
          "Spain",
          "Sri Lanka",
          "Sudan",
          "Suriname",
          "Sweden",
          "Switzerland",
          "Syria",
          "Tajikistan",
          "Tanzania",
          "Thailand",
          "East Timor",
          "Togo",
          "Tonga",
          "Trinidad and Tobago",
          "Tunisia",
          "Turkey",
          "Turkmenistan",
          "Tuvalu",
          "Uganda",
          "Ukraine",
          "United Arab Emirates",
          "United Kingdom",
          "United States",
          "Uruguay",
          "Uzbekistan",
          "Vanuatu",
          "Venezuela",
          "Vietnam",
          "Yemen",
          "Zambia",
          "Zimbabwe"
         ],
         "legendgroup": "",
         "marker": {
          "color": "#636efa",
          "symbol": "circle"
         },
         "mode": "markers",
         "name": "",
         "orientation": "v",
         "showlegend": false,
         "type": "scatter",
         "x": [
          9.3,
          18.6,
          37.2,
          null,
          9.2,
          16.5,
          10.1,
          20.9,
          23,
          25.4,
          13,
          14.8,
          4.2,
          8.8,
          27.5,
          14.7,
          24,
          26.3,
          10.8,
          16,
          17,
          20.4,
          19.5,
          14.2,
          null,
          20.2,
          15,
          13.6,
          11.8,
          20.1,
          17.1,
          12.8,
          12.8,
          8.6,
          null,
          18.2,
          9.4,
          14.4,
          null,
          9,
          13.6,
          22,
          null,
          24.5,
          14.9,
          10.7,
          32.4,
          null,
          22.1,
          13,
          null,
          12.5,
          18.1,
          6.1,
          null,
          20.9,
          28.6,
          7.5,
          24.2,
          20.8,
          24.2,
          10.2,
          9.4,
          21.7,
          11.5,
          12.6,
          26.2,
          19.4,
          10.6,
          10.8,
          10.3,
          null,
          null,
          null,
          17.3,
          23,
          23.3,
          11.2,
          10.2,
          7.4,
          2,
          18.3,
          23.1,
          24.3,
          26.8,
          11.9,
          15.1,
          11.7,
          15.1,
          22,
          1.4,
          18,
          12.9,
          22.9,
          15.3,
          31.6,
          12.9,
          null,
          null,
          16.9,
          26.5,
          10.2,
          17.3,
          12,
          19.5,
          11.6,
          26.2,
          17.8,
          null,
          19.1,
          13.1,
          25.2,
          17.7,
          null,
          16.8,
          null,
          21.9,
          5.4,
          27.1,
          null,
          20.7,
          23,
          29,
          15.6,
          11.8,
          1.5,
          null,
          null,
          23.9,
          2.5,
          9.2,
          21.3,
          null,
          null,
          13.6,
          10,
          14.3,
          14,
          17.4,
          22.8,
          14.7,
          14.6,
          11.4,
          14.3,
          18.5,
          18.2,
          25.4,
          25.5,
          18.1,
          14.6,
          8.9,
          16.3,
          18.6,
          34.1,
          8.6,
          13.1,
          18.7,
          18.6,
          29.5,
          27.5,
          15.6,
          null,
          14.2,
          11.9,
          8,
          19.5,
          27.9,
          10.1,
          14.2,
          9.8,
          11.5,
          14.9,
          25,
          16.9,
          22.3,
          19.5,
          21.1,
          17.9,
          null,
          null,
          11.7,
          20.1,
          0.1,
          25.5,
          9.6,
          20.1,
          14.8,
          17.8,
          null,
          19.1,
          null,
          16.2,
          20.7
         ],
         "xaxis": "x",
         "y": [
          38041754,
          2854191,
          43053054,
          77142,
          31825295,
          97118,
          44938712,
          2957731,
          25766605,
          8877067,
          10023318,
          389482,
          1501635,
          167310838,
          287025,
          9466856,
          11484055,
          390353,
          11801151,
          727145,
          11513100,
          3301000,
          2346179,
          212559417,
          433285,
          6975761,
          20321378,
          11530580,
          25716544,
          483628,
          16486542,
          25876380,
          36991981,
          4745185,
          15946876,
          18952038,
          1397715000,
          50339443,
          850886,
          5380508,
          5047561,
          4067500,
          11333483,
          1198575,
          10669709,
          86790567,
          5818553,
          973560,
          71808,
          10738958,
          17373662,
          100388073,
          6453553,
          1355986,
          6333135,
          1331824,
          1093238,
          112078730,
          889953,
          5520314,
          67059887,
          2172579,
          2347706,
          3720382,
          83132799,
          30792608,
          10716322,
          112003,
          16604026,
          12771246,
          1920922,
          782766,
          11263077,
          836,
          9746117,
          9769949,
          361313,
          1366417754,
          270203917,
          82913906,
          39309783,
          5007069,
          9053300,
          60297396,
          2948279,
          126226568,
          10101694,
          18513930,
          52573973,
          117606,
          4207083,
          6456900,
          7169455,
          1912789,
          6855713,
          2125268,
          4937374,
          6777452,
          38019,
          2786844,
          645397,
          26969307,
          18628747,
          32447385,
          530953,
          19658031,
          502653,
          58791,
          4525696,
          1265711,
          126014024,
          113815,
          2657637,
          38964,
          3225167,
          622137,
          36910560,
          54045420,
          2494530,
          10084,
          28608710,
          17332850,
          4841000,
          6545502,
          23310715,
          200963599,
          25666161,
          1836713,
          5347896,
          5266535,
          216565318,
          18233,
          null,
          4246439,
          8776109,
          7044636,
          32510453,
          108116615,
          37970874,
          10269417,
          2832067,
          19356544,
          144373535,
          12626950,
          52823,
          182790,
          100455,
          202506,
          33860,
          215056,
          34268528,
          16296364,
          6944975,
          97625,
          7813215,
          5703569,
          5454073,
          2087946,
          669823,
          58558270,
          51709098,
          11062113,
          47076781,
          21803000,
          42813238,
          581372,
          10285453,
          8574832,
          17070135,
          9321018,
          58005463,
          69625582,
          3500000,
          8082366,
          100209,
          1394973,
          11694719,
          83429615,
          5942089,
          11646,
          44269594,
          44385155,
          9770529,
          66834405,
          328239523,
          3461734,
          33580650,
          299882,
          28515829,
          96462106,
          29161922,
          17861030,
          14645468
         ],
         "yaxis": "y"
        },
        {
         "hovertemplate": "<b>OLS trendline</b><br>Population = -7.55118e+07 * log10(Tax revenue (%)) + 1.32727e+08<br>R<sup>2</sup>=0.018213<br><br>Tax revenue (%)=%{x}<br>Population=%{y} <b>(trend)</b><extra></extra>",
         "legendgroup": "",
         "marker": {
          "color": "#636efa",
          "symbol": "circle"
         },
         "mode": "lines",
         "name": "",
         "showlegend": false,
         "type": "scatter",
         "x": [
          0.1,
          1.4,
          1.5,
          2,
          2.5,
          4.2,
          5.4,
          6.1,
          7.4,
          7.5,
          8,
          8.6,
          8.6,
          8.8,
          8.9,
          9,
          9.2,
          9.2,
          9.3,
          9.4,
          9.4,
          9.6,
          9.8,
          10,
          10.1,
          10.1,
          10.2,
          10.2,
          10.2,
          10.3,
          10.6,
          10.7,
          10.8,
          10.8,
          11.2,
          11.4,
          11.5,
          11.5,
          11.6,
          11.7,
          11.7,
          11.8,
          11.8,
          11.9,
          11.9,
          12,
          12.5,
          12.6,
          12.8,
          12.8,
          12.9,
          12.9,
          13,
          13,
          13.1,
          13.1,
          13.6,
          13.6,
          13.6,
          14,
          14.2,
          14.2,
          14.2,
          14.3,
          14.3,
          14.4,
          14.6,
          14.6,
          14.7,
          14.7,
          14.8,
          14.8,
          14.9,
          14.9,
          15,
          15.1,
          15.1,
          15.3,
          15.6,
          15.6,
          16,
          16.2,
          16.3,
          16.5,
          16.8,
          16.9,
          16.9,
          17,
          17.1,
          17.3,
          17.3,
          17.4,
          17.7,
          17.8,
          17.8,
          17.9,
          18,
          18.1,
          18.1,
          18.2,
          18.2,
          18.3,
          18.5,
          18.6,
          18.6,
          18.6,
          18.7,
          19.1,
          19.1,
          19.4,
          19.5,
          19.5,
          19.5,
          19.5,
          20.1,
          20.1,
          20.1,
          20.2,
          20.4,
          20.7,
          20.7,
          20.8,
          20.9,
          20.9,
          21.1,
          21.3,
          21.7,
          21.9,
          22,
          22,
          22.1,
          22.3,
          22.8,
          22.9,
          23,
          23,
          23,
          23.1,
          23.3,
          23.9,
          24,
          24.2,
          24.2,
          24.3,
          24.5,
          25,
          25.2,
          25.4,
          25.4,
          25.5,
          25.5,
          26.2,
          26.2,
          26.3,
          26.5,
          26.8,
          27.1,
          27.5,
          27.5,
          27.9,
          28.6,
          29,
          29.5,
          31.6,
          32.4,
          34.1,
          37.2
         ],
         "xaxis": "x",
         "y": [
          208238385.39697993,
          121692142.98640981,
          119429564.71146892,
          109995210.21670817,
          102677356.34984633,
          85663836.82446562,
          77422136.58279483,
          73424835.88614425,
          67089249.7843682,
          66649050.18790214,
          64532549.56000322,
          62160838.48039752,
          62160838.48039752,
          61406911.54033099,
          61036349.6593274,
          60669928.22117224,
          59949143.65637474,
          59949143.65637474,
          59594606.39212659,
          59243861.042959005,
          59243861.042959005,
          58553427.59327333,
          57877230.904192194,
          57214695.693141386,
          56888380.78651932,
          56888380.78651932,
          56565280.85735561,
          56565280.85735561,
          56565280.85735561,
          56245333.172875196,
          55303803.12142448,
          54995872.43141255,
          54690806.254442364,
          54690806.254442364,
          53498152.0013524,
          52917705.387700126,
          52631289.7895129,
          52631289.7895129,
          52347354.01117164,
          52065855.47987081,
          52065855.47987081,
          51786752.70979671,
          51786752.70979671,
          51510005.26543467,
          51510005.26543467,
          51235573.72641149,
          49896841.82627955,
          49635530.66252141,
          49119073.098512575,
          49119073.098512575,
          48863862.64680579,
          48863862.64680579,
          48610622.95183995,
          48610622.95183995,
          48359323.809999764,
          48359323.809999764,
          47130926.36259486,
          47130926.36259486,
          47130926.36259486,
          46180298.134490564,
          45715121.85933237,
          45715121.85933237,
          45715121.85933237,
          45484984.932167724,
          45484984.932167724,
          45256451.7596816,
          44804108.3461771,
          44804108.3461771,
          44580255.07060048,
          44580255.07060048,
          44357919.45601572,
          44357919.45601572,
          44137081.062310904,
          44137081.062310904,
          43917719.85954966,
          43699816.21706945,
          43699816.21706945,
          43268305.02376388,
          42631500.98511006,
          42631500.98511006,
          41801219.23165074,
          41393830.42085062,
          41192018.2298893,
          40792081.83987743,
          40201176.16776067,
          40006550.21053852,
          40006550.21053852,
          39813072.49573302,
          39620729.55410841,
          39239395.286075816,
          39239395.286075816,
          39050378.17757991,
          38489776.876205,
          38305019.33097492,
          38305019.33097492,
          38121296.84745017,
          37938597.89281978,
          37756911.125955865,
          37756911.125955865,
          37576225.39318913,
          37576225.39318913,
          37396529.724200055,
          37040065.5891539,
          36863276.063774124,
          36863276.063774124,
          36863276.063774124,
          36687434.47606079,
          35993347.66731852,
          35993347.66731852,
          35482256.114536196,
          35313647.118248224,
          35313647.118248224,
          35313647.118248224,
          35313647.118248224,
          34319802.04549183,
          34319802.04549183,
          34319802.04549183,
          34157050.45816685,
          33833950.52900313,
          33355191.98919128,
          33355191.98919128,
          33197146.490349308,
          33039859.006405324,
          33039859.006405324,
          32727529.24050258,
          32418146.02574064,
          31808000.471853167,
          31507132.512585387,
          31357727.34511669,
          31357727.34511669,
          31208999.754431576,
          30913552.913479686,
          30186375.05934766,
          30042854.578476235,
          29899959.46116042,
          29899959.46116042,
          29899959.46116042,
          29757684.28122659,
          29474972.379190743,
          28641172.104453698,
          28504243.398059025,
          28232089.325444445,
          28232089.325444445,
          28096854.587258905,
          27828046.708977893,
          27165511.49792707,
          26904200.334168926,
          26644954.89291078,
          26644954.89291078,
          26516096.662141293,
          26516096.662141293,
          25627993.481647283,
          25627993.481647283,
          25503062.36851117,
          25254618.926210165,
          24885447.550731078,
          24520385.774987742,
          24039873.47825484,
          24039873.47825484,
          23566300.230182394,
          22753654.603815243,
          22298169.815957323,
          21737568.51458241,
          19482402.235952303,
          18662500.09249817,
          16985429.682479292,
          14131945.735421643
         ],
         "yaxis": "y"
        }
       ],
       "layout": {
        "legend": {
         "tracegroupgap": 0
        },
        "template": {
         "data": {
          "bar": [
           {
            "error_x": {
             "color": "#2a3f5f"
            },
            "error_y": {
             "color": "#2a3f5f"
            },
            "marker": {
             "line": {
              "color": "#E5ECF6",
              "width": 0.5
             },
             "pattern": {
              "fillmode": "overlay",
              "size": 10,
              "solidity": 0.2
             }
            },
            "type": "bar"
           }
          ],
          "barpolar": [
           {
            "marker": {
             "line": {
              "color": "#E5ECF6",
              "width": 0.5
             },
             "pattern": {
              "fillmode": "overlay",
              "size": 10,
              "solidity": 0.2
             }
            },
            "type": "barpolar"
           }
          ],
          "carpet": [
           {
            "aaxis": {
             "endlinecolor": "#2a3f5f",
             "gridcolor": "white",
             "linecolor": "white",
             "minorgridcolor": "white",
             "startlinecolor": "#2a3f5f"
            },
            "baxis": {
             "endlinecolor": "#2a3f5f",
             "gridcolor": "white",
             "linecolor": "white",
             "minorgridcolor": "white",
             "startlinecolor": "#2a3f5f"
            },
            "type": "carpet"
           }
          ],
          "choropleth": [
           {
            "colorbar": {
             "outlinewidth": 0,
             "ticks": ""
            },
            "type": "choropleth"
           }
          ],
          "contour": [
           {
            "colorbar": {
             "outlinewidth": 0,
             "ticks": ""
            },
            "colorscale": [
             [
              0,
              "#0d0887"
             ],
             [
              0.1111111111111111,
              "#46039f"
             ],
             [
              0.2222222222222222,
              "#7201a8"
             ],
             [
              0.3333333333333333,
              "#9c179e"
             ],
             [
              0.4444444444444444,
              "#bd3786"
             ],
             [
              0.5555555555555556,
              "#d8576b"
             ],
             [
              0.6666666666666666,
              "#ed7953"
             ],
             [
              0.7777777777777778,
              "#fb9f3a"
             ],
             [
              0.8888888888888888,
              "#fdca26"
             ],
             [
              1,
              "#f0f921"
             ]
            ],
            "type": "contour"
           }
          ],
          "contourcarpet": [
           {
            "colorbar": {
             "outlinewidth": 0,
             "ticks": ""
            },
            "type": "contourcarpet"
           }
          ],
          "heatmap": [
           {
            "colorbar": {
             "outlinewidth": 0,
             "ticks": ""
            },
            "colorscale": [
             [
              0,
              "#0d0887"
             ],
             [
              0.1111111111111111,
              "#46039f"
             ],
             [
              0.2222222222222222,
              "#7201a8"
             ],
             [
              0.3333333333333333,
              "#9c179e"
             ],
             [
              0.4444444444444444,
              "#bd3786"
             ],
             [
              0.5555555555555556,
              "#d8576b"
             ],
             [
              0.6666666666666666,
              "#ed7953"
             ],
             [
              0.7777777777777778,
              "#fb9f3a"
             ],
             [
              0.8888888888888888,
              "#fdca26"
             ],
             [
              1,
              "#f0f921"
             ]
            ],
            "type": "heatmap"
           }
          ],
          "heatmapgl": [
           {
            "colorbar": {
             "outlinewidth": 0,
             "ticks": ""
            },
            "colorscale": [
             [
              0,
              "#0d0887"
             ],
             [
              0.1111111111111111,
              "#46039f"
             ],
             [
              0.2222222222222222,
              "#7201a8"
             ],
             [
              0.3333333333333333,
              "#9c179e"
             ],
             [
              0.4444444444444444,
              "#bd3786"
             ],
             [
              0.5555555555555556,
              "#d8576b"
             ],
             [
              0.6666666666666666,
              "#ed7953"
             ],
             [
              0.7777777777777778,
              "#fb9f3a"
             ],
             [
              0.8888888888888888,
              "#fdca26"
             ],
             [
              1,
              "#f0f921"
             ]
            ],
            "type": "heatmapgl"
           }
          ],
          "histogram": [
           {
            "marker": {
             "pattern": {
              "fillmode": "overlay",
              "size": 10,
              "solidity": 0.2
             }
            },
            "type": "histogram"
           }
          ],
          "histogram2d": [
           {
            "colorbar": {
             "outlinewidth": 0,
             "ticks": ""
            },
            "colorscale": [
             [
              0,
              "#0d0887"
             ],
             [
              0.1111111111111111,
              "#46039f"
             ],
             [
              0.2222222222222222,
              "#7201a8"
             ],
             [
              0.3333333333333333,
              "#9c179e"
             ],
             [
              0.4444444444444444,
              "#bd3786"
             ],
             [
              0.5555555555555556,
              "#d8576b"
             ],
             [
              0.6666666666666666,
              "#ed7953"
             ],
             [
              0.7777777777777778,
              "#fb9f3a"
             ],
             [
              0.8888888888888888,
              "#fdca26"
             ],
             [
              1,
              "#f0f921"
             ]
            ],
            "type": "histogram2d"
           }
          ],
          "histogram2dcontour": [
           {
            "colorbar": {
             "outlinewidth": 0,
             "ticks": ""
            },
            "colorscale": [
             [
              0,
              "#0d0887"
             ],
             [
              0.1111111111111111,
              "#46039f"
             ],
             [
              0.2222222222222222,
              "#7201a8"
             ],
             [
              0.3333333333333333,
              "#9c179e"
             ],
             [
              0.4444444444444444,
              "#bd3786"
             ],
             [
              0.5555555555555556,
              "#d8576b"
             ],
             [
              0.6666666666666666,
              "#ed7953"
             ],
             [
              0.7777777777777778,
              "#fb9f3a"
             ],
             [
              0.8888888888888888,
              "#fdca26"
             ],
             [
              1,
              "#f0f921"
             ]
            ],
            "type": "histogram2dcontour"
           }
          ],
          "mesh3d": [
           {
            "colorbar": {
             "outlinewidth": 0,
             "ticks": ""
            },
            "type": "mesh3d"
           }
          ],
          "parcoords": [
           {
            "line": {
             "colorbar": {
              "outlinewidth": 0,
              "ticks": ""
             }
            },
            "type": "parcoords"
           }
          ],
          "pie": [
           {
            "automargin": true,
            "type": "pie"
           }
          ],
          "scatter": [
           {
            "fillpattern": {
             "fillmode": "overlay",
             "size": 10,
             "solidity": 0.2
            },
            "type": "scatter"
           }
          ],
          "scatter3d": [
           {
            "line": {
             "colorbar": {
              "outlinewidth": 0,
              "ticks": ""
             }
            },
            "marker": {
             "colorbar": {
              "outlinewidth": 0,
              "ticks": ""
             }
            },
            "type": "scatter3d"
           }
          ],
          "scattercarpet": [
           {
            "marker": {
             "colorbar": {
              "outlinewidth": 0,
              "ticks": ""
             }
            },
            "type": "scattercarpet"
           }
          ],
          "scattergeo": [
           {
            "marker": {
             "colorbar": {
              "outlinewidth": 0,
              "ticks": ""
             }
            },
            "type": "scattergeo"
           }
          ],
          "scattergl": [
           {
            "marker": {
             "colorbar": {
              "outlinewidth": 0,
              "ticks": ""
             }
            },
            "type": "scattergl"
           }
          ],
          "scattermapbox": [
           {
            "marker": {
             "colorbar": {
              "outlinewidth": 0,
              "ticks": ""
             }
            },
            "type": "scattermapbox"
           }
          ],
          "scatterpolar": [
           {
            "marker": {
             "colorbar": {
              "outlinewidth": 0,
              "ticks": ""
             }
            },
            "type": "scatterpolar"
           }
          ],
          "scatterpolargl": [
           {
            "marker": {
             "colorbar": {
              "outlinewidth": 0,
              "ticks": ""
             }
            },
            "type": "scatterpolargl"
           }
          ],
          "scatterternary": [
           {
            "marker": {
             "colorbar": {
              "outlinewidth": 0,
              "ticks": ""
             }
            },
            "type": "scatterternary"
           }
          ],
          "surface": [
           {
            "colorbar": {
             "outlinewidth": 0,
             "ticks": ""
            },
            "colorscale": [
             [
              0,
              "#0d0887"
             ],
             [
              0.1111111111111111,
              "#46039f"
             ],
             [
              0.2222222222222222,
              "#7201a8"
             ],
             [
              0.3333333333333333,
              "#9c179e"
             ],
             [
              0.4444444444444444,
              "#bd3786"
             ],
             [
              0.5555555555555556,
              "#d8576b"
             ],
             [
              0.6666666666666666,
              "#ed7953"
             ],
             [
              0.7777777777777778,
              "#fb9f3a"
             ],
             [
              0.8888888888888888,
              "#fdca26"
             ],
             [
              1,
              "#f0f921"
             ]
            ],
            "type": "surface"
           }
          ],
          "table": [
           {
            "cells": {
             "fill": {
              "color": "#EBF0F8"
             },
             "line": {
              "color": "white"
             }
            },
            "header": {
             "fill": {
              "color": "#C8D4E3"
             },
             "line": {
              "color": "white"
             }
            },
            "type": "table"
           }
          ]
         },
         "layout": {
          "annotationdefaults": {
           "arrowcolor": "#2a3f5f",
           "arrowhead": 0,
           "arrowwidth": 1
          },
          "autotypenumbers": "strict",
          "coloraxis": {
           "colorbar": {
            "outlinewidth": 0,
            "ticks": ""
           }
          },
          "colorscale": {
           "diverging": [
            [
             0,
             "#8e0152"
            ],
            [
             0.1,
             "#c51b7d"
            ],
            [
             0.2,
             "#de77ae"
            ],
            [
             0.3,
             "#f1b6da"
            ],
            [
             0.4,
             "#fde0ef"
            ],
            [
             0.5,
             "#f7f7f7"
            ],
            [
             0.6,
             "#e6f5d0"
            ],
            [
             0.7,
             "#b8e186"
            ],
            [
             0.8,
             "#7fbc41"
            ],
            [
             0.9,
             "#4d9221"
            ],
            [
             1,
             "#276419"
            ]
           ],
           "sequential": [
            [
             0,
             "#0d0887"
            ],
            [
             0.1111111111111111,
             "#46039f"
            ],
            [
             0.2222222222222222,
             "#7201a8"
            ],
            [
             0.3333333333333333,
             "#9c179e"
            ],
            [
             0.4444444444444444,
             "#bd3786"
            ],
            [
             0.5555555555555556,
             "#d8576b"
            ],
            [
             0.6666666666666666,
             "#ed7953"
            ],
            [
             0.7777777777777778,
             "#fb9f3a"
            ],
            [
             0.8888888888888888,
             "#fdca26"
            ],
            [
             1,
             "#f0f921"
            ]
           ],
           "sequentialminus": [
            [
             0,
             "#0d0887"
            ],
            [
             0.1111111111111111,
             "#46039f"
            ],
            [
             0.2222222222222222,
             "#7201a8"
            ],
            [
             0.3333333333333333,
             "#9c179e"
            ],
            [
             0.4444444444444444,
             "#bd3786"
            ],
            [
             0.5555555555555556,
             "#d8576b"
            ],
            [
             0.6666666666666666,
             "#ed7953"
            ],
            [
             0.7777777777777778,
             "#fb9f3a"
            ],
            [
             0.8888888888888888,
             "#fdca26"
            ],
            [
             1,
             "#f0f921"
            ]
           ]
          },
          "colorway": [
           "#636efa",
           "#EF553B",
           "#00cc96",
           "#ab63fa",
           "#FFA15A",
           "#19d3f3",
           "#FF6692",
           "#B6E880",
           "#FF97FF",
           "#FECB52"
          ],
          "font": {
           "color": "#2a3f5f"
          },
          "geo": {
           "bgcolor": "white",
           "lakecolor": "white",
           "landcolor": "#E5ECF6",
           "showlakes": true,
           "showland": true,
           "subunitcolor": "white"
          },
          "hoverlabel": {
           "align": "left"
          },
          "hovermode": "closest",
          "mapbox": {
           "style": "light"
          },
          "paper_bgcolor": "white",
          "plot_bgcolor": "#E5ECF6",
          "polar": {
           "angularaxis": {
            "gridcolor": "white",
            "linecolor": "white",
            "ticks": ""
           },
           "bgcolor": "#E5ECF6",
           "radialaxis": {
            "gridcolor": "white",
            "linecolor": "white",
            "ticks": ""
           }
          },
          "scene": {
           "xaxis": {
            "backgroundcolor": "#E5ECF6",
            "gridcolor": "white",
            "gridwidth": 2,
            "linecolor": "white",
            "showbackground": true,
            "ticks": "",
            "zerolinecolor": "white"
           },
           "yaxis": {
            "backgroundcolor": "#E5ECF6",
            "gridcolor": "white",
            "gridwidth": 2,
            "linecolor": "white",
            "showbackground": true,
            "ticks": "",
            "zerolinecolor": "white"
           },
           "zaxis": {
            "backgroundcolor": "#E5ECF6",
            "gridcolor": "white",
            "gridwidth": 2,
            "linecolor": "white",
            "showbackground": true,
            "ticks": "",
            "zerolinecolor": "white"
           }
          },
          "shapedefaults": {
           "line": {
            "color": "#2a3f5f"
           }
          },
          "ternary": {
           "aaxis": {
            "gridcolor": "white",
            "linecolor": "white",
            "ticks": ""
           },
           "baxis": {
            "gridcolor": "white",
            "linecolor": "white",
            "ticks": ""
           },
           "bgcolor": "#E5ECF6",
           "caxis": {
            "gridcolor": "white",
            "linecolor": "white",
            "ticks": ""
           }
          },
          "title": {
           "x": 0.05
          },
          "xaxis": {
           "automargin": true,
           "gridcolor": "white",
           "linecolor": "white",
           "ticks": "",
           "title": {
            "standoff": 15
           },
           "zerolinecolor": "white",
           "zerolinewidth": 2
          },
          "yaxis": {
           "automargin": true,
           "gridcolor": "white",
           "linecolor": "white",
           "ticks": "",
           "title": {
            "standoff": 15
           },
           "zerolinecolor": "white",
           "zerolinewidth": 2
          }
         }
        },
        "title": {
         "text": "Dependency of tax revenue on population"
        },
        "xaxis": {
         "anchor": "y",
         "domain": [
          0,
          1
         ],
         "title": {
          "text": "Tax revenue (%)"
         }
        },
        "yaxis": {
         "anchor": "x",
         "domain": [
          0,
          1
         ],
         "title": {
          "text": "Population"
         }
        }
       }
      }
     },
     "metadata": {},
     "output_type": "display_data"
    }
   ],
   "source": [
    "non_positive_mask = df['Tax revenue (%)'] <= 0\n",
    "\n",
    "if non_positive_mask.any():\n",
    "    df = df[~non_positive_mask]\n",
    "fig = px.scatter(df, x=\"Tax revenue (%)\", y=\"Population\",\n",
    "                 trendline=\"ols\", trendline_options=dict(log_x=True),\n",
    "                 title=\"Dependency of tax revenue on population\",hover_name=\"Country\")\n",
    "fig.show()\n"
   ]
  },
  {
   "cell_type": "markdown",
   "metadata": {
    "id": "rdFHg-ZoPBBD"
   },
   "source": [
    "### Dependency of tax revenue on population\n",
    "\n",
    "With this graph we can come to a conclusion that lower the population the percentage of revenue from tax increases."
   ]
  },
  {
   "cell_type": "code",
   "execution_count": 48,
   "metadata": {
    "colab": {
     "base_uri": "https://localhost:8080/",
     "height": 542
    },
    "id": "OqEPgr31Ua-I",
    "outputId": "29d94c44-8467-40a6-c741-26af1b4c0d47"
   },
   "outputs": [
    {
     "data": {
      "application/vnd.plotly.v1+json": {
       "config": {
        "plotlyServerURL": "https://plot.ly"
       },
       "data": [
        {
         "hovertemplate": "<b>%{hovertext}</b><br><br>Infant mortality=%{x}<br>Maternal mortality ratio=%{y}<extra></extra>",
         "hovertext": [
          "Afghanistan",
          "Albania",
          "Algeria",
          "Andorra",
          "Angola",
          "Antigua and Barbuda",
          "Argentina",
          "Armenia",
          "Australia",
          "Austria",
          "Azerbaijan",
          "The Bahamas",
          "Bahrain",
          "Bangladesh",
          "Barbados",
          "Belarus",
          "Belgium",
          "Belize",
          "Benin",
          "Bhutan",
          "Bolivia",
          "Bosnia and Herzegovina",
          "Botswana",
          "Brazil",
          "Brunei",
          "Bulgaria",
          "Burkina Faso",
          "Burundi",
          "Ivory Coast",
          "Cape Verde",
          "Cambodia",
          "Cameroon",
          "Canada",
          "Central African Republic",
          "Chad",
          "Chile",
          "China",
          "Colombia",
          "Comoros",
          "Republic of the Congo",
          "Costa Rica",
          "Croatia",
          "Cuba",
          "Cyprus",
          "Czech Republic",
          "Democratic Republic of the Congo",
          "Denmark",
          "Djibouti",
          "Dominica",
          "Dominican Republic",
          "Ecuador",
          "Egypt",
          "El Salvador",
          "Equatorial Guinea",
          "Eritrea",
          "Estonia",
          "Eswatini",
          "Ethiopia",
          "Fiji",
          "Finland",
          "France",
          "Gabon",
          "The Gambia",
          "Georgia",
          "Germany",
          "Ghana",
          "Greece",
          "Grenada",
          "Guatemala",
          "Guinea",
          "Guinea-Bissau",
          "Guyana",
          "Haiti",
          "Vatican City",
          "Honduras",
          "Hungary",
          "Iceland",
          "India",
          "Indonesia",
          "Iran",
          "Iraq",
          "Republic of Ireland",
          "Israel",
          "Italy",
          "Jamaica",
          "Japan",
          "Jordan",
          "Kazakhstan",
          "Kenya",
          "Kiribati",
          "Kuwait",
          "Kyrgyzstan",
          "Laos",
          "Latvia",
          "Lebanon",
          "Lesotho",
          "Liberia",
          "Libya",
          "Liechtenstein",
          "Lithuania",
          "Luxembourg",
          "Madagascar",
          "Malawi",
          "Malaysia",
          "Maldives",
          "Mali",
          "Malta",
          "Marshall Islands",
          "Mauritania",
          "Mauritius",
          "Mexico",
          "Federated States of Micronesia",
          "Moldova",
          "Monaco",
          "Mongolia",
          "Montenegro",
          "Morocco",
          "Myanmar",
          "Namibia",
          "Nauru",
          "Nepal",
          "Netherlands",
          "New Zealand",
          "Nicaragua",
          "Niger",
          "Nigeria",
          "North Korea",
          "North Macedonia",
          "Norway",
          "Oman",
          "Pakistan",
          "Palau",
          "Palestinian National Authority",
          "Panama",
          "Papua New Guinea",
          "Paraguay",
          "Peru",
          "Philippines",
          "Poland",
          "Portugal",
          "Qatar",
          "Romania",
          "Russia",
          "Rwanda",
          "Saint Kitts and Nevis",
          "Saint Lucia",
          "Saint Vincent and the Grenadines",
          "Samoa",
          "San Marino",
          "Sao Tome and Principe",
          "Saudi Arabia",
          "Senegal",
          "Serbia",
          "Seychelles",
          "Sierra Leone",
          "Singapore",
          "Slovakia",
          "Slovenia",
          "Solomon Islands",
          "South Africa",
          "South Korea",
          "South Sudan",
          "Spain",
          "Sri Lanka",
          "Sudan",
          "Suriname",
          "Sweden",
          "Switzerland",
          "Syria",
          "Tajikistan",
          "Tanzania",
          "Thailand",
          "East Timor",
          "Togo",
          "Tonga",
          "Trinidad and Tobago",
          "Tunisia",
          "Turkey",
          "Turkmenistan",
          "Tuvalu",
          "Uganda",
          "Ukraine",
          "United Arab Emirates",
          "United Kingdom",
          "United States",
          "Uruguay",
          "Uzbekistan",
          "Vanuatu",
          "Venezuela",
          "Vietnam",
          "Yemen",
          "Zambia",
          "Zimbabwe"
         ],
         "legendgroup": "",
         "marker": {
          "color": "#636efa",
          "symbol": "circle"
         },
         "mode": "markers",
         "name": "",
         "orientation": "v",
         "showlegend": false,
         "type": "scatter",
         "x": [
          47.9,
          7.8,
          20.1,
          2.7,
          51.6,
          5,
          8.8,
          11,
          3.1,
          2.9,
          19.2,
          8.3,
          6.1,
          25.1,
          11.3,
          2.6,
          2.9,
          11.2,
          60.5,
          24.8,
          21.8,
          5,
          30,
          12.8,
          9.8,
          5.9,
          49,
          41,
          59.4,
          16.7,
          24,
          50.6,
          4.3,
          84.5,
          71.4,
          6.2,
          7.4,
          12.2,
          51.3,
          36.2,
          7.6,
          4,
          3.7,
          1.9,
          2.7,
          68.2,
          3.6,
          49.8,
          32.9,
          24.1,
          12.2,
          18.1,
          11.8,
          62.6,
          31.3,
          2.1,
          null,
          39.1,
          21.6,
          1.4,
          3.4,
          32.7,
          39,
          8.7,
          3.1,
          34.9,
          3.6,
          13.7,
          22.1,
          64.9,
          54,
          25.1,
          49.5,
          null,
          15.1,
          3.6,
          1.5,
          29.9,
          21.1,
          12.4,
          22.5,
          3.1,
          3,
          2.6,
          12.4,
          1.8,
          13.9,
          8.8,
          30.6,
          41.2,
          6.7,
          16.9,
          37.6,
          3.3,
          6.4,
          65.7,
          53.5,
          10.2,
          null,
          3.3,
          1.9,
          38.2,
          35.3,
          6.7,
          7.4,
          62,
          6.1,
          27.4,
          51.5,
          13.6,
          11,
          25.6,
          13.6,
          2.6,
          14,
          2.3,
          19.2,
          36.8,
          29,
          null,
          26.7,
          3.3,
          4.7,
          15.7,
          48,
          75.7,
          13.7,
          null,
          2.1,
          9.8,
          57.2,
          16.6,
          null,
          13.1,
          38,
          17.2,
          11.1,
          22.5,
          3.8,
          3.1,
          5.8,
          6.1,
          6.1,
          27,
          9.8,
          14.9,
          14.8,
          13.6,
          1.7,
          24.4,
          6,
          31.8,
          4.8,
          12.4,
          78.5,
          2.3,
          4.6,
          1.7,
          17.1,
          28.5,
          2.7,
          63.7,
          2.5,
          6.4,
          42.1,
          16.9,
          2.2,
          3.7,
          14,
          30.4,
          37.6,
          7.8,
          39.3,
          47.4,
          13.4,
          16.4,
          14.6,
          9.1,
          39.3,
          20.6,
          33.8,
          7.5,
          6.5,
          3.6,
          5.6,
          6.4,
          19.1,
          22.3,
          21.4,
          16.5,
          42.9,
          40.4,
          33.9
         ],
         "xaxis": "x",
         "y": [
          638,
          15,
          112,
          null,
          241,
          42,
          39,
          26,
          6,
          5,
          26,
          70,
          14,
          173,
          27,
          2,
          5,
          36,
          397,
          183,
          155,
          10,
          144,
          60,
          31,
          10,
          320,
          548,
          617,
          58,
          160,
          529,
          10,
          829,
          1140,
          13,
          29,
          83,
          273,
          378,
          27,
          8,
          36,
          6,
          3,
          473,
          4,
          248,
          null,
          95,
          59,
          37,
          46,
          301,
          480,
          9,
          null,
          401,
          34,
          3,
          8,
          252,
          597,
          25,
          7,
          308,
          3,
          25,
          95,
          576,
          667,
          169,
          480,
          null,
          65,
          12,
          4,
          145,
          177,
          16,
          79,
          5,
          3,
          2,
          80,
          5,
          46,
          10,
          342,
          92,
          12,
          60,
          185,
          19,
          29,
          544,
          661,
          72,
          null,
          8,
          5,
          335,
          349,
          29,
          53,
          562,
          6,
          null,
          766,
          61,
          33,
          88,
          19,
          null,
          45,
          6,
          70,
          250,
          195,
          null,
          186,
          5,
          9,
          98,
          509,
          917,
          89,
          null,
          2,
          19,
          140,
          null,
          null,
          52,
          145,
          129,
          88,
          121,
          2,
          8,
          9,
          19,
          17,
          248,
          null,
          117,
          68,
          43,
          null,
          130,
          17,
          315,
          12,
          53,
          1120,
          8,
          5,
          7,
          104,
          119,
          11,
          1150,
          4,
          36,
          295,
          120,
          4,
          5,
          31,
          17,
          524,
          37,
          142,
          396,
          52,
          67,
          43,
          17,
          7,
          null,
          375,
          19,
          3,
          7,
          19,
          17,
          29,
          72,
          125,
          43,
          164,
          213,
          458
         ],
         "yaxis": "y"
        },
        {
         "hovertemplate": "<b>OLS trendline</b><br>Maternal mortality ratio = 357.805 * log10(Infant mortality) + -243.904<br>R<sup>2</sup>=0.514450<br><br>Infant mortality=%{x}<br>Maternal mortality ratio=%{y} <b>(trend)</b><extra></extra>",
         "legendgroup": "",
         "marker": {
          "color": "#636efa",
          "symbol": "circle"
         },
         "mode": "lines",
         "name": "",
         "showlegend": false,
         "type": "scatter",
         "x": [
          1.4,
          1.5,
          1.7,
          1.8,
          1.9,
          1.9,
          2.1,
          2.1,
          2.2,
          2.3,
          2.3,
          2.5,
          2.6,
          2.6,
          2.7,
          2.7,
          2.9,
          2.9,
          3,
          3.1,
          3.1,
          3.1,
          3.1,
          3.3,
          3.3,
          3.3,
          3.4,
          3.6,
          3.6,
          3.6,
          3.6,
          3.7,
          3.7,
          3.8,
          4,
          4.3,
          4.6,
          4.7,
          4.8,
          5,
          5,
          5.6,
          5.8,
          5.9,
          6,
          6.1,
          6.1,
          6.1,
          6.1,
          6.2,
          6.4,
          6.4,
          6.4,
          6.5,
          6.7,
          6.7,
          7.4,
          7.4,
          7.5,
          7.6,
          7.8,
          7.8,
          8.3,
          8.7,
          8.8,
          8.8,
          9.1,
          9.8,
          9.8,
          10.2,
          11,
          11,
          11.1,
          11.2,
          11.3,
          11.8,
          12.2,
          12.2,
          12.4,
          12.4,
          12.4,
          12.8,
          13.1,
          13.4,
          13.6,
          13.6,
          13.6,
          13.7,
          13.7,
          13.9,
          14,
          14,
          14.6,
          14.8,
          14.9,
          15.1,
          15.7,
          16.4,
          16.5,
          16.7,
          16.9,
          16.9,
          17.1,
          17.2,
          18.1,
          19.1,
          19.2,
          19.2,
          20.1,
          21.1,
          21.4,
          21.6,
          21.8,
          22.1,
          22.3,
          22.5,
          22.5,
          24,
          24.1,
          24.4,
          24.8,
          25.1,
          25.1,
          25.6,
          26.7,
          27,
          28.5,
          29,
          29.9,
          30,
          30.4,
          30.6,
          31.3,
          31.8,
          32.7,
          33.8,
          33.9,
          34.9,
          35.3,
          36.2,
          36.8,
          37.6,
          37.6,
          38,
          38.2,
          39,
          39.1,
          39.3,
          39.3,
          40.4,
          41,
          41.2,
          42.1,
          42.9,
          47.4,
          47.9,
          48,
          49,
          49.5,
          49.8,
          50.6,
          51.3,
          51.5,
          51.6,
          53.5,
          54,
          57.2,
          59.4,
          60.5,
          62,
          62.6,
          63.7,
          64.9,
          65.7,
          68.2,
          71.4,
          75.7,
          78.5,
          84.5
         ],
         "xaxis": "x",
         "y": [
          -191.61887913518734,
          -180.89788251243812,
          -161.44842919962207,
          -152.56642228307143,
          -144.16476448644397,
          -144.16476448644397,
          -128.61251397045538,
          -128.61251397045538,
          -121.38363771464897,
          -114.47615312782045,
          -114.47615312782045,
          -101.5192500656826,
          -95.42463298139916,
          -95.42463298139916,
          -89.5600571183395,
          -89.5600571183395,
          -78.45584743687076,
          -78.45584743687076,
          -73.18778983631591,
          -68.0924869134289,
          -68.0924869134289,
          -68.0924869134289,
          -68.0924869134289,
          -58.37727254991708,
          -58.37727254991708,
          -58.37727254991708,
          -53.738336523499896,
          -44.85632960694926,
          -44.85632960694926,
          -44.85632960694926,
          -44.85632960694926,
          -40.59872583707104,
          -40.59872583707104,
          -36.4546718103218,
          -28.484062324925645,
          -17.245951026763464,
          -6.766060451698252,
          -3.424150648948398,
          -0.15260209555901838,
          6.190842610439603,
          6.190842610439603,
          23.801306217057004,
          29.254245239251418,
          31.910597386408085,
          34.52230283980629,
          37.090837625734764,
          37.090837625734764,
          37.090837625734764,
          37.090837625734764,
          39.617605762693245,
          44.55112541583128,
          44.55112541583128,
          44.55112541583128,
          46.96036463008829,
          51.66959824492784,
          51.66959824492784,
          67.11136683905119,
          67.11136683905119,
          69.19720777517153,
          71.25542086580037,
          75.29182485945495,
          75.29182485945495,
          84.94665732340872,
          92.26061040398332,
          94.03654763759539,
          94.03654763759539,
          99.24573317207091,
          110.76157969440499,
          110.76157969440499,
          116.97812131735418,
          128.7114525729607,
          128.7114525729607,
          130.11773200378303,
          131.51139889317915,
          132.8926774685769,
          139.6206900625303,
          144.80093030185697,
          144.80093030185697,
          147.32769843881545,
          147.32769843881545,
          147.32769843881545,
          152.26121809195342,
          155.8612126850664,
          159.37969092105004,
          161.68184882874442,
          161.68184882874442,
          161.68184882874442,
          162.82026283286507,
          162.82026283286507,
          165.07237205799987,
          166.18630382854445,
          166.18630382854445,
          172.70723892112414,
          174.8214595151734,
          175.86787974262143,
          177.93981465908445,
          183.99484625937913,
          190.77317764590043,
          191.71781773769254,
          193.5900429945595,
          195.4399793258591,
          195.4399793258591,
          197.26815119526424,
          198.17423432548088,
          206.09966491346404,
          214.4561306735486,
          215.26758325668538,
          215.26758325668538,
          222.3860560857819,
          229.9308785362809,
          232.124695913506,
          233.57022091002705,
          235.0024229060205,
          237.12627578375844,
          238.52622053666647,
          239.91366561602564,
          239.91366561602564,
          249.94248819205058,
          250.58861310032626,
          252.51102297797917,
          255.0377911149376,
          256.9062643268802,
          256.9062643268802,
          259.9713107680756,
          266.50887519520563,
          268.2451258453923,
          276.6467836420197,
          279.34933552686107,
          284.09855185556,
          284.6173931274159,
          286.67560621804466,
          287.6945791582084,
          291.20926764901003,
          293.67196287853255,
          298.00878807075253,
          303.15007200198136,
          303.60913530943094,
          308.126686497057,
          309.89756397075587,
          313.8097575895862,
          316.36421757666824,
          319.70612737941815,
          319.70612737941815,
          321.35051115341,
          322.16622334967076,
          325.38691514706454,
          325.7848483134593,
          326.57767052592044,
          326.57767052592044,
          330.8673305757592,
          333.15817525738794,
          333.9143461731868,
          337.27230480802507,
          340.1974324334634,
          355.697928472185,
          357.32850814058395,
          357.6525808681728,
          360.8566699820145,
          362.4342755785466,
          363.373207840385,
          365.84963979843246,
          367.9846090361183,
          368.58925110855205,
          368.89069216633504,
          374.5096935249935,
          375.95521852151455,
          384.9011599448537,
          390.7657358079133,
          393.61706014696904,
          397.4227887264251,
          398.9193603251322,
          401.6261920016632,
          404.52629763653874,
          406.4300619267102,
          412.23330601282396,
          419.35858014694657,
          428.44599729374806,
          434.0899365469887,
          445.53506961346875
         ],
         "yaxis": "y"
        }
       ],
       "layout": {
        "legend": {
         "tracegroupgap": 0
        },
        "template": {
         "data": {
          "bar": [
           {
            "error_x": {
             "color": "#2a3f5f"
            },
            "error_y": {
             "color": "#2a3f5f"
            },
            "marker": {
             "line": {
              "color": "#E5ECF6",
              "width": 0.5
             },
             "pattern": {
              "fillmode": "overlay",
              "size": 10,
              "solidity": 0.2
             }
            },
            "type": "bar"
           }
          ],
          "barpolar": [
           {
            "marker": {
             "line": {
              "color": "#E5ECF6",
              "width": 0.5
             },
             "pattern": {
              "fillmode": "overlay",
              "size": 10,
              "solidity": 0.2
             }
            },
            "type": "barpolar"
           }
          ],
          "carpet": [
           {
            "aaxis": {
             "endlinecolor": "#2a3f5f",
             "gridcolor": "white",
             "linecolor": "white",
             "minorgridcolor": "white",
             "startlinecolor": "#2a3f5f"
            },
            "baxis": {
             "endlinecolor": "#2a3f5f",
             "gridcolor": "white",
             "linecolor": "white",
             "minorgridcolor": "white",
             "startlinecolor": "#2a3f5f"
            },
            "type": "carpet"
           }
          ],
          "choropleth": [
           {
            "colorbar": {
             "outlinewidth": 0,
             "ticks": ""
            },
            "type": "choropleth"
           }
          ],
          "contour": [
           {
            "colorbar": {
             "outlinewidth": 0,
             "ticks": ""
            },
            "colorscale": [
             [
              0,
              "#0d0887"
             ],
             [
              0.1111111111111111,
              "#46039f"
             ],
             [
              0.2222222222222222,
              "#7201a8"
             ],
             [
              0.3333333333333333,
              "#9c179e"
             ],
             [
              0.4444444444444444,
              "#bd3786"
             ],
             [
              0.5555555555555556,
              "#d8576b"
             ],
             [
              0.6666666666666666,
              "#ed7953"
             ],
             [
              0.7777777777777778,
              "#fb9f3a"
             ],
             [
              0.8888888888888888,
              "#fdca26"
             ],
             [
              1,
              "#f0f921"
             ]
            ],
            "type": "contour"
           }
          ],
          "contourcarpet": [
           {
            "colorbar": {
             "outlinewidth": 0,
             "ticks": ""
            },
            "type": "contourcarpet"
           }
          ],
          "heatmap": [
           {
            "colorbar": {
             "outlinewidth": 0,
             "ticks": ""
            },
            "colorscale": [
             [
              0,
              "#0d0887"
             ],
             [
              0.1111111111111111,
              "#46039f"
             ],
             [
              0.2222222222222222,
              "#7201a8"
             ],
             [
              0.3333333333333333,
              "#9c179e"
             ],
             [
              0.4444444444444444,
              "#bd3786"
             ],
             [
              0.5555555555555556,
              "#d8576b"
             ],
             [
              0.6666666666666666,
              "#ed7953"
             ],
             [
              0.7777777777777778,
              "#fb9f3a"
             ],
             [
              0.8888888888888888,
              "#fdca26"
             ],
             [
              1,
              "#f0f921"
             ]
            ],
            "type": "heatmap"
           }
          ],
          "heatmapgl": [
           {
            "colorbar": {
             "outlinewidth": 0,
             "ticks": ""
            },
            "colorscale": [
             [
              0,
              "#0d0887"
             ],
             [
              0.1111111111111111,
              "#46039f"
             ],
             [
              0.2222222222222222,
              "#7201a8"
             ],
             [
              0.3333333333333333,
              "#9c179e"
             ],
             [
              0.4444444444444444,
              "#bd3786"
             ],
             [
              0.5555555555555556,
              "#d8576b"
             ],
             [
              0.6666666666666666,
              "#ed7953"
             ],
             [
              0.7777777777777778,
              "#fb9f3a"
             ],
             [
              0.8888888888888888,
              "#fdca26"
             ],
             [
              1,
              "#f0f921"
             ]
            ],
            "type": "heatmapgl"
           }
          ],
          "histogram": [
           {
            "marker": {
             "pattern": {
              "fillmode": "overlay",
              "size": 10,
              "solidity": 0.2
             }
            },
            "type": "histogram"
           }
          ],
          "histogram2d": [
           {
            "colorbar": {
             "outlinewidth": 0,
             "ticks": ""
            },
            "colorscale": [
             [
              0,
              "#0d0887"
             ],
             [
              0.1111111111111111,
              "#46039f"
             ],
             [
              0.2222222222222222,
              "#7201a8"
             ],
             [
              0.3333333333333333,
              "#9c179e"
             ],
             [
              0.4444444444444444,
              "#bd3786"
             ],
             [
              0.5555555555555556,
              "#d8576b"
             ],
             [
              0.6666666666666666,
              "#ed7953"
             ],
             [
              0.7777777777777778,
              "#fb9f3a"
             ],
             [
              0.8888888888888888,
              "#fdca26"
             ],
             [
              1,
              "#f0f921"
             ]
            ],
            "type": "histogram2d"
           }
          ],
          "histogram2dcontour": [
           {
            "colorbar": {
             "outlinewidth": 0,
             "ticks": ""
            },
            "colorscale": [
             [
              0,
              "#0d0887"
             ],
             [
              0.1111111111111111,
              "#46039f"
             ],
             [
              0.2222222222222222,
              "#7201a8"
             ],
             [
              0.3333333333333333,
              "#9c179e"
             ],
             [
              0.4444444444444444,
              "#bd3786"
             ],
             [
              0.5555555555555556,
              "#d8576b"
             ],
             [
              0.6666666666666666,
              "#ed7953"
             ],
             [
              0.7777777777777778,
              "#fb9f3a"
             ],
             [
              0.8888888888888888,
              "#fdca26"
             ],
             [
              1,
              "#f0f921"
             ]
            ],
            "type": "histogram2dcontour"
           }
          ],
          "mesh3d": [
           {
            "colorbar": {
             "outlinewidth": 0,
             "ticks": ""
            },
            "type": "mesh3d"
           }
          ],
          "parcoords": [
           {
            "line": {
             "colorbar": {
              "outlinewidth": 0,
              "ticks": ""
             }
            },
            "type": "parcoords"
           }
          ],
          "pie": [
           {
            "automargin": true,
            "type": "pie"
           }
          ],
          "scatter": [
           {
            "fillpattern": {
             "fillmode": "overlay",
             "size": 10,
             "solidity": 0.2
            },
            "type": "scatter"
           }
          ],
          "scatter3d": [
           {
            "line": {
             "colorbar": {
              "outlinewidth": 0,
              "ticks": ""
             }
            },
            "marker": {
             "colorbar": {
              "outlinewidth": 0,
              "ticks": ""
             }
            },
            "type": "scatter3d"
           }
          ],
          "scattercarpet": [
           {
            "marker": {
             "colorbar": {
              "outlinewidth": 0,
              "ticks": ""
             }
            },
            "type": "scattercarpet"
           }
          ],
          "scattergeo": [
           {
            "marker": {
             "colorbar": {
              "outlinewidth": 0,
              "ticks": ""
             }
            },
            "type": "scattergeo"
           }
          ],
          "scattergl": [
           {
            "marker": {
             "colorbar": {
              "outlinewidth": 0,
              "ticks": ""
             }
            },
            "type": "scattergl"
           }
          ],
          "scattermapbox": [
           {
            "marker": {
             "colorbar": {
              "outlinewidth": 0,
              "ticks": ""
             }
            },
            "type": "scattermapbox"
           }
          ],
          "scatterpolar": [
           {
            "marker": {
             "colorbar": {
              "outlinewidth": 0,
              "ticks": ""
             }
            },
            "type": "scatterpolar"
           }
          ],
          "scatterpolargl": [
           {
            "marker": {
             "colorbar": {
              "outlinewidth": 0,
              "ticks": ""
             }
            },
            "type": "scatterpolargl"
           }
          ],
          "scatterternary": [
           {
            "marker": {
             "colorbar": {
              "outlinewidth": 0,
              "ticks": ""
             }
            },
            "type": "scatterternary"
           }
          ],
          "surface": [
           {
            "colorbar": {
             "outlinewidth": 0,
             "ticks": ""
            },
            "colorscale": [
             [
              0,
              "#0d0887"
             ],
             [
              0.1111111111111111,
              "#46039f"
             ],
             [
              0.2222222222222222,
              "#7201a8"
             ],
             [
              0.3333333333333333,
              "#9c179e"
             ],
             [
              0.4444444444444444,
              "#bd3786"
             ],
             [
              0.5555555555555556,
              "#d8576b"
             ],
             [
              0.6666666666666666,
              "#ed7953"
             ],
             [
              0.7777777777777778,
              "#fb9f3a"
             ],
             [
              0.8888888888888888,
              "#fdca26"
             ],
             [
              1,
              "#f0f921"
             ]
            ],
            "type": "surface"
           }
          ],
          "table": [
           {
            "cells": {
             "fill": {
              "color": "#EBF0F8"
             },
             "line": {
              "color": "white"
             }
            },
            "header": {
             "fill": {
              "color": "#C8D4E3"
             },
             "line": {
              "color": "white"
             }
            },
            "type": "table"
           }
          ]
         },
         "layout": {
          "annotationdefaults": {
           "arrowcolor": "#2a3f5f",
           "arrowhead": 0,
           "arrowwidth": 1
          },
          "autotypenumbers": "strict",
          "coloraxis": {
           "colorbar": {
            "outlinewidth": 0,
            "ticks": ""
           }
          },
          "colorscale": {
           "diverging": [
            [
             0,
             "#8e0152"
            ],
            [
             0.1,
             "#c51b7d"
            ],
            [
             0.2,
             "#de77ae"
            ],
            [
             0.3,
             "#f1b6da"
            ],
            [
             0.4,
             "#fde0ef"
            ],
            [
             0.5,
             "#f7f7f7"
            ],
            [
             0.6,
             "#e6f5d0"
            ],
            [
             0.7,
             "#b8e186"
            ],
            [
             0.8,
             "#7fbc41"
            ],
            [
             0.9,
             "#4d9221"
            ],
            [
             1,
             "#276419"
            ]
           ],
           "sequential": [
            [
             0,
             "#0d0887"
            ],
            [
             0.1111111111111111,
             "#46039f"
            ],
            [
             0.2222222222222222,
             "#7201a8"
            ],
            [
             0.3333333333333333,
             "#9c179e"
            ],
            [
             0.4444444444444444,
             "#bd3786"
            ],
            [
             0.5555555555555556,
             "#d8576b"
            ],
            [
             0.6666666666666666,
             "#ed7953"
            ],
            [
             0.7777777777777778,
             "#fb9f3a"
            ],
            [
             0.8888888888888888,
             "#fdca26"
            ],
            [
             1,
             "#f0f921"
            ]
           ],
           "sequentialminus": [
            [
             0,
             "#0d0887"
            ],
            [
             0.1111111111111111,
             "#46039f"
            ],
            [
             0.2222222222222222,
             "#7201a8"
            ],
            [
             0.3333333333333333,
             "#9c179e"
            ],
            [
             0.4444444444444444,
             "#bd3786"
            ],
            [
             0.5555555555555556,
             "#d8576b"
            ],
            [
             0.6666666666666666,
             "#ed7953"
            ],
            [
             0.7777777777777778,
             "#fb9f3a"
            ],
            [
             0.8888888888888888,
             "#fdca26"
            ],
            [
             1,
             "#f0f921"
            ]
           ]
          },
          "colorway": [
           "#636efa",
           "#EF553B",
           "#00cc96",
           "#ab63fa",
           "#FFA15A",
           "#19d3f3",
           "#FF6692",
           "#B6E880",
           "#FF97FF",
           "#FECB52"
          ],
          "font": {
           "color": "#2a3f5f"
          },
          "geo": {
           "bgcolor": "white",
           "lakecolor": "white",
           "landcolor": "#E5ECF6",
           "showlakes": true,
           "showland": true,
           "subunitcolor": "white"
          },
          "hoverlabel": {
           "align": "left"
          },
          "hovermode": "closest",
          "mapbox": {
           "style": "light"
          },
          "paper_bgcolor": "white",
          "plot_bgcolor": "#E5ECF6",
          "polar": {
           "angularaxis": {
            "gridcolor": "white",
            "linecolor": "white",
            "ticks": ""
           },
           "bgcolor": "#E5ECF6",
           "radialaxis": {
            "gridcolor": "white",
            "linecolor": "white",
            "ticks": ""
           }
          },
          "scene": {
           "xaxis": {
            "backgroundcolor": "#E5ECF6",
            "gridcolor": "white",
            "gridwidth": 2,
            "linecolor": "white",
            "showbackground": true,
            "ticks": "",
            "zerolinecolor": "white"
           },
           "yaxis": {
            "backgroundcolor": "#E5ECF6",
            "gridcolor": "white",
            "gridwidth": 2,
            "linecolor": "white",
            "showbackground": true,
            "ticks": "",
            "zerolinecolor": "white"
           },
           "zaxis": {
            "backgroundcolor": "#E5ECF6",
            "gridcolor": "white",
            "gridwidth": 2,
            "linecolor": "white",
            "showbackground": true,
            "ticks": "",
            "zerolinecolor": "white"
           }
          },
          "shapedefaults": {
           "line": {
            "color": "#2a3f5f"
           }
          },
          "ternary": {
           "aaxis": {
            "gridcolor": "white",
            "linecolor": "white",
            "ticks": ""
           },
           "baxis": {
            "gridcolor": "white",
            "linecolor": "white",
            "ticks": ""
           },
           "bgcolor": "#E5ECF6",
           "caxis": {
            "gridcolor": "white",
            "linecolor": "white",
            "ticks": ""
           }
          },
          "title": {
           "x": 0.05
          },
          "xaxis": {
           "automargin": true,
           "gridcolor": "white",
           "linecolor": "white",
           "ticks": "",
           "title": {
            "standoff": 15
           },
           "zerolinecolor": "white",
           "zerolinewidth": 2
          },
          "yaxis": {
           "automargin": true,
           "gridcolor": "white",
           "linecolor": "white",
           "ticks": "",
           "title": {
            "standoff": 15
           },
           "zerolinecolor": "white",
           "zerolinewidth": 2
          }
         }
        },
        "title": {
         "text": "Maternal mortality rate dependency on infant mortality rate"
        },
        "xaxis": {
         "anchor": "y",
         "domain": [
          0,
          1
         ],
         "title": {
          "text": "Infant mortality"
         }
        },
        "yaxis": {
         "anchor": "x",
         "domain": [
          0,
          1
         ],
         "title": {
          "text": "Maternal mortality ratio"
         }
        }
       }
      }
     },
     "metadata": {},
     "output_type": "display_data"
    }
   ],
   "source": [
    "\n",
    "\n",
    "fig = px.scatter(df, x=\"Infant mortality\", y=\"Maternal mortality ratio\",\n",
    "                 trendline=\"ols\", trendline_options=dict(log_x=True),\n",
    "                 title=\"Maternal mortality rate dependency on infant mortality rate\",hover_name=\"Country\")\n",
    "fig.show()\n"
   ]
  },
  {
   "cell_type": "markdown",
   "metadata": {
    "id": "i_--Py7uPPqS"
   },
   "source": [
    "### Maternal mortality rate dependency on infant mortality rate\n",
    "\n",
    "This graphs shows that the death of both mother and child are codependent."
   ]
  },
  {
   "cell_type": "code",
   "execution_count": 49,
   "metadata": {
    "id": "gZ9KnnlQUa-I"
   },
   "outputs": [],
   "source": [
    "df['GDP_per_capita'] = (df['GDP'] / df['Population'])/1000"
   ]
  },
  {
   "cell_type": "code",
   "execution_count": 50,
   "metadata": {
    "colab": {
     "base_uri": "https://localhost:8080/",
     "height": 542
    },
    "id": "hMYbyyPGUa-I",
    "outputId": "ff7d9d49-1d2a-4141-ad8e-1a77222c5ca6"
   },
   "outputs": [
    {
     "data": {
      "application/vnd.plotly.v1+json": {
       "config": {
        "plotlyServerURL": "https://plot.ly"
       },
       "data": [
        {
         "hovertemplate": "<b>%{hovertext}</b><br><br>GDP_per_capita=%{x}<br>Infant mortality=%{y}<extra></extra>",
         "hovertext": [
          "Afghanistan",
          "Albania",
          "Algeria",
          "Andorra",
          "Angola",
          "Antigua and Barbuda",
          "Argentina",
          "Armenia",
          "Australia",
          "Austria",
          "Azerbaijan",
          "The Bahamas",
          "Bahrain",
          "Bangladesh",
          "Barbados",
          "Belarus",
          "Belgium",
          "Belize",
          "Benin",
          "Bhutan",
          "Bolivia",
          "Bosnia and Herzegovina",
          "Botswana",
          "Brazil",
          "Brunei",
          "Bulgaria",
          "Burkina Faso",
          "Burundi",
          "Ivory Coast",
          "Cape Verde",
          "Cambodia",
          "Cameroon",
          "Canada",
          "Central African Republic",
          "Chad",
          "Chile",
          "China",
          "Colombia",
          "Comoros",
          "Republic of the Congo",
          "Costa Rica",
          "Croatia",
          "Cuba",
          "Cyprus",
          "Czech Republic",
          "Democratic Republic of the Congo",
          "Denmark",
          "Djibouti",
          "Dominica",
          "Dominican Republic",
          "Ecuador",
          "Egypt",
          "El Salvador",
          "Equatorial Guinea",
          "Eritrea",
          "Estonia",
          "Eswatini",
          "Ethiopia",
          "Fiji",
          "Finland",
          "France",
          "Gabon",
          "The Gambia",
          "Georgia",
          "Germany",
          "Ghana",
          "Greece",
          "Grenada",
          "Guatemala",
          "Guinea",
          "Guinea-Bissau",
          "Guyana",
          "Haiti",
          "Vatican City",
          "Honduras",
          "Hungary",
          "Iceland",
          "India",
          "Indonesia",
          "Iran",
          "Iraq",
          "Republic of Ireland",
          "Israel",
          "Italy",
          "Jamaica",
          "Japan",
          "Jordan",
          "Kazakhstan",
          "Kenya",
          "Kiribati",
          "Kuwait",
          "Kyrgyzstan",
          "Laos",
          "Latvia",
          "Lebanon",
          "Lesotho",
          "Liberia",
          "Libya",
          "Liechtenstein",
          "Lithuania",
          "Luxembourg",
          "Madagascar",
          "Malawi",
          "Malaysia",
          "Maldives",
          "Mali",
          "Malta",
          "Marshall Islands",
          "Mauritania",
          "Mauritius",
          "Mexico",
          "Federated States of Micronesia",
          "Moldova",
          "Monaco",
          "Mongolia",
          "Montenegro",
          "Morocco",
          "Myanmar",
          "Namibia",
          "Nauru",
          "Nepal",
          "Netherlands",
          "New Zealand",
          "Nicaragua",
          "Niger",
          "Nigeria",
          "North Korea",
          "North Macedonia",
          "Norway",
          "Oman",
          "Pakistan",
          "Palau",
          "Palestinian National Authority",
          "Panama",
          "Papua New Guinea",
          "Paraguay",
          "Peru",
          "Philippines",
          "Poland",
          "Portugal",
          "Qatar",
          "Romania",
          "Russia",
          "Rwanda",
          "Saint Kitts and Nevis",
          "Saint Lucia",
          "Saint Vincent and the Grenadines",
          "Samoa",
          "San Marino",
          "Sao Tome and Principe",
          "Saudi Arabia",
          "Senegal",
          "Serbia",
          "Seychelles",
          "Sierra Leone",
          "Singapore",
          "Slovakia",
          "Slovenia",
          "Solomon Islands",
          "South Africa",
          "South Korea",
          "South Sudan",
          "Spain",
          "Sri Lanka",
          "Sudan",
          "Suriname",
          "Sweden",
          "Switzerland",
          "Syria",
          "Tajikistan",
          "Tanzania",
          "Thailand",
          "East Timor",
          "Togo",
          "Tonga",
          "Trinidad and Tobago",
          "Tunisia",
          "Turkey",
          "Turkmenistan",
          "Tuvalu",
          "Uganda",
          "Ukraine",
          "United Arab Emirates",
          "United Kingdom",
          "United States",
          "Uruguay",
          "Uzbekistan",
          "Vanuatu",
          "Venezuela",
          "Vietnam",
          "Yemen",
          "Zambia",
          "Zimbabwe"
         ],
         "legendgroup": "",
         "marker": {
          "color": "#636efa",
          "symbol": "circle"
         },
         "mode": "markers",
         "name": "",
         "orientation": "v",
         "showlegend": false,
         "type": "scatter",
         "x": [
          0.5021154869199774,
          5.352857411084262,
          3.9483432789227915,
          40.88639116175365,
          2.973591159799147,
          17.790309304145474,
          10.00614897360654,
          4.622733493343377,
          54.0498288124881,
          50.27727508736838,
          3.911578980134123,
          32.93348601475806,
          25.688046129052665,
          1.8084378618138295,
          18.148244926400142,
          6.663295292861749,
          46.116699233676606,
          4.815163710795101,
          1.2194326718639563,
          3.364767826224481,
          3.552068762105775,
          6.073265202968797,
          7.817183083217436,
          8.655264804221776,
          31.08675107838951,
          12.328404026456756,
          0.7748396902513206,
          0.2612474725469144,
          2.28616277684902,
          4.097872209632197,
          1.6431213887666678,
          1.49790917558793,
          46.94059584210967,
          0.46790744070041523,
          0.7095403101522831,
          14.896453866597355,
          14.244677920749224,
          6.432387583390623,
          1.3935223719746241,
          2.0110723989259007,
          12.238374964463036,
          14.853239837492318,
          8.825442275777004,
          20.49487761299877,
          23.101777704996454,
          0.5452162123102617,
          59.82209296091313,
          3.4088462539545583,
          8.300375069630125,
          8.28211622189043,
          6.183823824821733,
          3.0200313497202007,
          4.187250031106896,
          8.13192388785725,
          0.3260630992391604,
          23.566890205462585,
          3.4679588049445775,
          0.8575013510413618,
          6.220046420428944,
          48.68585398674785,
          40.493928572038904,
          7.667366861228061,
          0.7512946885172164,
          4.76918654320981,
          46.2588782897109,
          2.1753153946557564,
          19.582536010862682,
          10.965513155897609,
          4.619987097105244,
          1.0641312373906195,
          0.6977844030106376,
          5.468356628928697,
          0.7545879177599515,
          null,
          2.574912190670397,
          16.475741838979918,
          66.94482550863103,
          1.910835827737642,
          4.142022784788127,
          5.371177207873912,
          5.955109010370268,
          77.6299889911643,
          43.641397735853225,
          33.18956579886136,
          5.582263777613991,
          40.259112030836484,
          4.330329345949304,
          9.731145206879361,
          1.8165469164371504,
          1.6550788395149907,
          32.03198010260316,
          1.3093929916833156,
          2.5348982772051714,
          17.836364886560933,
          7.784316856904599,
          1.1575351645063117,
          0.6218929536227152,
          7.683750611291678,
          172.3574722901707,
          19.455454126603428,
          110.17237314087298,
          0.5222198092446351,
          0.4115523404231106,
          11.23978150436468,
          10.790500236367437,
          0.8907372854890706,
          29.416230606402426,
          3.763807385484173,
          1.6779192526409197,
          11.203540584699034,
          9.985291138111739,
          3.5314526116944163,
          4.498520850289186,
          184.39698678267118,
          4.295235024728952,
          8.832036835938064,
          3.2165667385160237,
          1.4078131434078966,
          4.957458005716507,
          13.189210630702103,
          1.0710507605550896,
          52.44783143920359,
          42.74504555752943,
          1.912903745350624,
          0.5546009686961554,
          2.229858696245781,
          1.2506739905512165,
          5.564713196345863,
          75.4196348687409,
          14.617408775978893,
          1.4055805556086316,
          15.575873416333023,
          null,
          15.73101603484708,
          2.845180185774812,
          5.4147991379540406,
          6.977695783568442,
          3.4850842183692117,
          15.595227033436208,
          23.14504081731222,
          64.78173319734314,
          12.919529644186483,
          11.774156384485565,
          0.8016561869651816,
          19.89649571209511,
          11.611415449422836,
          8.216466925489025,
          4.200641052610787,
          48.3736277023036,
          1.9949064662227514,
          23.13979865613136,
          1.4468309649931728,
          7.402354558655718,
          17.40172151600512,
          0.5044625433960285,
          65.23328243929372,
          19.3290968008679,
          25.73924781435918,
          2.1275385079341853,
          6.0014008139413955,
          39.23874286107253,
          1.08458490263117,
          29.613671137986262,
          3.8530836928863,
          0.4415056033837011,
          6.8549065606874775,
          51.61006605523354,
          81.99372714940654,
          2.366999792737433,
          0.8707875892955039,
          1.0891572087787662,
          7.808192916304814,
          0.4781543714285714,
          0.6755422133815766,
          4.494140386592023,
          17.276465447001485,
          3.3175410135121672,
          9.042492982893423,
          6.859732807266939,
          4.059029967370771,
          0.7767685758762549,
          3.464696002931611,
          43.103323058352316,
          42.30026712583137,
          65.2806822413034,
          16.190126957183885,
          1.7248411344032948,
          3.058065675832494,
          16.91549345340793,
          2.715276036405425,
          0.9229296417430922,
          1.2913433573539712,
          1.463985910180542
         ],
         "xaxis": "x",
         "y": [
          47.9,
          7.8,
          20.1,
          2.7,
          51.6,
          5,
          8.8,
          11,
          3.1,
          2.9,
          19.2,
          8.3,
          6.1,
          25.1,
          11.3,
          2.6,
          2.9,
          11.2,
          60.5,
          24.8,
          21.8,
          5,
          30,
          12.8,
          9.8,
          5.9,
          49,
          41,
          59.4,
          16.7,
          24,
          50.6,
          4.3,
          84.5,
          71.4,
          6.2,
          7.4,
          12.2,
          51.3,
          36.2,
          7.6,
          4,
          3.7,
          1.9,
          2.7,
          68.2,
          3.6,
          49.8,
          32.9,
          24.1,
          12.2,
          18.1,
          11.8,
          62.6,
          31.3,
          2.1,
          null,
          39.1,
          21.6,
          1.4,
          3.4,
          32.7,
          39,
          8.7,
          3.1,
          34.9,
          3.6,
          13.7,
          22.1,
          64.9,
          54,
          25.1,
          49.5,
          null,
          15.1,
          3.6,
          1.5,
          29.9,
          21.1,
          12.4,
          22.5,
          3.1,
          3,
          2.6,
          12.4,
          1.8,
          13.9,
          8.8,
          30.6,
          41.2,
          6.7,
          16.9,
          37.6,
          3.3,
          6.4,
          65.7,
          53.5,
          10.2,
          null,
          3.3,
          1.9,
          38.2,
          35.3,
          6.7,
          7.4,
          62,
          6.1,
          27.4,
          51.5,
          13.6,
          11,
          25.6,
          13.6,
          2.6,
          14,
          2.3,
          19.2,
          36.8,
          29,
          null,
          26.7,
          3.3,
          4.7,
          15.7,
          48,
          75.7,
          13.7,
          null,
          2.1,
          9.8,
          57.2,
          16.6,
          null,
          13.1,
          38,
          17.2,
          11.1,
          22.5,
          3.8,
          3.1,
          5.8,
          6.1,
          6.1,
          27,
          9.8,
          14.9,
          14.8,
          13.6,
          1.7,
          24.4,
          6,
          31.8,
          4.8,
          12.4,
          78.5,
          2.3,
          4.6,
          1.7,
          17.1,
          28.5,
          2.7,
          63.7,
          2.5,
          6.4,
          42.1,
          16.9,
          2.2,
          3.7,
          14,
          30.4,
          37.6,
          7.8,
          39.3,
          47.4,
          13.4,
          16.4,
          14.6,
          9.1,
          39.3,
          20.6,
          33.8,
          7.5,
          6.5,
          3.6,
          5.6,
          6.4,
          19.1,
          22.3,
          21.4,
          16.5,
          42.9,
          40.4,
          33.9
         ],
         "yaxis": "y"
        },
        {
         "hovertemplate": "<b>OLS trendline</b><br>Infant mortality = -23.6793 * log10(GDP_per_capita) + 39.294<br>R<sup>2</sup>=0.607007<br><br>GDP_per_capita=%{x}<br>Infant mortality=%{y} <b>(trend)</b><extra></extra>",
         "legendgroup": "",
         "marker": {
          "color": "#636efa",
          "symbol": "circle"
         },
         "mode": "lines",
         "name": "",
         "showlegend": false,
         "type": "scatter",
         "x": [
          0.2612474725469144,
          0.3260630992391604,
          0.4115523404231106,
          0.4415056033837011,
          0.46790744070041523,
          0.4781543714285714,
          0.5021154869199774,
          0.5044625433960285,
          0.5222198092446351,
          0.5452162123102617,
          0.5546009686961554,
          0.6218929536227152,
          0.6755422133815766,
          0.6977844030106376,
          0.7095403101522831,
          0.7512946885172164,
          0.7545879177599515,
          0.7748396902513206,
          0.7767685758762549,
          0.8016561869651816,
          0.8575013510413618,
          0.8707875892955039,
          0.8907372854890706,
          0.9229296417430922,
          1.0641312373906195,
          1.0710507605550896,
          1.08458490263117,
          1.0891572087787662,
          1.1575351645063117,
          1.2194326718639563,
          1.2506739905512165,
          1.2913433573539712,
          1.3093929916833156,
          1.3935223719746241,
          1.4055805556086316,
          1.4078131434078966,
          1.4468309649931728,
          1.463985910180542,
          1.49790917558793,
          1.6431213887666678,
          1.6550788395149907,
          1.6779192526409197,
          1.7248411344032948,
          1.8084378618138295,
          1.8165469164371504,
          1.910835827737642,
          1.912903745350624,
          1.9949064662227514,
          2.0110723989259007,
          2.1275385079341853,
          2.1753153946557564,
          2.229858696245781,
          2.28616277684902,
          2.366999792737433,
          2.5348982772051714,
          2.574912190670397,
          2.715276036405425,
          2.845180185774812,
          2.973591159799147,
          3.0200313497202007,
          3.058065675832494,
          3.2165667385160237,
          3.3175410135121672,
          3.364767826224481,
          3.4088462539545583,
          3.464696002931611,
          3.4850842183692117,
          3.5314526116944163,
          3.552068762105775,
          3.763807385484173,
          3.8530836928863,
          3.911578980134123,
          3.9483432789227915,
          4.059029967370771,
          4.097872209632197,
          4.142022784788127,
          4.187250031106896,
          4.200641052610787,
          4.295235024728952,
          4.330329345949304,
          4.494140386592023,
          4.498520850289186,
          4.619987097105244,
          4.622733493343377,
          4.76918654320981,
          4.815163710795101,
          4.957458005716507,
          5.352857411084262,
          5.371177207873912,
          5.4147991379540406,
          5.468356628928697,
          5.582263777613991,
          5.955109010370268,
          6.0014008139413955,
          6.073265202968797,
          6.183823824821733,
          6.220046420428944,
          6.432387583390623,
          6.663295292861749,
          6.8549065606874775,
          6.859732807266939,
          6.977695783568442,
          7.402354558655718,
          7.667366861228061,
          7.683750611291678,
          7.784316856904599,
          7.808192916304814,
          7.817183083217436,
          8.13192388785725,
          8.216466925489025,
          8.28211622189043,
          8.300375069630125,
          8.655264804221776,
          8.825442275777004,
          8.832036835938064,
          9.042492982893423,
          9.731145206879361,
          9.985291138111739,
          10.00614897360654,
          10.790500236367437,
          10.965513155897609,
          11.203540584699034,
          11.23978150436468,
          11.611415449422836,
          11.774156384485565,
          12.238374964463036,
          12.328404026456756,
          12.919529644186483,
          14.244677920749224,
          14.617408775978893,
          14.853239837492318,
          14.896453866597355,
          15.575873416333023,
          15.595227033436208,
          15.73101603484708,
          16.190126957183885,
          16.475741838979918,
          16.91549345340793,
          17.276465447001485,
          17.40172151600512,
          17.790309304145474,
          17.836364886560933,
          18.148244926400142,
          19.3290968008679,
          19.455454126603428,
          19.582536010862682,
          19.89649571209511,
          20.49487761299877,
          23.101777704996454,
          23.13979865613136,
          23.14504081731222,
          23.566890205462585,
          25.688046129052665,
          25.73924781435918,
          29.416230606402426,
          29.613671137986262,
          31.08675107838951,
          32.03198010260316,
          32.93348601475806,
          33.18956579886136,
          39.23874286107253,
          40.259112030836484,
          40.493928572038904,
          40.88639116175365,
          42.30026712583137,
          42.74504555752943,
          43.103323058352316,
          43.641397735853225,
          46.116699233676606,
          46.2588782897109,
          46.94059584210967,
          48.3736277023036,
          48.68585398674785,
          50.27727508736838,
          51.61006605523354,
          52.44783143920359,
          54.0498288124881,
          59.82209296091313,
          64.78173319734314,
          65.23328243929372,
          65.2806822413034,
          66.94482550863103,
          75.4196348687409,
          77.6299889911643,
          81.99372714940654,
          110.17237314087298,
          184.39698678267118
         ],
         "xaxis": "x",
         "y": [
          53.09781110247167,
          50.818688015192464,
          48.42415507329952,
          47.70167222127954,
          47.10439164920572,
          46.88161245427924,
          46.37877078617479,
          46.330812877266936,
          45.97504505177779,
          45.531876821740155,
          45.35636902943847,
          44.178678233462875,
          43.3277182534555,
          42.99457959120694,
          42.822766879100435,
          42.23473276071175,
          42.189753232364495,
          41.91739352599234,
          41.8918248656332,
          41.5675011712637,
          40.8749603276174,
          40.71684367942913,
          40.48390080326766,
          40.11879040162998,
          38.65477920293142,
          38.58812521364179,
          38.458990074003296,
          38.41572760691448,
          37.78956084929276,
          37.253848807213885,
          36.99370100115464,
          36.664615068560764,
          36.52186957325836,
          35.881487880896294,
          35.792884749657105,
          35.776563196401995,
          35.49542396561262,
          35.37420715926611,
          35.138631547028986,
          34.18709816035133,
          34.11253113048421,
          33.971583088555086,
          33.68795127631007,
          33.20123512264235,
          33.15522555822928,
          32.63483111503417,
          32.623707951367734,
          32.1920478424544,
          32.109047892792724,
          31.53009528970096,
          31.30171298387492,
          31.04703939997036,
          30.79059705731561,
          30.433250911766773,
          29.72849978306374,
          29.567435785858137,
          29.021590659367487,
          28.541000375908357,
          28.08703291522354,
          27.927666556296426,
          27.798961050767645,
          27.27930062112594,
          26.96143585955076,
          26.81607325954102,
          26.682230422306823,
          26.515108456710493,
          26.45477020147179,
          26.318848463370955,
          26.258987603592633,
          25.663547053910143,
          25.42246675514439,
          25.267517369107793,
          25.171313051731538,
          24.886987203182,
          24.789045944737605,
          24.67884071527913,
          24.567159357284957,
          24.534323780267737,
          24.305312645248776,
          24.221630061390314,
          23.839784450685382,
          23.82976566134336,
          23.555771770320558,
          23.549660285427713,
          23.228913289909055,
          23.13024758413666,
          22.830751979833416,
          22.041600341764802,
          22.00646483467671,
          21.923282493343685,
          21.822065777280375,
          21.610052499494646,
          20.945152580063603,
          20.86552102345132,
          20.74310814865436,
          20.55758401466745,
          20.497521024940383,
          20.152310324871568,
          19.78961775757926,
          19.49806673869834,
          19.490828906815988,
          19.31548761228641,
          18.707927365215387,
          18.346193685768316,
          18.324242557749063,
          18.190519697470066,
          18.159025516126672,
          18.14719181259365,
          17.74125688155875,
          17.634894006775408,
          17.553053355491244,
          17.53040654096424,
          17.09985411223502,
          16.899619039302646,
          16.891937636982245,
          16.649762018922758,
          15.894965701461178,
          15.629833697850732,
          15.608374737672936,
          14.832294474386202,
          14.666838094068527,
          14.445996996268804,
          14.41278493702518,
          14.078260326066477,
          13.935127520988434,
          13.53745823853242,
          13.462084542956678,
          12.980451059011472,
          11.976307846261765,
          11.710679069280381,
          11.546088881545007,
          11.516212642510013,
          11.057555928507707,
          11.044785854200093,
          10.955631540781187,
          10.659794534692182,
          10.479956708164703,
          10.209072663610026,
          9.991928070771223,
          9.917638535529726,
          9.690523530140304,
          9.663935228498332,
          9.485670666480473,
          8.837403859969275,
          8.770395875698167,
          8.703441172642503,
          8.539872575487948,
          8.235149766576974,
          7.003823933113502,
          6.9869127573672785,
          6.9845832989156875,
          6.7988350329285225,
          5.912547001102972,
          5.892069635444528,
          4.518878710789934,
          4.450084921874868,
          3.950851972006326,
          3.6428208372547886,
          3.3573923881980647,
          3.2777383248193246,
          1.555932449327969,
          1.2919292882208069,
          1.2321219622042179,
          1.1329324855206835,
          0.7833233147055694,
          0.6757559187335929,
          0.5899191482273167,
          0.4623374351108964,
          -0.10500851552794899,
          -0.1366649619313307,
          -0.2871114722103556,
          -0.5963646827735758,
          -0.6625278596140802,
          -0.9933027178868699,
          -1.2623632170468753,
          -1.427955505161087,
          -1.7373680033072318,
          -2.780850821542309,
          -3.5999408967871673,
          -3.6713735382296804,
          -3.678843234150044,
          -3.937713255567367,
          -5.163529866773644,
          -5.4605891622884855,
          -6.02299892304746,
          -9.060866819977285,
          -14.357481402467819
         ],
         "yaxis": "y"
        }
       ],
       "layout": {
        "legend": {
         "tracegroupgap": 0
        },
        "template": {
         "data": {
          "bar": [
           {
            "error_x": {
             "color": "#2a3f5f"
            },
            "error_y": {
             "color": "#2a3f5f"
            },
            "marker": {
             "line": {
              "color": "#E5ECF6",
              "width": 0.5
             },
             "pattern": {
              "fillmode": "overlay",
              "size": 10,
              "solidity": 0.2
             }
            },
            "type": "bar"
           }
          ],
          "barpolar": [
           {
            "marker": {
             "line": {
              "color": "#E5ECF6",
              "width": 0.5
             },
             "pattern": {
              "fillmode": "overlay",
              "size": 10,
              "solidity": 0.2
             }
            },
            "type": "barpolar"
           }
          ],
          "carpet": [
           {
            "aaxis": {
             "endlinecolor": "#2a3f5f",
             "gridcolor": "white",
             "linecolor": "white",
             "minorgridcolor": "white",
             "startlinecolor": "#2a3f5f"
            },
            "baxis": {
             "endlinecolor": "#2a3f5f",
             "gridcolor": "white",
             "linecolor": "white",
             "minorgridcolor": "white",
             "startlinecolor": "#2a3f5f"
            },
            "type": "carpet"
           }
          ],
          "choropleth": [
           {
            "colorbar": {
             "outlinewidth": 0,
             "ticks": ""
            },
            "type": "choropleth"
           }
          ],
          "contour": [
           {
            "colorbar": {
             "outlinewidth": 0,
             "ticks": ""
            },
            "colorscale": [
             [
              0,
              "#0d0887"
             ],
             [
              0.1111111111111111,
              "#46039f"
             ],
             [
              0.2222222222222222,
              "#7201a8"
             ],
             [
              0.3333333333333333,
              "#9c179e"
             ],
             [
              0.4444444444444444,
              "#bd3786"
             ],
             [
              0.5555555555555556,
              "#d8576b"
             ],
             [
              0.6666666666666666,
              "#ed7953"
             ],
             [
              0.7777777777777778,
              "#fb9f3a"
             ],
             [
              0.8888888888888888,
              "#fdca26"
             ],
             [
              1,
              "#f0f921"
             ]
            ],
            "type": "contour"
           }
          ],
          "contourcarpet": [
           {
            "colorbar": {
             "outlinewidth": 0,
             "ticks": ""
            },
            "type": "contourcarpet"
           }
          ],
          "heatmap": [
           {
            "colorbar": {
             "outlinewidth": 0,
             "ticks": ""
            },
            "colorscale": [
             [
              0,
              "#0d0887"
             ],
             [
              0.1111111111111111,
              "#46039f"
             ],
             [
              0.2222222222222222,
              "#7201a8"
             ],
             [
              0.3333333333333333,
              "#9c179e"
             ],
             [
              0.4444444444444444,
              "#bd3786"
             ],
             [
              0.5555555555555556,
              "#d8576b"
             ],
             [
              0.6666666666666666,
              "#ed7953"
             ],
             [
              0.7777777777777778,
              "#fb9f3a"
             ],
             [
              0.8888888888888888,
              "#fdca26"
             ],
             [
              1,
              "#f0f921"
             ]
            ],
            "type": "heatmap"
           }
          ],
          "heatmapgl": [
           {
            "colorbar": {
             "outlinewidth": 0,
             "ticks": ""
            },
            "colorscale": [
             [
              0,
              "#0d0887"
             ],
             [
              0.1111111111111111,
              "#46039f"
             ],
             [
              0.2222222222222222,
              "#7201a8"
             ],
             [
              0.3333333333333333,
              "#9c179e"
             ],
             [
              0.4444444444444444,
              "#bd3786"
             ],
             [
              0.5555555555555556,
              "#d8576b"
             ],
             [
              0.6666666666666666,
              "#ed7953"
             ],
             [
              0.7777777777777778,
              "#fb9f3a"
             ],
             [
              0.8888888888888888,
              "#fdca26"
             ],
             [
              1,
              "#f0f921"
             ]
            ],
            "type": "heatmapgl"
           }
          ],
          "histogram": [
           {
            "marker": {
             "pattern": {
              "fillmode": "overlay",
              "size": 10,
              "solidity": 0.2
             }
            },
            "type": "histogram"
           }
          ],
          "histogram2d": [
           {
            "colorbar": {
             "outlinewidth": 0,
             "ticks": ""
            },
            "colorscale": [
             [
              0,
              "#0d0887"
             ],
             [
              0.1111111111111111,
              "#46039f"
             ],
             [
              0.2222222222222222,
              "#7201a8"
             ],
             [
              0.3333333333333333,
              "#9c179e"
             ],
             [
              0.4444444444444444,
              "#bd3786"
             ],
             [
              0.5555555555555556,
              "#d8576b"
             ],
             [
              0.6666666666666666,
              "#ed7953"
             ],
             [
              0.7777777777777778,
              "#fb9f3a"
             ],
             [
              0.8888888888888888,
              "#fdca26"
             ],
             [
              1,
              "#f0f921"
             ]
            ],
            "type": "histogram2d"
           }
          ],
          "histogram2dcontour": [
           {
            "colorbar": {
             "outlinewidth": 0,
             "ticks": ""
            },
            "colorscale": [
             [
              0,
              "#0d0887"
             ],
             [
              0.1111111111111111,
              "#46039f"
             ],
             [
              0.2222222222222222,
              "#7201a8"
             ],
             [
              0.3333333333333333,
              "#9c179e"
             ],
             [
              0.4444444444444444,
              "#bd3786"
             ],
             [
              0.5555555555555556,
              "#d8576b"
             ],
             [
              0.6666666666666666,
              "#ed7953"
             ],
             [
              0.7777777777777778,
              "#fb9f3a"
             ],
             [
              0.8888888888888888,
              "#fdca26"
             ],
             [
              1,
              "#f0f921"
             ]
            ],
            "type": "histogram2dcontour"
           }
          ],
          "mesh3d": [
           {
            "colorbar": {
             "outlinewidth": 0,
             "ticks": ""
            },
            "type": "mesh3d"
           }
          ],
          "parcoords": [
           {
            "line": {
             "colorbar": {
              "outlinewidth": 0,
              "ticks": ""
             }
            },
            "type": "parcoords"
           }
          ],
          "pie": [
           {
            "automargin": true,
            "type": "pie"
           }
          ],
          "scatter": [
           {
            "fillpattern": {
             "fillmode": "overlay",
             "size": 10,
             "solidity": 0.2
            },
            "type": "scatter"
           }
          ],
          "scatter3d": [
           {
            "line": {
             "colorbar": {
              "outlinewidth": 0,
              "ticks": ""
             }
            },
            "marker": {
             "colorbar": {
              "outlinewidth": 0,
              "ticks": ""
             }
            },
            "type": "scatter3d"
           }
          ],
          "scattercarpet": [
           {
            "marker": {
             "colorbar": {
              "outlinewidth": 0,
              "ticks": ""
             }
            },
            "type": "scattercarpet"
           }
          ],
          "scattergeo": [
           {
            "marker": {
             "colorbar": {
              "outlinewidth": 0,
              "ticks": ""
             }
            },
            "type": "scattergeo"
           }
          ],
          "scattergl": [
           {
            "marker": {
             "colorbar": {
              "outlinewidth": 0,
              "ticks": ""
             }
            },
            "type": "scattergl"
           }
          ],
          "scattermapbox": [
           {
            "marker": {
             "colorbar": {
              "outlinewidth": 0,
              "ticks": ""
             }
            },
            "type": "scattermapbox"
           }
          ],
          "scatterpolar": [
           {
            "marker": {
             "colorbar": {
              "outlinewidth": 0,
              "ticks": ""
             }
            },
            "type": "scatterpolar"
           }
          ],
          "scatterpolargl": [
           {
            "marker": {
             "colorbar": {
              "outlinewidth": 0,
              "ticks": ""
             }
            },
            "type": "scatterpolargl"
           }
          ],
          "scatterternary": [
           {
            "marker": {
             "colorbar": {
              "outlinewidth": 0,
              "ticks": ""
             }
            },
            "type": "scatterternary"
           }
          ],
          "surface": [
           {
            "colorbar": {
             "outlinewidth": 0,
             "ticks": ""
            },
            "colorscale": [
             [
              0,
              "#0d0887"
             ],
             [
              0.1111111111111111,
              "#46039f"
             ],
             [
              0.2222222222222222,
              "#7201a8"
             ],
             [
              0.3333333333333333,
              "#9c179e"
             ],
             [
              0.4444444444444444,
              "#bd3786"
             ],
             [
              0.5555555555555556,
              "#d8576b"
             ],
             [
              0.6666666666666666,
              "#ed7953"
             ],
             [
              0.7777777777777778,
              "#fb9f3a"
             ],
             [
              0.8888888888888888,
              "#fdca26"
             ],
             [
              1,
              "#f0f921"
             ]
            ],
            "type": "surface"
           }
          ],
          "table": [
           {
            "cells": {
             "fill": {
              "color": "#EBF0F8"
             },
             "line": {
              "color": "white"
             }
            },
            "header": {
             "fill": {
              "color": "#C8D4E3"
             },
             "line": {
              "color": "white"
             }
            },
            "type": "table"
           }
          ]
         },
         "layout": {
          "annotationdefaults": {
           "arrowcolor": "#2a3f5f",
           "arrowhead": 0,
           "arrowwidth": 1
          },
          "autotypenumbers": "strict",
          "coloraxis": {
           "colorbar": {
            "outlinewidth": 0,
            "ticks": ""
           }
          },
          "colorscale": {
           "diverging": [
            [
             0,
             "#8e0152"
            ],
            [
             0.1,
             "#c51b7d"
            ],
            [
             0.2,
             "#de77ae"
            ],
            [
             0.3,
             "#f1b6da"
            ],
            [
             0.4,
             "#fde0ef"
            ],
            [
             0.5,
             "#f7f7f7"
            ],
            [
             0.6,
             "#e6f5d0"
            ],
            [
             0.7,
             "#b8e186"
            ],
            [
             0.8,
             "#7fbc41"
            ],
            [
             0.9,
             "#4d9221"
            ],
            [
             1,
             "#276419"
            ]
           ],
           "sequential": [
            [
             0,
             "#0d0887"
            ],
            [
             0.1111111111111111,
             "#46039f"
            ],
            [
             0.2222222222222222,
             "#7201a8"
            ],
            [
             0.3333333333333333,
             "#9c179e"
            ],
            [
             0.4444444444444444,
             "#bd3786"
            ],
            [
             0.5555555555555556,
             "#d8576b"
            ],
            [
             0.6666666666666666,
             "#ed7953"
            ],
            [
             0.7777777777777778,
             "#fb9f3a"
            ],
            [
             0.8888888888888888,
             "#fdca26"
            ],
            [
             1,
             "#f0f921"
            ]
           ],
           "sequentialminus": [
            [
             0,
             "#0d0887"
            ],
            [
             0.1111111111111111,
             "#46039f"
            ],
            [
             0.2222222222222222,
             "#7201a8"
            ],
            [
             0.3333333333333333,
             "#9c179e"
            ],
            [
             0.4444444444444444,
             "#bd3786"
            ],
            [
             0.5555555555555556,
             "#d8576b"
            ],
            [
             0.6666666666666666,
             "#ed7953"
            ],
            [
             0.7777777777777778,
             "#fb9f3a"
            ],
            [
             0.8888888888888888,
             "#fdca26"
            ],
            [
             1,
             "#f0f921"
            ]
           ]
          },
          "colorway": [
           "#636efa",
           "#EF553B",
           "#00cc96",
           "#ab63fa",
           "#FFA15A",
           "#19d3f3",
           "#FF6692",
           "#B6E880",
           "#FF97FF",
           "#FECB52"
          ],
          "font": {
           "color": "#2a3f5f"
          },
          "geo": {
           "bgcolor": "white",
           "lakecolor": "white",
           "landcolor": "#E5ECF6",
           "showlakes": true,
           "showland": true,
           "subunitcolor": "white"
          },
          "hoverlabel": {
           "align": "left"
          },
          "hovermode": "closest",
          "mapbox": {
           "style": "light"
          },
          "paper_bgcolor": "white",
          "plot_bgcolor": "#E5ECF6",
          "polar": {
           "angularaxis": {
            "gridcolor": "white",
            "linecolor": "white",
            "ticks": ""
           },
           "bgcolor": "#E5ECF6",
           "radialaxis": {
            "gridcolor": "white",
            "linecolor": "white",
            "ticks": ""
           }
          },
          "scene": {
           "xaxis": {
            "backgroundcolor": "#E5ECF6",
            "gridcolor": "white",
            "gridwidth": 2,
            "linecolor": "white",
            "showbackground": true,
            "ticks": "",
            "zerolinecolor": "white"
           },
           "yaxis": {
            "backgroundcolor": "#E5ECF6",
            "gridcolor": "white",
            "gridwidth": 2,
            "linecolor": "white",
            "showbackground": true,
            "ticks": "",
            "zerolinecolor": "white"
           },
           "zaxis": {
            "backgroundcolor": "#E5ECF6",
            "gridcolor": "white",
            "gridwidth": 2,
            "linecolor": "white",
            "showbackground": true,
            "ticks": "",
            "zerolinecolor": "white"
           }
          },
          "shapedefaults": {
           "line": {
            "color": "#2a3f5f"
           }
          },
          "ternary": {
           "aaxis": {
            "gridcolor": "white",
            "linecolor": "white",
            "ticks": ""
           },
           "baxis": {
            "gridcolor": "white",
            "linecolor": "white",
            "ticks": ""
           },
           "bgcolor": "#E5ECF6",
           "caxis": {
            "gridcolor": "white",
            "linecolor": "white",
            "ticks": ""
           }
          },
          "title": {
           "x": 0.05
          },
          "xaxis": {
           "automargin": true,
           "gridcolor": "white",
           "linecolor": "white",
           "ticks": "",
           "title": {
            "standoff": 15
           },
           "zerolinecolor": "white",
           "zerolinewidth": 2
          },
          "yaxis": {
           "automargin": true,
           "gridcolor": "white",
           "linecolor": "white",
           "ticks": "",
           "title": {
            "standoff": 15
           },
           "zerolinecolor": "white",
           "zerolinewidth": 2
          }
         }
        },
        "title": {
         "text": "Do high income means less infant mortality?"
        },
        "xaxis": {
         "anchor": "y",
         "domain": [
          0,
          1
         ],
         "title": {
          "text": "GDP_per_capita"
         }
        },
        "yaxis": {
         "anchor": "x",
         "domain": [
          0,
          1
         ],
         "title": {
          "text": "Infant mortality"
         }
        }
       }
      }
     },
     "metadata": {},
     "output_type": "display_data"
    }
   ],
   "source": [
    "\n",
    "fig = px.scatter(df, x=\"GDP_per_capita\", y=\"Infant mortality\",\n",
    "                 trendline=\"ols\", trendline_options=dict(log_x=True),\n",
    "                 title=\"Do high income means less infant mortality?\",hover_name=\"Country\")\n",
    "fig.show()\n"
   ]
  },
  {
   "cell_type": "markdown",
   "metadata": {
    "id": "xpWOTwIsPrA3"
   },
   "source": [
    "### Do high income means less infant mortality\n",
    "\n",
    "As we can see from the graph that as the society earns more people tend to have better health infrastructure and thus have better treatment and care for mother and infant thus having less death."
   ]
  },
  {
   "cell_type": "code",
   "execution_count": 51,
   "metadata": {
    "colab": {
     "base_uri": "https://localhost:8080/",
     "height": 542
    },
    "id": "FF_9tAaIUa-I",
    "outputId": "6752835c-b49b-43fa-e837-10a4902a96fc"
   },
   "outputs": [
    {
     "data": {
      "application/vnd.plotly.v1+json": {
       "config": {
        "plotlyServerURL": "https://plot.ly"
       },
       "data": [
        {
         "hovertemplate": "<b>%{hovertext}</b><br><br>GDP_per_capita=%{x}<br>Life expectancy=%{y}<extra></extra>",
         "hovertext": [
          "Afghanistan",
          "Albania",
          "Algeria",
          "Andorra",
          "Angola",
          "Antigua and Barbuda",
          "Argentina",
          "Armenia",
          "Australia",
          "Austria",
          "Azerbaijan",
          "The Bahamas",
          "Bahrain",
          "Bangladesh",
          "Barbados",
          "Belarus",
          "Belgium",
          "Belize",
          "Benin",
          "Bhutan",
          "Bolivia",
          "Bosnia and Herzegovina",
          "Botswana",
          "Brazil",
          "Brunei",
          "Bulgaria",
          "Burkina Faso",
          "Burundi",
          "Ivory Coast",
          "Cape Verde",
          "Cambodia",
          "Cameroon",
          "Canada",
          "Central African Republic",
          "Chad",
          "Chile",
          "China",
          "Colombia",
          "Comoros",
          "Republic of the Congo",
          "Costa Rica",
          "Croatia",
          "Cuba",
          "Cyprus",
          "Czech Republic",
          "Democratic Republic of the Congo",
          "Denmark",
          "Djibouti",
          "Dominica",
          "Dominican Republic",
          "Ecuador",
          "Egypt",
          "El Salvador",
          "Equatorial Guinea",
          "Eritrea",
          "Estonia",
          "Eswatini",
          "Ethiopia",
          "Fiji",
          "Finland",
          "France",
          "Gabon",
          "The Gambia",
          "Georgia",
          "Germany",
          "Ghana",
          "Greece",
          "Grenada",
          "Guatemala",
          "Guinea",
          "Guinea-Bissau",
          "Guyana",
          "Haiti",
          "Vatican City",
          "Honduras",
          "Hungary",
          "Iceland",
          "India",
          "Indonesia",
          "Iran",
          "Iraq",
          "Republic of Ireland",
          "Israel",
          "Italy",
          "Jamaica",
          "Japan",
          "Jordan",
          "Kazakhstan",
          "Kenya",
          "Kiribati",
          "Kuwait",
          "Kyrgyzstan",
          "Laos",
          "Latvia",
          "Lebanon",
          "Lesotho",
          "Liberia",
          "Libya",
          "Liechtenstein",
          "Lithuania",
          "Luxembourg",
          "Madagascar",
          "Malawi",
          "Malaysia",
          "Maldives",
          "Mali",
          "Malta",
          "Marshall Islands",
          "Mauritania",
          "Mauritius",
          "Mexico",
          "Federated States of Micronesia",
          "Moldova",
          "Monaco",
          "Mongolia",
          "Montenegro",
          "Morocco",
          "Myanmar",
          "Namibia",
          "Nauru",
          "Nepal",
          "Netherlands",
          "New Zealand",
          "Nicaragua",
          "Niger",
          "Nigeria",
          "North Korea",
          "North Macedonia",
          "Norway",
          "Oman",
          "Pakistan",
          "Palau",
          "Palestinian National Authority",
          "Panama",
          "Papua New Guinea",
          "Paraguay",
          "Peru",
          "Philippines",
          "Poland",
          "Portugal",
          "Qatar",
          "Romania",
          "Russia",
          "Rwanda",
          "Saint Kitts and Nevis",
          "Saint Lucia",
          "Saint Vincent and the Grenadines",
          "Samoa",
          "San Marino",
          "Sao Tome and Principe",
          "Saudi Arabia",
          "Senegal",
          "Serbia",
          "Seychelles",
          "Sierra Leone",
          "Singapore",
          "Slovakia",
          "Slovenia",
          "Solomon Islands",
          "South Africa",
          "South Korea",
          "South Sudan",
          "Spain",
          "Sri Lanka",
          "Sudan",
          "Suriname",
          "Sweden",
          "Switzerland",
          "Syria",
          "Tajikistan",
          "Tanzania",
          "Thailand",
          "East Timor",
          "Togo",
          "Tonga",
          "Trinidad and Tobago",
          "Tunisia",
          "Turkey",
          "Turkmenistan",
          "Tuvalu",
          "Uganda",
          "Ukraine",
          "United Arab Emirates",
          "United Kingdom",
          "United States",
          "Uruguay",
          "Uzbekistan",
          "Vanuatu",
          "Venezuela",
          "Vietnam",
          "Yemen",
          "Zambia",
          "Zimbabwe"
         ],
         "legendgroup": "",
         "marker": {
          "color": "#636efa",
          "symbol": "circle"
         },
         "mode": "markers",
         "name": "",
         "orientation": "v",
         "showlegend": false,
         "type": "scatter",
         "x": [
          0.5021154869199774,
          5.352857411084262,
          3.9483432789227915,
          40.88639116175365,
          2.973591159799147,
          17.790309304145474,
          10.00614897360654,
          4.622733493343377,
          54.0498288124881,
          50.27727508736838,
          3.911578980134123,
          32.93348601475806,
          25.688046129052665,
          1.8084378618138295,
          18.148244926400142,
          6.663295292861749,
          46.116699233676606,
          4.815163710795101,
          1.2194326718639563,
          3.364767826224481,
          3.552068762105775,
          6.073265202968797,
          7.817183083217436,
          8.655264804221776,
          31.08675107838951,
          12.328404026456756,
          0.7748396902513206,
          0.2612474725469144,
          2.28616277684902,
          4.097872209632197,
          1.6431213887666678,
          1.49790917558793,
          46.94059584210967,
          0.46790744070041523,
          0.7095403101522831,
          14.896453866597355,
          14.244677920749224,
          6.432387583390623,
          1.3935223719746241,
          2.0110723989259007,
          12.238374964463036,
          14.853239837492318,
          8.825442275777004,
          20.49487761299877,
          23.101777704996454,
          0.5452162123102617,
          59.82209296091313,
          3.4088462539545583,
          8.300375069630125,
          8.28211622189043,
          6.183823824821733,
          3.0200313497202007,
          4.187250031106896,
          8.13192388785725,
          0.3260630992391604,
          23.566890205462585,
          3.4679588049445775,
          0.8575013510413618,
          6.220046420428944,
          48.68585398674785,
          40.493928572038904,
          7.667366861228061,
          0.7512946885172164,
          4.76918654320981,
          46.2588782897109,
          2.1753153946557564,
          19.582536010862682,
          10.965513155897609,
          4.619987097105244,
          1.0641312373906195,
          0.6977844030106376,
          5.468356628928697,
          0.7545879177599515,
          null,
          2.574912190670397,
          16.475741838979918,
          66.94482550863103,
          1.910835827737642,
          4.142022784788127,
          5.371177207873912,
          5.955109010370268,
          77.6299889911643,
          43.641397735853225,
          33.18956579886136,
          5.582263777613991,
          40.259112030836484,
          4.330329345949304,
          9.731145206879361,
          1.8165469164371504,
          1.6550788395149907,
          32.03198010260316,
          1.3093929916833156,
          2.5348982772051714,
          17.836364886560933,
          7.784316856904599,
          1.1575351645063117,
          0.6218929536227152,
          7.683750611291678,
          172.3574722901707,
          19.455454126603428,
          110.17237314087298,
          0.5222198092446351,
          0.4115523404231106,
          11.23978150436468,
          10.790500236367437,
          0.8907372854890706,
          29.416230606402426,
          3.763807385484173,
          1.6779192526409197,
          11.203540584699034,
          9.985291138111739,
          3.5314526116944163,
          4.498520850289186,
          184.39698678267118,
          4.295235024728952,
          8.832036835938064,
          3.2165667385160237,
          1.4078131434078966,
          4.957458005716507,
          13.189210630702103,
          1.0710507605550896,
          52.44783143920359,
          42.74504555752943,
          1.912903745350624,
          0.5546009686961554,
          2.229858696245781,
          1.2506739905512165,
          5.564713196345863,
          75.4196348687409,
          14.617408775978893,
          1.4055805556086316,
          15.575873416333023,
          null,
          15.73101603484708,
          2.845180185774812,
          5.4147991379540406,
          6.977695783568442,
          3.4850842183692117,
          15.595227033436208,
          23.14504081731222,
          64.78173319734314,
          12.919529644186483,
          11.774156384485565,
          0.8016561869651816,
          19.89649571209511,
          11.611415449422836,
          8.216466925489025,
          4.200641052610787,
          48.3736277023036,
          1.9949064662227514,
          23.13979865613136,
          1.4468309649931728,
          7.402354558655718,
          17.40172151600512,
          0.5044625433960285,
          65.23328243929372,
          19.3290968008679,
          25.73924781435918,
          2.1275385079341853,
          6.0014008139413955,
          39.23874286107253,
          1.08458490263117,
          29.613671137986262,
          3.8530836928863,
          0.4415056033837011,
          6.8549065606874775,
          51.61006605523354,
          81.99372714940654,
          2.366999792737433,
          0.8707875892955039,
          1.0891572087787662,
          7.808192916304814,
          0.4781543714285714,
          0.6755422133815766,
          4.494140386592023,
          17.276465447001485,
          3.3175410135121672,
          9.042492982893423,
          6.859732807266939,
          4.059029967370771,
          0.7767685758762549,
          3.464696002931611,
          43.103323058352316,
          42.30026712583137,
          65.2806822413034,
          16.190126957183885,
          1.7248411344032948,
          3.058065675832494,
          16.91549345340793,
          2.715276036405425,
          0.9229296417430922,
          1.2913433573539712,
          1.463985910180542
         ],
         "xaxis": "x",
         "y": [
          64.5,
          78.5,
          76.7,
          null,
          60.8,
          76.9,
          76.5,
          74.9,
          82.7,
          81.6,
          72.9,
          73.8,
          77.2,
          72.3,
          79.1,
          74.2,
          81.6,
          74.5,
          61.5,
          71.5,
          71.2,
          77.3,
          69.3,
          75.7,
          75.7,
          74.9,
          61.2,
          61.2,
          57.4,
          72.8,
          69.6,
          58.9,
          81.9,
          52.8,
          54,
          80,
          77,
          77.1,
          64.1,
          64.3,
          80.1,
          78.1,
          78.7,
          80.8,
          79,
          60.4,
          81,
          66.6,
          76.6,
          73.9,
          76.8,
          71.8,
          73.1,
          58.4,
          65.9,
          78.2,
          null,
          66.2,
          67.3,
          81.7,
          82.5,
          66.2,
          61.7,
          73.6,
          80.9,
          63.8,
          81.3,
          72.4,
          74.1,
          61.2,
          58,
          69.8,
          63.7,
          null,
          75.1,
          75.8,
          82.7,
          69.4,
          71.5,
          76.5,
          70.5,
          82.3,
          82.8,
          82.9,
          74.4,
          84.2,
          74.4,
          73.2,
          66.3,
          68.1,
          75.4,
          71.4,
          67.6,
          74.7,
          78.9,
          53.7,
          63.7,
          72.7,
          83,
          75.7,
          82.1,
          66.7,
          63.8,
          76,
          78.6,
          58.9,
          82.3,
          65.2,
          64.7,
          74.4,
          75,
          67.8,
          71.8,
          null,
          69.7,
          76.8,
          76.5,
          66.9,
          63.4,
          null,
          70.5,
          81.8,
          81.9,
          74.3,
          62,
          54.3,
          72.1,
          null,
          82.8,
          77.6,
          67.1,
          69.1,
          null,
          78.3,
          64.3,
          74.1,
          76.5,
          71.1,
          77.6,
          81.3,
          80.1,
          75.4,
          72.7,
          68.7,
          71.3,
          76.1,
          72.4,
          73.2,
          85.4,
          70.2,
          75,
          67.7,
          75.5,
          72.8,
          54.3,
          83.1,
          77.2,
          81,
          72.8,
          63.9,
          82.6,
          57.6,
          83.3,
          76.8,
          65.1,
          71.6,
          82.5,
          83.6,
          71.8,
          70.9,
          65,
          76.9,
          69.3,
          60.8,
          70.8,
          73.4,
          76.5,
          77.4,
          68.1,
          null,
          63,
          71.6,
          77.8,
          81.3,
          78.5,
          77.8,
          71.6,
          70.3,
          72.1,
          75.3,
          66.1,
          63.5,
          61.2
         ],
         "yaxis": "y"
        },
        {
         "hovertemplate": "<b>OLS trendline</b><br>Life expectancy = 9.74433 * log10(GDP_per_capita) + 64.8787<br>R<sup>2</sup>=0.685444<br><br>GDP_per_capita=%{x}<br>Life expectancy=%{y} <b>(trend)</b><extra></extra>",
         "legendgroup": "",
         "marker": {
          "color": "#636efa",
          "symbol": "circle"
         },
         "mode": "lines",
         "name": "",
         "showlegend": false,
         "type": "scatter",
         "x": [
          0.2612474725469144,
          0.3260630992391604,
          0.4115523404231106,
          0.4415056033837011,
          0.46790744070041523,
          0.4781543714285714,
          0.5021154869199774,
          0.5044625433960285,
          0.5222198092446351,
          0.5452162123102617,
          0.5546009686961554,
          0.6218929536227152,
          0.6755422133815766,
          0.6977844030106376,
          0.7095403101522831,
          0.7512946885172164,
          0.7545879177599515,
          0.7748396902513206,
          0.7767685758762549,
          0.8016561869651816,
          0.8575013510413618,
          0.8707875892955039,
          0.8907372854890706,
          0.9229296417430922,
          1.0641312373906195,
          1.0710507605550896,
          1.08458490263117,
          1.0891572087787662,
          1.1575351645063117,
          1.2194326718639563,
          1.2506739905512165,
          1.2913433573539712,
          1.3093929916833156,
          1.3935223719746241,
          1.4055805556086316,
          1.4078131434078966,
          1.4468309649931728,
          1.463985910180542,
          1.49790917558793,
          1.6431213887666678,
          1.6550788395149907,
          1.6779192526409197,
          1.7248411344032948,
          1.8084378618138295,
          1.8165469164371504,
          1.910835827737642,
          1.912903745350624,
          1.9949064662227514,
          2.0110723989259007,
          2.1275385079341853,
          2.1753153946557564,
          2.229858696245781,
          2.28616277684902,
          2.366999792737433,
          2.5348982772051714,
          2.574912190670397,
          2.715276036405425,
          2.845180185774812,
          2.973591159799147,
          3.0200313497202007,
          3.058065675832494,
          3.2165667385160237,
          3.3175410135121672,
          3.364767826224481,
          3.4088462539545583,
          3.464696002931611,
          3.4850842183692117,
          3.5314526116944163,
          3.552068762105775,
          3.763807385484173,
          3.8530836928863,
          3.911578980134123,
          3.9483432789227915,
          4.097872209632197,
          4.142022784788127,
          4.187250031106896,
          4.200641052610787,
          4.295235024728952,
          4.330329345949304,
          4.494140386592023,
          4.498520850289186,
          4.619987097105244,
          4.622733493343377,
          4.76918654320981,
          4.815163710795101,
          4.957458005716507,
          5.352857411084262,
          5.371177207873912,
          5.4147991379540406,
          5.468356628928697,
          5.582263777613991,
          5.955109010370268,
          6.0014008139413955,
          6.073265202968797,
          6.183823824821733,
          6.220046420428944,
          6.432387583390623,
          6.663295292861749,
          6.8549065606874775,
          6.859732807266939,
          6.977695783568442,
          7.402354558655718,
          7.667366861228061,
          7.683750611291678,
          7.784316856904599,
          7.808192916304814,
          7.817183083217436,
          8.13192388785725,
          8.216466925489025,
          8.28211622189043,
          8.300375069630125,
          8.655264804221776,
          8.825442275777004,
          8.832036835938064,
          9.042492982893423,
          9.731145206879361,
          9.985291138111739,
          10.00614897360654,
          10.790500236367437,
          10.965513155897609,
          11.203540584699034,
          11.23978150436468,
          11.611415449422836,
          11.774156384485565,
          12.238374964463036,
          12.328404026456756,
          12.919529644186483,
          14.244677920749224,
          14.617408775978893,
          14.853239837492318,
          14.896453866597355,
          15.575873416333023,
          15.595227033436208,
          15.73101603484708,
          16.190126957183885,
          16.475741838979918,
          16.91549345340793,
          17.276465447001485,
          17.40172151600512,
          17.790309304145474,
          17.836364886560933,
          18.148244926400142,
          19.3290968008679,
          19.455454126603428,
          19.582536010862682,
          19.89649571209511,
          20.49487761299877,
          23.101777704996454,
          23.13979865613136,
          23.14504081731222,
          23.566890205462585,
          25.688046129052665,
          25.73924781435918,
          29.416230606402426,
          29.613671137986262,
          31.08675107838951,
          32.03198010260316,
          32.93348601475806,
          33.18956579886136,
          39.23874286107253,
          40.259112030836484,
          40.493928572038904,
          42.30026712583137,
          42.74504555752943,
          43.103323058352316,
          43.641397735853225,
          46.116699233676606,
          46.2588782897109,
          46.94059584210967,
          48.3736277023036,
          48.68585398674785,
          50.27727508736838,
          51.61006605523354,
          52.44783143920359,
          54.0498288124881,
          59.82209296091313,
          64.78173319734314,
          65.23328243929372,
          65.2806822413034,
          66.94482550863103,
          75.4196348687409,
          77.6299889911643,
          81.99372714940654,
          110.17237314087298,
          172.3574722901707
         ],
         "xaxis": "x",
         "y": [
          59.198300065506885,
          60.13618771203156,
          61.12156795671102,
          61.4188786835943,
          61.664667106862815,
          61.756343531006145,
          61.96326916451198,
          61.98300444365021,
          62.12940735204053,
          62.31177661967877,
          62.384000270602805,
          62.86863475793535,
          63.21881542934813,
          63.35590615413021,
          63.426609233353965,
          63.66859262532169,
          63.68710226362023,
          63.79918168813367,
          63.809703511559036,
          63.943166766844435,
          64.22815598291395,
          64.29322296059206,
          64.38908186664113,
          64.53932936192777,
          65.14178827487412,
          65.16921722484845,
          65.22235794939957,
          65.24016099552168,
          65.49783644531009,
          65.71828864868804,
          65.82534272353608,
          65.96076569939356,
          66.01950725547205,
          66.28303232863689,
          66.31949362495584,
          66.32621014819037,
          66.44190245677278,
          66.49178468817051,
          66.58872699803209,
          66.98029488376928,
          67.01098014887882,
          67.06898203042044,
          67.18570006743684,
          67.38598985013302,
          67.40492336115129,
          67.61907218107108,
          67.62364950199387,
          67.80128303390224,
          67.83543855094489,
          68.0736847858208,
          68.16766696015557,
          68.2724683241422,
          68.37799755446949,
          68.52504996129827,
          68.81506386233508,
          68.88134371098484,
          69.10596580529324,
          69.30373471580617,
          69.49054800187962,
          69.55612925115202,
          69.60909317589523,
          69.82293994006034,
          69.95374526374418,
          70.01356379113166,
          70.06864179210423,
          70.13741457049017,
          70.16224451693627,
          70.21817801160817,
          70.2428115038534,
          70.4878427349019,
          70.58705029209567,
          70.65081390179776,
          70.69040318125052,
          70.84771087530329,
          70.89306170513272,
          70.93901998031077,
          70.95253223079995,
          71.04677317620991,
          71.08120960575958,
          71.23834384881943,
          71.24246670589962,
          71.35521861782917,
          71.3577335702751,
          71.48972496926355,
          71.5303271408163,
          71.6535733266113,
          71.97831909252024,
          71.99277779298984,
          72.0270083664857,
          72.06866031066872,
          72.15590642530127,
          72.4295210554589,
          72.46229043664636,
          72.51266486516602,
          72.58901036592887,
          72.61372703717527,
          72.7557855564583,
          72.90503808268139,
          73.02501497224313,
          73.02799343055807,
          73.10014856556714,
          73.35016720362484,
          73.49902513551054,
          73.50805829914765,
          73.56308692810308,
          73.57604717750085,
          73.5809168944627,
          73.74796419402956,
          73.79173384686882,
          73.8254122981343,
          73.8347317454676,
          74.01190945313077,
          74.09430868920205,
          74.09746968229825,
          74.19712797707628,
          74.50773609900735,
          74.61684123346564,
          74.62567186388237,
          74.94503859563584,
          75.01312596485462,
          75.10400483779807,
          75.1176720154306,
          75.25533307543556,
          75.31423401432929,
          75.47787989615969,
          75.50889711429414,
          75.70709531485035,
          76.12031280180224,
          76.22962236471386,
          76.29735328485495,
          76.30964773076352,
          76.49839070320732,
          76.50364574845045,
          76.54033386312783,
          76.66207449001384,
          76.73608000416064,
          76.84755217538583,
          76.93690989032008,
          76.96748096292161,
          77.06094162728152,
          77.07188304584346,
          77.14524114197387,
          77.41201103819948,
          77.43958566153472,
          77.46713835898365,
          77.53444888182766,
          77.659846127675,
          78.16655210353817,
          78.1735112637999,
          78.17446986507818,
          78.25090759896149,
          78.6156262054077,
          78.62405289740674,
          79.18913813204883,
          79.21744763632316,
          79.42288823715474,
          79.54964690044982,
          79.66710427597778,
          79.69988291898103,
          80.40842756466085,
          80.517068166315,
          80.54167962874796,
          80.72636588356909,
          80.77063121193771,
          80.80595411622697,
          80.85845558634159,
          81.09192553861399,
          81.10495256211277,
          81.1668631821407,
          81.29412474491203,
          81.32135171942687,
          81.45746970931803,
          81.56819146881334,
          81.63633476578967,
          81.76366187739295,
          82.19306810386918,
          82.53013391099951,
          82.55952933608273,
          82.56260320934834,
          82.66913145983995,
          83.1735703218619,
          83.29581393612904,
          83.52725258454818,
          84.77737320690812,
          86.6712564181079
         ],
         "yaxis": "y"
        }
       ],
       "layout": {
        "legend": {
         "tracegroupgap": 0
        },
        "template": {
         "data": {
          "bar": [
           {
            "error_x": {
             "color": "#2a3f5f"
            },
            "error_y": {
             "color": "#2a3f5f"
            },
            "marker": {
             "line": {
              "color": "#E5ECF6",
              "width": 0.5
             },
             "pattern": {
              "fillmode": "overlay",
              "size": 10,
              "solidity": 0.2
             }
            },
            "type": "bar"
           }
          ],
          "barpolar": [
           {
            "marker": {
             "line": {
              "color": "#E5ECF6",
              "width": 0.5
             },
             "pattern": {
              "fillmode": "overlay",
              "size": 10,
              "solidity": 0.2
             }
            },
            "type": "barpolar"
           }
          ],
          "carpet": [
           {
            "aaxis": {
             "endlinecolor": "#2a3f5f",
             "gridcolor": "white",
             "linecolor": "white",
             "minorgridcolor": "white",
             "startlinecolor": "#2a3f5f"
            },
            "baxis": {
             "endlinecolor": "#2a3f5f",
             "gridcolor": "white",
             "linecolor": "white",
             "minorgridcolor": "white",
             "startlinecolor": "#2a3f5f"
            },
            "type": "carpet"
           }
          ],
          "choropleth": [
           {
            "colorbar": {
             "outlinewidth": 0,
             "ticks": ""
            },
            "type": "choropleth"
           }
          ],
          "contour": [
           {
            "colorbar": {
             "outlinewidth": 0,
             "ticks": ""
            },
            "colorscale": [
             [
              0,
              "#0d0887"
             ],
             [
              0.1111111111111111,
              "#46039f"
             ],
             [
              0.2222222222222222,
              "#7201a8"
             ],
             [
              0.3333333333333333,
              "#9c179e"
             ],
             [
              0.4444444444444444,
              "#bd3786"
             ],
             [
              0.5555555555555556,
              "#d8576b"
             ],
             [
              0.6666666666666666,
              "#ed7953"
             ],
             [
              0.7777777777777778,
              "#fb9f3a"
             ],
             [
              0.8888888888888888,
              "#fdca26"
             ],
             [
              1,
              "#f0f921"
             ]
            ],
            "type": "contour"
           }
          ],
          "contourcarpet": [
           {
            "colorbar": {
             "outlinewidth": 0,
             "ticks": ""
            },
            "type": "contourcarpet"
           }
          ],
          "heatmap": [
           {
            "colorbar": {
             "outlinewidth": 0,
             "ticks": ""
            },
            "colorscale": [
             [
              0,
              "#0d0887"
             ],
             [
              0.1111111111111111,
              "#46039f"
             ],
             [
              0.2222222222222222,
              "#7201a8"
             ],
             [
              0.3333333333333333,
              "#9c179e"
             ],
             [
              0.4444444444444444,
              "#bd3786"
             ],
             [
              0.5555555555555556,
              "#d8576b"
             ],
             [
              0.6666666666666666,
              "#ed7953"
             ],
             [
              0.7777777777777778,
              "#fb9f3a"
             ],
             [
              0.8888888888888888,
              "#fdca26"
             ],
             [
              1,
              "#f0f921"
             ]
            ],
            "type": "heatmap"
           }
          ],
          "heatmapgl": [
           {
            "colorbar": {
             "outlinewidth": 0,
             "ticks": ""
            },
            "colorscale": [
             [
              0,
              "#0d0887"
             ],
             [
              0.1111111111111111,
              "#46039f"
             ],
             [
              0.2222222222222222,
              "#7201a8"
             ],
             [
              0.3333333333333333,
              "#9c179e"
             ],
             [
              0.4444444444444444,
              "#bd3786"
             ],
             [
              0.5555555555555556,
              "#d8576b"
             ],
             [
              0.6666666666666666,
              "#ed7953"
             ],
             [
              0.7777777777777778,
              "#fb9f3a"
             ],
             [
              0.8888888888888888,
              "#fdca26"
             ],
             [
              1,
              "#f0f921"
             ]
            ],
            "type": "heatmapgl"
           }
          ],
          "histogram": [
           {
            "marker": {
             "pattern": {
              "fillmode": "overlay",
              "size": 10,
              "solidity": 0.2
             }
            },
            "type": "histogram"
           }
          ],
          "histogram2d": [
           {
            "colorbar": {
             "outlinewidth": 0,
             "ticks": ""
            },
            "colorscale": [
             [
              0,
              "#0d0887"
             ],
             [
              0.1111111111111111,
              "#46039f"
             ],
             [
              0.2222222222222222,
              "#7201a8"
             ],
             [
              0.3333333333333333,
              "#9c179e"
             ],
             [
              0.4444444444444444,
              "#bd3786"
             ],
             [
              0.5555555555555556,
              "#d8576b"
             ],
             [
              0.6666666666666666,
              "#ed7953"
             ],
             [
              0.7777777777777778,
              "#fb9f3a"
             ],
             [
              0.8888888888888888,
              "#fdca26"
             ],
             [
              1,
              "#f0f921"
             ]
            ],
            "type": "histogram2d"
           }
          ],
          "histogram2dcontour": [
           {
            "colorbar": {
             "outlinewidth": 0,
             "ticks": ""
            },
            "colorscale": [
             [
              0,
              "#0d0887"
             ],
             [
              0.1111111111111111,
              "#46039f"
             ],
             [
              0.2222222222222222,
              "#7201a8"
             ],
             [
              0.3333333333333333,
              "#9c179e"
             ],
             [
              0.4444444444444444,
              "#bd3786"
             ],
             [
              0.5555555555555556,
              "#d8576b"
             ],
             [
              0.6666666666666666,
              "#ed7953"
             ],
             [
              0.7777777777777778,
              "#fb9f3a"
             ],
             [
              0.8888888888888888,
              "#fdca26"
             ],
             [
              1,
              "#f0f921"
             ]
            ],
            "type": "histogram2dcontour"
           }
          ],
          "mesh3d": [
           {
            "colorbar": {
             "outlinewidth": 0,
             "ticks": ""
            },
            "type": "mesh3d"
           }
          ],
          "parcoords": [
           {
            "line": {
             "colorbar": {
              "outlinewidth": 0,
              "ticks": ""
             }
            },
            "type": "parcoords"
           }
          ],
          "pie": [
           {
            "automargin": true,
            "type": "pie"
           }
          ],
          "scatter": [
           {
            "fillpattern": {
             "fillmode": "overlay",
             "size": 10,
             "solidity": 0.2
            },
            "type": "scatter"
           }
          ],
          "scatter3d": [
           {
            "line": {
             "colorbar": {
              "outlinewidth": 0,
              "ticks": ""
             }
            },
            "marker": {
             "colorbar": {
              "outlinewidth": 0,
              "ticks": ""
             }
            },
            "type": "scatter3d"
           }
          ],
          "scattercarpet": [
           {
            "marker": {
             "colorbar": {
              "outlinewidth": 0,
              "ticks": ""
             }
            },
            "type": "scattercarpet"
           }
          ],
          "scattergeo": [
           {
            "marker": {
             "colorbar": {
              "outlinewidth": 0,
              "ticks": ""
             }
            },
            "type": "scattergeo"
           }
          ],
          "scattergl": [
           {
            "marker": {
             "colorbar": {
              "outlinewidth": 0,
              "ticks": ""
             }
            },
            "type": "scattergl"
           }
          ],
          "scattermapbox": [
           {
            "marker": {
             "colorbar": {
              "outlinewidth": 0,
              "ticks": ""
             }
            },
            "type": "scattermapbox"
           }
          ],
          "scatterpolar": [
           {
            "marker": {
             "colorbar": {
              "outlinewidth": 0,
              "ticks": ""
             }
            },
            "type": "scatterpolar"
           }
          ],
          "scatterpolargl": [
           {
            "marker": {
             "colorbar": {
              "outlinewidth": 0,
              "ticks": ""
             }
            },
            "type": "scatterpolargl"
           }
          ],
          "scatterternary": [
           {
            "marker": {
             "colorbar": {
              "outlinewidth": 0,
              "ticks": ""
             }
            },
            "type": "scatterternary"
           }
          ],
          "surface": [
           {
            "colorbar": {
             "outlinewidth": 0,
             "ticks": ""
            },
            "colorscale": [
             [
              0,
              "#0d0887"
             ],
             [
              0.1111111111111111,
              "#46039f"
             ],
             [
              0.2222222222222222,
              "#7201a8"
             ],
             [
              0.3333333333333333,
              "#9c179e"
             ],
             [
              0.4444444444444444,
              "#bd3786"
             ],
             [
              0.5555555555555556,
              "#d8576b"
             ],
             [
              0.6666666666666666,
              "#ed7953"
             ],
             [
              0.7777777777777778,
              "#fb9f3a"
             ],
             [
              0.8888888888888888,
              "#fdca26"
             ],
             [
              1,
              "#f0f921"
             ]
            ],
            "type": "surface"
           }
          ],
          "table": [
           {
            "cells": {
             "fill": {
              "color": "#EBF0F8"
             },
             "line": {
              "color": "white"
             }
            },
            "header": {
             "fill": {
              "color": "#C8D4E3"
             },
             "line": {
              "color": "white"
             }
            },
            "type": "table"
           }
          ]
         },
         "layout": {
          "annotationdefaults": {
           "arrowcolor": "#2a3f5f",
           "arrowhead": 0,
           "arrowwidth": 1
          },
          "autotypenumbers": "strict",
          "coloraxis": {
           "colorbar": {
            "outlinewidth": 0,
            "ticks": ""
           }
          },
          "colorscale": {
           "diverging": [
            [
             0,
             "#8e0152"
            ],
            [
             0.1,
             "#c51b7d"
            ],
            [
             0.2,
             "#de77ae"
            ],
            [
             0.3,
             "#f1b6da"
            ],
            [
             0.4,
             "#fde0ef"
            ],
            [
             0.5,
             "#f7f7f7"
            ],
            [
             0.6,
             "#e6f5d0"
            ],
            [
             0.7,
             "#b8e186"
            ],
            [
             0.8,
             "#7fbc41"
            ],
            [
             0.9,
             "#4d9221"
            ],
            [
             1,
             "#276419"
            ]
           ],
           "sequential": [
            [
             0,
             "#0d0887"
            ],
            [
             0.1111111111111111,
             "#46039f"
            ],
            [
             0.2222222222222222,
             "#7201a8"
            ],
            [
             0.3333333333333333,
             "#9c179e"
            ],
            [
             0.4444444444444444,
             "#bd3786"
            ],
            [
             0.5555555555555556,
             "#d8576b"
            ],
            [
             0.6666666666666666,
             "#ed7953"
            ],
            [
             0.7777777777777778,
             "#fb9f3a"
            ],
            [
             0.8888888888888888,
             "#fdca26"
            ],
            [
             1,
             "#f0f921"
            ]
           ],
           "sequentialminus": [
            [
             0,
             "#0d0887"
            ],
            [
             0.1111111111111111,
             "#46039f"
            ],
            [
             0.2222222222222222,
             "#7201a8"
            ],
            [
             0.3333333333333333,
             "#9c179e"
            ],
            [
             0.4444444444444444,
             "#bd3786"
            ],
            [
             0.5555555555555556,
             "#d8576b"
            ],
            [
             0.6666666666666666,
             "#ed7953"
            ],
            [
             0.7777777777777778,
             "#fb9f3a"
            ],
            [
             0.8888888888888888,
             "#fdca26"
            ],
            [
             1,
             "#f0f921"
            ]
           ]
          },
          "colorway": [
           "#636efa",
           "#EF553B",
           "#00cc96",
           "#ab63fa",
           "#FFA15A",
           "#19d3f3",
           "#FF6692",
           "#B6E880",
           "#FF97FF",
           "#FECB52"
          ],
          "font": {
           "color": "#2a3f5f"
          },
          "geo": {
           "bgcolor": "white",
           "lakecolor": "white",
           "landcolor": "#E5ECF6",
           "showlakes": true,
           "showland": true,
           "subunitcolor": "white"
          },
          "hoverlabel": {
           "align": "left"
          },
          "hovermode": "closest",
          "mapbox": {
           "style": "light"
          },
          "paper_bgcolor": "white",
          "plot_bgcolor": "#E5ECF6",
          "polar": {
           "angularaxis": {
            "gridcolor": "white",
            "linecolor": "white",
            "ticks": ""
           },
           "bgcolor": "#E5ECF6",
           "radialaxis": {
            "gridcolor": "white",
            "linecolor": "white",
            "ticks": ""
           }
          },
          "scene": {
           "xaxis": {
            "backgroundcolor": "#E5ECF6",
            "gridcolor": "white",
            "gridwidth": 2,
            "linecolor": "white",
            "showbackground": true,
            "ticks": "",
            "zerolinecolor": "white"
           },
           "yaxis": {
            "backgroundcolor": "#E5ECF6",
            "gridcolor": "white",
            "gridwidth": 2,
            "linecolor": "white",
            "showbackground": true,
            "ticks": "",
            "zerolinecolor": "white"
           },
           "zaxis": {
            "backgroundcolor": "#E5ECF6",
            "gridcolor": "white",
            "gridwidth": 2,
            "linecolor": "white",
            "showbackground": true,
            "ticks": "",
            "zerolinecolor": "white"
           }
          },
          "shapedefaults": {
           "line": {
            "color": "#2a3f5f"
           }
          },
          "ternary": {
           "aaxis": {
            "gridcolor": "white",
            "linecolor": "white",
            "ticks": ""
           },
           "baxis": {
            "gridcolor": "white",
            "linecolor": "white",
            "ticks": ""
           },
           "bgcolor": "#E5ECF6",
           "caxis": {
            "gridcolor": "white",
            "linecolor": "white",
            "ticks": ""
           }
          },
          "title": {
           "x": 0.05
          },
          "xaxis": {
           "automargin": true,
           "gridcolor": "white",
           "linecolor": "white",
           "ticks": "",
           "title": {
            "standoff": 15
           },
           "zerolinecolor": "white",
           "zerolinewidth": 2
          },
          "yaxis": {
           "automargin": true,
           "gridcolor": "white",
           "linecolor": "white",
           "ticks": "",
           "title": {
            "standoff": 15
           },
           "zerolinecolor": "white",
           "zerolinewidth": 2
          }
         }
        },
        "title": {
         "text": "can we buy life with money?"
        },
        "xaxis": {
         "anchor": "y",
         "domain": [
          0,
          1
         ],
         "title": {
          "text": "GDP_per_capita"
         }
        },
        "yaxis": {
         "anchor": "x",
         "domain": [
          0,
          1
         ],
         "title": {
          "text": "Life expectancy"
         }
        }
       }
      }
     },
     "metadata": {},
     "output_type": "display_data"
    }
   ],
   "source": [
    "\n",
    "fig = px.scatter(df, x=\"GDP_per_capita\", y=\"Life expectancy\",\n",
    "                 trendline=\"ols\", trendline_options=dict(log_x=True),\n",
    "                 title=\"can we buy life with money?\",hover_name=\"Country\")\n",
    "fig.show()\n"
   ]
  },
  {
   "cell_type": "markdown",
   "metadata": {
    "id": "GCjOXNtuQTGc"
   },
   "source": [
    "### Can we buy life with money\n",
    "\n",
    "Its same as infant mortality vs GDP per capita people with money have better life style, eating habits, health infrastructure and better condition to live in."
   ]
  },
  {
   "cell_type": "code",
   "execution_count": 52,
   "metadata": {
    "colab": {
     "base_uri": "https://localhost:8080/",
     "height": 542
    },
    "id": "CH5LPBTVUa-I",
    "outputId": "6c96ddeb-f6c3-419f-fd73-812cb35c29f7"
   },
   "outputs": [
    {
     "data": {
      "application/vnd.plotly.v1+json": {
       "config": {
        "plotlyServerURL": "https://plot.ly"
       },
       "data": [
        {
         "hovertemplate": "<b>%{hovertext}</b><br><br>Physicians per thousand=%{x}<br>Life expectancy=%{y}<extra></extra>",
         "hovertext": [
          "Afghanistan",
          "Albania",
          "Algeria",
          "Andorra",
          "Angola",
          "Antigua and Barbuda",
          "Argentina",
          "Armenia",
          "Australia",
          "Austria",
          "Azerbaijan",
          "The Bahamas",
          "Bahrain",
          "Bangladesh",
          "Barbados",
          "Belarus",
          "Belgium",
          "Belize",
          "Benin",
          "Bhutan",
          "Bolivia",
          "Bosnia and Herzegovina",
          "Botswana",
          "Brazil",
          "Brunei",
          "Bulgaria",
          "Burkina Faso",
          "Burundi",
          "Ivory Coast",
          "Cape Verde",
          "Cambodia",
          "Cameroon",
          "Canada",
          "Central African Republic",
          "Chad",
          "Chile",
          "China",
          "Colombia",
          "Comoros",
          "Republic of the Congo",
          "Costa Rica",
          "Croatia",
          "Cuba",
          "Cyprus",
          "Czech Republic",
          "Democratic Republic of the Congo",
          "Denmark",
          "Djibouti",
          "Dominica",
          "Dominican Republic",
          "Ecuador",
          "Egypt",
          "El Salvador",
          "Equatorial Guinea",
          "Eritrea",
          "Estonia",
          "Eswatini",
          "Ethiopia",
          "Fiji",
          "Finland",
          "France",
          "Gabon",
          "The Gambia",
          "Georgia",
          "Germany",
          "Ghana",
          "Greece",
          "Grenada",
          "Guatemala",
          "Guinea",
          "Guinea-Bissau",
          "Guyana",
          "Haiti",
          "Vatican City",
          "Honduras",
          "Hungary",
          "Iceland",
          "India",
          "Indonesia",
          "Iran",
          "Iraq",
          "Republic of Ireland",
          "Israel",
          "Italy",
          "Jamaica",
          "Japan",
          "Jordan",
          "Kazakhstan",
          "Kenya",
          "Kiribati",
          "Kuwait",
          "Kyrgyzstan",
          "Laos",
          "Latvia",
          "Lebanon",
          "Lesotho",
          "Liberia",
          "Libya",
          "Liechtenstein",
          "Lithuania",
          "Luxembourg",
          "Madagascar",
          "Malawi",
          "Malaysia",
          "Maldives",
          "Mali",
          "Malta",
          "Marshall Islands",
          "Mauritania",
          "Mauritius",
          "Mexico",
          "Federated States of Micronesia",
          "Moldova",
          "Monaco",
          "Mongolia",
          "Montenegro",
          "Morocco",
          "Myanmar",
          "Namibia",
          "Nauru",
          "Nepal",
          "Netherlands",
          "New Zealand",
          "Nicaragua",
          "Niger",
          "Nigeria",
          "North Korea",
          "North Macedonia",
          "Norway",
          "Oman",
          "Pakistan",
          "Palau",
          "Palestinian National Authority",
          "Panama",
          "Papua New Guinea",
          "Paraguay",
          "Peru",
          "Philippines",
          "Poland",
          "Portugal",
          "Qatar",
          "Romania",
          "Russia",
          "Rwanda",
          "Saint Kitts and Nevis",
          "Saint Lucia",
          "Saint Vincent and the Grenadines",
          "Samoa",
          "San Marino",
          "Sao Tome and Principe",
          "Saudi Arabia",
          "Senegal",
          "Serbia",
          "Seychelles",
          "Sierra Leone",
          "Singapore",
          "Slovakia",
          "Slovenia",
          "Solomon Islands",
          "South Africa",
          "South Korea",
          "South Sudan",
          "Spain",
          "Sri Lanka",
          "Sudan",
          "Suriname",
          "Sweden",
          "Switzerland",
          "Syria",
          "Tajikistan",
          "Tanzania",
          "Thailand",
          "East Timor",
          "Togo",
          "Tonga",
          "Trinidad and Tobago",
          "Tunisia",
          "Turkey",
          "Turkmenistan",
          "Tuvalu",
          "Uganda",
          "Ukraine",
          "United Arab Emirates",
          "United Kingdom",
          "United States",
          "Uruguay",
          "Uzbekistan",
          "Vanuatu",
          "Venezuela",
          "Vietnam",
          "Yemen",
          "Zambia",
          "Zimbabwe"
         ],
         "legendgroup": "",
         "marker": {
          "color": "#636efa",
          "symbol": "circle"
         },
         "mode": "markers",
         "name": "",
         "orientation": "v",
         "showlegend": false,
         "type": "scatter",
         "x": [
          0.28,
          1.2,
          1.72,
          3.33,
          0.21,
          2.76,
          3.96,
          4.4,
          3.68,
          5.17,
          3.45,
          1.94,
          0.93,
          0.58,
          2.48,
          5.19,
          3.07,
          1.12,
          0.08,
          0.42,
          1.59,
          2.16,
          0.37,
          2.15,
          1.61,
          4.03,
          0.08,
          0.1,
          0.23,
          0.77,
          0.17,
          0.09,
          2.61,
          0.06,
          0.04,
          2.59,
          1.98,
          2.18,
          0.27,
          0.12,
          2.89,
          3,
          8.42,
          1.95,
          4.12,
          0.07,
          4.01,
          0.22,
          1.08,
          1.56,
          2.04,
          0.45,
          1.57,
          0.4,
          0.06,
          4.48,
          null,
          0.08,
          0.84,
          3.81,
          3.27,
          0.68,
          0.1,
          7.12,
          4.25,
          0.14,
          5.48,
          1.41,
          0.35,
          0.08,
          0.13,
          0.8,
          0.23,
          null,
          0.31,
          3.41,
          4.08,
          0.86,
          0.43,
          1.58,
          0.71,
          3.31,
          4.62,
          3.98,
          1.31,
          2.41,
          2.32,
          3.25,
          0.16,
          0.2,
          2.58,
          1.88,
          0.37,
          3.19,
          2.1,
          0.07,
          0.04,
          2.09,
          null,
          6.35,
          3.01,
          0.18,
          0.04,
          1.51,
          4.56,
          0.13,
          2.86,
          0.42,
          0.19,
          2.53,
          2.38,
          0.18,
          3.21,
          6.56,
          2.86,
          2.76,
          0.73,
          0.68,
          0.42,
          null,
          0.75,
          3.61,
          3.59,
          0.98,
          0.04,
          0.38,
          3.67,
          null,
          2.92,
          2,
          0.98,
          1.18,
          null,
          1.57,
          0.07,
          1.35,
          1.27,
          0.6,
          2.38,
          5.12,
          2.49,
          2.98,
          4.01,
          0.13,
          2.52,
          0.64,
          0.66,
          0.34,
          6.11,
          0.05,
          2.61,
          0.07,
          3.11,
          0.95,
          0.03,
          2.29,
          3.42,
          3.09,
          0.19,
          0.91,
          2.36,
          null,
          3.87,
          1,
          0.26,
          1.21,
          3.98,
          4.3,
          1.22,
          1.7,
          0.01,
          0.81,
          0.72,
          0.08,
          0.52,
          4.17,
          1.3,
          1.85,
          2.22,
          0.92,
          0.17,
          2.99,
          2.53,
          2.81,
          2.61,
          5.05,
          2.37,
          0.17,
          1.92,
          0.82,
          0.31,
          1.19,
          0.21
         ],
         "xaxis": "x",
         "y": [
          64.5,
          78.5,
          76.7,
          null,
          60.8,
          76.9,
          76.5,
          74.9,
          82.7,
          81.6,
          72.9,
          73.8,
          77.2,
          72.3,
          79.1,
          74.2,
          81.6,
          74.5,
          61.5,
          71.5,
          71.2,
          77.3,
          69.3,
          75.7,
          75.7,
          74.9,
          61.2,
          61.2,
          57.4,
          72.8,
          69.6,
          58.9,
          81.9,
          52.8,
          54,
          80,
          77,
          77.1,
          64.1,
          64.3,
          80.1,
          78.1,
          78.7,
          80.8,
          79,
          60.4,
          81,
          66.6,
          76.6,
          73.9,
          76.8,
          71.8,
          73.1,
          58.4,
          65.9,
          78.2,
          null,
          66.2,
          67.3,
          81.7,
          82.5,
          66.2,
          61.7,
          73.6,
          80.9,
          63.8,
          81.3,
          72.4,
          74.1,
          61.2,
          58,
          69.8,
          63.7,
          null,
          75.1,
          75.8,
          82.7,
          69.4,
          71.5,
          76.5,
          70.5,
          82.3,
          82.8,
          82.9,
          74.4,
          84.2,
          74.4,
          73.2,
          66.3,
          68.1,
          75.4,
          71.4,
          67.6,
          74.7,
          78.9,
          53.7,
          63.7,
          72.7,
          83,
          75.7,
          82.1,
          66.7,
          63.8,
          76,
          78.6,
          58.9,
          82.3,
          65.2,
          64.7,
          74.4,
          75,
          67.8,
          71.8,
          null,
          69.7,
          76.8,
          76.5,
          66.9,
          63.4,
          null,
          70.5,
          81.8,
          81.9,
          74.3,
          62,
          54.3,
          72.1,
          null,
          82.8,
          77.6,
          67.1,
          69.1,
          null,
          78.3,
          64.3,
          74.1,
          76.5,
          71.1,
          77.6,
          81.3,
          80.1,
          75.4,
          72.7,
          68.7,
          71.3,
          76.1,
          72.4,
          73.2,
          85.4,
          70.2,
          75,
          67.7,
          75.5,
          72.8,
          54.3,
          83.1,
          77.2,
          81,
          72.8,
          63.9,
          82.6,
          57.6,
          83.3,
          76.8,
          65.1,
          71.6,
          82.5,
          83.6,
          71.8,
          70.9,
          65,
          76.9,
          69.3,
          60.8,
          70.8,
          73.4,
          76.5,
          77.4,
          68.1,
          null,
          63,
          71.6,
          77.8,
          81.3,
          78.5,
          77.8,
          71.6,
          70.3,
          72.1,
          75.3,
          66.1,
          63.5,
          61.2
         ],
         "yaxis": "y"
        },
        {
         "hovertemplate": "<b>OLS trendline</b><br>Life expectancy = 9.54425 * log10(Physicians per thousand) + 72.7618<br>R<sup>2</sup>=0.664589<br><br>Physicians per thousand=%{x}<br>Life expectancy=%{y} <b>(trend)</b><extra></extra>",
         "legendgroup": "",
         "marker": {
          "color": "#636efa",
          "symbol": "circle"
         },
         "mode": "lines",
         "name": "",
         "showlegend": false,
         "type": "scatter",
         "x": [
          0.01,
          0.03,
          0.04,
          0.04,
          0.04,
          0.04,
          0.05,
          0.06,
          0.06,
          0.07,
          0.07,
          0.07,
          0.07,
          0.08,
          0.08,
          0.08,
          0.08,
          0.08,
          0.09,
          0.1,
          0.1,
          0.12,
          0.13,
          0.13,
          0.13,
          0.14,
          0.16,
          0.17,
          0.17,
          0.17,
          0.18,
          0.18,
          0.19,
          0.19,
          0.2,
          0.21,
          0.21,
          0.22,
          0.23,
          0.23,
          0.26,
          0.27,
          0.28,
          0.31,
          0.31,
          0.34,
          0.35,
          0.37,
          0.37,
          0.38,
          0.4,
          0.42,
          0.42,
          0.42,
          0.43,
          0.45,
          0.52,
          0.58,
          0.6,
          0.64,
          0.66,
          0.68,
          0.68,
          0.71,
          0.72,
          0.73,
          0.75,
          0.77,
          0.8,
          0.81,
          0.82,
          0.84,
          0.86,
          0.91,
          0.93,
          0.95,
          0.98,
          0.98,
          1,
          1.08,
          1.12,
          1.18,
          1.19,
          1.2,
          1.21,
          1.22,
          1.27,
          1.3,
          1.31,
          1.35,
          1.41,
          1.51,
          1.56,
          1.57,
          1.57,
          1.58,
          1.59,
          1.61,
          1.7,
          1.72,
          1.85,
          1.88,
          1.92,
          1.94,
          1.95,
          1.98,
          2,
          2.04,
          2.09,
          2.1,
          2.15,
          2.16,
          2.18,
          2.22,
          2.29,
          2.32,
          2.36,
          2.37,
          2.38,
          2.38,
          2.41,
          2.48,
          2.49,
          2.52,
          2.53,
          2.53,
          2.58,
          2.59,
          2.61,
          2.61,
          2.61,
          2.76,
          2.76,
          2.81,
          2.86,
          2.86,
          2.89,
          2.92,
          2.98,
          2.99,
          3,
          3.01,
          3.07,
          3.09,
          3.11,
          3.19,
          3.21,
          3.25,
          3.27,
          3.31,
          3.41,
          3.42,
          3.45,
          3.59,
          3.61,
          3.67,
          3.68,
          3.81,
          3.87,
          3.96,
          3.98,
          3.98,
          4.01,
          4.01,
          4.03,
          4.08,
          4.12,
          4.17,
          4.25,
          4.3,
          4.4,
          4.48,
          4.56,
          4.62,
          5.05,
          5.12,
          5.17,
          5.19,
          5.48,
          6.11,
          6.35,
          7.12,
          8.42
         ],
         "xaxis": "x",
         "y": [
          53.67329119096891,
          58.22705420149748,
          59.41950033908014,
          59.41950033908014,
          59.41950033908014,
          59.41950033908014,
          60.344433421018024,
          61.1001587755531,
          61.1001587755531,
          61.73911545853015,
          61.73911545853015,
          61.73911545853015,
          61.73911545853015,
          62.29260491313575,
          62.29260491313575,
          62.29260491313575,
          62.29260491313575,
          62.29260491313575,
          62.780817212026065,
          63.21753799507364,
          63.21753799507364,
          63.973263349608715,
          64.30504147117715,
          64.30504147117715,
          64.30504147117715,
          64.61222003258577,
          65.16570948719136,
          65.41699937644762,
          65.41699937644762,
          65.41699937644762,
          65.65392178608168,
          65.65392178608168,
          65.87803116010036,
          65.87803116010036,
          66.09064256912926,
          66.29287846905873,
          66.29287846905873,
          66.48570457216395,
          66.66995773794027,
          66.66995773794027,
          67.17814604523277,
          67.33458022255465,
          67.48532460664138,
          67.90721527111089,
          67.90721527111089,
          68.29010395050322,
          68.41025768857926,
          68.64059548408686,
          68.64059548408686,
          68.75113573415598,
          68.96374714318486,
          69.16598304311434,
          69.16598304311434,
          69.16598304311434,
          69.26351727774026,
          69.45195944207518,
          70.05125061928837,
          70.50388318280079,
          70.64440557965783,
          70.9119186353026,
          71.03946758269254,
          71.16320852455884,
          71.16320852455884,
          71.34215776930314,
          71.4001309341929,
          71.45730444368886,
          71.56933866159572,
          71.67842426566959,
          71.83685171724048,
          71.88834323308322,
          71.93920293523357,
          72.03908761716995,
          72.13662185179588,
          72.37086573873839,
          72.46097828163947,
          72.54917339014948,
          72.67804430014701,
          72.67804430014701,
          72.76178479917837,
          73.08078937066587,
          73.2315337547526,
          73.44784441768249,
          73.48282364400886,
          73.51751015371345,
          73.55190880524778,
          73.58602433709886,
          73.75251313116644,
          73.84928827528188,
          73.88105098795413,
          74.00572245260376,
          74.18596883825083,
          74.46998495638962,
          74.60501362981695,
          74.63149943061043,
          74.63149943061043,
          74.65781706645588,
          74.68396865932972,
          74.73578200550152,
          74.96124618055235,
          75.0097264258515,
          75.31173771413597,
          75.37841497583348,
          75.46568164583117,
          75.50863554028075,
          75.52994671175485,
          75.59323059322111,
          75.63488937323399,
          75.71697153508742,
          75.8173399672398,
          75.83712527316347,
          75.93465950778939,
          75.95389394472149,
          75.99209710659261,
          76.06746306867105,
          76.19614345150433,
          76.25009233091203,
          76.3209489917381,
          76.33847550292884,
          76.35592821806448,
          76.35592821806448,
          76.4078497368871,
          76.52652899327772,
          76.54320915148523,
          76.59285062769854,
          76.6092665450797,
          76.6092665450797,
          76.69038486232446,
          76.7064197516481,
          76.73830462980233,
          76.73830462980233,
          76.73830462980233,
          76.96992989658008,
          76.96992989658008,
          77.04434865891403,
          77.11745485237219,
          77.11745485237219,
          77.16070756192632,
          77.20351359180009,
          77.28782186204266,
          77.3017080181485,
          77.31554780970696,
          77.32934154530152,
          77.41115368248327,
          77.43806945057287,
          77.46481156733716,
          77.57008741588461,
          77.59599383597154,
          77.64732593127539,
          77.67275554306558,
          77.72315146745645,
          77.84652407825033,
          77.85866175521313,
          77.89486297851796,
          78.05974321599827,
          78.08277112923182,
          78.15109707830277,
          78.16237603416273,
          78.30627614169502,
          78.37104329879743,
          78.46633516727672,
          78.4872168926542,
          78.4872168926542,
          78.5183435499723,
          78.5183435499723,
          78.53896555131912,
          78.59007610914303,
          78.63051558815552,
          78.68051635997178,
          78.75928383654585,
          78.80776408184501,
          78.9030559503243,
          78.97774290286384,
          79.05110789279578,
          79.10529185025378,
          79.47417128714181,
          79.53123235746943,
          79.57151463486169,
          79.58751856872354,
          79.81288878342752,
          80.26395610793048,
          80.42365536121557,
          80.89806425401017,
          81.59319177127337
         ],
         "yaxis": "y"
        }
       ],
       "layout": {
        "legend": {
         "tracegroupgap": 0
        },
        "template": {
         "data": {
          "bar": [
           {
            "error_x": {
             "color": "#2a3f5f"
            },
            "error_y": {
             "color": "#2a3f5f"
            },
            "marker": {
             "line": {
              "color": "#E5ECF6",
              "width": 0.5
             },
             "pattern": {
              "fillmode": "overlay",
              "size": 10,
              "solidity": 0.2
             }
            },
            "type": "bar"
           }
          ],
          "barpolar": [
           {
            "marker": {
             "line": {
              "color": "#E5ECF6",
              "width": 0.5
             },
             "pattern": {
              "fillmode": "overlay",
              "size": 10,
              "solidity": 0.2
             }
            },
            "type": "barpolar"
           }
          ],
          "carpet": [
           {
            "aaxis": {
             "endlinecolor": "#2a3f5f",
             "gridcolor": "white",
             "linecolor": "white",
             "minorgridcolor": "white",
             "startlinecolor": "#2a3f5f"
            },
            "baxis": {
             "endlinecolor": "#2a3f5f",
             "gridcolor": "white",
             "linecolor": "white",
             "minorgridcolor": "white",
             "startlinecolor": "#2a3f5f"
            },
            "type": "carpet"
           }
          ],
          "choropleth": [
           {
            "colorbar": {
             "outlinewidth": 0,
             "ticks": ""
            },
            "type": "choropleth"
           }
          ],
          "contour": [
           {
            "colorbar": {
             "outlinewidth": 0,
             "ticks": ""
            },
            "colorscale": [
             [
              0,
              "#0d0887"
             ],
             [
              0.1111111111111111,
              "#46039f"
             ],
             [
              0.2222222222222222,
              "#7201a8"
             ],
             [
              0.3333333333333333,
              "#9c179e"
             ],
             [
              0.4444444444444444,
              "#bd3786"
             ],
             [
              0.5555555555555556,
              "#d8576b"
             ],
             [
              0.6666666666666666,
              "#ed7953"
             ],
             [
              0.7777777777777778,
              "#fb9f3a"
             ],
             [
              0.8888888888888888,
              "#fdca26"
             ],
             [
              1,
              "#f0f921"
             ]
            ],
            "type": "contour"
           }
          ],
          "contourcarpet": [
           {
            "colorbar": {
             "outlinewidth": 0,
             "ticks": ""
            },
            "type": "contourcarpet"
           }
          ],
          "heatmap": [
           {
            "colorbar": {
             "outlinewidth": 0,
             "ticks": ""
            },
            "colorscale": [
             [
              0,
              "#0d0887"
             ],
             [
              0.1111111111111111,
              "#46039f"
             ],
             [
              0.2222222222222222,
              "#7201a8"
             ],
             [
              0.3333333333333333,
              "#9c179e"
             ],
             [
              0.4444444444444444,
              "#bd3786"
             ],
             [
              0.5555555555555556,
              "#d8576b"
             ],
             [
              0.6666666666666666,
              "#ed7953"
             ],
             [
              0.7777777777777778,
              "#fb9f3a"
             ],
             [
              0.8888888888888888,
              "#fdca26"
             ],
             [
              1,
              "#f0f921"
             ]
            ],
            "type": "heatmap"
           }
          ],
          "heatmapgl": [
           {
            "colorbar": {
             "outlinewidth": 0,
             "ticks": ""
            },
            "colorscale": [
             [
              0,
              "#0d0887"
             ],
             [
              0.1111111111111111,
              "#46039f"
             ],
             [
              0.2222222222222222,
              "#7201a8"
             ],
             [
              0.3333333333333333,
              "#9c179e"
             ],
             [
              0.4444444444444444,
              "#bd3786"
             ],
             [
              0.5555555555555556,
              "#d8576b"
             ],
             [
              0.6666666666666666,
              "#ed7953"
             ],
             [
              0.7777777777777778,
              "#fb9f3a"
             ],
             [
              0.8888888888888888,
              "#fdca26"
             ],
             [
              1,
              "#f0f921"
             ]
            ],
            "type": "heatmapgl"
           }
          ],
          "histogram": [
           {
            "marker": {
             "pattern": {
              "fillmode": "overlay",
              "size": 10,
              "solidity": 0.2
             }
            },
            "type": "histogram"
           }
          ],
          "histogram2d": [
           {
            "colorbar": {
             "outlinewidth": 0,
             "ticks": ""
            },
            "colorscale": [
             [
              0,
              "#0d0887"
             ],
             [
              0.1111111111111111,
              "#46039f"
             ],
             [
              0.2222222222222222,
              "#7201a8"
             ],
             [
              0.3333333333333333,
              "#9c179e"
             ],
             [
              0.4444444444444444,
              "#bd3786"
             ],
             [
              0.5555555555555556,
              "#d8576b"
             ],
             [
              0.6666666666666666,
              "#ed7953"
             ],
             [
              0.7777777777777778,
              "#fb9f3a"
             ],
             [
              0.8888888888888888,
              "#fdca26"
             ],
             [
              1,
              "#f0f921"
             ]
            ],
            "type": "histogram2d"
           }
          ],
          "histogram2dcontour": [
           {
            "colorbar": {
             "outlinewidth": 0,
             "ticks": ""
            },
            "colorscale": [
             [
              0,
              "#0d0887"
             ],
             [
              0.1111111111111111,
              "#46039f"
             ],
             [
              0.2222222222222222,
              "#7201a8"
             ],
             [
              0.3333333333333333,
              "#9c179e"
             ],
             [
              0.4444444444444444,
              "#bd3786"
             ],
             [
              0.5555555555555556,
              "#d8576b"
             ],
             [
              0.6666666666666666,
              "#ed7953"
             ],
             [
              0.7777777777777778,
              "#fb9f3a"
             ],
             [
              0.8888888888888888,
              "#fdca26"
             ],
             [
              1,
              "#f0f921"
             ]
            ],
            "type": "histogram2dcontour"
           }
          ],
          "mesh3d": [
           {
            "colorbar": {
             "outlinewidth": 0,
             "ticks": ""
            },
            "type": "mesh3d"
           }
          ],
          "parcoords": [
           {
            "line": {
             "colorbar": {
              "outlinewidth": 0,
              "ticks": ""
             }
            },
            "type": "parcoords"
           }
          ],
          "pie": [
           {
            "automargin": true,
            "type": "pie"
           }
          ],
          "scatter": [
           {
            "fillpattern": {
             "fillmode": "overlay",
             "size": 10,
             "solidity": 0.2
            },
            "type": "scatter"
           }
          ],
          "scatter3d": [
           {
            "line": {
             "colorbar": {
              "outlinewidth": 0,
              "ticks": ""
             }
            },
            "marker": {
             "colorbar": {
              "outlinewidth": 0,
              "ticks": ""
             }
            },
            "type": "scatter3d"
           }
          ],
          "scattercarpet": [
           {
            "marker": {
             "colorbar": {
              "outlinewidth": 0,
              "ticks": ""
             }
            },
            "type": "scattercarpet"
           }
          ],
          "scattergeo": [
           {
            "marker": {
             "colorbar": {
              "outlinewidth": 0,
              "ticks": ""
             }
            },
            "type": "scattergeo"
           }
          ],
          "scattergl": [
           {
            "marker": {
             "colorbar": {
              "outlinewidth": 0,
              "ticks": ""
             }
            },
            "type": "scattergl"
           }
          ],
          "scattermapbox": [
           {
            "marker": {
             "colorbar": {
              "outlinewidth": 0,
              "ticks": ""
             }
            },
            "type": "scattermapbox"
           }
          ],
          "scatterpolar": [
           {
            "marker": {
             "colorbar": {
              "outlinewidth": 0,
              "ticks": ""
             }
            },
            "type": "scatterpolar"
           }
          ],
          "scatterpolargl": [
           {
            "marker": {
             "colorbar": {
              "outlinewidth": 0,
              "ticks": ""
             }
            },
            "type": "scatterpolargl"
           }
          ],
          "scatterternary": [
           {
            "marker": {
             "colorbar": {
              "outlinewidth": 0,
              "ticks": ""
             }
            },
            "type": "scatterternary"
           }
          ],
          "surface": [
           {
            "colorbar": {
             "outlinewidth": 0,
             "ticks": ""
            },
            "colorscale": [
             [
              0,
              "#0d0887"
             ],
             [
              0.1111111111111111,
              "#46039f"
             ],
             [
              0.2222222222222222,
              "#7201a8"
             ],
             [
              0.3333333333333333,
              "#9c179e"
             ],
             [
              0.4444444444444444,
              "#bd3786"
             ],
             [
              0.5555555555555556,
              "#d8576b"
             ],
             [
              0.6666666666666666,
              "#ed7953"
             ],
             [
              0.7777777777777778,
              "#fb9f3a"
             ],
             [
              0.8888888888888888,
              "#fdca26"
             ],
             [
              1,
              "#f0f921"
             ]
            ],
            "type": "surface"
           }
          ],
          "table": [
           {
            "cells": {
             "fill": {
              "color": "#EBF0F8"
             },
             "line": {
              "color": "white"
             }
            },
            "header": {
             "fill": {
              "color": "#C8D4E3"
             },
             "line": {
              "color": "white"
             }
            },
            "type": "table"
           }
          ]
         },
         "layout": {
          "annotationdefaults": {
           "arrowcolor": "#2a3f5f",
           "arrowhead": 0,
           "arrowwidth": 1
          },
          "autotypenumbers": "strict",
          "coloraxis": {
           "colorbar": {
            "outlinewidth": 0,
            "ticks": ""
           }
          },
          "colorscale": {
           "diverging": [
            [
             0,
             "#8e0152"
            ],
            [
             0.1,
             "#c51b7d"
            ],
            [
             0.2,
             "#de77ae"
            ],
            [
             0.3,
             "#f1b6da"
            ],
            [
             0.4,
             "#fde0ef"
            ],
            [
             0.5,
             "#f7f7f7"
            ],
            [
             0.6,
             "#e6f5d0"
            ],
            [
             0.7,
             "#b8e186"
            ],
            [
             0.8,
             "#7fbc41"
            ],
            [
             0.9,
             "#4d9221"
            ],
            [
             1,
             "#276419"
            ]
           ],
           "sequential": [
            [
             0,
             "#0d0887"
            ],
            [
             0.1111111111111111,
             "#46039f"
            ],
            [
             0.2222222222222222,
             "#7201a8"
            ],
            [
             0.3333333333333333,
             "#9c179e"
            ],
            [
             0.4444444444444444,
             "#bd3786"
            ],
            [
             0.5555555555555556,
             "#d8576b"
            ],
            [
             0.6666666666666666,
             "#ed7953"
            ],
            [
             0.7777777777777778,
             "#fb9f3a"
            ],
            [
             0.8888888888888888,
             "#fdca26"
            ],
            [
             1,
             "#f0f921"
            ]
           ],
           "sequentialminus": [
            [
             0,
             "#0d0887"
            ],
            [
             0.1111111111111111,
             "#46039f"
            ],
            [
             0.2222222222222222,
             "#7201a8"
            ],
            [
             0.3333333333333333,
             "#9c179e"
            ],
            [
             0.4444444444444444,
             "#bd3786"
            ],
            [
             0.5555555555555556,
             "#d8576b"
            ],
            [
             0.6666666666666666,
             "#ed7953"
            ],
            [
             0.7777777777777778,
             "#fb9f3a"
            ],
            [
             0.8888888888888888,
             "#fdca26"
            ],
            [
             1,
             "#f0f921"
            ]
           ]
          },
          "colorway": [
           "#636efa",
           "#EF553B",
           "#00cc96",
           "#ab63fa",
           "#FFA15A",
           "#19d3f3",
           "#FF6692",
           "#B6E880",
           "#FF97FF",
           "#FECB52"
          ],
          "font": {
           "color": "#2a3f5f"
          },
          "geo": {
           "bgcolor": "white",
           "lakecolor": "white",
           "landcolor": "#E5ECF6",
           "showlakes": true,
           "showland": true,
           "subunitcolor": "white"
          },
          "hoverlabel": {
           "align": "left"
          },
          "hovermode": "closest",
          "mapbox": {
           "style": "light"
          },
          "paper_bgcolor": "white",
          "plot_bgcolor": "#E5ECF6",
          "polar": {
           "angularaxis": {
            "gridcolor": "white",
            "linecolor": "white",
            "ticks": ""
           },
           "bgcolor": "#E5ECF6",
           "radialaxis": {
            "gridcolor": "white",
            "linecolor": "white",
            "ticks": ""
           }
          },
          "scene": {
           "xaxis": {
            "backgroundcolor": "#E5ECF6",
            "gridcolor": "white",
            "gridwidth": 2,
            "linecolor": "white",
            "showbackground": true,
            "ticks": "",
            "zerolinecolor": "white"
           },
           "yaxis": {
            "backgroundcolor": "#E5ECF6",
            "gridcolor": "white",
            "gridwidth": 2,
            "linecolor": "white",
            "showbackground": true,
            "ticks": "",
            "zerolinecolor": "white"
           },
           "zaxis": {
            "backgroundcolor": "#E5ECF6",
            "gridcolor": "white",
            "gridwidth": 2,
            "linecolor": "white",
            "showbackground": true,
            "ticks": "",
            "zerolinecolor": "white"
           }
          },
          "shapedefaults": {
           "line": {
            "color": "#2a3f5f"
           }
          },
          "ternary": {
           "aaxis": {
            "gridcolor": "white",
            "linecolor": "white",
            "ticks": ""
           },
           "baxis": {
            "gridcolor": "white",
            "linecolor": "white",
            "ticks": ""
           },
           "bgcolor": "#E5ECF6",
           "caxis": {
            "gridcolor": "white",
            "linecolor": "white",
            "ticks": ""
           }
          },
          "title": {
           "x": 0.05
          },
          "xaxis": {
           "automargin": true,
           "gridcolor": "white",
           "linecolor": "white",
           "ticks": "",
           "title": {
            "standoff": 15
           },
           "zerolinecolor": "white",
           "zerolinewidth": 2
          },
          "yaxis": {
           "automargin": true,
           "gridcolor": "white",
           "linecolor": "white",
           "ticks": "",
           "title": {
            "standoff": 15
           },
           "zerolinecolor": "white",
           "zerolinewidth": 2
          }
         }
        },
        "title": {
         "text": "Physicians per thousand vs Life Expectancy"
        },
        "xaxis": {
         "anchor": "y",
         "domain": [
          0,
          1
         ],
         "title": {
          "text": "Physicians per thousand"
         }
        },
        "yaxis": {
         "anchor": "x",
         "domain": [
          0,
          1
         ],
         "title": {
          "text": "Life expectancy"
         }
        }
       }
      }
     },
     "metadata": {},
     "output_type": "display_data"
    }
   ],
   "source": [
    "\n",
    "fig = px.scatter(df, x=\"Physicians per thousand\", y=\"Life expectancy\",\n",
    "                 trendline=\"ols\", trendline_options=dict(log_x=True),\n",
    "                 title=\"Physicians per thousand vs Life Expectancy\",hover_name=\"Country\")\n",
    "fig.show()"
   ]
  },
  {
   "cell_type": "markdown",
   "metadata": {
    "id": "DBFabxy3S1-c"
   },
   "source": [
    "### Physicians per thousand vs Life Expectancy\n",
    "\n",
    "Physicians per thousand show the image of a countries health infrastructure and life expectancy increases with more physicians per thousand."
   ]
  },
  {
   "cell_type": "code",
   "execution_count": 53,
   "metadata": {
    "colab": {
     "base_uri": "https://localhost:8080/",
     "height": 542
    },
    "id": "1bc39rw-Ua-I",
    "outputId": "1095754b-bb95-48ac-e71f-90e22522d42b"
   },
   "outputs": [
    {
     "data": {
      "application/vnd.plotly.v1+json": {
       "config": {
        "plotlyServerURL": "https://plot.ly"
       },
       "data": [
        {
         "hovertemplate": "<b>%{hovertext}</b><br><br>GDP_per_capita=%{x}<br>Physicians per thousand=%{y}<extra></extra>",
         "hovertext": [
          "Afghanistan",
          "Albania",
          "Algeria",
          "Andorra",
          "Angola",
          "Antigua and Barbuda",
          "Argentina",
          "Armenia",
          "Australia",
          "Austria",
          "Azerbaijan",
          "The Bahamas",
          "Bahrain",
          "Bangladesh",
          "Barbados",
          "Belarus",
          "Belgium",
          "Belize",
          "Benin",
          "Bhutan",
          "Bolivia",
          "Bosnia and Herzegovina",
          "Botswana",
          "Brazil",
          "Brunei",
          "Bulgaria",
          "Burkina Faso",
          "Burundi",
          "Ivory Coast",
          "Cape Verde",
          "Cambodia",
          "Cameroon",
          "Canada",
          "Central African Republic",
          "Chad",
          "Chile",
          "China",
          "Colombia",
          "Comoros",
          "Republic of the Congo",
          "Costa Rica",
          "Croatia",
          "Cuba",
          "Cyprus",
          "Czech Republic",
          "Democratic Republic of the Congo",
          "Denmark",
          "Djibouti",
          "Dominica",
          "Dominican Republic",
          "Ecuador",
          "Egypt",
          "El Salvador",
          "Equatorial Guinea",
          "Eritrea",
          "Estonia",
          "Eswatini",
          "Ethiopia",
          "Fiji",
          "Finland",
          "France",
          "Gabon",
          "The Gambia",
          "Georgia",
          "Germany",
          "Ghana",
          "Greece",
          "Grenada",
          "Guatemala",
          "Guinea",
          "Guinea-Bissau",
          "Guyana",
          "Haiti",
          "Vatican City",
          "Honduras",
          "Hungary",
          "Iceland",
          "India",
          "Indonesia",
          "Iran",
          "Iraq",
          "Republic of Ireland",
          "Israel",
          "Italy",
          "Jamaica",
          "Japan",
          "Jordan",
          "Kazakhstan",
          "Kenya",
          "Kiribati",
          "Kuwait",
          "Kyrgyzstan",
          "Laos",
          "Latvia",
          "Lebanon",
          "Lesotho",
          "Liberia",
          "Libya",
          "Liechtenstein",
          "Lithuania",
          "Luxembourg",
          "Madagascar",
          "Malawi",
          "Malaysia",
          "Maldives",
          "Mali",
          "Malta",
          "Marshall Islands",
          "Mauritania",
          "Mauritius",
          "Mexico",
          "Federated States of Micronesia",
          "Moldova",
          "Monaco",
          "Mongolia",
          "Montenegro",
          "Morocco",
          "Myanmar",
          "Namibia",
          "Nauru",
          "Nepal",
          "Netherlands",
          "New Zealand",
          "Nicaragua",
          "Niger",
          "Nigeria",
          "North Korea",
          "North Macedonia",
          "Norway",
          "Oman",
          "Pakistan",
          "Palau",
          "Palestinian National Authority",
          "Panama",
          "Papua New Guinea",
          "Paraguay",
          "Peru",
          "Philippines",
          "Poland",
          "Portugal",
          "Qatar",
          "Romania",
          "Russia",
          "Rwanda",
          "Saint Kitts and Nevis",
          "Saint Lucia",
          "Saint Vincent and the Grenadines",
          "Samoa",
          "San Marino",
          "Sao Tome and Principe",
          "Saudi Arabia",
          "Senegal",
          "Serbia",
          "Seychelles",
          "Sierra Leone",
          "Singapore",
          "Slovakia",
          "Slovenia",
          "Solomon Islands",
          "South Africa",
          "South Korea",
          "South Sudan",
          "Spain",
          "Sri Lanka",
          "Sudan",
          "Suriname",
          "Sweden",
          "Switzerland",
          "Syria",
          "Tajikistan",
          "Tanzania",
          "Thailand",
          "East Timor",
          "Togo",
          "Tonga",
          "Trinidad and Tobago",
          "Tunisia",
          "Turkey",
          "Turkmenistan",
          "Tuvalu",
          "Uganda",
          "Ukraine",
          "United Arab Emirates",
          "United Kingdom",
          "United States",
          "Uruguay",
          "Uzbekistan",
          "Vanuatu",
          "Venezuela",
          "Vietnam",
          "Yemen",
          "Zambia",
          "Zimbabwe"
         ],
         "legendgroup": "",
         "marker": {
          "color": "#636efa",
          "symbol": "circle"
         },
         "mode": "markers",
         "name": "",
         "orientation": "v",
         "showlegend": false,
         "type": "scatter",
         "x": [
          0.5021154869199774,
          5.352857411084262,
          3.9483432789227915,
          40.88639116175365,
          2.973591159799147,
          17.790309304145474,
          10.00614897360654,
          4.622733493343377,
          54.0498288124881,
          50.27727508736838,
          3.911578980134123,
          32.93348601475806,
          25.688046129052665,
          1.8084378618138295,
          18.148244926400142,
          6.663295292861749,
          46.116699233676606,
          4.815163710795101,
          1.2194326718639563,
          3.364767826224481,
          3.552068762105775,
          6.073265202968797,
          7.817183083217436,
          8.655264804221776,
          31.08675107838951,
          12.328404026456756,
          0.7748396902513206,
          0.2612474725469144,
          2.28616277684902,
          4.097872209632197,
          1.6431213887666678,
          1.49790917558793,
          46.94059584210967,
          0.46790744070041523,
          0.7095403101522831,
          14.896453866597355,
          14.244677920749224,
          6.432387583390623,
          1.3935223719746241,
          2.0110723989259007,
          12.238374964463036,
          14.853239837492318,
          8.825442275777004,
          20.49487761299877,
          23.101777704996454,
          0.5452162123102617,
          59.82209296091313,
          3.4088462539545583,
          8.300375069630125,
          8.28211622189043,
          6.183823824821733,
          3.0200313497202007,
          4.187250031106896,
          8.13192388785725,
          0.3260630992391604,
          23.566890205462585,
          3.4679588049445775,
          0.8575013510413618,
          6.220046420428944,
          48.68585398674785,
          40.493928572038904,
          7.667366861228061,
          0.7512946885172164,
          4.76918654320981,
          46.2588782897109,
          2.1753153946557564,
          19.582536010862682,
          10.965513155897609,
          4.619987097105244,
          1.0641312373906195,
          0.6977844030106376,
          5.468356628928697,
          0.7545879177599515,
          null,
          2.574912190670397,
          16.475741838979918,
          66.94482550863103,
          1.910835827737642,
          4.142022784788127,
          5.371177207873912,
          5.955109010370268,
          77.6299889911643,
          43.641397735853225,
          33.18956579886136,
          5.582263777613991,
          40.259112030836484,
          4.330329345949304,
          9.731145206879361,
          1.8165469164371504,
          1.6550788395149907,
          32.03198010260316,
          1.3093929916833156,
          2.5348982772051714,
          17.836364886560933,
          7.784316856904599,
          1.1575351645063117,
          0.6218929536227152,
          7.683750611291678,
          172.3574722901707,
          19.455454126603428,
          110.17237314087298,
          0.5222198092446351,
          0.4115523404231106,
          11.23978150436468,
          10.790500236367437,
          0.8907372854890706,
          29.416230606402426,
          3.763807385484173,
          1.6779192526409197,
          11.203540584699034,
          9.985291138111739,
          3.5314526116944163,
          4.498520850289186,
          184.39698678267118,
          4.295235024728952,
          8.832036835938064,
          3.2165667385160237,
          1.4078131434078966,
          4.957458005716507,
          13.189210630702103,
          1.0710507605550896,
          52.44783143920359,
          42.74504555752943,
          1.912903745350624,
          0.5546009686961554,
          2.229858696245781,
          1.2506739905512165,
          5.564713196345863,
          75.4196348687409,
          14.617408775978893,
          1.4055805556086316,
          15.575873416333023,
          null,
          15.73101603484708,
          2.845180185774812,
          5.4147991379540406,
          6.977695783568442,
          3.4850842183692117,
          15.595227033436208,
          23.14504081731222,
          64.78173319734314,
          12.919529644186483,
          11.774156384485565,
          0.8016561869651816,
          19.89649571209511,
          11.611415449422836,
          8.216466925489025,
          4.200641052610787,
          48.3736277023036,
          1.9949064662227514,
          23.13979865613136,
          1.4468309649931728,
          7.402354558655718,
          17.40172151600512,
          0.5044625433960285,
          65.23328243929372,
          19.3290968008679,
          25.73924781435918,
          2.1275385079341853,
          6.0014008139413955,
          39.23874286107253,
          1.08458490263117,
          29.613671137986262,
          3.8530836928863,
          0.4415056033837011,
          6.8549065606874775,
          51.61006605523354,
          81.99372714940654,
          2.366999792737433,
          0.8707875892955039,
          1.0891572087787662,
          7.808192916304814,
          0.4781543714285714,
          0.6755422133815766,
          4.494140386592023,
          17.276465447001485,
          3.3175410135121672,
          9.042492982893423,
          6.859732807266939,
          4.059029967370771,
          0.7767685758762549,
          3.464696002931611,
          43.103323058352316,
          42.30026712583137,
          65.2806822413034,
          16.190126957183885,
          1.7248411344032948,
          3.058065675832494,
          16.91549345340793,
          2.715276036405425,
          0.9229296417430922,
          1.2913433573539712,
          1.463985910180542
         ],
         "xaxis": "x",
         "y": [
          0.28,
          1.2,
          1.72,
          3.33,
          0.21,
          2.76,
          3.96,
          4.4,
          3.68,
          5.17,
          3.45,
          1.94,
          0.93,
          0.58,
          2.48,
          5.19,
          3.07,
          1.12,
          0.08,
          0.42,
          1.59,
          2.16,
          0.37,
          2.15,
          1.61,
          4.03,
          0.08,
          0.1,
          0.23,
          0.77,
          0.17,
          0.09,
          2.61,
          0.06,
          0.04,
          2.59,
          1.98,
          2.18,
          0.27,
          0.12,
          2.89,
          3,
          8.42,
          1.95,
          4.12,
          0.07,
          4.01,
          0.22,
          1.08,
          1.56,
          2.04,
          0.45,
          1.57,
          0.4,
          0.06,
          4.48,
          null,
          0.08,
          0.84,
          3.81,
          3.27,
          0.68,
          0.1,
          7.12,
          4.25,
          0.14,
          5.48,
          1.41,
          0.35,
          0.08,
          0.13,
          0.8,
          0.23,
          null,
          0.31,
          3.41,
          4.08,
          0.86,
          0.43,
          1.58,
          0.71,
          3.31,
          4.62,
          3.98,
          1.31,
          2.41,
          2.32,
          3.25,
          0.16,
          0.2,
          2.58,
          1.88,
          0.37,
          3.19,
          2.1,
          0.07,
          0.04,
          2.09,
          null,
          6.35,
          3.01,
          0.18,
          0.04,
          1.51,
          4.56,
          0.13,
          2.86,
          0.42,
          0.19,
          2.53,
          2.38,
          0.18,
          3.21,
          6.56,
          2.86,
          2.76,
          0.73,
          0.68,
          0.42,
          null,
          0.75,
          3.61,
          3.59,
          0.98,
          0.04,
          0.38,
          3.67,
          null,
          2.92,
          2,
          0.98,
          1.18,
          null,
          1.57,
          0.07,
          1.35,
          1.27,
          0.6,
          2.38,
          5.12,
          2.49,
          2.98,
          4.01,
          0.13,
          2.52,
          0.64,
          0.66,
          0.34,
          6.11,
          0.05,
          2.61,
          0.07,
          3.11,
          0.95,
          0.03,
          2.29,
          3.42,
          3.09,
          0.19,
          0.91,
          2.36,
          null,
          3.87,
          1,
          0.26,
          1.21,
          3.98,
          4.3,
          1.22,
          1.7,
          0.01,
          0.81,
          0.72,
          0.08,
          0.52,
          4.17,
          1.3,
          1.85,
          2.22,
          0.92,
          0.17,
          2.99,
          2.53,
          2.81,
          2.61,
          5.05,
          2.37,
          0.17,
          1.92,
          0.82,
          0.31,
          1.19,
          0.21
         ],
         "yaxis": "y"
        },
        {
         "hovertemplate": "<b>OLS trendline</b><br>Physicians per thousand = 1.87213 * log10(GDP_per_capita) + 0.394383<br>R<sup>2</sup>=0.486339<br><br>GDP_per_capita=%{x}<br>Physicians per thousand=%{y} <b>(trend)</b><extra></extra>",
         "legendgroup": "",
         "marker": {
          "color": "#636efa",
          "symbol": "circle"
         },
         "mode": "lines",
         "name": "",
         "showlegend": false,
         "type": "scatter",
         "x": [
          0.2612474725469144,
          0.3260630992391604,
          0.4115523404231106,
          0.4415056033837011,
          0.46790744070041523,
          0.4781543714285714,
          0.5021154869199774,
          0.5044625433960285,
          0.5222198092446351,
          0.5452162123102617,
          0.5546009686961554,
          0.6218929536227152,
          0.6755422133815766,
          0.6977844030106376,
          0.7095403101522831,
          0.7512946885172164,
          0.7545879177599515,
          0.7748396902513206,
          0.7767685758762549,
          0.8016561869651816,
          0.8575013510413618,
          0.8707875892955039,
          0.8907372854890706,
          0.9229296417430922,
          1.0641312373906195,
          1.0710507605550896,
          1.0891572087787662,
          1.1575351645063117,
          1.2194326718639563,
          1.2506739905512165,
          1.2913433573539712,
          1.3093929916833156,
          1.3935223719746241,
          1.4055805556086316,
          1.4078131434078966,
          1.4468309649931728,
          1.463985910180542,
          1.49790917558793,
          1.6431213887666678,
          1.6550788395149907,
          1.6779192526409197,
          1.7248411344032948,
          1.8084378618138295,
          1.8165469164371504,
          1.910835827737642,
          1.912903745350624,
          1.9949064662227514,
          2.0110723989259007,
          2.1275385079341853,
          2.1753153946557564,
          2.229858696245781,
          2.28616277684902,
          2.366999792737433,
          2.5348982772051714,
          2.574912190670397,
          2.715276036405425,
          2.845180185774812,
          2.973591159799147,
          3.0200313497202007,
          3.058065675832494,
          3.2165667385160237,
          3.3175410135121672,
          3.364767826224481,
          3.4088462539545583,
          3.464696002931611,
          3.4850842183692117,
          3.5314526116944163,
          3.552068762105775,
          3.763807385484173,
          3.8530836928863,
          3.911578980134123,
          3.9483432789227915,
          4.059029967370771,
          4.097872209632197,
          4.142022784788127,
          4.187250031106896,
          4.200641052610787,
          4.295235024728952,
          4.330329345949304,
          4.494140386592023,
          4.498520850289186,
          4.619987097105244,
          4.622733493343377,
          4.76918654320981,
          4.815163710795101,
          4.957458005716507,
          5.352857411084262,
          5.371177207873912,
          5.4147991379540406,
          5.468356628928697,
          5.582263777613991,
          5.955109010370268,
          6.0014008139413955,
          6.073265202968797,
          6.183823824821733,
          6.220046420428944,
          6.432387583390623,
          6.663295292861749,
          6.8549065606874775,
          6.859732807266939,
          6.977695783568442,
          7.402354558655718,
          7.667366861228061,
          7.683750611291678,
          7.784316856904599,
          7.808192916304814,
          7.817183083217436,
          8.13192388785725,
          8.216466925489025,
          8.28211622189043,
          8.300375069630125,
          8.655264804221776,
          8.825442275777004,
          8.832036835938064,
          9.042492982893423,
          9.731145206879361,
          9.985291138111739,
          10.00614897360654,
          10.790500236367437,
          10.965513155897609,
          11.203540584699034,
          11.23978150436468,
          11.611415449422836,
          11.774156384485565,
          12.238374964463036,
          12.328404026456756,
          12.919529644186483,
          14.244677920749224,
          14.617408775978893,
          14.853239837492318,
          14.896453866597355,
          15.575873416333023,
          15.595227033436208,
          15.73101603484708,
          16.190126957183885,
          16.475741838979918,
          16.91549345340793,
          17.276465447001485,
          17.40172151600512,
          17.790309304145474,
          17.836364886560933,
          18.148244926400142,
          19.3290968008679,
          19.455454126603428,
          19.582536010862682,
          19.89649571209511,
          20.49487761299877,
          23.101777704996454,
          23.13979865613136,
          23.14504081731222,
          23.566890205462585,
          25.688046129052665,
          25.73924781435918,
          29.416230606402426,
          29.613671137986262,
          31.08675107838951,
          32.03198010260316,
          32.93348601475806,
          33.18956579886136,
          39.23874286107253,
          40.259112030836484,
          40.493928572038904,
          40.88639116175365,
          42.30026712583137,
          42.74504555752943,
          43.103323058352316,
          43.641397735853225,
          46.116699233676606,
          46.2588782897109,
          46.94059584210967,
          48.3736277023036,
          48.68585398674785,
          50.27727508736838,
          51.61006605523354,
          52.44783143920359,
          54.0498288124881,
          59.82209296091313,
          64.78173319734314,
          65.23328243929372,
          65.2806822413034,
          66.94482550863103,
          75.4196348687409,
          77.6299889911643,
          81.99372714940654,
          110.17237314087298,
          184.39698678267118
         ],
         "xaxis": "x",
         "y": [
          -0.6969703891028632,
          -0.5167787886152385,
          -0.32746267592773926,
          -0.27034187268680554,
          -0.2231197885339804,
          -0.2055064617622926,
          -0.16575088845722152,
          -0.16195924929109695,
          -0.1338316004446185,
          -0.09879391726662051,
          -0.08491795323053875,
          0.008192414783731894,
          0.07547085253212787,
          0.10180939873435857,
          0.11539322303563843,
          0.1618842658078298,
          0.1654404288107445,
          0.18697368064495146,
          0.1889951852570337,
          0.21463680412820452,
          0.26939033793960093,
          0.2818913266136248,
          0.3003082124378276,
          0.3291745022810464,
          0.4449218800763476,
          0.4501916652301289,
          0.46382173235981367,
          0.5133276106766798,
          0.5556819753011566,
          0.5762497321716817,
          0.6022678622248696,
          0.6135535797030095,
          0.6641833165143931,
          0.6711884405971229,
          0.6724788521680896,
          0.6947062291090482,
          0.7042898494336757,
          0.7229148841418869,
          0.7981448376357727,
          0.8040402421140826,
          0.8151838496719899,
          0.8376082946187726,
          0.8760889555370324,
          0.8797265550574804,
          0.9208698825625063,
          0.9217493000343964,
          0.955877130306438,
          0.9624392567020701,
          1.0082122984214277,
          1.0262686172922855,
          1.0464035722413252,
          1.066678368461708,
          1.094930802151631,
          1.1506497032216298,
          1.163383714648831,
          1.2065392192855455,
          1.2445355578065518,
          1.280427047725051,
          1.2930268407942542,
          1.3032025312439028,
          1.3442878263075446,
          1.3694187902500081,
          1.3809114207678563,
          1.3914932779697091,
          1.4047062433534219,
          1.4094766951305888,
          1.4202229140014122,
          1.4249556220285586,
          1.4720322306774603,
          1.4910924758757544,
          1.5033430550657716,
          1.5109491426959667,
          1.5334284594104077,
          1.5411718727483574,
          1.5498848978539632,
          1.5587146283559803,
          1.5613106685649059,
          1.5794167038110394,
          1.586032800503034,
          1.6162222062951694,
          1.617014309932118,
          1.6386767633655435,
          1.639159948433671,
          1.6645187870136002,
          1.6723194764698217,
          1.6959981415579959,
          1.7583898998112848,
          1.7611677766585183,
          1.767744323270136,
          1.7757467002217568,
          1.7925088540791174,
          1.8450770463435382,
          1.8513728614819902,
          1.8610510451452904,
          1.8757189193021397,
          1.8804676080892437,
          1.9077605914730906,
          1.9364357229524463,
          1.9594862747235076,
          1.960058510825288,
          1.9739213112458538,
          2.0219561251281872,
          2.0505554451972308,
          2.052290941148448,
          2.062863312754854,
          2.06535329979153,
          2.0662888938325943,
          2.0983828449339073,
          2.1067920865175003,
          2.1132625566830447,
          2.115053054869976,
          2.1490933099398197,
          2.16492425758228,
          2.165531563166532,
          2.184678406292637,
          2.2443539706553906,
          2.265315787214447,
          2.267012371484432,
          2.3283706831653674,
          2.3414519643593215,
          2.3589120616608152,
          2.361537867236653,
          2.3879859890549042,
          2.399302327945615,
          2.430742781894971,
          2.436701962825683,
          2.47478077866714,
          2.554170160326275,
          2.5751712526880683,
          2.5881840511271386,
          2.590546120713601,
          2.626808351495148,
          2.6278179767061243,
          2.634866678250588,
          2.6582560879354693,
          2.6724743923223935,
          2.693890975659776,
          2.7110588205819073,
          2.716932285832364,
          2.734888409634668,
          2.736990528933909,
          2.7510844481783363,
          2.802337596400227,
          2.807635369038595,
          2.8129289291675375,
          2.825860958804419,
          2.8499528961592824,
          2.9473037474107664,
          2.9486407756041304,
          2.9488249468097165,
          2.9635105412485774,
          3.033582078779411,
          3.0352010564082894,
          3.1437680187938013,
          3.1492069803827567,
          3.188677241885992,
          3.2130307414756785,
          3.2355972317838564,
          3.241894826348042,
          3.3780239183507748,
          3.398896486576338,
          3.4036249621272923,
          3.411467061860691,
          3.4391077963106818,
          3.447612269521742,
          3.4543986801129662,
          3.4644855214984593,
          3.5093409202465056,
          3.5118437362528083,
          3.5237383099273343,
          3.548188429044792,
          3.5534194096771134,
          3.579571069254392,
          3.6008434797890594,
          3.6139355060996383,
          3.6383982187819908,
          3.7208978609244348,
          3.7856566062619215,
          3.791304200312645,
          3.7918947680053505,
          3.812361500907056,
          3.9092767830655384,
          3.9327628291669123,
          3.9772279637999004,
          4.217407303596437,
          4.636167248643732
         ],
         "yaxis": "y"
        }
       ],
       "layout": {
        "legend": {
         "tracegroupgap": 0
        },
        "template": {
         "data": {
          "bar": [
           {
            "error_x": {
             "color": "#2a3f5f"
            },
            "error_y": {
             "color": "#2a3f5f"
            },
            "marker": {
             "line": {
              "color": "#E5ECF6",
              "width": 0.5
             },
             "pattern": {
              "fillmode": "overlay",
              "size": 10,
              "solidity": 0.2
             }
            },
            "type": "bar"
           }
          ],
          "barpolar": [
           {
            "marker": {
             "line": {
              "color": "#E5ECF6",
              "width": 0.5
             },
             "pattern": {
              "fillmode": "overlay",
              "size": 10,
              "solidity": 0.2
             }
            },
            "type": "barpolar"
           }
          ],
          "carpet": [
           {
            "aaxis": {
             "endlinecolor": "#2a3f5f",
             "gridcolor": "white",
             "linecolor": "white",
             "minorgridcolor": "white",
             "startlinecolor": "#2a3f5f"
            },
            "baxis": {
             "endlinecolor": "#2a3f5f",
             "gridcolor": "white",
             "linecolor": "white",
             "minorgridcolor": "white",
             "startlinecolor": "#2a3f5f"
            },
            "type": "carpet"
           }
          ],
          "choropleth": [
           {
            "colorbar": {
             "outlinewidth": 0,
             "ticks": ""
            },
            "type": "choropleth"
           }
          ],
          "contour": [
           {
            "colorbar": {
             "outlinewidth": 0,
             "ticks": ""
            },
            "colorscale": [
             [
              0,
              "#0d0887"
             ],
             [
              0.1111111111111111,
              "#46039f"
             ],
             [
              0.2222222222222222,
              "#7201a8"
             ],
             [
              0.3333333333333333,
              "#9c179e"
             ],
             [
              0.4444444444444444,
              "#bd3786"
             ],
             [
              0.5555555555555556,
              "#d8576b"
             ],
             [
              0.6666666666666666,
              "#ed7953"
             ],
             [
              0.7777777777777778,
              "#fb9f3a"
             ],
             [
              0.8888888888888888,
              "#fdca26"
             ],
             [
              1,
              "#f0f921"
             ]
            ],
            "type": "contour"
           }
          ],
          "contourcarpet": [
           {
            "colorbar": {
             "outlinewidth": 0,
             "ticks": ""
            },
            "type": "contourcarpet"
           }
          ],
          "heatmap": [
           {
            "colorbar": {
             "outlinewidth": 0,
             "ticks": ""
            },
            "colorscale": [
             [
              0,
              "#0d0887"
             ],
             [
              0.1111111111111111,
              "#46039f"
             ],
             [
              0.2222222222222222,
              "#7201a8"
             ],
             [
              0.3333333333333333,
              "#9c179e"
             ],
             [
              0.4444444444444444,
              "#bd3786"
             ],
             [
              0.5555555555555556,
              "#d8576b"
             ],
             [
              0.6666666666666666,
              "#ed7953"
             ],
             [
              0.7777777777777778,
              "#fb9f3a"
             ],
             [
              0.8888888888888888,
              "#fdca26"
             ],
             [
              1,
              "#f0f921"
             ]
            ],
            "type": "heatmap"
           }
          ],
          "heatmapgl": [
           {
            "colorbar": {
             "outlinewidth": 0,
             "ticks": ""
            },
            "colorscale": [
             [
              0,
              "#0d0887"
             ],
             [
              0.1111111111111111,
              "#46039f"
             ],
             [
              0.2222222222222222,
              "#7201a8"
             ],
             [
              0.3333333333333333,
              "#9c179e"
             ],
             [
              0.4444444444444444,
              "#bd3786"
             ],
             [
              0.5555555555555556,
              "#d8576b"
             ],
             [
              0.6666666666666666,
              "#ed7953"
             ],
             [
              0.7777777777777778,
              "#fb9f3a"
             ],
             [
              0.8888888888888888,
              "#fdca26"
             ],
             [
              1,
              "#f0f921"
             ]
            ],
            "type": "heatmapgl"
           }
          ],
          "histogram": [
           {
            "marker": {
             "pattern": {
              "fillmode": "overlay",
              "size": 10,
              "solidity": 0.2
             }
            },
            "type": "histogram"
           }
          ],
          "histogram2d": [
           {
            "colorbar": {
             "outlinewidth": 0,
             "ticks": ""
            },
            "colorscale": [
             [
              0,
              "#0d0887"
             ],
             [
              0.1111111111111111,
              "#46039f"
             ],
             [
              0.2222222222222222,
              "#7201a8"
             ],
             [
              0.3333333333333333,
              "#9c179e"
             ],
             [
              0.4444444444444444,
              "#bd3786"
             ],
             [
              0.5555555555555556,
              "#d8576b"
             ],
             [
              0.6666666666666666,
              "#ed7953"
             ],
             [
              0.7777777777777778,
              "#fb9f3a"
             ],
             [
              0.8888888888888888,
              "#fdca26"
             ],
             [
              1,
              "#f0f921"
             ]
            ],
            "type": "histogram2d"
           }
          ],
          "histogram2dcontour": [
           {
            "colorbar": {
             "outlinewidth": 0,
             "ticks": ""
            },
            "colorscale": [
             [
              0,
              "#0d0887"
             ],
             [
              0.1111111111111111,
              "#46039f"
             ],
             [
              0.2222222222222222,
              "#7201a8"
             ],
             [
              0.3333333333333333,
              "#9c179e"
             ],
             [
              0.4444444444444444,
              "#bd3786"
             ],
             [
              0.5555555555555556,
              "#d8576b"
             ],
             [
              0.6666666666666666,
              "#ed7953"
             ],
             [
              0.7777777777777778,
              "#fb9f3a"
             ],
             [
              0.8888888888888888,
              "#fdca26"
             ],
             [
              1,
              "#f0f921"
             ]
            ],
            "type": "histogram2dcontour"
           }
          ],
          "mesh3d": [
           {
            "colorbar": {
             "outlinewidth": 0,
             "ticks": ""
            },
            "type": "mesh3d"
           }
          ],
          "parcoords": [
           {
            "line": {
             "colorbar": {
              "outlinewidth": 0,
              "ticks": ""
             }
            },
            "type": "parcoords"
           }
          ],
          "pie": [
           {
            "automargin": true,
            "type": "pie"
           }
          ],
          "scatter": [
           {
            "fillpattern": {
             "fillmode": "overlay",
             "size": 10,
             "solidity": 0.2
            },
            "type": "scatter"
           }
          ],
          "scatter3d": [
           {
            "line": {
             "colorbar": {
              "outlinewidth": 0,
              "ticks": ""
             }
            },
            "marker": {
             "colorbar": {
              "outlinewidth": 0,
              "ticks": ""
             }
            },
            "type": "scatter3d"
           }
          ],
          "scattercarpet": [
           {
            "marker": {
             "colorbar": {
              "outlinewidth": 0,
              "ticks": ""
             }
            },
            "type": "scattercarpet"
           }
          ],
          "scattergeo": [
           {
            "marker": {
             "colorbar": {
              "outlinewidth": 0,
              "ticks": ""
             }
            },
            "type": "scattergeo"
           }
          ],
          "scattergl": [
           {
            "marker": {
             "colorbar": {
              "outlinewidth": 0,
              "ticks": ""
             }
            },
            "type": "scattergl"
           }
          ],
          "scattermapbox": [
           {
            "marker": {
             "colorbar": {
              "outlinewidth": 0,
              "ticks": ""
             }
            },
            "type": "scattermapbox"
           }
          ],
          "scatterpolar": [
           {
            "marker": {
             "colorbar": {
              "outlinewidth": 0,
              "ticks": ""
             }
            },
            "type": "scatterpolar"
           }
          ],
          "scatterpolargl": [
           {
            "marker": {
             "colorbar": {
              "outlinewidth": 0,
              "ticks": ""
             }
            },
            "type": "scatterpolargl"
           }
          ],
          "scatterternary": [
           {
            "marker": {
             "colorbar": {
              "outlinewidth": 0,
              "ticks": ""
             }
            },
            "type": "scatterternary"
           }
          ],
          "surface": [
           {
            "colorbar": {
             "outlinewidth": 0,
             "ticks": ""
            },
            "colorscale": [
             [
              0,
              "#0d0887"
             ],
             [
              0.1111111111111111,
              "#46039f"
             ],
             [
              0.2222222222222222,
              "#7201a8"
             ],
             [
              0.3333333333333333,
              "#9c179e"
             ],
             [
              0.4444444444444444,
              "#bd3786"
             ],
             [
              0.5555555555555556,
              "#d8576b"
             ],
             [
              0.6666666666666666,
              "#ed7953"
             ],
             [
              0.7777777777777778,
              "#fb9f3a"
             ],
             [
              0.8888888888888888,
              "#fdca26"
             ],
             [
              1,
              "#f0f921"
             ]
            ],
            "type": "surface"
           }
          ],
          "table": [
           {
            "cells": {
             "fill": {
              "color": "#EBF0F8"
             },
             "line": {
              "color": "white"
             }
            },
            "header": {
             "fill": {
              "color": "#C8D4E3"
             },
             "line": {
              "color": "white"
             }
            },
            "type": "table"
           }
          ]
         },
         "layout": {
          "annotationdefaults": {
           "arrowcolor": "#2a3f5f",
           "arrowhead": 0,
           "arrowwidth": 1
          },
          "autotypenumbers": "strict",
          "coloraxis": {
           "colorbar": {
            "outlinewidth": 0,
            "ticks": ""
           }
          },
          "colorscale": {
           "diverging": [
            [
             0,
             "#8e0152"
            ],
            [
             0.1,
             "#c51b7d"
            ],
            [
             0.2,
             "#de77ae"
            ],
            [
             0.3,
             "#f1b6da"
            ],
            [
             0.4,
             "#fde0ef"
            ],
            [
             0.5,
             "#f7f7f7"
            ],
            [
             0.6,
             "#e6f5d0"
            ],
            [
             0.7,
             "#b8e186"
            ],
            [
             0.8,
             "#7fbc41"
            ],
            [
             0.9,
             "#4d9221"
            ],
            [
             1,
             "#276419"
            ]
           ],
           "sequential": [
            [
             0,
             "#0d0887"
            ],
            [
             0.1111111111111111,
             "#46039f"
            ],
            [
             0.2222222222222222,
             "#7201a8"
            ],
            [
             0.3333333333333333,
             "#9c179e"
            ],
            [
             0.4444444444444444,
             "#bd3786"
            ],
            [
             0.5555555555555556,
             "#d8576b"
            ],
            [
             0.6666666666666666,
             "#ed7953"
            ],
            [
             0.7777777777777778,
             "#fb9f3a"
            ],
            [
             0.8888888888888888,
             "#fdca26"
            ],
            [
             1,
             "#f0f921"
            ]
           ],
           "sequentialminus": [
            [
             0,
             "#0d0887"
            ],
            [
             0.1111111111111111,
             "#46039f"
            ],
            [
             0.2222222222222222,
             "#7201a8"
            ],
            [
             0.3333333333333333,
             "#9c179e"
            ],
            [
             0.4444444444444444,
             "#bd3786"
            ],
            [
             0.5555555555555556,
             "#d8576b"
            ],
            [
             0.6666666666666666,
             "#ed7953"
            ],
            [
             0.7777777777777778,
             "#fb9f3a"
            ],
            [
             0.8888888888888888,
             "#fdca26"
            ],
            [
             1,
             "#f0f921"
            ]
           ]
          },
          "colorway": [
           "#636efa",
           "#EF553B",
           "#00cc96",
           "#ab63fa",
           "#FFA15A",
           "#19d3f3",
           "#FF6692",
           "#B6E880",
           "#FF97FF",
           "#FECB52"
          ],
          "font": {
           "color": "#2a3f5f"
          },
          "geo": {
           "bgcolor": "white",
           "lakecolor": "white",
           "landcolor": "#E5ECF6",
           "showlakes": true,
           "showland": true,
           "subunitcolor": "white"
          },
          "hoverlabel": {
           "align": "left"
          },
          "hovermode": "closest",
          "mapbox": {
           "style": "light"
          },
          "paper_bgcolor": "white",
          "plot_bgcolor": "#E5ECF6",
          "polar": {
           "angularaxis": {
            "gridcolor": "white",
            "linecolor": "white",
            "ticks": ""
           },
           "bgcolor": "#E5ECF6",
           "radialaxis": {
            "gridcolor": "white",
            "linecolor": "white",
            "ticks": ""
           }
          },
          "scene": {
           "xaxis": {
            "backgroundcolor": "#E5ECF6",
            "gridcolor": "white",
            "gridwidth": 2,
            "linecolor": "white",
            "showbackground": true,
            "ticks": "",
            "zerolinecolor": "white"
           },
           "yaxis": {
            "backgroundcolor": "#E5ECF6",
            "gridcolor": "white",
            "gridwidth": 2,
            "linecolor": "white",
            "showbackground": true,
            "ticks": "",
            "zerolinecolor": "white"
           },
           "zaxis": {
            "backgroundcolor": "#E5ECF6",
            "gridcolor": "white",
            "gridwidth": 2,
            "linecolor": "white",
            "showbackground": true,
            "ticks": "",
            "zerolinecolor": "white"
           }
          },
          "shapedefaults": {
           "line": {
            "color": "#2a3f5f"
           }
          },
          "ternary": {
           "aaxis": {
            "gridcolor": "white",
            "linecolor": "white",
            "ticks": ""
           },
           "baxis": {
            "gridcolor": "white",
            "linecolor": "white",
            "ticks": ""
           },
           "bgcolor": "#E5ECF6",
           "caxis": {
            "gridcolor": "white",
            "linecolor": "white",
            "ticks": ""
           }
          },
          "title": {
           "x": 0.05
          },
          "xaxis": {
           "automargin": true,
           "gridcolor": "white",
           "linecolor": "white",
           "ticks": "",
           "title": {
            "standoff": 15
           },
           "zerolinecolor": "white",
           "zerolinewidth": 2
          },
          "yaxis": {
           "automargin": true,
           "gridcolor": "white",
           "linecolor": "white",
           "ticks": "",
           "title": {
            "standoff": 15
           },
           "zerolinecolor": "white",
           "zerolinewidth": 2
          }
         }
        },
        "title": {
         "text": "Does more money means more life saviours? "
        },
        "xaxis": {
         "anchor": "y",
         "domain": [
          0,
          1
         ],
         "title": {
          "text": "GDP_per_capita"
         }
        },
        "yaxis": {
         "anchor": "x",
         "domain": [
          0,
          1
         ],
         "title": {
          "text": "Physicians per thousand"
         }
        }
       }
      }
     },
     "metadata": {},
     "output_type": "display_data"
    }
   ],
   "source": [
    "\n",
    "fig = px.scatter(df, x=\"GDP_per_capita\", y=\"Physicians per thousand\",\n",
    "                 trendline=\"ols\", trendline_options=dict(log_x=True),\n",
    "                 title=\"Does more money means more life saviours? \", hover_name=\"Country\")\n",
    "fig.show()"
   ]
  },
  {
   "cell_type": "markdown",
   "metadata": {
    "id": "4LITY3hiTQg2"
   },
   "source": [
    "### Does more money means more life saviour\n",
    "\n",
    "Both GDP per capita and Physicians per thousand shows the development of a country and both are co dependent on each other so as gdp per capita increases no. of physicians also increases"
   ]
  },
  {
   "cell_type": "code",
   "execution_count": 54,
   "metadata": {
    "colab": {
     "base_uri": "https://localhost:8080/",
     "height": 542
    },
    "id": "_GrNTg0ZUa-I",
    "outputId": "b81317f6-8434-478b-e82d-a58f5bbdca81"
   },
   "outputs": [
    {
     "data": {
      "application/vnd.plotly.v1+json": {
       "config": {
        "plotlyServerURL": "https://plot.ly"
       },
       "data": [
        {
         "hovertemplate": "<b>%{hovertext}</b><br><br>Gross primary education enrollment (%)=%{x}<br>Infant mortality=%{y}<extra></extra>",
         "hovertext": [
          "Afghanistan",
          "Albania",
          "Algeria",
          "Andorra",
          "Angola",
          "Antigua and Barbuda",
          "Argentina",
          "Armenia",
          "Australia",
          "Austria",
          "Azerbaijan",
          "The Bahamas",
          "Bahrain",
          "Bangladesh",
          "Barbados",
          "Belarus",
          "Belgium",
          "Belize",
          "Benin",
          "Bhutan",
          "Bolivia",
          "Bosnia and Herzegovina",
          "Botswana",
          "Brazil",
          "Brunei",
          "Bulgaria",
          "Burkina Faso",
          "Burundi",
          "Ivory Coast",
          "Cape Verde",
          "Cambodia",
          "Cameroon",
          "Canada",
          "Central African Republic",
          "Chad",
          "Chile",
          "China",
          "Colombia",
          "Comoros",
          "Republic of the Congo",
          "Costa Rica",
          "Croatia",
          "Cuba",
          "Cyprus",
          "Czech Republic",
          "Democratic Republic of the Congo",
          "Denmark",
          "Djibouti",
          "Dominica",
          "Dominican Republic",
          "Ecuador",
          "Egypt",
          "El Salvador",
          "Equatorial Guinea",
          "Eritrea",
          "Estonia",
          "Eswatini",
          "Ethiopia",
          "Fiji",
          "Finland",
          "France",
          "Gabon",
          "The Gambia",
          "Georgia",
          "Germany",
          "Ghana",
          "Greece",
          "Grenada",
          "Guatemala",
          "Guinea",
          "Guinea-Bissau",
          "Guyana",
          "Haiti",
          "Vatican City",
          "Honduras",
          "Hungary",
          "Iceland",
          "India",
          "Indonesia",
          "Iran",
          "Iraq",
          "Republic of Ireland",
          "Israel",
          "Italy",
          "Jamaica",
          "Japan",
          "Jordan",
          "Kazakhstan",
          "Kenya",
          "Kiribati",
          "Kuwait",
          "Kyrgyzstan",
          "Laos",
          "Latvia",
          "Lebanon",
          "Lesotho",
          "Liberia",
          "Libya",
          "Liechtenstein",
          "Lithuania",
          "Luxembourg",
          "Madagascar",
          "Malawi",
          "Malaysia",
          "Maldives",
          "Mali",
          "Malta",
          "Marshall Islands",
          "Mauritania",
          "Mauritius",
          "Mexico",
          "Federated States of Micronesia",
          "Moldova",
          "Monaco",
          "Mongolia",
          "Montenegro",
          "Morocco",
          "Myanmar",
          "Namibia",
          "Nauru",
          "Nepal",
          "Netherlands",
          "New Zealand",
          "Nicaragua",
          "Niger",
          "Nigeria",
          "North Korea",
          "North Macedonia",
          "Norway",
          "Oman",
          "Pakistan",
          "Palau",
          "Palestinian National Authority",
          "Panama",
          "Papua New Guinea",
          "Paraguay",
          "Peru",
          "Philippines",
          "Poland",
          "Portugal",
          "Qatar",
          "Romania",
          "Russia",
          "Rwanda",
          "Saint Kitts and Nevis",
          "Saint Lucia",
          "Saint Vincent and the Grenadines",
          "Samoa",
          "San Marino",
          "Sao Tome and Principe",
          "Saudi Arabia",
          "Senegal",
          "Serbia",
          "Seychelles",
          "Sierra Leone",
          "Singapore",
          "Slovakia",
          "Slovenia",
          "Solomon Islands",
          "South Africa",
          "South Korea",
          "South Sudan",
          "Spain",
          "Sri Lanka",
          "Sudan",
          "Suriname",
          "Sweden",
          "Switzerland",
          "Syria",
          "Tajikistan",
          "Tanzania",
          "Thailand",
          "East Timor",
          "Togo",
          "Tonga",
          "Trinidad and Tobago",
          "Tunisia",
          "Turkey",
          "Turkmenistan",
          "Tuvalu",
          "Uganda",
          "Ukraine",
          "United Arab Emirates",
          "United Kingdom",
          "United States",
          "Uruguay",
          "Uzbekistan",
          "Vanuatu",
          "Venezuela",
          "Vietnam",
          "Yemen",
          "Zambia",
          "Zimbabwe"
         ],
         "legendgroup": "",
         "marker": {
          "color": "#636efa",
          "symbol": "circle"
         },
         "mode": "markers",
         "name": "",
         "orientation": "v",
         "showlegend": false,
         "type": "scatter",
         "x": [
          104,
          107,
          109.9,
          106.4,
          113.5,
          105,
          109.7,
          92.7,
          100.3,
          103.1,
          99.7,
          81.4,
          99.4,
          116.5,
          99.4,
          100.5,
          103.9,
          111.7,
          122,
          100.1,
          98.2,
          null,
          103.2,
          115.4,
          103.2,
          89.3,
          96.1,
          121.4,
          99.8,
          104,
          107.4,
          103.4,
          100.9,
          102,
          86.8,
          101.4,
          100.2,
          114.5,
          99.5,
          106.6,
          113.3,
          96.5,
          101.9,
          99.3,
          100.7,
          108,
          101.3,
          75.3,
          114.7,
          105.7,
          103.3,
          106.3,
          94.8,
          61.8,
          68.4,
          97.2,
          null,
          101,
          106.4,
          100.2,
          102.5,
          139.9,
          98,
          98.6,
          104,
          104.8,
          99.6,
          106.9,
          101.9,
          91.5,
          118.7,
          97.8,
          113.6,
          null,
          91.5,
          100.8,
          100.4,
          113,
          106.4,
          110.7,
          108.7,
          100.9,
          104.9,
          101.9,
          91,
          98.8,
          81.5,
          104.4,
          103.2,
          101.3,
          92.4,
          107.6,
          102.4,
          99.4,
          95.1,
          120.9,
          85.1,
          109,
          104.7,
          103.9,
          102.3,
          142.5,
          142.5,
          105.3,
          97.1,
          75.6,
          105,
          84.7,
          99.9,
          101.1,
          105.8,
          97.2,
          90.6,
          null,
          104,
          100,
          113.9,
          112.3,
          124.2,
          null,
          142.1,
          104.2,
          100,
          120.6,
          74.7,
          84.7,
          112.8,
          null,
          100.3,
          103.4,
          94.3,
          112.6,
          null,
          94.4,
          108.5,
          104.4,
          106.9,
          107.5,
          100,
          106.2,
          103.8,
          85.2,
          102.6,
          133,
          108.7,
          102.6,
          113.4,
          110.5,
          108.1,
          106.8,
          99.8,
          81,
          100.3,
          100.4,
          112.8,
          100.6,
          98.7,
          100.4,
          106.2,
          100.9,
          98.1,
          73,
          102.7,
          100.2,
          76.8,
          108.8,
          126.6,
          105.2,
          81.7,
          100.9,
          94.2,
          99.8,
          115.3,
          123.8,
          116.3,
          106.2,
          115.4,
          93.2,
          88.4,
          86,
          102.7,
          99,
          108.4,
          101.2,
          101.8,
          108.5,
          104.2,
          109.3,
          97.2,
          110.6,
          93.6,
          98.7,
          109.9
         ],
         "xaxis": "x",
         "y": [
          47.9,
          7.8,
          20.1,
          2.7,
          51.6,
          5,
          8.8,
          11,
          3.1,
          2.9,
          19.2,
          8.3,
          6.1,
          25.1,
          11.3,
          2.6,
          2.9,
          11.2,
          60.5,
          24.8,
          21.8,
          5,
          30,
          12.8,
          9.8,
          5.9,
          49,
          41,
          59.4,
          16.7,
          24,
          50.6,
          4.3,
          84.5,
          71.4,
          6.2,
          7.4,
          12.2,
          51.3,
          36.2,
          7.6,
          4,
          3.7,
          1.9,
          2.7,
          68.2,
          3.6,
          49.8,
          32.9,
          24.1,
          12.2,
          18.1,
          11.8,
          62.6,
          31.3,
          2.1,
          null,
          39.1,
          21.6,
          1.4,
          3.4,
          32.7,
          39,
          8.7,
          3.1,
          34.9,
          3.6,
          13.7,
          22.1,
          64.9,
          54,
          25.1,
          49.5,
          null,
          15.1,
          3.6,
          1.5,
          29.9,
          21.1,
          12.4,
          22.5,
          3.1,
          3,
          2.6,
          12.4,
          1.8,
          13.9,
          8.8,
          30.6,
          41.2,
          6.7,
          16.9,
          37.6,
          3.3,
          6.4,
          65.7,
          53.5,
          10.2,
          null,
          3.3,
          1.9,
          38.2,
          35.3,
          6.7,
          7.4,
          62,
          6.1,
          27.4,
          51.5,
          13.6,
          11,
          25.6,
          13.6,
          2.6,
          14,
          2.3,
          19.2,
          36.8,
          29,
          null,
          26.7,
          3.3,
          4.7,
          15.7,
          48,
          75.7,
          13.7,
          null,
          2.1,
          9.8,
          57.2,
          16.6,
          null,
          13.1,
          38,
          17.2,
          11.1,
          22.5,
          3.8,
          3.1,
          5.8,
          6.1,
          6.1,
          27,
          9.8,
          14.9,
          14.8,
          13.6,
          1.7,
          24.4,
          6,
          31.8,
          4.8,
          12.4,
          78.5,
          2.3,
          4.6,
          1.7,
          17.1,
          28.5,
          2.7,
          63.7,
          2.5,
          6.4,
          42.1,
          16.9,
          2.2,
          3.7,
          14,
          30.4,
          37.6,
          7.8,
          39.3,
          47.4,
          13.4,
          16.4,
          14.6,
          9.1,
          39.3,
          20.6,
          33.8,
          7.5,
          6.5,
          3.6,
          5.6,
          6.4,
          19.1,
          22.3,
          21.4,
          16.5,
          42.9,
          40.4,
          33.9
         ],
         "yaxis": "y"
        },
        {
         "hovertemplate": "<b>OLS trendline</b><br>Infant mortality = -40.958 * log10(Gross primary education enrollment (%)) + 103.338<br>R<sup>2</sup>=0.012161<br><br>Gross primary education enrollment (%)=%{x}<br>Infant mortality=%{y} <b>(trend)</b><extra></extra>",
         "legendgroup": "",
         "marker": {
          "color": "#636efa",
          "symbol": "circle"
         },
         "mode": "lines",
         "name": "",
         "showlegend": false,
         "type": "scatter",
         "x": [
          61.8,
          68.4,
          73,
          74.7,
          75.3,
          75.6,
          76.8,
          81,
          81.4,
          81.5,
          81.7,
          84.7,
          84.7,
          85.1,
          85.2,
          86,
          86.8,
          88.4,
          89.3,
          90.6,
          91,
          91.5,
          91.5,
          92.4,
          92.7,
          93.2,
          93.6,
          94.2,
          94.3,
          94.4,
          94.8,
          95.1,
          96.1,
          96.5,
          97.1,
          97.2,
          97.2,
          97.2,
          97.8,
          98,
          98.1,
          98.2,
          98.6,
          98.7,
          98.7,
          98.8,
          99,
          99.3,
          99.4,
          99.4,
          99.4,
          99.5,
          99.6,
          99.7,
          99.8,
          99.8,
          99.8,
          99.9,
          100,
          100,
          100,
          100.1,
          100.2,
          100.2,
          100.2,
          100.3,
          100.3,
          100.3,
          100.4,
          100.4,
          100.4,
          100.5,
          100.6,
          100.7,
          100.8,
          100.9,
          100.9,
          100.9,
          100.9,
          101,
          101.1,
          101.2,
          101.3,
          101.3,
          101.4,
          101.8,
          101.9,
          101.9,
          101.9,
          102,
          102.3,
          102.4,
          102.5,
          102.6,
          102.6,
          102.7,
          102.7,
          103.1,
          103.2,
          103.2,
          103.2,
          103.3,
          103.4,
          103.4,
          103.8,
          103.9,
          103.9,
          104,
          104,
          104,
          104,
          104.2,
          104.2,
          104.4,
          104.4,
          104.8,
          104.9,
          105,
          105,
          105.2,
          105.3,
          105.7,
          105.8,
          106.2,
          106.2,
          106.2,
          106.3,
          106.4,
          106.4,
          106.4,
          106.6,
          106.8,
          106.9,
          106.9,
          107,
          107.4,
          107.5,
          107.6,
          108,
          108.1,
          108.4,
          108.5,
          108.5,
          108.7,
          108.7,
          108.8,
          109,
          109.3,
          109.7,
          109.9,
          109.9,
          110.5,
          110.6,
          110.7,
          111.7,
          112.3,
          112.6,
          112.8,
          112.8,
          113,
          113.3,
          113.4,
          113.5,
          113.6,
          113.9,
          114.5,
          114.7,
          115.3,
          115.4,
          115.4,
          116.3,
          116.5,
          118.7,
          120.6,
          120.9,
          121.4,
          122,
          123.8,
          124.2,
          126.6,
          133,
          139.9,
          142.1,
          142.5,
          142.5
         ],
         "xaxis": "x",
         "y": [
          29.983080731462664,
          28.178159453887318,
          27.02040993150628,
          26.610922557387354,
          26.468619176568566,
          26.397892134150595,
          26.117763073323204,
          25.17065882133413,
          25.083033876979897,
          25.06119492060492,
          25.01759728178685,
          24.376139756908614,
          24.376139756908614,
          24.292333581940667,
          24.27144358807402,
          24.105200997361877,
          23.94049771199505,
          23.61559684869124,
          23.43541472323996,
          23.178332137705894,
          23.099971536385183,
          23.002503743295023,
          23.002503743295023,
          22.828396372203997,
          22.770737236683203,
          22.675052080008314,
          22.598872829813416,
          22.48521220198367,
          22.46633917344073,
          22.447486148111437,
          22.372273233797955,
          22.316071519640786,
          22.13000467940688,
          22.056119515096583,
          21.94586403152232,
          21.92755437706674,
          21.92755437706674,
          21.92755437706674,
          21.81809047633753,
          21.781751694071133,
          21.76361010378568,
          21.745486997039123,
          21.673178654649902,
          21.655147403503236,
          21.655147403503236,
          21.637134411854518,
          21.60116305938753,
          21.547342056955955,
          21.5294378503784,
          21.5294378503784,
          21.5294378503784,
          21.511551647028185,
          21.49368341073611,
          21.475833105441808,
          21.458000695193405,
          21.458000695193405,
          21.458000695193405,
          21.440186144147034,
          21.422389416566418,
          21.422389416566418,
          21.422389416566418,
          21.404610476822427,
          21.38684928939267,
          21.38684928939267,
          21.38684928939267,
          21.369105818861044,
          21.369105818861044,
          21.369105818861044,
          21.351380029917323,
          21.351380029917323,
          21.351380029917323,
          21.333671887356743,
          21.315981356079604,
          21.29830840109078,
          21.280652987499366,
          21.263015080518244,
          21.263015080518244,
          21.263015080518244,
          21.263015080518244,
          21.245394645463676,
          21.227791647754927,
          21.21020605291376,
          21.19263782656418,
          21.19263782656418,
          21.175086934431846,
          21.105056026128437,
          21.08759129450155,
          21.08759129450155,
          21.08759129450155,
          21.070143693560723,
          21.017903339615827,
          21.000523926671946,
          20.98316147753063,
          20.965815959107857,
          20.965815959107857,
          20.948487338416385,
          20.948487338416385,
          20.87934117658085,
          20.86209655309449,
          20.86209655309449,
          20.86209655309449,
          20.844868631425243,
          20.827657379252244,
          20.827657379252244,
          20.758978422377652,
          20.741850036140292,
          20.741850036140292,
          20.72473812742956,
          20.72473812742956,
          20.72473812742956,
          20.72473812742956,
          20.690563615989703,
          20.690563615989703,
          20.65645463577208,
          20.65645463577208,
          20.588432267091292,
          20.57146724173947,
          20.554518381254653,
          20.554518381254653,
          20.520669031871563,
          20.503768481685185,
          20.436326400010273,
          20.41950575787456,
          20.352381799983206,
          20.352381799983206,
          20.352381799983206,
          20.335640313822196,
          20.318914569540468,
          20.318914569540468,
          20.318914569540468,
          20.285510188393744,
          20.252168420931625,
          20.235520944065584,
          20.235520944065584,
          20.21888903286505,
          20.15251646431551,
          20.13596194684979,
          20.11942282177816,
          20.053419674682885,
          20.03695708421303,
          19.98766053238508,
          19.971258661482963,
          19.971258661482963,
          19.938500221776863,
          19.938500221776863,
          19.922143597421552,
          19.88947540140181,
          19.840585326465657,
          19.775606888060594,
          19.743206464288065,
          19.743206464288065,
          19.646357798179167,
          19.630267496102334,
          19.614191735647097,
          19.454228177999298,
          19.358936015815814,
          19.311480689137255,
          19.279913994547613,
          19.279913994547613,
          19.24840321972964,
          19.201241474736577,
          19.185548639371135,
          19.169869636387702,
          19.154204441422777,
          19.107291461967193,
          19.01383505924761,
          18.982791721991475,
          18.88998545372897,
          18.874564709171466,
          18.874564709171466,
          18.736376314907247,
          18.70581302949624,
          18.37303783935947,
          18.09056744308937,
          18.04637405952964,
          17.972961542065562,
          17.88526459664378,
          17.62473845929962,
          17.567358320080928,
          17.226911033489316,
          16.349675519028395,
          15.44998936571443,
          15.172443160380851,
          15.122442206211929,
          15.122442206211929
         ],
         "yaxis": "y"
        }
       ],
       "layout": {
        "legend": {
         "tracegroupgap": 0
        },
        "template": {
         "data": {
          "bar": [
           {
            "error_x": {
             "color": "#2a3f5f"
            },
            "error_y": {
             "color": "#2a3f5f"
            },
            "marker": {
             "line": {
              "color": "#E5ECF6",
              "width": 0.5
             },
             "pattern": {
              "fillmode": "overlay",
              "size": 10,
              "solidity": 0.2
             }
            },
            "type": "bar"
           }
          ],
          "barpolar": [
           {
            "marker": {
             "line": {
              "color": "#E5ECF6",
              "width": 0.5
             },
             "pattern": {
              "fillmode": "overlay",
              "size": 10,
              "solidity": 0.2
             }
            },
            "type": "barpolar"
           }
          ],
          "carpet": [
           {
            "aaxis": {
             "endlinecolor": "#2a3f5f",
             "gridcolor": "white",
             "linecolor": "white",
             "minorgridcolor": "white",
             "startlinecolor": "#2a3f5f"
            },
            "baxis": {
             "endlinecolor": "#2a3f5f",
             "gridcolor": "white",
             "linecolor": "white",
             "minorgridcolor": "white",
             "startlinecolor": "#2a3f5f"
            },
            "type": "carpet"
           }
          ],
          "choropleth": [
           {
            "colorbar": {
             "outlinewidth": 0,
             "ticks": ""
            },
            "type": "choropleth"
           }
          ],
          "contour": [
           {
            "colorbar": {
             "outlinewidth": 0,
             "ticks": ""
            },
            "colorscale": [
             [
              0,
              "#0d0887"
             ],
             [
              0.1111111111111111,
              "#46039f"
             ],
             [
              0.2222222222222222,
              "#7201a8"
             ],
             [
              0.3333333333333333,
              "#9c179e"
             ],
             [
              0.4444444444444444,
              "#bd3786"
             ],
             [
              0.5555555555555556,
              "#d8576b"
             ],
             [
              0.6666666666666666,
              "#ed7953"
             ],
             [
              0.7777777777777778,
              "#fb9f3a"
             ],
             [
              0.8888888888888888,
              "#fdca26"
             ],
             [
              1,
              "#f0f921"
             ]
            ],
            "type": "contour"
           }
          ],
          "contourcarpet": [
           {
            "colorbar": {
             "outlinewidth": 0,
             "ticks": ""
            },
            "type": "contourcarpet"
           }
          ],
          "heatmap": [
           {
            "colorbar": {
             "outlinewidth": 0,
             "ticks": ""
            },
            "colorscale": [
             [
              0,
              "#0d0887"
             ],
             [
              0.1111111111111111,
              "#46039f"
             ],
             [
              0.2222222222222222,
              "#7201a8"
             ],
             [
              0.3333333333333333,
              "#9c179e"
             ],
             [
              0.4444444444444444,
              "#bd3786"
             ],
             [
              0.5555555555555556,
              "#d8576b"
             ],
             [
              0.6666666666666666,
              "#ed7953"
             ],
             [
              0.7777777777777778,
              "#fb9f3a"
             ],
             [
              0.8888888888888888,
              "#fdca26"
             ],
             [
              1,
              "#f0f921"
             ]
            ],
            "type": "heatmap"
           }
          ],
          "heatmapgl": [
           {
            "colorbar": {
             "outlinewidth": 0,
             "ticks": ""
            },
            "colorscale": [
             [
              0,
              "#0d0887"
             ],
             [
              0.1111111111111111,
              "#46039f"
             ],
             [
              0.2222222222222222,
              "#7201a8"
             ],
             [
              0.3333333333333333,
              "#9c179e"
             ],
             [
              0.4444444444444444,
              "#bd3786"
             ],
             [
              0.5555555555555556,
              "#d8576b"
             ],
             [
              0.6666666666666666,
              "#ed7953"
             ],
             [
              0.7777777777777778,
              "#fb9f3a"
             ],
             [
              0.8888888888888888,
              "#fdca26"
             ],
             [
              1,
              "#f0f921"
             ]
            ],
            "type": "heatmapgl"
           }
          ],
          "histogram": [
           {
            "marker": {
             "pattern": {
              "fillmode": "overlay",
              "size": 10,
              "solidity": 0.2
             }
            },
            "type": "histogram"
           }
          ],
          "histogram2d": [
           {
            "colorbar": {
             "outlinewidth": 0,
             "ticks": ""
            },
            "colorscale": [
             [
              0,
              "#0d0887"
             ],
             [
              0.1111111111111111,
              "#46039f"
             ],
             [
              0.2222222222222222,
              "#7201a8"
             ],
             [
              0.3333333333333333,
              "#9c179e"
             ],
             [
              0.4444444444444444,
              "#bd3786"
             ],
             [
              0.5555555555555556,
              "#d8576b"
             ],
             [
              0.6666666666666666,
              "#ed7953"
             ],
             [
              0.7777777777777778,
              "#fb9f3a"
             ],
             [
              0.8888888888888888,
              "#fdca26"
             ],
             [
              1,
              "#f0f921"
             ]
            ],
            "type": "histogram2d"
           }
          ],
          "histogram2dcontour": [
           {
            "colorbar": {
             "outlinewidth": 0,
             "ticks": ""
            },
            "colorscale": [
             [
              0,
              "#0d0887"
             ],
             [
              0.1111111111111111,
              "#46039f"
             ],
             [
              0.2222222222222222,
              "#7201a8"
             ],
             [
              0.3333333333333333,
              "#9c179e"
             ],
             [
              0.4444444444444444,
              "#bd3786"
             ],
             [
              0.5555555555555556,
              "#d8576b"
             ],
             [
              0.6666666666666666,
              "#ed7953"
             ],
             [
              0.7777777777777778,
              "#fb9f3a"
             ],
             [
              0.8888888888888888,
              "#fdca26"
             ],
             [
              1,
              "#f0f921"
             ]
            ],
            "type": "histogram2dcontour"
           }
          ],
          "mesh3d": [
           {
            "colorbar": {
             "outlinewidth": 0,
             "ticks": ""
            },
            "type": "mesh3d"
           }
          ],
          "parcoords": [
           {
            "line": {
             "colorbar": {
              "outlinewidth": 0,
              "ticks": ""
             }
            },
            "type": "parcoords"
           }
          ],
          "pie": [
           {
            "automargin": true,
            "type": "pie"
           }
          ],
          "scatter": [
           {
            "fillpattern": {
             "fillmode": "overlay",
             "size": 10,
             "solidity": 0.2
            },
            "type": "scatter"
           }
          ],
          "scatter3d": [
           {
            "line": {
             "colorbar": {
              "outlinewidth": 0,
              "ticks": ""
             }
            },
            "marker": {
             "colorbar": {
              "outlinewidth": 0,
              "ticks": ""
             }
            },
            "type": "scatter3d"
           }
          ],
          "scattercarpet": [
           {
            "marker": {
             "colorbar": {
              "outlinewidth": 0,
              "ticks": ""
             }
            },
            "type": "scattercarpet"
           }
          ],
          "scattergeo": [
           {
            "marker": {
             "colorbar": {
              "outlinewidth": 0,
              "ticks": ""
             }
            },
            "type": "scattergeo"
           }
          ],
          "scattergl": [
           {
            "marker": {
             "colorbar": {
              "outlinewidth": 0,
              "ticks": ""
             }
            },
            "type": "scattergl"
           }
          ],
          "scattermapbox": [
           {
            "marker": {
             "colorbar": {
              "outlinewidth": 0,
              "ticks": ""
             }
            },
            "type": "scattermapbox"
           }
          ],
          "scatterpolar": [
           {
            "marker": {
             "colorbar": {
              "outlinewidth": 0,
              "ticks": ""
             }
            },
            "type": "scatterpolar"
           }
          ],
          "scatterpolargl": [
           {
            "marker": {
             "colorbar": {
              "outlinewidth": 0,
              "ticks": ""
             }
            },
            "type": "scatterpolargl"
           }
          ],
          "scatterternary": [
           {
            "marker": {
             "colorbar": {
              "outlinewidth": 0,
              "ticks": ""
             }
            },
            "type": "scatterternary"
           }
          ],
          "surface": [
           {
            "colorbar": {
             "outlinewidth": 0,
             "ticks": ""
            },
            "colorscale": [
             [
              0,
              "#0d0887"
             ],
             [
              0.1111111111111111,
              "#46039f"
             ],
             [
              0.2222222222222222,
              "#7201a8"
             ],
             [
              0.3333333333333333,
              "#9c179e"
             ],
             [
              0.4444444444444444,
              "#bd3786"
             ],
             [
              0.5555555555555556,
              "#d8576b"
             ],
             [
              0.6666666666666666,
              "#ed7953"
             ],
             [
              0.7777777777777778,
              "#fb9f3a"
             ],
             [
              0.8888888888888888,
              "#fdca26"
             ],
             [
              1,
              "#f0f921"
             ]
            ],
            "type": "surface"
           }
          ],
          "table": [
           {
            "cells": {
             "fill": {
              "color": "#EBF0F8"
             },
             "line": {
              "color": "white"
             }
            },
            "header": {
             "fill": {
              "color": "#C8D4E3"
             },
             "line": {
              "color": "white"
             }
            },
            "type": "table"
           }
          ]
         },
         "layout": {
          "annotationdefaults": {
           "arrowcolor": "#2a3f5f",
           "arrowhead": 0,
           "arrowwidth": 1
          },
          "autotypenumbers": "strict",
          "coloraxis": {
           "colorbar": {
            "outlinewidth": 0,
            "ticks": ""
           }
          },
          "colorscale": {
           "diverging": [
            [
             0,
             "#8e0152"
            ],
            [
             0.1,
             "#c51b7d"
            ],
            [
             0.2,
             "#de77ae"
            ],
            [
             0.3,
             "#f1b6da"
            ],
            [
             0.4,
             "#fde0ef"
            ],
            [
             0.5,
             "#f7f7f7"
            ],
            [
             0.6,
             "#e6f5d0"
            ],
            [
             0.7,
             "#b8e186"
            ],
            [
             0.8,
             "#7fbc41"
            ],
            [
             0.9,
             "#4d9221"
            ],
            [
             1,
             "#276419"
            ]
           ],
           "sequential": [
            [
             0,
             "#0d0887"
            ],
            [
             0.1111111111111111,
             "#46039f"
            ],
            [
             0.2222222222222222,
             "#7201a8"
            ],
            [
             0.3333333333333333,
             "#9c179e"
            ],
            [
             0.4444444444444444,
             "#bd3786"
            ],
            [
             0.5555555555555556,
             "#d8576b"
            ],
            [
             0.6666666666666666,
             "#ed7953"
            ],
            [
             0.7777777777777778,
             "#fb9f3a"
            ],
            [
             0.8888888888888888,
             "#fdca26"
            ],
            [
             1,
             "#f0f921"
            ]
           ],
           "sequentialminus": [
            [
             0,
             "#0d0887"
            ],
            [
             0.1111111111111111,
             "#46039f"
            ],
            [
             0.2222222222222222,
             "#7201a8"
            ],
            [
             0.3333333333333333,
             "#9c179e"
            ],
            [
             0.4444444444444444,
             "#bd3786"
            ],
            [
             0.5555555555555556,
             "#d8576b"
            ],
            [
             0.6666666666666666,
             "#ed7953"
            ],
            [
             0.7777777777777778,
             "#fb9f3a"
            ],
            [
             0.8888888888888888,
             "#fdca26"
            ],
            [
             1,
             "#f0f921"
            ]
           ]
          },
          "colorway": [
           "#636efa",
           "#EF553B",
           "#00cc96",
           "#ab63fa",
           "#FFA15A",
           "#19d3f3",
           "#FF6692",
           "#B6E880",
           "#FF97FF",
           "#FECB52"
          ],
          "font": {
           "color": "#2a3f5f"
          },
          "geo": {
           "bgcolor": "white",
           "lakecolor": "white",
           "landcolor": "#E5ECF6",
           "showlakes": true,
           "showland": true,
           "subunitcolor": "white"
          },
          "hoverlabel": {
           "align": "left"
          },
          "hovermode": "closest",
          "mapbox": {
           "style": "light"
          },
          "paper_bgcolor": "white",
          "plot_bgcolor": "#E5ECF6",
          "polar": {
           "angularaxis": {
            "gridcolor": "white",
            "linecolor": "white",
            "ticks": ""
           },
           "bgcolor": "#E5ECF6",
           "radialaxis": {
            "gridcolor": "white",
            "linecolor": "white",
            "ticks": ""
           }
          },
          "scene": {
           "xaxis": {
            "backgroundcolor": "#E5ECF6",
            "gridcolor": "white",
            "gridwidth": 2,
            "linecolor": "white",
            "showbackground": true,
            "ticks": "",
            "zerolinecolor": "white"
           },
           "yaxis": {
            "backgroundcolor": "#E5ECF6",
            "gridcolor": "white",
            "gridwidth": 2,
            "linecolor": "white",
            "showbackground": true,
            "ticks": "",
            "zerolinecolor": "white"
           },
           "zaxis": {
            "backgroundcolor": "#E5ECF6",
            "gridcolor": "white",
            "gridwidth": 2,
            "linecolor": "white",
            "showbackground": true,
            "ticks": "",
            "zerolinecolor": "white"
           }
          },
          "shapedefaults": {
           "line": {
            "color": "#2a3f5f"
           }
          },
          "ternary": {
           "aaxis": {
            "gridcolor": "white",
            "linecolor": "white",
            "ticks": ""
           },
           "baxis": {
            "gridcolor": "white",
            "linecolor": "white",
            "ticks": ""
           },
           "bgcolor": "#E5ECF6",
           "caxis": {
            "gridcolor": "white",
            "linecolor": "white",
            "ticks": ""
           }
          },
          "title": {
           "x": 0.05
          },
          "xaxis": {
           "automargin": true,
           "gridcolor": "white",
           "linecolor": "white",
           "ticks": "",
           "title": {
            "standoff": 15
           },
           "zerolinecolor": "white",
           "zerolinewidth": 2
          },
          "yaxis": {
           "automargin": true,
           "gridcolor": "white",
           "linecolor": "white",
           "ticks": "",
           "title": {
            "standoff": 15
           },
           "zerolinecolor": "white",
           "zerolinewidth": 2
          }
         }
        },
        "title": {
         "text": "Is infants life is dependent on there parents primary education?"
        },
        "xaxis": {
         "anchor": "y",
         "domain": [
          0,
          1
         ],
         "title": {
          "text": "Gross primary education enrollment (%)"
         }
        },
        "yaxis": {
         "anchor": "x",
         "domain": [
          0,
          1
         ],
         "title": {
          "text": "Infant mortality"
         }
        }
       }
      }
     },
     "metadata": {},
     "output_type": "display_data"
    }
   ],
   "source": [
    "\n",
    "fig = px.scatter(df, x=\"Gross primary education enrollment (%)\", y=\"Infant mortality\",\n",
    "                 trendline=\"ols\", trendline_options=dict(log_x=True),\n",
    "                 title=\"Is infants life is dependent on there parents primary education?\",hover_name=\"Country\")\n",
    "fig.show()"
   ]
  },
  {
   "cell_type": "code",
   "execution_count": 55,
   "metadata": {
    "colab": {
     "base_uri": "https://localhost:8080/",
     "height": 542
    },
    "id": "RyM47s4VdDUy",
    "outputId": "0fc4266c-1614-4dcd-d428-af0a40af3199"
   },
   "outputs": [
    {
     "data": {
      "application/vnd.plotly.v1+json": {
       "config": {
        "plotlyServerURL": "https://plot.ly"
       },
       "data": [
        {
         "hovertemplate": "<b>%{hovertext}</b><br><br>Gross tertiary education enrollment (%)=%{x}<br>Infant mortality=%{y}<extra></extra>",
         "hovertext": [
          "Afghanistan",
          "Albania",
          "Algeria",
          "Andorra",
          "Angola",
          "Antigua and Barbuda",
          "Argentina",
          "Armenia",
          "Australia",
          "Austria",
          "Azerbaijan",
          "The Bahamas",
          "Bahrain",
          "Bangladesh",
          "Barbados",
          "Belarus",
          "Belgium",
          "Belize",
          "Benin",
          "Bhutan",
          "Bolivia",
          "Bosnia and Herzegovina",
          "Botswana",
          "Brazil",
          "Brunei",
          "Bulgaria",
          "Burkina Faso",
          "Burundi",
          "Ivory Coast",
          "Cape Verde",
          "Cambodia",
          "Cameroon",
          "Canada",
          "Central African Republic",
          "Chad",
          "Chile",
          "China",
          "Colombia",
          "Comoros",
          "Republic of the Congo",
          "Costa Rica",
          "Croatia",
          "Cuba",
          "Cyprus",
          "Czech Republic",
          "Democratic Republic of the Congo",
          "Denmark",
          "Djibouti",
          "Dominica",
          "Dominican Republic",
          "Ecuador",
          "Egypt",
          "El Salvador",
          "Equatorial Guinea",
          "Eritrea",
          "Estonia",
          "Eswatini",
          "Ethiopia",
          "Fiji",
          "Finland",
          "France",
          "Gabon",
          "The Gambia",
          "Georgia",
          "Germany",
          "Ghana",
          "Greece",
          "Grenada",
          "Guatemala",
          "Guinea",
          "Guinea-Bissau",
          "Guyana",
          "Haiti",
          "Vatican City",
          "Honduras",
          "Hungary",
          "Iceland",
          "India",
          "Indonesia",
          "Iran",
          "Iraq",
          "Republic of Ireland",
          "Israel",
          "Italy",
          "Jamaica",
          "Japan",
          "Jordan",
          "Kazakhstan",
          "Kenya",
          "Kiribati",
          "Kuwait",
          "Kyrgyzstan",
          "Laos",
          "Latvia",
          "Lebanon",
          "Lesotho",
          "Liberia",
          "Libya",
          "Liechtenstein",
          "Lithuania",
          "Luxembourg",
          "Madagascar",
          "Malawi",
          "Malaysia",
          "Maldives",
          "Mali",
          "Malta",
          "Marshall Islands",
          "Mauritania",
          "Mauritius",
          "Mexico",
          "Federated States of Micronesia",
          "Moldova",
          "Monaco",
          "Mongolia",
          "Montenegro",
          "Morocco",
          "Myanmar",
          "Namibia",
          "Nauru",
          "Nepal",
          "Netherlands",
          "New Zealand",
          "Nicaragua",
          "Niger",
          "Nigeria",
          "North Korea",
          "North Macedonia",
          "Norway",
          "Oman",
          "Pakistan",
          "Palau",
          "Palestinian National Authority",
          "Panama",
          "Papua New Guinea",
          "Paraguay",
          "Peru",
          "Philippines",
          "Poland",
          "Portugal",
          "Qatar",
          "Romania",
          "Russia",
          "Rwanda",
          "Saint Kitts and Nevis",
          "Saint Lucia",
          "Saint Vincent and the Grenadines",
          "Samoa",
          "San Marino",
          "Sao Tome and Principe",
          "Saudi Arabia",
          "Senegal",
          "Serbia",
          "Seychelles",
          "Sierra Leone",
          "Singapore",
          "Slovakia",
          "Slovenia",
          "Solomon Islands",
          "South Africa",
          "South Korea",
          "South Sudan",
          "Spain",
          "Sri Lanka",
          "Sudan",
          "Suriname",
          "Sweden",
          "Switzerland",
          "Syria",
          "Tajikistan",
          "Tanzania",
          "Thailand",
          "East Timor",
          "Togo",
          "Tonga",
          "Trinidad and Tobago",
          "Tunisia",
          "Turkey",
          "Turkmenistan",
          "Tuvalu",
          "Uganda",
          "Ukraine",
          "United Arab Emirates",
          "United Kingdom",
          "United States",
          "Uruguay",
          "Uzbekistan",
          "Vanuatu",
          "Venezuela",
          "Vietnam",
          "Yemen",
          "Zambia",
          "Zimbabwe"
         ],
         "legendgroup": "",
         "marker": {
          "color": "#636efa",
          "symbol": "circle"
         },
         "mode": "markers",
         "name": "",
         "orientation": "v",
         "showlegend": false,
         "type": "scatter",
         "x": [
          9.7,
          55,
          51.4,
          null,
          9.3,
          24.8,
          90,
          54.6,
          113.1,
          85.1,
          27.7,
          15.1,
          50.5,
          20.6,
          65.4,
          87.4,
          79.7,
          24.7,
          12.3,
          15.6,
          null,
          23.3,
          24.9,
          51.3,
          31.4,
          71,
          6.5,
          6.1,
          9.3,
          23.6,
          13.7,
          12.8,
          68.9,
          3,
          3.3,
          88.5,
          50.6,
          55.3,
          9,
          12.7,
          55.2,
          67.9,
          41.4,
          75.9,
          64.1,
          6.6,
          80.6,
          5.3,
          7.2,
          59.9,
          44.9,
          35.2,
          29.4,
          1.9,
          3.4,
          69.6,
          null,
          8.1,
          16.1,
          88.2,
          65.6,
          8.3,
          2.7,
          63.9,
          70.2,
          15.7,
          136.6,
          104.6,
          21.8,
          11.6,
          2.6,
          11.6,
          1.1,
          null,
          26.2,
          48.5,
          71.8,
          28.1,
          36.3,
          68.1,
          16.2,
          77.8,
          63.4,
          61.9,
          27.1,
          63.2,
          34.4,
          61.7,
          11.5,
          null,
          54.4,
          41.3,
          15,
          88.1,
          26.3,
          10.2,
          11.9,
          60.5,
          35.6,
          72.4,
          19.2,
          5.4,
          0.8,
          45.1,
          31.2,
          4.5,
          54.3,
          23.7,
          5,
          40.6,
          40.2,
          14.1,
          39.8,
          null,
          65.6,
          56.1,
          35.9,
          18.8,
          22.9,
          null,
          12.4,
          85,
          82,
          17.4,
          4.4,
          10.2,
          27,
          null,
          82,
          38,
          9,
          54.7,
          null,
          47.8,
          1.8,
          34.6,
          70.7,
          35.5,
          67.8,
          63.9,
          17.9,
          49.4,
          81.9,
          6.7,
          86.7,
          14.1,
          23.7,
          7.6,
          42.5,
          13.4,
          68,
          12.8,
          67.2,
          17.1,
          2,
          84.8,
          46.6,
          78.6,
          null,
          22.4,
          94.3,
          null,
          88.9,
          19.6,
          16.9,
          12.6,
          67,
          59.6,
          40.1,
          31.3,
          4,
          49.3,
          17.8,
          14.5,
          6.4,
          12,
          31.7,
          23.9,
          8,
          null,
          4.8,
          82.7,
          36.8,
          60,
          88.2,
          63.1,
          10.1,
          4.7,
          79.3,
          28.5,
          10.2,
          4.1,
          10
         ],
         "xaxis": "x",
         "y": [
          47.9,
          7.8,
          20.1,
          2.7,
          51.6,
          5,
          8.8,
          11,
          3.1,
          2.9,
          19.2,
          8.3,
          6.1,
          25.1,
          11.3,
          2.6,
          2.9,
          11.2,
          60.5,
          24.8,
          21.8,
          5,
          30,
          12.8,
          9.8,
          5.9,
          49,
          41,
          59.4,
          16.7,
          24,
          50.6,
          4.3,
          84.5,
          71.4,
          6.2,
          7.4,
          12.2,
          51.3,
          36.2,
          7.6,
          4,
          3.7,
          1.9,
          2.7,
          68.2,
          3.6,
          49.8,
          32.9,
          24.1,
          12.2,
          18.1,
          11.8,
          62.6,
          31.3,
          2.1,
          null,
          39.1,
          21.6,
          1.4,
          3.4,
          32.7,
          39,
          8.7,
          3.1,
          34.9,
          3.6,
          13.7,
          22.1,
          64.9,
          54,
          25.1,
          49.5,
          null,
          15.1,
          3.6,
          1.5,
          29.9,
          21.1,
          12.4,
          22.5,
          3.1,
          3,
          2.6,
          12.4,
          1.8,
          13.9,
          8.8,
          30.6,
          41.2,
          6.7,
          16.9,
          37.6,
          3.3,
          6.4,
          65.7,
          53.5,
          10.2,
          null,
          3.3,
          1.9,
          38.2,
          35.3,
          6.7,
          7.4,
          62,
          6.1,
          27.4,
          51.5,
          13.6,
          11,
          25.6,
          13.6,
          2.6,
          14,
          2.3,
          19.2,
          36.8,
          29,
          null,
          26.7,
          3.3,
          4.7,
          15.7,
          48,
          75.7,
          13.7,
          null,
          2.1,
          9.8,
          57.2,
          16.6,
          null,
          13.1,
          38,
          17.2,
          11.1,
          22.5,
          3.8,
          3.1,
          5.8,
          6.1,
          6.1,
          27,
          9.8,
          14.9,
          14.8,
          13.6,
          1.7,
          24.4,
          6,
          31.8,
          4.8,
          12.4,
          78.5,
          2.3,
          4.6,
          1.7,
          17.1,
          28.5,
          2.7,
          63.7,
          2.5,
          6.4,
          42.1,
          16.9,
          2.2,
          3.7,
          14,
          30.4,
          37.6,
          7.8,
          39.3,
          47.4,
          13.4,
          16.4,
          14.6,
          9.1,
          39.3,
          20.6,
          33.8,
          7.5,
          6.5,
          3.6,
          5.6,
          6.4,
          19.1,
          22.3,
          21.4,
          16.5,
          42.9,
          40.4,
          33.9
         ],
         "yaxis": "y"
        },
        {
         "hovertemplate": "<b>OLS trendline</b><br>Infant mortality = -32.7322 * log10(Gross tertiary education enrollment (%)) + 66.5566<br>R<sup>2</sup>=0.633882<br><br>Gross tertiary education enrollment (%)=%{x}<br>Infant mortality=%{y} <b>(trend)</b><extra></extra>",
         "legendgroup": "",
         "marker": {
          "color": "#636efa",
          "symbol": "circle"
         },
         "mode": "lines",
         "name": "",
         "showlegend": false,
         "type": "scatter",
         "x": [
          0.8,
          1.1,
          1.8,
          1.9,
          2,
          2.6,
          2.7,
          3,
          3.3,
          3.4,
          4,
          4.1,
          4.4,
          4.5,
          4.7,
          4.8,
          5,
          5.3,
          5.4,
          6.1,
          6.4,
          6.5,
          6.6,
          6.7,
          7.2,
          7.6,
          8,
          8.1,
          8.3,
          9,
          9,
          9.3,
          9.3,
          9.7,
          10,
          10.1,
          10.2,
          10.2,
          10.2,
          11.5,
          11.6,
          11.6,
          11.9,
          12,
          12.3,
          12.4,
          12.6,
          12.7,
          12.8,
          12.8,
          13.4,
          13.7,
          14.1,
          14.1,
          14.5,
          15,
          15.1,
          15.6,
          15.7,
          16.1,
          16.2,
          16.9,
          17.1,
          17.4,
          17.8,
          17.9,
          18.8,
          19.2,
          19.6,
          20.6,
          21.8,
          22.4,
          22.9,
          23.3,
          23.6,
          23.7,
          23.7,
          23.9,
          24.7,
          24.8,
          24.9,
          26.2,
          26.3,
          27,
          27.1,
          27.7,
          28.1,
          28.5,
          29.4,
          31.2,
          31.3,
          31.4,
          31.7,
          34.4,
          34.6,
          35.2,
          35.5,
          35.9,
          36.3,
          36.8,
          38,
          39.8,
          40.1,
          40.2,
          40.6,
          41.3,
          41.4,
          42.5,
          44.9,
          45.1,
          46.6,
          47.8,
          48.5,
          49.3,
          49.4,
          50.5,
          50.6,
          51.3,
          51.4,
          54.3,
          54.4,
          54.6,
          54.7,
          55,
          55.2,
          55.3,
          56.1,
          59.6,
          59.9,
          60,
          60.5,
          61.7,
          61.9,
          63.1,
          63.2,
          63.4,
          63.9,
          63.9,
          64.1,
          65.4,
          65.6,
          65.6,
          67,
          67.2,
          67.8,
          67.9,
          68,
          68.1,
          68.9,
          69.6,
          70.2,
          70.7,
          71,
          71.8,
          72.4,
          75.9,
          77.8,
          78.6,
          79.3,
          79.7,
          80.6,
          81.9,
          82,
          82,
          82.7,
          84.8,
          85,
          85.1,
          86.7,
          87.4,
          88.1,
          88.2,
          88.2,
          88.5,
          88.9,
          90,
          94.3,
          104.6,
          113.1,
          136.6
         ],
         "xaxis": "x",
         "y": [
          69.72863363753618,
          65.2016767287908,
          58.20091144091836,
          57.43232261011256,
          56.7031663443516,
          52.973545355244966,
          52.437050342609446,
          50.93930524604269,
          49.58443000114141,
          49.160057275777845,
          46.84978071501113,
          46.498764594809515,
          45.49490547010984,
          45.175444147733785,
          44.55728455754235,
          44.25800128054632,
          43.67769905116703,
          42.84938143255921,
          42.58366471326897,
          40.85094847222246,
          40.168476749514745,
          39.9480780620604,
          39.731044371800934,
          39.517274470003386,
          38.4941401822374,
          37.725551351431605,
          36.996395085670656,
          36.819803614960065,
          36.47306860624494,
          35.32205851839331,
          35.32205851839331,
          34.85593706821057,
          34.85593706821057,
          34.2573041714513,
          33.82431342182656,
          33.68286518430132,
          33.54281054812846,
          33.54281054812846,
          33.54281054812846,
          31.837537231789092,
          31.71445914187749,
          31.71445914187749,
          31.351492259657668,
          31.23253398736174,
          30.881517867160127,
          30.766412537179,
          30.53896079545771,
          30.426585264924903,
          30.315091120174273,
          30.315091120174273,
          29.663888840662906,
          29.349143202716704,
          28.940037829892972,
          28.940037829892972,
          28.542377478033394,
          28.06045232351765,
          27.96599728774187,
          27.502912998255105,
          27.412079266939983,
          27.054439508853484,
          26.966417985619586,
          26.36507144361329,
          26.19782915481379,
          25.950598043568576,
          25.627506168093127,
          25.547867693230458,
          24.8505132988614,
          24.551230021865358,
          24.25811797595535,
          23.55073669109248,
          22.745874733732684,
          22.359911733394576,
          22.046092574451755,
          21.799931781362638,
          21.61806878175505,
          21.5579611633068,
          21.5579611633068,
          21.438503060466935,
          20.970463069140393,
          20.913026907838535,
          20.85582187859555,
          20.13237576779526,
          20.078221681032566,
          19.704811790743925,
          19.652259307293455,
          19.34096006643466,
          19.1371511189638,
          18.936222959938128,
          18.49425687764645,
          17.649527368914626,
          17.604037952230037,
          17.55869363759951,
          17.423522122293384,
          16.2615544825578,
          16.179145958532366,
          15.934748582088417,
          15.814107711627138,
          15.654829512144772,
          15.497316204374606,
          15.302847636952237,
          14.846698428906556,
          14.188797603484673,
          14.082047936007484,
          14.046642113013526,
          13.905894125757314,
          13.662889394975352,
          13.6285110696749,
          13.25573706006822,
          12.47483059352436,
          12.411650798042707,
          11.946546152022158,
          11.585117431126463,
          11.378451248926254,
          11.145882780119152,
          11.117077439799921,
          10.804012261776279,
          10.775890728206853,
          10.580582427164401,
          10.552899009294848,
          9.77267011185429,
          9.746514758415934,
          9.694347982134936,
          9.66833620802727,
          9.590585254400224,
          9.538986538643321,
          9.51325724549553,
          9.309082380702122,
          8.448767911567636,
          8.377393214760836,
          8.3536810648367,
          8.235710009498945,
          7.956510908690319,
          7.910506238818819,
          7.637561586551435,
          7.615051002934749,
          7.570136492952905,
          7.458467178853411,
          7.458467178853411,
          7.414043922128471,
          7.128628006083304,
          7.085222077447611,
          7.085222077447611,
          6.785035918137865,
          6.742665005745188,
          6.616304790775693,
          6.595353525990653,
          6.5744330945718445,
          6.553543405899475,
          6.387521891587049,
          6.243826784887631,
          6.12180517229681,
          6.020914538840678,
          5.960722082286658,
          5.801443882804293,
          5.683145580822725,
          5.012029629897945,
          4.660556708315056,
          4.515129040145872,
          4.389088931250299,
          4.317564601324754,
          4.157938625547324,
          3.9304868838260276,
          3.9131404136035215,
          3.9131404136035215,
          3.792304210501676,
          3.4358389151973086,
          3.402351430727755,
          3.385637224706471,
          3.120848557029646,
          3.0065366095286166,
          2.8931365619175793,
          2.877010149997062,
          2.877010149997062,
          2.828740390261572,
          2.764634619464246,
          2.5898199665277915,
          1.926364223566054,
          0.452759112564209,
          -0.6578758680631012,
          -3.341529733033326
         ],
         "yaxis": "y"
        }
       ],
       "layout": {
        "legend": {
         "tracegroupgap": 0
        },
        "template": {
         "data": {
          "bar": [
           {
            "error_x": {
             "color": "#2a3f5f"
            },
            "error_y": {
             "color": "#2a3f5f"
            },
            "marker": {
             "line": {
              "color": "#E5ECF6",
              "width": 0.5
             },
             "pattern": {
              "fillmode": "overlay",
              "size": 10,
              "solidity": 0.2
             }
            },
            "type": "bar"
           }
          ],
          "barpolar": [
           {
            "marker": {
             "line": {
              "color": "#E5ECF6",
              "width": 0.5
             },
             "pattern": {
              "fillmode": "overlay",
              "size": 10,
              "solidity": 0.2
             }
            },
            "type": "barpolar"
           }
          ],
          "carpet": [
           {
            "aaxis": {
             "endlinecolor": "#2a3f5f",
             "gridcolor": "white",
             "linecolor": "white",
             "minorgridcolor": "white",
             "startlinecolor": "#2a3f5f"
            },
            "baxis": {
             "endlinecolor": "#2a3f5f",
             "gridcolor": "white",
             "linecolor": "white",
             "minorgridcolor": "white",
             "startlinecolor": "#2a3f5f"
            },
            "type": "carpet"
           }
          ],
          "choropleth": [
           {
            "colorbar": {
             "outlinewidth": 0,
             "ticks": ""
            },
            "type": "choropleth"
           }
          ],
          "contour": [
           {
            "colorbar": {
             "outlinewidth": 0,
             "ticks": ""
            },
            "colorscale": [
             [
              0,
              "#0d0887"
             ],
             [
              0.1111111111111111,
              "#46039f"
             ],
             [
              0.2222222222222222,
              "#7201a8"
             ],
             [
              0.3333333333333333,
              "#9c179e"
             ],
             [
              0.4444444444444444,
              "#bd3786"
             ],
             [
              0.5555555555555556,
              "#d8576b"
             ],
             [
              0.6666666666666666,
              "#ed7953"
             ],
             [
              0.7777777777777778,
              "#fb9f3a"
             ],
             [
              0.8888888888888888,
              "#fdca26"
             ],
             [
              1,
              "#f0f921"
             ]
            ],
            "type": "contour"
           }
          ],
          "contourcarpet": [
           {
            "colorbar": {
             "outlinewidth": 0,
             "ticks": ""
            },
            "type": "contourcarpet"
           }
          ],
          "heatmap": [
           {
            "colorbar": {
             "outlinewidth": 0,
             "ticks": ""
            },
            "colorscale": [
             [
              0,
              "#0d0887"
             ],
             [
              0.1111111111111111,
              "#46039f"
             ],
             [
              0.2222222222222222,
              "#7201a8"
             ],
             [
              0.3333333333333333,
              "#9c179e"
             ],
             [
              0.4444444444444444,
              "#bd3786"
             ],
             [
              0.5555555555555556,
              "#d8576b"
             ],
             [
              0.6666666666666666,
              "#ed7953"
             ],
             [
              0.7777777777777778,
              "#fb9f3a"
             ],
             [
              0.8888888888888888,
              "#fdca26"
             ],
             [
              1,
              "#f0f921"
             ]
            ],
            "type": "heatmap"
           }
          ],
          "heatmapgl": [
           {
            "colorbar": {
             "outlinewidth": 0,
             "ticks": ""
            },
            "colorscale": [
             [
              0,
              "#0d0887"
             ],
             [
              0.1111111111111111,
              "#46039f"
             ],
             [
              0.2222222222222222,
              "#7201a8"
             ],
             [
              0.3333333333333333,
              "#9c179e"
             ],
             [
              0.4444444444444444,
              "#bd3786"
             ],
             [
              0.5555555555555556,
              "#d8576b"
             ],
             [
              0.6666666666666666,
              "#ed7953"
             ],
             [
              0.7777777777777778,
              "#fb9f3a"
             ],
             [
              0.8888888888888888,
              "#fdca26"
             ],
             [
              1,
              "#f0f921"
             ]
            ],
            "type": "heatmapgl"
           }
          ],
          "histogram": [
           {
            "marker": {
             "pattern": {
              "fillmode": "overlay",
              "size": 10,
              "solidity": 0.2
             }
            },
            "type": "histogram"
           }
          ],
          "histogram2d": [
           {
            "colorbar": {
             "outlinewidth": 0,
             "ticks": ""
            },
            "colorscale": [
             [
              0,
              "#0d0887"
             ],
             [
              0.1111111111111111,
              "#46039f"
             ],
             [
              0.2222222222222222,
              "#7201a8"
             ],
             [
              0.3333333333333333,
              "#9c179e"
             ],
             [
              0.4444444444444444,
              "#bd3786"
             ],
             [
              0.5555555555555556,
              "#d8576b"
             ],
             [
              0.6666666666666666,
              "#ed7953"
             ],
             [
              0.7777777777777778,
              "#fb9f3a"
             ],
             [
              0.8888888888888888,
              "#fdca26"
             ],
             [
              1,
              "#f0f921"
             ]
            ],
            "type": "histogram2d"
           }
          ],
          "histogram2dcontour": [
           {
            "colorbar": {
             "outlinewidth": 0,
             "ticks": ""
            },
            "colorscale": [
             [
              0,
              "#0d0887"
             ],
             [
              0.1111111111111111,
              "#46039f"
             ],
             [
              0.2222222222222222,
              "#7201a8"
             ],
             [
              0.3333333333333333,
              "#9c179e"
             ],
             [
              0.4444444444444444,
              "#bd3786"
             ],
             [
              0.5555555555555556,
              "#d8576b"
             ],
             [
              0.6666666666666666,
              "#ed7953"
             ],
             [
              0.7777777777777778,
              "#fb9f3a"
             ],
             [
              0.8888888888888888,
              "#fdca26"
             ],
             [
              1,
              "#f0f921"
             ]
            ],
            "type": "histogram2dcontour"
           }
          ],
          "mesh3d": [
           {
            "colorbar": {
             "outlinewidth": 0,
             "ticks": ""
            },
            "type": "mesh3d"
           }
          ],
          "parcoords": [
           {
            "line": {
             "colorbar": {
              "outlinewidth": 0,
              "ticks": ""
             }
            },
            "type": "parcoords"
           }
          ],
          "pie": [
           {
            "automargin": true,
            "type": "pie"
           }
          ],
          "scatter": [
           {
            "fillpattern": {
             "fillmode": "overlay",
             "size": 10,
             "solidity": 0.2
            },
            "type": "scatter"
           }
          ],
          "scatter3d": [
           {
            "line": {
             "colorbar": {
              "outlinewidth": 0,
              "ticks": ""
             }
            },
            "marker": {
             "colorbar": {
              "outlinewidth": 0,
              "ticks": ""
             }
            },
            "type": "scatter3d"
           }
          ],
          "scattercarpet": [
           {
            "marker": {
             "colorbar": {
              "outlinewidth": 0,
              "ticks": ""
             }
            },
            "type": "scattercarpet"
           }
          ],
          "scattergeo": [
           {
            "marker": {
             "colorbar": {
              "outlinewidth": 0,
              "ticks": ""
             }
            },
            "type": "scattergeo"
           }
          ],
          "scattergl": [
           {
            "marker": {
             "colorbar": {
              "outlinewidth": 0,
              "ticks": ""
             }
            },
            "type": "scattergl"
           }
          ],
          "scattermapbox": [
           {
            "marker": {
             "colorbar": {
              "outlinewidth": 0,
              "ticks": ""
             }
            },
            "type": "scattermapbox"
           }
          ],
          "scatterpolar": [
           {
            "marker": {
             "colorbar": {
              "outlinewidth": 0,
              "ticks": ""
             }
            },
            "type": "scatterpolar"
           }
          ],
          "scatterpolargl": [
           {
            "marker": {
             "colorbar": {
              "outlinewidth": 0,
              "ticks": ""
             }
            },
            "type": "scatterpolargl"
           }
          ],
          "scatterternary": [
           {
            "marker": {
             "colorbar": {
              "outlinewidth": 0,
              "ticks": ""
             }
            },
            "type": "scatterternary"
           }
          ],
          "surface": [
           {
            "colorbar": {
             "outlinewidth": 0,
             "ticks": ""
            },
            "colorscale": [
             [
              0,
              "#0d0887"
             ],
             [
              0.1111111111111111,
              "#46039f"
             ],
             [
              0.2222222222222222,
              "#7201a8"
             ],
             [
              0.3333333333333333,
              "#9c179e"
             ],
             [
              0.4444444444444444,
              "#bd3786"
             ],
             [
              0.5555555555555556,
              "#d8576b"
             ],
             [
              0.6666666666666666,
              "#ed7953"
             ],
             [
              0.7777777777777778,
              "#fb9f3a"
             ],
             [
              0.8888888888888888,
              "#fdca26"
             ],
             [
              1,
              "#f0f921"
             ]
            ],
            "type": "surface"
           }
          ],
          "table": [
           {
            "cells": {
             "fill": {
              "color": "#EBF0F8"
             },
             "line": {
              "color": "white"
             }
            },
            "header": {
             "fill": {
              "color": "#C8D4E3"
             },
             "line": {
              "color": "white"
             }
            },
            "type": "table"
           }
          ]
         },
         "layout": {
          "annotationdefaults": {
           "arrowcolor": "#2a3f5f",
           "arrowhead": 0,
           "arrowwidth": 1
          },
          "autotypenumbers": "strict",
          "coloraxis": {
           "colorbar": {
            "outlinewidth": 0,
            "ticks": ""
           }
          },
          "colorscale": {
           "diverging": [
            [
             0,
             "#8e0152"
            ],
            [
             0.1,
             "#c51b7d"
            ],
            [
             0.2,
             "#de77ae"
            ],
            [
             0.3,
             "#f1b6da"
            ],
            [
             0.4,
             "#fde0ef"
            ],
            [
             0.5,
             "#f7f7f7"
            ],
            [
             0.6,
             "#e6f5d0"
            ],
            [
             0.7,
             "#b8e186"
            ],
            [
             0.8,
             "#7fbc41"
            ],
            [
             0.9,
             "#4d9221"
            ],
            [
             1,
             "#276419"
            ]
           ],
           "sequential": [
            [
             0,
             "#0d0887"
            ],
            [
             0.1111111111111111,
             "#46039f"
            ],
            [
             0.2222222222222222,
             "#7201a8"
            ],
            [
             0.3333333333333333,
             "#9c179e"
            ],
            [
             0.4444444444444444,
             "#bd3786"
            ],
            [
             0.5555555555555556,
             "#d8576b"
            ],
            [
             0.6666666666666666,
             "#ed7953"
            ],
            [
             0.7777777777777778,
             "#fb9f3a"
            ],
            [
             0.8888888888888888,
             "#fdca26"
            ],
            [
             1,
             "#f0f921"
            ]
           ],
           "sequentialminus": [
            [
             0,
             "#0d0887"
            ],
            [
             0.1111111111111111,
             "#46039f"
            ],
            [
             0.2222222222222222,
             "#7201a8"
            ],
            [
             0.3333333333333333,
             "#9c179e"
            ],
            [
             0.4444444444444444,
             "#bd3786"
            ],
            [
             0.5555555555555556,
             "#d8576b"
            ],
            [
             0.6666666666666666,
             "#ed7953"
            ],
            [
             0.7777777777777778,
             "#fb9f3a"
            ],
            [
             0.8888888888888888,
             "#fdca26"
            ],
            [
             1,
             "#f0f921"
            ]
           ]
          },
          "colorway": [
           "#636efa",
           "#EF553B",
           "#00cc96",
           "#ab63fa",
           "#FFA15A",
           "#19d3f3",
           "#FF6692",
           "#B6E880",
           "#FF97FF",
           "#FECB52"
          ],
          "font": {
           "color": "#2a3f5f"
          },
          "geo": {
           "bgcolor": "white",
           "lakecolor": "white",
           "landcolor": "#E5ECF6",
           "showlakes": true,
           "showland": true,
           "subunitcolor": "white"
          },
          "hoverlabel": {
           "align": "left"
          },
          "hovermode": "closest",
          "mapbox": {
           "style": "light"
          },
          "paper_bgcolor": "white",
          "plot_bgcolor": "#E5ECF6",
          "polar": {
           "angularaxis": {
            "gridcolor": "white",
            "linecolor": "white",
            "ticks": ""
           },
           "bgcolor": "#E5ECF6",
           "radialaxis": {
            "gridcolor": "white",
            "linecolor": "white",
            "ticks": ""
           }
          },
          "scene": {
           "xaxis": {
            "backgroundcolor": "#E5ECF6",
            "gridcolor": "white",
            "gridwidth": 2,
            "linecolor": "white",
            "showbackground": true,
            "ticks": "",
            "zerolinecolor": "white"
           },
           "yaxis": {
            "backgroundcolor": "#E5ECF6",
            "gridcolor": "white",
            "gridwidth": 2,
            "linecolor": "white",
            "showbackground": true,
            "ticks": "",
            "zerolinecolor": "white"
           },
           "zaxis": {
            "backgroundcolor": "#E5ECF6",
            "gridcolor": "white",
            "gridwidth": 2,
            "linecolor": "white",
            "showbackground": true,
            "ticks": "",
            "zerolinecolor": "white"
           }
          },
          "shapedefaults": {
           "line": {
            "color": "#2a3f5f"
           }
          },
          "ternary": {
           "aaxis": {
            "gridcolor": "white",
            "linecolor": "white",
            "ticks": ""
           },
           "baxis": {
            "gridcolor": "white",
            "linecolor": "white",
            "ticks": ""
           },
           "bgcolor": "#E5ECF6",
           "caxis": {
            "gridcolor": "white",
            "linecolor": "white",
            "ticks": ""
           }
          },
          "title": {
           "x": 0.05
          },
          "xaxis": {
           "automargin": true,
           "gridcolor": "white",
           "linecolor": "white",
           "ticks": "",
           "title": {
            "standoff": 15
           },
           "zerolinecolor": "white",
           "zerolinewidth": 2
          },
          "yaxis": {
           "automargin": true,
           "gridcolor": "white",
           "linecolor": "white",
           "ticks": "",
           "title": {
            "standoff": 15
           },
           "zerolinecolor": "white",
           "zerolinewidth": 2
          }
         }
        },
        "title": {
         "text": "Is infants life is dependent on there parents tertiary education?"
        },
        "xaxis": {
         "anchor": "y",
         "domain": [
          0,
          1
         ],
         "title": {
          "text": "Gross tertiary education enrollment (%)"
         }
        },
        "yaxis": {
         "anchor": "x",
         "domain": [
          0,
          1
         ],
         "title": {
          "text": "Infant mortality"
         }
        }
       }
      }
     },
     "metadata": {},
     "output_type": "display_data"
    }
   ],
   "source": [
    "fig = px.scatter(df, x=\"Gross tertiary education enrollment (%)\", y=\"Infant mortality\",\n",
    "                 trendline=\"ols\", trendline_options=dict(log_x=True),\n",
    "                 title=\"Is infants life is dependent on there parents tertiary education?\",hover_name=\"Country\")\n",
    "fig.show()"
   ]
  },
  {
   "cell_type": "markdown",
   "metadata": {
    "id": "AfoAFT-2UXAF"
   },
   "source": [
    "### Dependency of infant mortality on parents education\n",
    "\n",
    "As the society get educated primarily advanced education they tend to get more aware about practices to take care of mother during pregnanncy and what to do to take care of child after birth like all the vaccines required and dietry habits."
   ]
  },
  {
   "cell_type": "code",
   "execution_count": 56,
   "metadata": {
    "colab": {
     "base_uri": "https://localhost:8080/",
     "height": 542
    },
    "id": "6Uuj9OiEUa-J",
    "outputId": "833dff18-2cc9-4a34-aafd-0998402fe9a3"
   },
   "outputs": [
    {
     "data": {
      "application/vnd.plotly.v1+json": {
       "config": {
        "plotlyServerURL": "https://plot.ly"
       },
       "data": [
        {
         "hovertemplate": "<b>%{hovertext}</b><br><br>Gasoline Price=%{x}<br>Minimum wage=%{y}<extra></extra>",
         "hovertext": [
          "Afghanistan",
          "Albania",
          "Algeria",
          "Andorra",
          "Angola",
          "Antigua and Barbuda",
          "Argentina",
          "Armenia",
          "Australia",
          "Austria",
          "Azerbaijan",
          "The Bahamas",
          "Bahrain",
          "Bangladesh",
          "Barbados",
          "Belarus",
          "Belgium",
          "Belize",
          "Benin",
          "Bhutan",
          "Bolivia",
          "Bosnia and Herzegovina",
          "Botswana",
          "Brazil",
          "Brunei",
          "Bulgaria",
          "Burkina Faso",
          "Burundi",
          "Ivory Coast",
          "Cape Verde",
          "Cambodia",
          "Cameroon",
          "Canada",
          "Central African Republic",
          "Chad",
          "Chile",
          "China",
          "Colombia",
          "Comoros",
          "Republic of the Congo",
          "Costa Rica",
          "Croatia",
          "Cuba",
          "Cyprus",
          "Czech Republic",
          "Democratic Republic of the Congo",
          "Denmark",
          "Djibouti",
          "Dominica",
          "Dominican Republic",
          "Ecuador",
          "Egypt",
          "El Salvador",
          "Equatorial Guinea",
          "Eritrea",
          "Estonia",
          "Eswatini",
          "Ethiopia",
          "Fiji",
          "Finland",
          "France",
          "Gabon",
          "The Gambia",
          "Georgia",
          "Germany",
          "Ghana",
          "Greece",
          "Grenada",
          "Guatemala",
          "Guinea",
          "Guinea-Bissau",
          "Guyana",
          "Haiti",
          "Vatican City",
          "Honduras",
          "Hungary",
          "Iceland",
          "India",
          "Indonesia",
          "Iran",
          "Iraq",
          "Republic of Ireland",
          "Israel",
          "Italy",
          "Jamaica",
          "Japan",
          "Jordan",
          "Kazakhstan",
          "Kenya",
          "Kiribati",
          "Kuwait",
          "Kyrgyzstan",
          "Laos",
          "Latvia",
          "Lebanon",
          "Lesotho",
          "Liberia",
          "Libya",
          "Liechtenstein",
          "Lithuania",
          "Luxembourg",
          "Madagascar",
          "Malawi",
          "Malaysia",
          "Maldives",
          "Mali",
          "Malta",
          "Marshall Islands",
          "Mauritania",
          "Mauritius",
          "Mexico",
          "Federated States of Micronesia",
          "Moldova",
          "Monaco",
          "Mongolia",
          "Montenegro",
          "Morocco",
          "Myanmar",
          "Namibia",
          "Nauru",
          "Nepal",
          "Netherlands",
          "New Zealand",
          "Nicaragua",
          "Niger",
          "Nigeria",
          "North Korea",
          "North Macedonia",
          "Norway",
          "Oman",
          "Pakistan",
          "Palau",
          "Palestinian National Authority",
          "Panama",
          "Papua New Guinea",
          "Paraguay",
          "Peru",
          "Philippines",
          "Poland",
          "Portugal",
          "Qatar",
          "Romania",
          "Russia",
          "Rwanda",
          "Saint Kitts and Nevis",
          "Saint Lucia",
          "Saint Vincent and the Grenadines",
          "Samoa",
          "San Marino",
          "Sao Tome and Principe",
          "Saudi Arabia",
          "Senegal",
          "Serbia",
          "Seychelles",
          "Sierra Leone",
          "Singapore",
          "Slovakia",
          "Slovenia",
          "Solomon Islands",
          "South Africa",
          "South Korea",
          "South Sudan",
          "Spain",
          "Sri Lanka",
          "Sudan",
          "Suriname",
          "Sweden",
          "Switzerland",
          "Syria",
          "Tajikistan",
          "Tanzania",
          "Thailand",
          "East Timor",
          "Togo",
          "Tonga",
          "Trinidad and Tobago",
          "Tunisia",
          "Turkey",
          "Turkmenistan",
          "Tuvalu",
          "Uganda",
          "Ukraine",
          "United Arab Emirates",
          "United Kingdom",
          "United States",
          "Uruguay",
          "Uzbekistan",
          "Vanuatu",
          "Vietnam",
          "Yemen",
          "Zambia",
          "Zimbabwe"
         ],
         "legendgroup": "",
         "marker": {
          "color": "#636efa",
          "symbol": "circle"
         },
         "mode": "markers",
         "name": "",
         "orientation": "v",
         "showlegend": false,
         "type": "scatter",
         "x": [
          0.7,
          1.36,
          0.28,
          1.51,
          0.97,
          0.99,
          1.1,
          0.77,
          0.93,
          1.2,
          0.56,
          0.92,
          0.43,
          1.12,
          1.81,
          0.6,
          1.43,
          1.13,
          0.72,
          0.98,
          0.71,
          1.05,
          0.71,
          1.02,
          0.37,
          1.11,
          0.98,
          1.21,
          0.93,
          1.02,
          0.9,
          1.03,
          0.81,
          1.41,
          0.78,
          1.03,
          0.96,
          0.68,
          null,
          0.97,
          0.98,
          1.26,
          1.4,
          1.23,
          1.17,
          1.49,
          1.55,
          1.32,
          null,
          1.07,
          0.61,
          0.4,
          0.83,
          null,
          2,
          1.14,
          null,
          0.75,
          0.82,
          1.45,
          1.39,
          0.92,
          1.18,
          0.76,
          1.39,
          0.92,
          1.54,
          1.12,
          0.79,
          0.9,
          null,
          0.9,
          0.81,
          null,
          0.98,
          1.18,
          1.69,
          0.97,
          0.63,
          0.4,
          0.61,
          1.37,
          1.57,
          1.61,
          1.11,
          1.06,
          1.1,
          0.42,
          0.95,
          null,
          0.35,
          0.56,
          0.93,
          1.16,
          0.74,
          0.7,
          0.8,
          0.11,
          1.74,
          1.16,
          1.19,
          1.11,
          1.15,
          0.45,
          1.63,
          1.12,
          1.36,
          1.44,
          1.13,
          1.12,
          0.73,
          null,
          0.8,
          2,
          0.72,
          1.16,
          0.99,
          0.54,
          0.76,
          null,
          0.91,
          1.68,
          1.4,
          0.91,
          0.88,
          0.46,
          0.58,
          null,
          1.78,
          0.45,
          0.79,
          null,
          null,
          0.74,
          1.36,
          1.04,
          0.99,
          0.86,
          1.07,
          1.54,
          0.4,
          1.16,
          0.59,
          1.17,
          null,
          1.3,
          null,
          0.91,
          null,
          null,
          0.24,
          1.14,
          1.16,
          null,
          1.08,
          1.25,
          1.32,
          1.32,
          null,
          0.92,
          1.22,
          0.28,
          1.26,
          0.88,
          0.95,
          1.29,
          1.42,
          1.45,
          0.83,
          0.71,
          0.87,
          0.71,
          1.1,
          0.71,
          null,
          0.54,
          0.73,
          1.42,
          0.29,
          null,
          0.94,
          0.83,
          0.49,
          1.46,
          0.71,
          1.5,
          1.03,
          1.31,
          0.8,
          0.92,
          1.4,
          1.34
         ],
         "xaxis": "x",
         "y": [
          0.43,
          1.12,
          0.95,
          6.63,
          0.71,
          3.04,
          3.35,
          0.66,
          13.59,
          null,
          0.47,
          5.25,
          null,
          0.51,
          3.13,
          1.49,
          10.31,
          1.65,
          0.39,
          0.32,
          1.36,
          1.04,
          0.29,
          1.53,
          null,
          1.57,
          0.34,
          null,
          0.36,
          0.68,
          null,
          0.35,
          9.51,
          0.37,
          0.6,
          2,
          0.87,
          1.23,
          0.71,
          0.88,
          1.84,
          2.92,
          0.05,
          null,
          3,
          0.18,
          null,
          null,
          1.48,
          0.4,
          2.46,
          null,
          0.5,
          1.05,
          null,
          3.14,
          null,
          null,
          1.28,
          null,
          11.16,
          1.46,
          0.13,
          0.05,
          9.99,
          0.27,
          4.46,
          null,
          1.6,
          null,
          0.16,
          0.98,
          0.25,
          null,
          1.01,
          2.62,
          null,
          0.3,
          0.48,
          1.58,
          1.24,
          10.79,
          7.58,
          null,
          1.33,
          6.77,
          1.49,
          0.41,
          0.25,
          null,
          0.95,
          0.09,
          0.83,
          2.8,
          2.15,
          0.41,
          0.17,
          1.88,
          null,
          2.41,
          13.05,
          0.21,
          0.12,
          0.93,
          null,
          0.23,
          5.07,
          2,
          0.53,
          0.38,
          0.49,
          null,
          0.31,
          11.72,
          0.65,
          1.23,
          1.6,
          0.39,
          null,
          null,
          0.36,
          10.29,
          11.49,
          0.54,
          0.29,
          0.54,
          null,
          null,
          null,
          4.33,
          0.69,
          3,
          null,
          1.53,
          1.16,
          1.55,
          1.28,
          1.12,
          2.93,
          3.78,
          null,
          2.25,
          0.53,
          null,
          3.33,
          null,
          1.16,
          0.78,
          null,
          null,
          3.85,
          0.31,
          1.57,
          2,
          0.57,
          null,
          3.11,
          5.25,
          0.4,
          null,
          6.49,
          null,
          5.6,
          0.35,
          0.41,
          null,
          null,
          null,
          1.02,
          0.23,
          0.09,
          1.06,
          0.6,
          0.34,
          null,
          2.25,
          0.47,
          3.45,
          0.88,
          null,
          0.01,
          0.84,
          null,
          10.13,
          7.25,
          1.66,
          0.24,
          1.56,
          0.73,
          null,
          0.24,
          null
         ],
         "yaxis": "y"
        },
        {
         "hovertemplate": "<b>OLS trendline</b><br>Minimum wage = 5.52684 * log10(Gasoline Price) + 2.48065<br>R<sup>2</sup>=0.104223<br><br>Gasoline Price=%{x}<br>Minimum wage=%{y} <b>(trend)</b><extra></extra>",
         "legendgroup": "",
         "marker": {
          "color": "#636efa",
          "symbol": "circle"
         },
         "mode": "lines",
         "name": "",
         "showlegend": false,
         "type": "scatter",
         "x": [
          0.11,
          0.24,
          0.28,
          0.29,
          0.35,
          0.4,
          0.42,
          0.45,
          0.45,
          0.46,
          0.54,
          0.54,
          0.56,
          0.56,
          0.59,
          0.6,
          0.61,
          0.61,
          0.63,
          0.68,
          0.7,
          0.7,
          0.71,
          0.71,
          0.71,
          0.71,
          0.71,
          0.71,
          0.72,
          0.72,
          0.73,
          0.73,
          0.74,
          0.74,
          0.76,
          0.77,
          0.78,
          0.79,
          0.79,
          0.8,
          0.8,
          0.8,
          0.81,
          0.81,
          0.82,
          0.83,
          0.83,
          0.83,
          0.86,
          0.87,
          0.88,
          0.88,
          0.9,
          0.91,
          0.91,
          0.91,
          0.92,
          0.92,
          0.92,
          0.93,
          0.93,
          0.93,
          0.94,
          0.95,
          0.95,
          0.96,
          0.97,
          0.97,
          0.97,
          0.98,
          0.98,
          0.98,
          0.98,
          0.99,
          0.99,
          0.99,
          1.02,
          1.02,
          1.03,
          1.03,
          1.03,
          1.04,
          1.05,
          1.06,
          1.07,
          1.07,
          1.08,
          1.1,
          1.1,
          1.1,
          1.11,
          1.11,
          1.11,
          1.12,
          1.12,
          1.12,
          1.13,
          1.13,
          1.14,
          1.14,
          1.15,
          1.16,
          1.16,
          1.16,
          1.16,
          1.16,
          1.17,
          1.18,
          1.18,
          1.19,
          1.22,
          1.26,
          1.26,
          1.31,
          1.32,
          1.32,
          1.36,
          1.36,
          1.36,
          1.37,
          1.39,
          1.39,
          1.4,
          1.4,
          1.4,
          1.41,
          1.42,
          1.43,
          1.44,
          1.46,
          1.49,
          1.5,
          1.51,
          1.54,
          1.54,
          1.57,
          1.68,
          1.81,
          2
         ],
         "xaxis": "x",
         "y": [
          -2.8174128430370113,
          -0.9448184659610859,
          -0.5748145821690245,
          -0.4905857962038307,
          -0.03920889608361655,
          0.2813030467414279,
          0.39841281397548656,
          0.5640146162688333,
          0.5640146162688333,
          0.616770016741691,
          1.0016363263279369,
          1.0016363263279369,
          1.0889286405925929,
          1.0889286405925929,
          1.214188752149431,
          1.2545304428859392,
          1.2942052981974637,
          1.2942052981974637,
          1.3716402101199978,
          1.5549562927913647,
          1.6245343266780004,
          1.6245343266780004,
          1.6585813386216262,
          1.6585813386216262,
          1.6585813386216262,
          1.6585813386216262,
          1.6585813386216262,
          1.6585813386216262,
          1.6921521529450425,
          1.6921521529450425,
          1.7252599067679795,
          1.7252599067679795,
          1.7579172009674136,
          1.7579172009674136,
          1.8219283036455425,
          1.8533048824227958,
          1.8842765908108308,
          1.914853744402746,
          1.914853744402746,
          1.9450462695030453,
          1.9450462695030453,
          1.9450462695030453,
          1.9748637224724481,
          1.9748637224724481,
          2.0043153078858045,
          2.033409895589454,
          2.033409895589454,
          2.033409895589454,
          2.118635680155396,
          2.1463848227022977,
          2.1738168252478407,
          2.1738168252478407,
          2.2277578390304504,
          2.254280474602892,
          2.254280474602892,
          2.254280474602892,
          2.2805132395033083,
          2.2805132395033083,
          2.2805132395033083,
          2.3064624013908355,
          2.3064624013908355,
          2.3064624013908355,
          2.3321340268154542,
          2.35753398973095,
          2.35753398973095,
          2.3826679795621484,
          2.4075415088541305,
          2.4075415088541305,
          2.4075415088541305,
          2.4321599205291653,
          2.4321599205291653,
          2.4321599205291653,
          2.4321599205291653,
          2.456528394775246,
          2.456528394775246,
          2.456528394775246,
          2.528183688935876,
          2.528183688935876,
          2.551601182940994,
          2.551601182940994,
          2.551601182940994,
          2.574792417427937,
          2.597761722822512,
          2.620513306406716,
          2.643051256944026,
          2.643051256944026,
          2.665379549089554,
          2.7094225113332486,
          2.7094225113332486,
          2.7094225113332486,
          2.731144597111925,
          2.731144597111925,
          2.731144597111925,
          2.75267186335421,
          2.75267186335421,
          2.75267186335421,
          2.774007773587561,
          2.774007773587561,
          2.7951556997900533,
          2.7951556997900533,
          2.816118925588716,
          2.8369006493194036,
          2.8369006493194036,
          2.8369006493194036,
          2.8369006493194036,
          2.8369006493194036,
          2.857503986955342,
          2.877931974911048,
          2.877931974911048,
          2.898187572727937,
          2.957948520959081,
          3.0353834328816154,
          3.0353834328816154,
          3.1287910984715386,
          3.1470442213923517,
          3.1470442213923517,
          3.218699515552982,
          3.218699515552982,
          3.218699515552982,
          3.2362840198180356,
          3.2710712098309864,
          3.2710712098309864,
          3.2882775494396177,
          3.2882775494396177,
          3.2882775494396177,
          3.3053614229599653,
          3.322324561383243,
          3.33916865925814,
          3.35589537570666,
          3.3890031295295966,
          3.4378239467408664,
          3.4538793517329642,
          3.4698280755056046,
          3.517048105184413,
          3.517048105184413,
          3.5633570804326515,
          3.7258992594987212,
          3.904799013239206,
          4.14439517835007
         ],
         "yaxis": "y"
        }
       ],
       "layout": {
        "legend": {
         "tracegroupgap": 0
        },
        "template": {
         "data": {
          "bar": [
           {
            "error_x": {
             "color": "#2a3f5f"
            },
            "error_y": {
             "color": "#2a3f5f"
            },
            "marker": {
             "line": {
              "color": "#E5ECF6",
              "width": 0.5
             },
             "pattern": {
              "fillmode": "overlay",
              "size": 10,
              "solidity": 0.2
             }
            },
            "type": "bar"
           }
          ],
          "barpolar": [
           {
            "marker": {
             "line": {
              "color": "#E5ECF6",
              "width": 0.5
             },
             "pattern": {
              "fillmode": "overlay",
              "size": 10,
              "solidity": 0.2
             }
            },
            "type": "barpolar"
           }
          ],
          "carpet": [
           {
            "aaxis": {
             "endlinecolor": "#2a3f5f",
             "gridcolor": "white",
             "linecolor": "white",
             "minorgridcolor": "white",
             "startlinecolor": "#2a3f5f"
            },
            "baxis": {
             "endlinecolor": "#2a3f5f",
             "gridcolor": "white",
             "linecolor": "white",
             "minorgridcolor": "white",
             "startlinecolor": "#2a3f5f"
            },
            "type": "carpet"
           }
          ],
          "choropleth": [
           {
            "colorbar": {
             "outlinewidth": 0,
             "ticks": ""
            },
            "type": "choropleth"
           }
          ],
          "contour": [
           {
            "colorbar": {
             "outlinewidth": 0,
             "ticks": ""
            },
            "colorscale": [
             [
              0,
              "#0d0887"
             ],
             [
              0.1111111111111111,
              "#46039f"
             ],
             [
              0.2222222222222222,
              "#7201a8"
             ],
             [
              0.3333333333333333,
              "#9c179e"
             ],
             [
              0.4444444444444444,
              "#bd3786"
             ],
             [
              0.5555555555555556,
              "#d8576b"
             ],
             [
              0.6666666666666666,
              "#ed7953"
             ],
             [
              0.7777777777777778,
              "#fb9f3a"
             ],
             [
              0.8888888888888888,
              "#fdca26"
             ],
             [
              1,
              "#f0f921"
             ]
            ],
            "type": "contour"
           }
          ],
          "contourcarpet": [
           {
            "colorbar": {
             "outlinewidth": 0,
             "ticks": ""
            },
            "type": "contourcarpet"
           }
          ],
          "heatmap": [
           {
            "colorbar": {
             "outlinewidth": 0,
             "ticks": ""
            },
            "colorscale": [
             [
              0,
              "#0d0887"
             ],
             [
              0.1111111111111111,
              "#46039f"
             ],
             [
              0.2222222222222222,
              "#7201a8"
             ],
             [
              0.3333333333333333,
              "#9c179e"
             ],
             [
              0.4444444444444444,
              "#bd3786"
             ],
             [
              0.5555555555555556,
              "#d8576b"
             ],
             [
              0.6666666666666666,
              "#ed7953"
             ],
             [
              0.7777777777777778,
              "#fb9f3a"
             ],
             [
              0.8888888888888888,
              "#fdca26"
             ],
             [
              1,
              "#f0f921"
             ]
            ],
            "type": "heatmap"
           }
          ],
          "heatmapgl": [
           {
            "colorbar": {
             "outlinewidth": 0,
             "ticks": ""
            },
            "colorscale": [
             [
              0,
              "#0d0887"
             ],
             [
              0.1111111111111111,
              "#46039f"
             ],
             [
              0.2222222222222222,
              "#7201a8"
             ],
             [
              0.3333333333333333,
              "#9c179e"
             ],
             [
              0.4444444444444444,
              "#bd3786"
             ],
             [
              0.5555555555555556,
              "#d8576b"
             ],
             [
              0.6666666666666666,
              "#ed7953"
             ],
             [
              0.7777777777777778,
              "#fb9f3a"
             ],
             [
              0.8888888888888888,
              "#fdca26"
             ],
             [
              1,
              "#f0f921"
             ]
            ],
            "type": "heatmapgl"
           }
          ],
          "histogram": [
           {
            "marker": {
             "pattern": {
              "fillmode": "overlay",
              "size": 10,
              "solidity": 0.2
             }
            },
            "type": "histogram"
           }
          ],
          "histogram2d": [
           {
            "colorbar": {
             "outlinewidth": 0,
             "ticks": ""
            },
            "colorscale": [
             [
              0,
              "#0d0887"
             ],
             [
              0.1111111111111111,
              "#46039f"
             ],
             [
              0.2222222222222222,
              "#7201a8"
             ],
             [
              0.3333333333333333,
              "#9c179e"
             ],
             [
              0.4444444444444444,
              "#bd3786"
             ],
             [
              0.5555555555555556,
              "#d8576b"
             ],
             [
              0.6666666666666666,
              "#ed7953"
             ],
             [
              0.7777777777777778,
              "#fb9f3a"
             ],
             [
              0.8888888888888888,
              "#fdca26"
             ],
             [
              1,
              "#f0f921"
             ]
            ],
            "type": "histogram2d"
           }
          ],
          "histogram2dcontour": [
           {
            "colorbar": {
             "outlinewidth": 0,
             "ticks": ""
            },
            "colorscale": [
             [
              0,
              "#0d0887"
             ],
             [
              0.1111111111111111,
              "#46039f"
             ],
             [
              0.2222222222222222,
              "#7201a8"
             ],
             [
              0.3333333333333333,
              "#9c179e"
             ],
             [
              0.4444444444444444,
              "#bd3786"
             ],
             [
              0.5555555555555556,
              "#d8576b"
             ],
             [
              0.6666666666666666,
              "#ed7953"
             ],
             [
              0.7777777777777778,
              "#fb9f3a"
             ],
             [
              0.8888888888888888,
              "#fdca26"
             ],
             [
              1,
              "#f0f921"
             ]
            ],
            "type": "histogram2dcontour"
           }
          ],
          "mesh3d": [
           {
            "colorbar": {
             "outlinewidth": 0,
             "ticks": ""
            },
            "type": "mesh3d"
           }
          ],
          "parcoords": [
           {
            "line": {
             "colorbar": {
              "outlinewidth": 0,
              "ticks": ""
             }
            },
            "type": "parcoords"
           }
          ],
          "pie": [
           {
            "automargin": true,
            "type": "pie"
           }
          ],
          "scatter": [
           {
            "fillpattern": {
             "fillmode": "overlay",
             "size": 10,
             "solidity": 0.2
            },
            "type": "scatter"
           }
          ],
          "scatter3d": [
           {
            "line": {
             "colorbar": {
              "outlinewidth": 0,
              "ticks": ""
             }
            },
            "marker": {
             "colorbar": {
              "outlinewidth": 0,
              "ticks": ""
             }
            },
            "type": "scatter3d"
           }
          ],
          "scattercarpet": [
           {
            "marker": {
             "colorbar": {
              "outlinewidth": 0,
              "ticks": ""
             }
            },
            "type": "scattercarpet"
           }
          ],
          "scattergeo": [
           {
            "marker": {
             "colorbar": {
              "outlinewidth": 0,
              "ticks": ""
             }
            },
            "type": "scattergeo"
           }
          ],
          "scattergl": [
           {
            "marker": {
             "colorbar": {
              "outlinewidth": 0,
              "ticks": ""
             }
            },
            "type": "scattergl"
           }
          ],
          "scattermapbox": [
           {
            "marker": {
             "colorbar": {
              "outlinewidth": 0,
              "ticks": ""
             }
            },
            "type": "scattermapbox"
           }
          ],
          "scatterpolar": [
           {
            "marker": {
             "colorbar": {
              "outlinewidth": 0,
              "ticks": ""
             }
            },
            "type": "scatterpolar"
           }
          ],
          "scatterpolargl": [
           {
            "marker": {
             "colorbar": {
              "outlinewidth": 0,
              "ticks": ""
             }
            },
            "type": "scatterpolargl"
           }
          ],
          "scatterternary": [
           {
            "marker": {
             "colorbar": {
              "outlinewidth": 0,
              "ticks": ""
             }
            },
            "type": "scatterternary"
           }
          ],
          "surface": [
           {
            "colorbar": {
             "outlinewidth": 0,
             "ticks": ""
            },
            "colorscale": [
             [
              0,
              "#0d0887"
             ],
             [
              0.1111111111111111,
              "#46039f"
             ],
             [
              0.2222222222222222,
              "#7201a8"
             ],
             [
              0.3333333333333333,
              "#9c179e"
             ],
             [
              0.4444444444444444,
              "#bd3786"
             ],
             [
              0.5555555555555556,
              "#d8576b"
             ],
             [
              0.6666666666666666,
              "#ed7953"
             ],
             [
              0.7777777777777778,
              "#fb9f3a"
             ],
             [
              0.8888888888888888,
              "#fdca26"
             ],
             [
              1,
              "#f0f921"
             ]
            ],
            "type": "surface"
           }
          ],
          "table": [
           {
            "cells": {
             "fill": {
              "color": "#EBF0F8"
             },
             "line": {
              "color": "white"
             }
            },
            "header": {
             "fill": {
              "color": "#C8D4E3"
             },
             "line": {
              "color": "white"
             }
            },
            "type": "table"
           }
          ]
         },
         "layout": {
          "annotationdefaults": {
           "arrowcolor": "#2a3f5f",
           "arrowhead": 0,
           "arrowwidth": 1
          },
          "autotypenumbers": "strict",
          "coloraxis": {
           "colorbar": {
            "outlinewidth": 0,
            "ticks": ""
           }
          },
          "colorscale": {
           "diverging": [
            [
             0,
             "#8e0152"
            ],
            [
             0.1,
             "#c51b7d"
            ],
            [
             0.2,
             "#de77ae"
            ],
            [
             0.3,
             "#f1b6da"
            ],
            [
             0.4,
             "#fde0ef"
            ],
            [
             0.5,
             "#f7f7f7"
            ],
            [
             0.6,
             "#e6f5d0"
            ],
            [
             0.7,
             "#b8e186"
            ],
            [
             0.8,
             "#7fbc41"
            ],
            [
             0.9,
             "#4d9221"
            ],
            [
             1,
             "#276419"
            ]
           ],
           "sequential": [
            [
             0,
             "#0d0887"
            ],
            [
             0.1111111111111111,
             "#46039f"
            ],
            [
             0.2222222222222222,
             "#7201a8"
            ],
            [
             0.3333333333333333,
             "#9c179e"
            ],
            [
             0.4444444444444444,
             "#bd3786"
            ],
            [
             0.5555555555555556,
             "#d8576b"
            ],
            [
             0.6666666666666666,
             "#ed7953"
            ],
            [
             0.7777777777777778,
             "#fb9f3a"
            ],
            [
             0.8888888888888888,
             "#fdca26"
            ],
            [
             1,
             "#f0f921"
            ]
           ],
           "sequentialminus": [
            [
             0,
             "#0d0887"
            ],
            [
             0.1111111111111111,
             "#46039f"
            ],
            [
             0.2222222222222222,
             "#7201a8"
            ],
            [
             0.3333333333333333,
             "#9c179e"
            ],
            [
             0.4444444444444444,
             "#bd3786"
            ],
            [
             0.5555555555555556,
             "#d8576b"
            ],
            [
             0.6666666666666666,
             "#ed7953"
            ],
            [
             0.7777777777777778,
             "#fb9f3a"
            ],
            [
             0.8888888888888888,
             "#fdca26"
            ],
            [
             1,
             "#f0f921"
            ]
           ]
          },
          "colorway": [
           "#636efa",
           "#EF553B",
           "#00cc96",
           "#ab63fa",
           "#FFA15A",
           "#19d3f3",
           "#FF6692",
           "#B6E880",
           "#FF97FF",
           "#FECB52"
          ],
          "font": {
           "color": "#2a3f5f"
          },
          "geo": {
           "bgcolor": "white",
           "lakecolor": "white",
           "landcolor": "#E5ECF6",
           "showlakes": true,
           "showland": true,
           "subunitcolor": "white"
          },
          "hoverlabel": {
           "align": "left"
          },
          "hovermode": "closest",
          "mapbox": {
           "style": "light"
          },
          "paper_bgcolor": "white",
          "plot_bgcolor": "#E5ECF6",
          "polar": {
           "angularaxis": {
            "gridcolor": "white",
            "linecolor": "white",
            "ticks": ""
           },
           "bgcolor": "#E5ECF6",
           "radialaxis": {
            "gridcolor": "white",
            "linecolor": "white",
            "ticks": ""
           }
          },
          "scene": {
           "xaxis": {
            "backgroundcolor": "#E5ECF6",
            "gridcolor": "white",
            "gridwidth": 2,
            "linecolor": "white",
            "showbackground": true,
            "ticks": "",
            "zerolinecolor": "white"
           },
           "yaxis": {
            "backgroundcolor": "#E5ECF6",
            "gridcolor": "white",
            "gridwidth": 2,
            "linecolor": "white",
            "showbackground": true,
            "ticks": "",
            "zerolinecolor": "white"
           },
           "zaxis": {
            "backgroundcolor": "#E5ECF6",
            "gridcolor": "white",
            "gridwidth": 2,
            "linecolor": "white",
            "showbackground": true,
            "ticks": "",
            "zerolinecolor": "white"
           }
          },
          "shapedefaults": {
           "line": {
            "color": "#2a3f5f"
           }
          },
          "ternary": {
           "aaxis": {
            "gridcolor": "white",
            "linecolor": "white",
            "ticks": ""
           },
           "baxis": {
            "gridcolor": "white",
            "linecolor": "white",
            "ticks": ""
           },
           "bgcolor": "#E5ECF6",
           "caxis": {
            "gridcolor": "white",
            "linecolor": "white",
            "ticks": ""
           }
          },
          "title": {
           "x": 0.05
          },
          "xaxis": {
           "automargin": true,
           "gridcolor": "white",
           "linecolor": "white",
           "ticks": "",
           "title": {
            "standoff": 15
           },
           "zerolinecolor": "white",
           "zerolinewidth": 2
          },
          "yaxis": {
           "automargin": true,
           "gridcolor": "white",
           "linecolor": "white",
           "ticks": "",
           "title": {
            "standoff": 15
           },
           "zerolinecolor": "white",
           "zerolinewidth": 2
          }
         }
        },
        "title": {
         "text": "Gasoline price vs minimum wage"
        },
        "xaxis": {
         "anchor": "y",
         "domain": [
          0,
          1
         ],
         "title": {
          "text": "Gasoline Price"
         }
        },
        "yaxis": {
         "anchor": "x",
         "domain": [
          0,
          1
         ],
         "title": {
          "text": "Minimum wage"
         }
        }
       }
      }
     },
     "metadata": {},
     "output_type": "display_data"
    }
   ],
   "source": [
    "non_positive_mask = df['Gasoline Price'] <= 0\n",
    "\n",
    "if non_positive_mask.any():\n",
    "    df = df[~non_positive_mask]\n",
    "fig = px.scatter(df, x=\"Gasoline Price\", y=\"Minimum wage\",\n",
    "                 trendline=\"ols\", trendline_options=dict(log_x=True),\n",
    "                 title=\"Gasoline price vs minimum wage\",hover_name=\"Country\")\n",
    "fig.show()"
   ]
  },
  {
   "cell_type": "code",
   "execution_count": 57,
   "metadata": {
    "colab": {
     "base_uri": "https://localhost:8080/",
     "height": 542
    },
    "id": "cwbyb8PVUa-J",
    "outputId": "694f73d5-b2de-4a18-b044-63437f3fba59"
   },
   "outputs": [
    {
     "data": {
      "application/vnd.plotly.v1+json": {
       "config": {
        "plotlyServerURL": "https://plot.ly"
       },
       "data": [
        {
         "hovertemplate": "<b>%{hovertext}</b><br><br>GDP_per_capita=%{x}<br>Minimum wage=%{y}<extra></extra>",
         "hovertext": [
          "Afghanistan",
          "Albania",
          "Algeria",
          "Andorra",
          "Angola",
          "Antigua and Barbuda",
          "Argentina",
          "Armenia",
          "Australia",
          "Austria",
          "Azerbaijan",
          "The Bahamas",
          "Bahrain",
          "Bangladesh",
          "Barbados",
          "Belarus",
          "Belgium",
          "Belize",
          "Benin",
          "Bhutan",
          "Bolivia",
          "Bosnia and Herzegovina",
          "Botswana",
          "Brazil",
          "Brunei",
          "Bulgaria",
          "Burkina Faso",
          "Burundi",
          "Ivory Coast",
          "Cape Verde",
          "Cambodia",
          "Cameroon",
          "Canada",
          "Central African Republic",
          "Chad",
          "Chile",
          "China",
          "Colombia",
          "Comoros",
          "Republic of the Congo",
          "Costa Rica",
          "Croatia",
          "Cuba",
          "Cyprus",
          "Czech Republic",
          "Democratic Republic of the Congo",
          "Denmark",
          "Djibouti",
          "Dominica",
          "Dominican Republic",
          "Ecuador",
          "Egypt",
          "El Salvador",
          "Equatorial Guinea",
          "Eritrea",
          "Estonia",
          "Eswatini",
          "Ethiopia",
          "Fiji",
          "Finland",
          "France",
          "Gabon",
          "The Gambia",
          "Georgia",
          "Germany",
          "Ghana",
          "Greece",
          "Grenada",
          "Guatemala",
          "Guinea",
          "Guinea-Bissau",
          "Guyana",
          "Haiti",
          "Vatican City",
          "Honduras",
          "Hungary",
          "Iceland",
          "India",
          "Indonesia",
          "Iran",
          "Iraq",
          "Republic of Ireland",
          "Israel",
          "Italy",
          "Jamaica",
          "Japan",
          "Jordan",
          "Kazakhstan",
          "Kenya",
          "Kiribati",
          "Kuwait",
          "Kyrgyzstan",
          "Laos",
          "Latvia",
          "Lebanon",
          "Lesotho",
          "Liberia",
          "Libya",
          "Liechtenstein",
          "Lithuania",
          "Luxembourg",
          "Madagascar",
          "Malawi",
          "Malaysia",
          "Maldives",
          "Mali",
          "Malta",
          "Marshall Islands",
          "Mauritania",
          "Mauritius",
          "Mexico",
          "Federated States of Micronesia",
          "Moldova",
          "Monaco",
          "Mongolia",
          "Montenegro",
          "Morocco",
          "Myanmar",
          "Namibia",
          "Nauru",
          "Nepal",
          "Netherlands",
          "New Zealand",
          "Nicaragua",
          "Niger",
          "Nigeria",
          "North Korea",
          "North Macedonia",
          "Norway",
          "Oman",
          "Pakistan",
          "Palau",
          "Palestinian National Authority",
          "Panama",
          "Papua New Guinea",
          "Paraguay",
          "Peru",
          "Philippines",
          "Poland",
          "Portugal",
          "Qatar",
          "Romania",
          "Russia",
          "Rwanda",
          "Saint Kitts and Nevis",
          "Saint Lucia",
          "Saint Vincent and the Grenadines",
          "Samoa",
          "San Marino",
          "Sao Tome and Principe",
          "Saudi Arabia",
          "Senegal",
          "Serbia",
          "Seychelles",
          "Sierra Leone",
          "Singapore",
          "Slovakia",
          "Slovenia",
          "Solomon Islands",
          "South Africa",
          "South Korea",
          "South Sudan",
          "Spain",
          "Sri Lanka",
          "Sudan",
          "Suriname",
          "Sweden",
          "Switzerland",
          "Syria",
          "Tajikistan",
          "Tanzania",
          "Thailand",
          "East Timor",
          "Togo",
          "Tonga",
          "Trinidad and Tobago",
          "Tunisia",
          "Turkey",
          "Turkmenistan",
          "Tuvalu",
          "Uganda",
          "Ukraine",
          "United Arab Emirates",
          "United Kingdom",
          "United States",
          "Uruguay",
          "Uzbekistan",
          "Vanuatu",
          "Vietnam",
          "Yemen",
          "Zambia",
          "Zimbabwe"
         ],
         "legendgroup": "",
         "marker": {
          "color": "#636efa",
          "symbol": "circle"
         },
         "mode": "markers",
         "name": "",
         "orientation": "v",
         "showlegend": false,
         "type": "scatter",
         "x": [
          0.5021154869199774,
          5.352857411084262,
          3.9483432789227915,
          40.88639116175365,
          2.973591159799147,
          17.790309304145474,
          10.00614897360654,
          4.622733493343377,
          54.0498288124881,
          50.27727508736838,
          3.911578980134123,
          32.93348601475806,
          25.688046129052665,
          1.8084378618138295,
          18.148244926400142,
          6.663295292861749,
          46.116699233676606,
          4.815163710795101,
          1.2194326718639563,
          3.364767826224481,
          3.552068762105775,
          6.073265202968797,
          7.817183083217436,
          8.655264804221776,
          31.08675107838951,
          12.328404026456756,
          0.7748396902513206,
          0.2612474725469144,
          2.28616277684902,
          4.097872209632197,
          1.6431213887666678,
          1.49790917558793,
          46.94059584210967,
          0.46790744070041523,
          0.7095403101522831,
          14.896453866597355,
          14.244677920749224,
          6.432387583390623,
          1.3935223719746241,
          2.0110723989259007,
          12.238374964463036,
          14.853239837492318,
          8.825442275777004,
          20.49487761299877,
          23.101777704996454,
          0.5452162123102617,
          59.82209296091313,
          3.4088462539545583,
          8.300375069630125,
          8.28211622189043,
          6.183823824821733,
          3.0200313497202007,
          4.187250031106896,
          8.13192388785725,
          0.3260630992391604,
          23.566890205462585,
          3.4679588049445775,
          0.8575013510413618,
          6.220046420428944,
          48.68585398674785,
          40.493928572038904,
          7.667366861228061,
          0.7512946885172164,
          4.76918654320981,
          46.2588782897109,
          2.1753153946557564,
          19.582536010862682,
          10.965513155897609,
          4.619987097105244,
          1.0641312373906195,
          0.6977844030106376,
          5.468356628928697,
          0.7545879177599515,
          null,
          2.574912190670397,
          16.475741838979918,
          66.94482550863103,
          1.910835827737642,
          4.142022784788127,
          5.371177207873912,
          5.955109010370268,
          77.6299889911643,
          43.641397735853225,
          33.18956579886136,
          5.582263777613991,
          40.259112030836484,
          4.330329345949304,
          9.731145206879361,
          1.8165469164371504,
          1.6550788395149907,
          32.03198010260316,
          1.3093929916833156,
          2.5348982772051714,
          17.836364886560933,
          7.784316856904599,
          1.1575351645063117,
          0.6218929536227152,
          7.683750611291678,
          172.3574722901707,
          19.455454126603428,
          110.17237314087298,
          0.5222198092446351,
          0.4115523404231106,
          11.23978150436468,
          10.790500236367437,
          0.8907372854890706,
          29.416230606402426,
          3.763807385484173,
          1.6779192526409197,
          11.203540584699034,
          9.985291138111739,
          3.5314526116944163,
          4.498520850289186,
          184.39698678267118,
          4.295235024728952,
          8.832036835938064,
          3.2165667385160237,
          1.4078131434078966,
          4.957458005716507,
          13.189210630702103,
          1.0710507605550896,
          52.44783143920359,
          42.74504555752943,
          1.912903745350624,
          0.5546009686961554,
          2.229858696245781,
          1.2506739905512165,
          5.564713196345863,
          75.4196348687409,
          14.617408775978893,
          1.4055805556086316,
          15.575873416333023,
          null,
          15.73101603484708,
          2.845180185774812,
          5.4147991379540406,
          6.977695783568442,
          3.4850842183692117,
          15.595227033436208,
          23.14504081731222,
          64.78173319734314,
          12.919529644186483,
          11.774156384485565,
          0.8016561869651816,
          19.89649571209511,
          11.611415449422836,
          8.216466925489025,
          4.200641052610787,
          48.3736277023036,
          1.9949064662227514,
          23.13979865613136,
          1.4468309649931728,
          7.402354558655718,
          17.40172151600512,
          0.5044625433960285,
          65.23328243929372,
          19.3290968008679,
          25.73924781435918,
          2.1275385079341853,
          6.0014008139413955,
          39.23874286107253,
          1.08458490263117,
          29.613671137986262,
          3.8530836928863,
          0.4415056033837011,
          6.8549065606874775,
          51.61006605523354,
          81.99372714940654,
          2.366999792737433,
          0.8707875892955039,
          1.0891572087787662,
          7.808192916304814,
          0.4781543714285714,
          0.6755422133815766,
          4.494140386592023,
          17.276465447001485,
          3.3175410135121672,
          9.042492982893423,
          6.859732807266939,
          4.059029967370771,
          0.7767685758762549,
          3.464696002931611,
          43.103323058352316,
          42.30026712583137,
          65.2806822413034,
          16.190126957183885,
          1.7248411344032948,
          3.058065675832494,
          2.715276036405425,
          0.9229296417430922,
          1.2913433573539712,
          1.463985910180542
         ],
         "xaxis": "x",
         "y": [
          0.43,
          1.12,
          0.95,
          6.63,
          0.71,
          3.04,
          3.35,
          0.66,
          13.59,
          null,
          0.47,
          5.25,
          null,
          0.51,
          3.13,
          1.49,
          10.31,
          1.65,
          0.39,
          0.32,
          1.36,
          1.04,
          0.29,
          1.53,
          null,
          1.57,
          0.34,
          null,
          0.36,
          0.68,
          null,
          0.35,
          9.51,
          0.37,
          0.6,
          2,
          0.87,
          1.23,
          0.71,
          0.88,
          1.84,
          2.92,
          0.05,
          null,
          3,
          0.18,
          null,
          null,
          1.48,
          0.4,
          2.46,
          null,
          0.5,
          1.05,
          null,
          3.14,
          null,
          null,
          1.28,
          null,
          11.16,
          1.46,
          0.13,
          0.05,
          9.99,
          0.27,
          4.46,
          null,
          1.6,
          null,
          0.16,
          0.98,
          0.25,
          null,
          1.01,
          2.62,
          null,
          0.3,
          0.48,
          1.58,
          1.24,
          10.79,
          7.58,
          null,
          1.33,
          6.77,
          1.49,
          0.41,
          0.25,
          null,
          0.95,
          0.09,
          0.83,
          2.8,
          2.15,
          0.41,
          0.17,
          1.88,
          null,
          2.41,
          13.05,
          0.21,
          0.12,
          0.93,
          null,
          0.23,
          5.07,
          2,
          0.53,
          0.38,
          0.49,
          null,
          0.31,
          11.72,
          0.65,
          1.23,
          1.6,
          0.39,
          null,
          null,
          0.36,
          10.29,
          11.49,
          0.54,
          0.29,
          0.54,
          null,
          null,
          null,
          4.33,
          0.69,
          3,
          null,
          1.53,
          1.16,
          1.55,
          1.28,
          1.12,
          2.93,
          3.78,
          null,
          2.25,
          0.53,
          null,
          3.33,
          null,
          1.16,
          0.78,
          null,
          null,
          3.85,
          0.31,
          1.57,
          2,
          0.57,
          null,
          3.11,
          5.25,
          0.4,
          null,
          6.49,
          null,
          5.6,
          0.35,
          0.41,
          null,
          null,
          null,
          1.02,
          0.23,
          0.09,
          1.06,
          0.6,
          0.34,
          null,
          2.25,
          0.47,
          3.45,
          0.88,
          null,
          0.01,
          0.84,
          null,
          10.13,
          7.25,
          1.66,
          0.24,
          1.56,
          0.73,
          null,
          0.24,
          null
         ],
         "yaxis": "y"
        },
        {
         "hovertemplate": "<b>OLS trendline</b><br>Minimum wage = 3.82663 * log10(GDP_per_capita) + -0.650454<br>R<sup>2</sup>=0.577066<br><br>GDP_per_capita=%{x}<br>Minimum wage=%{y} <b>(trend)</b><extra></extra>",
         "legendgroup": "",
         "marker": {
          "color": "#636efa",
          "symbol": "circle"
         },
         "mode": "lines",
         "name": "",
         "showlegend": false,
         "type": "scatter",
         "x": [
          0.4115523404231106,
          0.4415056033837011,
          0.46790744070041523,
          0.4781543714285714,
          0.5021154869199774,
          0.5044625433960285,
          0.5222198092446351,
          0.5452162123102617,
          0.5546009686961554,
          0.6218929536227152,
          0.6755422133815766,
          0.6977844030106376,
          0.7095403101522831,
          0.7512946885172164,
          0.7545879177599515,
          0.7748396902513206,
          0.7767685758762549,
          0.8707875892955039,
          0.8907372854890706,
          1.0710507605550896,
          1.0891572087787662,
          1.1575351645063117,
          1.2194326718639563,
          1.2913433573539712,
          1.3093929916833156,
          1.3935223719746241,
          1.4055805556086316,
          1.4078131434078966,
          1.4468309649931728,
          1.49790917558793,
          1.6779192526409197,
          1.7248411344032948,
          1.8084378618138295,
          1.8165469164371504,
          1.910835827737642,
          1.912903745350624,
          2.0110723989259007,
          2.1275385079341853,
          2.1753153946557564,
          2.229858696245781,
          2.28616277684902,
          2.366999792737433,
          2.5348982772051714,
          2.574912190670397,
          2.715276036405425,
          2.845180185774812,
          2.973591159799147,
          3.058065675832494,
          3.2165667385160237,
          3.3175410135121672,
          3.364767826224481,
          3.464696002931611,
          3.4850842183692117,
          3.552068762105775,
          3.763807385484173,
          3.8530836928863,
          3.911578980134123,
          3.9483432789227915,
          4.097872209632197,
          4.142022784788127,
          4.187250031106896,
          4.200641052610787,
          4.295235024728952,
          4.330329345949304,
          4.498520850289186,
          4.619987097105244,
          4.622733493343377,
          4.76918654320981,
          4.815163710795101,
          5.352857411084262,
          5.371177207873912,
          5.4147991379540406,
          5.468356628928697,
          5.582263777613991,
          5.955109010370268,
          6.073265202968797,
          6.183823824821733,
          6.220046420428944,
          6.432387583390623,
          6.663295292861749,
          6.859732807266939,
          6.977695783568442,
          7.402354558655718,
          7.667366861228061,
          7.683750611291678,
          7.784316856904599,
          7.808192916304814,
          7.817183083217436,
          8.13192388785725,
          8.216466925489025,
          8.28211622189043,
          8.300375069630125,
          8.655264804221776,
          8.825442275777004,
          8.832036835938064,
          9.042492982893423,
          9.731145206879361,
          9.985291138111739,
          10.00614897360654,
          11.203540584699034,
          11.23978150436468,
          11.774156384485565,
          12.238374964463036,
          12.328404026456756,
          12.919529644186483,
          14.244677920749224,
          14.617408775978893,
          14.853239837492318,
          14.896453866597355,
          15.575873416333023,
          15.595227033436208,
          15.73101603484708,
          16.190126957183885,
          16.475741838979918,
          17.276465447001485,
          17.40172151600512,
          17.790309304145474,
          17.836364886560933,
          18.148244926400142,
          19.3290968008679,
          19.455454126603428,
          19.582536010862682,
          19.89649571209511,
          23.101777704996454,
          23.13979865613136,
          23.14504081731222,
          23.566890205462585,
          25.73924781435918,
          29.416230606402426,
          29.613671137986262,
          32.03198010260316,
          32.93348601475806,
          39.23874286107253,
          40.259112030836484,
          40.493928572038904,
          40.88639116175365,
          42.30026712583137,
          42.74504555752943,
          43.641397735853225,
          46.116699233676606,
          46.2588782897109,
          46.94059584210967,
          52.44783143920359,
          54.0498288124881,
          65.2806822413034,
          77.6299889911643,
          110.17237314087298,
          184.39698678267118
         ],
         "xaxis": "x",
         "y": [
          -2.1259066388002488,
          -2.0091517364016624,
          -1.9126298124527723,
          -1.8766281785214565,
          -1.7953678002061333,
          -1.7876176910400512,
          -1.730124786363618,
          -1.658507773863552,
          -1.6301453080927972,
          -1.4398277475369923,
          -1.3023106436596041,
          -1.2484746641795677,
          -1.2207093319273956,
          -1.1256816563119052,
          -1.1184128603433425,
          -1.074398900917342,
          -1.0702669461777277,
          -0.8803872648373647,
          -0.8427431564759859,
          -0.5363814299415152,
          -0.5085215773638099,
          -0.4073315789203023,
          -0.32075927203192156,
          -0.22553773500297586,
          -0.20246973231575188,
          -0.09898256749165701,
          -0.08466409624888915,
          -0.08202649543668195,
          -0.03659374452854214,
          0.021064736765262326,
          0.20966247092957624,
          0.25549802877460104,
          0.3341524866048594,
          0.3415877387875652,
          0.4256846862156427,
          0.42748221522911,
          0.5106524728198241,
          0.604212554527503,
          0.6411196641588677,
          0.682275505227125,
          0.7237171818064498,
          0.7814651466604461,
          0.8953545614984062,
          0.9213828765249696,
          1.0095927133259088,
          1.0872572163408918,
          1.160619409528176,
          1.2071724900951268,
          1.2911508192327517,
          1.3425185009845029,
          1.3660094338545234,
          1.414646043127176,
          1.42439684493735,
          1.4560357662526617,
          1.5522603383210059,
          1.5912194730242315,
          1.6162596527223982,
          1.6318064932518066,
          1.6935817432006206,
          1.7113911635533166,
          1.7294391296965883,
          1.7347454350007596,
          1.7717541648862802,
          1.785277464274687,
          1.8486036590114132,
          1.8928817064622772,
          1.8938693365772061,
          1.9457027940104412,
          1.9616474006060662,
          2.1375753166448273,
          2.1432532959758603,
          2.156695755013427,
          2.173052610781058,
          2.20731444756496,
          2.3147638146758243,
          2.347414662794101,
          2.3773957925823894,
          2.387102110848276,
          2.442888959602947,
          2.5015009185947905,
          2.549785888973142,
          2.57812144831826,
          2.6763045915578685,
          2.7347615920528168,
          2.738308945186889,
          2.7599188691548875,
          2.7650084018110475,
          2.7669207557128024,
          2.832520780849241,
          2.849709267786255,
          2.8629349066041234,
          2.866594684289291,
          2.936172954075498,
          2.9685314056728322,
          2.9697727380805086,
          3.008908878918728,
          3.1308857121814806,
          3.1737316580994093,
          3.177199475770277,
          3.365042411237172,
          3.3704095569411896,
          3.447600101787213,
          3.511864378967294,
          3.5240449427630463,
          3.6018780293929815,
          3.7641498985051793,
          3.807076124150546,
          3.8336742797345584,
          3.838502349165985,
          3.912622336551255,
          3.9146860101391328,
          3.9290935536988645,
          3.9769014991403946,
          4.005963708471846,
          4.084830266712339,
          4.096835627686799,
          4.133537938632116,
          4.137834669764866,
          4.1666426359073565,
          4.271404053442515,
          4.282232698913651,
          4.293052734016953,
          4.31948579819676,
          4.567714816807361,
          4.570447701979895,
          4.5708241478614795,
          4.600841497900173,
          4.747376886505813,
          4.969287720699891,
          4.9804049563380115,
          5.110860702306492,
          5.1569866008219005,
          5.448106699727616,
          5.490770222082237,
          5.500435224500308,
          5.5164644736884005,
          5.572962125504005,
          5.590345265855176,
          5.624834187157259,
          5.716518606943654,
          5.721634362009369,
          5.7459468665549425,
          5.930309904856491,
          5.980311681259838,
          6.294058575670635,
          6.581992844777867,
          7.163806053708728,
          8.019751238971763
         ],
         "yaxis": "y"
        }
       ],
       "layout": {
        "legend": {
         "tracegroupgap": 0
        },
        "template": {
         "data": {
          "bar": [
           {
            "error_x": {
             "color": "#2a3f5f"
            },
            "error_y": {
             "color": "#2a3f5f"
            },
            "marker": {
             "line": {
              "color": "#E5ECF6",
              "width": 0.5
             },
             "pattern": {
              "fillmode": "overlay",
              "size": 10,
              "solidity": 0.2
             }
            },
            "type": "bar"
           }
          ],
          "barpolar": [
           {
            "marker": {
             "line": {
              "color": "#E5ECF6",
              "width": 0.5
             },
             "pattern": {
              "fillmode": "overlay",
              "size": 10,
              "solidity": 0.2
             }
            },
            "type": "barpolar"
           }
          ],
          "carpet": [
           {
            "aaxis": {
             "endlinecolor": "#2a3f5f",
             "gridcolor": "white",
             "linecolor": "white",
             "minorgridcolor": "white",
             "startlinecolor": "#2a3f5f"
            },
            "baxis": {
             "endlinecolor": "#2a3f5f",
             "gridcolor": "white",
             "linecolor": "white",
             "minorgridcolor": "white",
             "startlinecolor": "#2a3f5f"
            },
            "type": "carpet"
           }
          ],
          "choropleth": [
           {
            "colorbar": {
             "outlinewidth": 0,
             "ticks": ""
            },
            "type": "choropleth"
           }
          ],
          "contour": [
           {
            "colorbar": {
             "outlinewidth": 0,
             "ticks": ""
            },
            "colorscale": [
             [
              0,
              "#0d0887"
             ],
             [
              0.1111111111111111,
              "#46039f"
             ],
             [
              0.2222222222222222,
              "#7201a8"
             ],
             [
              0.3333333333333333,
              "#9c179e"
             ],
             [
              0.4444444444444444,
              "#bd3786"
             ],
             [
              0.5555555555555556,
              "#d8576b"
             ],
             [
              0.6666666666666666,
              "#ed7953"
             ],
             [
              0.7777777777777778,
              "#fb9f3a"
             ],
             [
              0.8888888888888888,
              "#fdca26"
             ],
             [
              1,
              "#f0f921"
             ]
            ],
            "type": "contour"
           }
          ],
          "contourcarpet": [
           {
            "colorbar": {
             "outlinewidth": 0,
             "ticks": ""
            },
            "type": "contourcarpet"
           }
          ],
          "heatmap": [
           {
            "colorbar": {
             "outlinewidth": 0,
             "ticks": ""
            },
            "colorscale": [
             [
              0,
              "#0d0887"
             ],
             [
              0.1111111111111111,
              "#46039f"
             ],
             [
              0.2222222222222222,
              "#7201a8"
             ],
             [
              0.3333333333333333,
              "#9c179e"
             ],
             [
              0.4444444444444444,
              "#bd3786"
             ],
             [
              0.5555555555555556,
              "#d8576b"
             ],
             [
              0.6666666666666666,
              "#ed7953"
             ],
             [
              0.7777777777777778,
              "#fb9f3a"
             ],
             [
              0.8888888888888888,
              "#fdca26"
             ],
             [
              1,
              "#f0f921"
             ]
            ],
            "type": "heatmap"
           }
          ],
          "heatmapgl": [
           {
            "colorbar": {
             "outlinewidth": 0,
             "ticks": ""
            },
            "colorscale": [
             [
              0,
              "#0d0887"
             ],
             [
              0.1111111111111111,
              "#46039f"
             ],
             [
              0.2222222222222222,
              "#7201a8"
             ],
             [
              0.3333333333333333,
              "#9c179e"
             ],
             [
              0.4444444444444444,
              "#bd3786"
             ],
             [
              0.5555555555555556,
              "#d8576b"
             ],
             [
              0.6666666666666666,
              "#ed7953"
             ],
             [
              0.7777777777777778,
              "#fb9f3a"
             ],
             [
              0.8888888888888888,
              "#fdca26"
             ],
             [
              1,
              "#f0f921"
             ]
            ],
            "type": "heatmapgl"
           }
          ],
          "histogram": [
           {
            "marker": {
             "pattern": {
              "fillmode": "overlay",
              "size": 10,
              "solidity": 0.2
             }
            },
            "type": "histogram"
           }
          ],
          "histogram2d": [
           {
            "colorbar": {
             "outlinewidth": 0,
             "ticks": ""
            },
            "colorscale": [
             [
              0,
              "#0d0887"
             ],
             [
              0.1111111111111111,
              "#46039f"
             ],
             [
              0.2222222222222222,
              "#7201a8"
             ],
             [
              0.3333333333333333,
              "#9c179e"
             ],
             [
              0.4444444444444444,
              "#bd3786"
             ],
             [
              0.5555555555555556,
              "#d8576b"
             ],
             [
              0.6666666666666666,
              "#ed7953"
             ],
             [
              0.7777777777777778,
              "#fb9f3a"
             ],
             [
              0.8888888888888888,
              "#fdca26"
             ],
             [
              1,
              "#f0f921"
             ]
            ],
            "type": "histogram2d"
           }
          ],
          "histogram2dcontour": [
           {
            "colorbar": {
             "outlinewidth": 0,
             "ticks": ""
            },
            "colorscale": [
             [
              0,
              "#0d0887"
             ],
             [
              0.1111111111111111,
              "#46039f"
             ],
             [
              0.2222222222222222,
              "#7201a8"
             ],
             [
              0.3333333333333333,
              "#9c179e"
             ],
             [
              0.4444444444444444,
              "#bd3786"
             ],
             [
              0.5555555555555556,
              "#d8576b"
             ],
             [
              0.6666666666666666,
              "#ed7953"
             ],
             [
              0.7777777777777778,
              "#fb9f3a"
             ],
             [
              0.8888888888888888,
              "#fdca26"
             ],
             [
              1,
              "#f0f921"
             ]
            ],
            "type": "histogram2dcontour"
           }
          ],
          "mesh3d": [
           {
            "colorbar": {
             "outlinewidth": 0,
             "ticks": ""
            },
            "type": "mesh3d"
           }
          ],
          "parcoords": [
           {
            "line": {
             "colorbar": {
              "outlinewidth": 0,
              "ticks": ""
             }
            },
            "type": "parcoords"
           }
          ],
          "pie": [
           {
            "automargin": true,
            "type": "pie"
           }
          ],
          "scatter": [
           {
            "fillpattern": {
             "fillmode": "overlay",
             "size": 10,
             "solidity": 0.2
            },
            "type": "scatter"
           }
          ],
          "scatter3d": [
           {
            "line": {
             "colorbar": {
              "outlinewidth": 0,
              "ticks": ""
             }
            },
            "marker": {
             "colorbar": {
              "outlinewidth": 0,
              "ticks": ""
             }
            },
            "type": "scatter3d"
           }
          ],
          "scattercarpet": [
           {
            "marker": {
             "colorbar": {
              "outlinewidth": 0,
              "ticks": ""
             }
            },
            "type": "scattercarpet"
           }
          ],
          "scattergeo": [
           {
            "marker": {
             "colorbar": {
              "outlinewidth": 0,
              "ticks": ""
             }
            },
            "type": "scattergeo"
           }
          ],
          "scattergl": [
           {
            "marker": {
             "colorbar": {
              "outlinewidth": 0,
              "ticks": ""
             }
            },
            "type": "scattergl"
           }
          ],
          "scattermapbox": [
           {
            "marker": {
             "colorbar": {
              "outlinewidth": 0,
              "ticks": ""
             }
            },
            "type": "scattermapbox"
           }
          ],
          "scatterpolar": [
           {
            "marker": {
             "colorbar": {
              "outlinewidth": 0,
              "ticks": ""
             }
            },
            "type": "scatterpolar"
           }
          ],
          "scatterpolargl": [
           {
            "marker": {
             "colorbar": {
              "outlinewidth": 0,
              "ticks": ""
             }
            },
            "type": "scatterpolargl"
           }
          ],
          "scatterternary": [
           {
            "marker": {
             "colorbar": {
              "outlinewidth": 0,
              "ticks": ""
             }
            },
            "type": "scatterternary"
           }
          ],
          "surface": [
           {
            "colorbar": {
             "outlinewidth": 0,
             "ticks": ""
            },
            "colorscale": [
             [
              0,
              "#0d0887"
             ],
             [
              0.1111111111111111,
              "#46039f"
             ],
             [
              0.2222222222222222,
              "#7201a8"
             ],
             [
              0.3333333333333333,
              "#9c179e"
             ],
             [
              0.4444444444444444,
              "#bd3786"
             ],
             [
              0.5555555555555556,
              "#d8576b"
             ],
             [
              0.6666666666666666,
              "#ed7953"
             ],
             [
              0.7777777777777778,
              "#fb9f3a"
             ],
             [
              0.8888888888888888,
              "#fdca26"
             ],
             [
              1,
              "#f0f921"
             ]
            ],
            "type": "surface"
           }
          ],
          "table": [
           {
            "cells": {
             "fill": {
              "color": "#EBF0F8"
             },
             "line": {
              "color": "white"
             }
            },
            "header": {
             "fill": {
              "color": "#C8D4E3"
             },
             "line": {
              "color": "white"
             }
            },
            "type": "table"
           }
          ]
         },
         "layout": {
          "annotationdefaults": {
           "arrowcolor": "#2a3f5f",
           "arrowhead": 0,
           "arrowwidth": 1
          },
          "autotypenumbers": "strict",
          "coloraxis": {
           "colorbar": {
            "outlinewidth": 0,
            "ticks": ""
           }
          },
          "colorscale": {
           "diverging": [
            [
             0,
             "#8e0152"
            ],
            [
             0.1,
             "#c51b7d"
            ],
            [
             0.2,
             "#de77ae"
            ],
            [
             0.3,
             "#f1b6da"
            ],
            [
             0.4,
             "#fde0ef"
            ],
            [
             0.5,
             "#f7f7f7"
            ],
            [
             0.6,
             "#e6f5d0"
            ],
            [
             0.7,
             "#b8e186"
            ],
            [
             0.8,
             "#7fbc41"
            ],
            [
             0.9,
             "#4d9221"
            ],
            [
             1,
             "#276419"
            ]
           ],
           "sequential": [
            [
             0,
             "#0d0887"
            ],
            [
             0.1111111111111111,
             "#46039f"
            ],
            [
             0.2222222222222222,
             "#7201a8"
            ],
            [
             0.3333333333333333,
             "#9c179e"
            ],
            [
             0.4444444444444444,
             "#bd3786"
            ],
            [
             0.5555555555555556,
             "#d8576b"
            ],
            [
             0.6666666666666666,
             "#ed7953"
            ],
            [
             0.7777777777777778,
             "#fb9f3a"
            ],
            [
             0.8888888888888888,
             "#fdca26"
            ],
            [
             1,
             "#f0f921"
            ]
           ],
           "sequentialminus": [
            [
             0,
             "#0d0887"
            ],
            [
             0.1111111111111111,
             "#46039f"
            ],
            [
             0.2222222222222222,
             "#7201a8"
            ],
            [
             0.3333333333333333,
             "#9c179e"
            ],
            [
             0.4444444444444444,
             "#bd3786"
            ],
            [
             0.5555555555555556,
             "#d8576b"
            ],
            [
             0.6666666666666666,
             "#ed7953"
            ],
            [
             0.7777777777777778,
             "#fb9f3a"
            ],
            [
             0.8888888888888888,
             "#fdca26"
            ],
            [
             1,
             "#f0f921"
            ]
           ]
          },
          "colorway": [
           "#636efa",
           "#EF553B",
           "#00cc96",
           "#ab63fa",
           "#FFA15A",
           "#19d3f3",
           "#FF6692",
           "#B6E880",
           "#FF97FF",
           "#FECB52"
          ],
          "font": {
           "color": "#2a3f5f"
          },
          "geo": {
           "bgcolor": "white",
           "lakecolor": "white",
           "landcolor": "#E5ECF6",
           "showlakes": true,
           "showland": true,
           "subunitcolor": "white"
          },
          "hoverlabel": {
           "align": "left"
          },
          "hovermode": "closest",
          "mapbox": {
           "style": "light"
          },
          "paper_bgcolor": "white",
          "plot_bgcolor": "#E5ECF6",
          "polar": {
           "angularaxis": {
            "gridcolor": "white",
            "linecolor": "white",
            "ticks": ""
           },
           "bgcolor": "#E5ECF6",
           "radialaxis": {
            "gridcolor": "white",
            "linecolor": "white",
            "ticks": ""
           }
          },
          "scene": {
           "xaxis": {
            "backgroundcolor": "#E5ECF6",
            "gridcolor": "white",
            "gridwidth": 2,
            "linecolor": "white",
            "showbackground": true,
            "ticks": "",
            "zerolinecolor": "white"
           },
           "yaxis": {
            "backgroundcolor": "#E5ECF6",
            "gridcolor": "white",
            "gridwidth": 2,
            "linecolor": "white",
            "showbackground": true,
            "ticks": "",
            "zerolinecolor": "white"
           },
           "zaxis": {
            "backgroundcolor": "#E5ECF6",
            "gridcolor": "white",
            "gridwidth": 2,
            "linecolor": "white",
            "showbackground": true,
            "ticks": "",
            "zerolinecolor": "white"
           }
          },
          "shapedefaults": {
           "line": {
            "color": "#2a3f5f"
           }
          },
          "ternary": {
           "aaxis": {
            "gridcolor": "white",
            "linecolor": "white",
            "ticks": ""
           },
           "baxis": {
            "gridcolor": "white",
            "linecolor": "white",
            "ticks": ""
           },
           "bgcolor": "#E5ECF6",
           "caxis": {
            "gridcolor": "white",
            "linecolor": "white",
            "ticks": ""
           }
          },
          "title": {
           "x": 0.05
          },
          "xaxis": {
           "automargin": true,
           "gridcolor": "white",
           "linecolor": "white",
           "ticks": "",
           "title": {
            "standoff": 15
           },
           "zerolinecolor": "white",
           "zerolinewidth": 2
          },
          "yaxis": {
           "automargin": true,
           "gridcolor": "white",
           "linecolor": "white",
           "ticks": "",
           "title": {
            "standoff": 15
           },
           "zerolinecolor": "white",
           "zerolinewidth": 2
          }
         }
        },
        "title": {
         "text": "GDP per capita vs minimum wage"
        },
        "xaxis": {
         "anchor": "y",
         "domain": [
          0,
          1
         ],
         "title": {
          "text": "GDP_per_capita"
         }
        },
        "yaxis": {
         "anchor": "x",
         "domain": [
          0,
          1
         ],
         "title": {
          "text": "Minimum wage"
         }
        }
       }
      }
     },
     "metadata": {},
     "output_type": "display_data"
    }
   ],
   "source": [
    "fig = px.scatter(df, x=\"GDP_per_capita\", y=\"Minimum wage\",\n",
    "                 trendline=\"ols\", trendline_options=dict(log_x=True),\n",
    "                 title=\"GDP per capita vs minimum wage\", hover_name=\"Country\")\n",
    "fig.show()"
   ]
  },
  {
   "cell_type": "code",
   "execution_count": null,
   "metadata": {},
   "outputs": [],
   "source": []
  },
  {
   "cell_type": "markdown",
   "metadata": {
    "id": "oBPKPKptVd6d"
   },
   "source": [
    "### GDP per capita vs minimum wage\n",
    "\n",
    "Its obvious that GDP per capita increases with the increase in minimum wage."
   ]
  }
 ],
 "metadata": {
  "colab": {
   "provenance": []
  },
  "kernelspec": {
   "display_name": "Python 3",
   "language": "python",
   "name": "python3"
  },
  "language_info": {
   "codemirror_mode": {
    "name": "ipython",
    "version": 3
   },
   "file_extension": ".py",
   "mimetype": "text/x-python",
   "name": "python",
   "nbconvert_exporter": "python",
   "pygments_lexer": "ipython3",
   "version": "3.11.9"
  }
 },
 "nbformat": 4,
 "nbformat_minor": 0
}
